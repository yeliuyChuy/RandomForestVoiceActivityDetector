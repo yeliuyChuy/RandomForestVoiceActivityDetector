{
 "cells": [
  {
   "cell_type": "code",
   "execution_count": 1,
   "metadata": {},
   "outputs": [],
   "source": [
    "import os\n",
    "import itertools\n",
    "import numpy as np\n",
    "from sklearn.ensemble import RandomForestClassifier\n",
    "from sklearn.model_selection import GridSearchCV\n",
    "from sklearn import metrics\n",
    "#from sklearn.metrics import make_scorer\n",
    "from time import time\n",
    "\n",
    "#import scipy\n",
    "import librosa\n",
    "#import sed_eval\n",
    "\n",
    "import matplotlib.pyplot as plt\n",
    "import matplotlib.cm\n",
    "from sklearn.model_selection import GroupKFold\n",
    "from sklearn.externals.joblib import parallel_backend\n",
    "#import csv\n",
    "#import dcase_util\n",
    "\n",
    "#import pandas as pd"
   ]
  },
  {
   "cell_type": "code",
   "execution_count": 2,
   "metadata": {},
   "outputs": [],
   "source": [
    "\n",
    "def LoadSet(SetPath):\n",
    "    Data_Set = {}\n",
    "    dataset = np.load(SetPath,allow_pickle=True)\n",
    "    Data = np.hstack(dataset[:,0].tolist()).transpose()\n",
    "    Label = np.hstack(dataset[:,1].tolist())\n",
    "    print(Data.shape)\n",
    "    print(Label.shape)\n",
    "    Data_Set['Data'] = Data\n",
    "    Data_Set['Label'] = Label\n",
    "    return Data_Set\n",
    "def sklearn_print_result(clf,test_data,test_label):\n",
    "    print(\"Best parameters set found on development set:\")\n",
    "    print()\n",
    "    print(clf.best_params_)\n",
    "    print()\n",
    "    print(\"Grid scores on development set:\")\n",
    "    print()\n",
    "    means = clf.cv_results_['mean_test_score']\n",
    "    stds = clf.cv_results_['std_test_score']\n",
    "    for mean, std, params in zip(means, stds, clf.cv_results_['params']):\n",
    "        print(\"%0.3f (+/-%0.03f) for %r\"\n",
    "              % (mean, std * 2, params))\n",
    "    print()\n",
    "\n",
    "    print(\"Detailed classification report:\")\n",
    "    print()\n",
    "    print(\"The model is trained on the full development set.\")\n",
    "    print(\"The scores are computed on the full evaluation set.\")\n",
    "    print()\n",
    "    y_true, y_pred = test_label, clf.predict(test_data)\n",
    "    print(metrics.classification_report(y_true, y_pred))\n",
    "    print()"
   ]
  },
  {
   "cell_type": "code",
   "execution_count": 3,
   "metadata": {},
   "outputs": [],
   "source": [
    "\n"
   ]
  },
  {
   "cell_type": "markdown",
   "metadata": {},
   "source": [
    "# MFCC/Original Dataset/RandomCV"
   ]
  },
  {
   "cell_type": "code",
   "execution_count": 44,
   "metadata": {},
   "outputs": [
    {
     "name": "stdout",
     "output_type": "stream",
     "text": [
      "(2586015, 20)\n",
      "(2586015,)\n"
     ]
    }
   ],
   "source": [
    "\n",
    "\n",
    "\n",
    "#Load the dataset\n",
    "train_path= os.getcwd()+'/JPNotebookExported/Train_PCEN_Dataset.npy'\n",
    "#example_validation_path = os.getcwd()+'/JPNotebookExported/Validation_MFCC_Dataset.npy'\n",
    "#test_path = os.getcwd()+'/JPNotebookExported/Test_MFCC_Dataset.npy'\n",
    "\n",
    "#Load Transition Matrix\n",
    "#example_train_transition_matrix = np.load(os.getcwd()+'/JPNotebookExported/Train_PCEN_TransitionMatrix.npy',allow_pickle=True)\n",
    "#example_test_transition_matrix = np.load(os.getcwd()+'/JPNotebookExported/Test_PCEN_TransitionMatrix.npy',allow_pickle=True)\n",
    "#Load all the data and label\n",
    "train_set= LoadSet(train_path)\n",
    "train_data,train_label = train_set['Data'], train_set['Label']\n",
    "#test_data,test_label = test_set['Data'], test_set['Label']\n",
    "\n",
    "\n"
   ]
  },
  {
   "cell_type": "code",
   "execution_count": 46,
   "metadata": {},
   "outputs": [
    {
     "name": "stderr",
     "output_type": "stream",
     "text": [
      "[Parallel(n_jobs=-1)]: Using backend ThreadingBackend with 4 concurrent workers.\n",
      "[Parallel(n_jobs=-1)]: Using backend ThreadingBackend with 4 concurrent workers.\n",
      "[Parallel(n_jobs=-1)]: Using backend ThreadingBackend with 4 concurrent workers.\n",
      "[Parallel(n_jobs=-1)]: Done  42 tasks      | elapsed: 18.4min\n",
      "[Parallel(n_jobs=-1)]: Done  42 tasks      | elapsed: 18.5min\n",
      "[Parallel(n_jobs=-1)]: Done  42 tasks      | elapsed: 18.6min\n",
      "[Parallel(n_jobs=-1)]: Done 192 tasks      | elapsed: 81.0min\n",
      "[Parallel(n_jobs=-1)]: Done 192 tasks      | elapsed: 81.4min\n",
      "[Parallel(n_jobs=-1)]: Done 192 tasks      | elapsed: 82.9min\n",
      "[Parallel(n_jobs=-1)]: Done 400 out of 400 | elapsed: 162.5min finished\n",
      "[Parallel(n_jobs=-1)]: Done 400 out of 400 | elapsed: 162.8min finished\n",
      "[Parallel(n_jobs=-1)]: Done 400 out of 400 | elapsed: 163.7min finished\n",
      "[Parallel(n_jobs=4)]: Using backend ThreadingBackend with 4 concurrent workers.\n",
      "[Parallel(n_jobs=4)]: Done  42 tasks      | elapsed:    5.3s\n",
      "[Parallel(n_jobs=4)]: Using backend ThreadingBackend with 4 concurrent workers.\n",
      "[Parallel(n_jobs=4)]: Done  42 tasks      | elapsed:    8.8s\n",
      "[Parallel(n_jobs=4)]: Done 192 tasks      | elapsed:   30.8s\n",
      "[Parallel(n_jobs=4)]: Done 192 tasks      | elapsed:   35.0s\n",
      "[Parallel(n_jobs=4)]: Done 400 out of 400 | elapsed:  1.1min finished\n",
      "[Parallel(n_jobs=4)]: Using backend ThreadingBackend with 4 concurrent workers.\n",
      "[Parallel(n_jobs=4)]: Done  42 tasks      | elapsed:    7.2s\n",
      "[Parallel(n_jobs=4)]: Done 400 out of 400 | elapsed:  1.2min finished\n",
      "[Parallel(n_jobs=4)]: Using backend ThreadingBackend with 4 concurrent workers.\n",
      "[Parallel(n_jobs=4)]: Done  42 tasks      | elapsed:    7.5s\n",
      "[Parallel(n_jobs=4)]: Done 192 tasks      | elapsed:   32.2s\n",
      "[Parallel(n_jobs=4)]: Done 192 tasks      | elapsed:   32.5s\n",
      "[Parallel(n_jobs=4)]: Using backend ThreadingBackend with 4 concurrent workers.\n",
      "[Parallel(n_jobs=4)]: Done 400 out of 400 | elapsed:  1.1min finished\n",
      "[Parallel(n_jobs=4)]: Using backend ThreadingBackend with 4 concurrent workers.\n",
      "[Parallel(n_jobs=4)]: Done  42 tasks      | elapsed:    8.3s\n",
      "[Parallel(n_jobs=4)]: Done 400 out of 400 | elapsed:  1.2min finished\n",
      "[Parallel(n_jobs=4)]: Done  42 tasks      | elapsed:   19.7s\n",
      "[Parallel(n_jobs=4)]: Using backend ThreadingBackend with 4 concurrent workers.\n",
      "[Parallel(n_jobs=4)]: Done 192 tasks      | elapsed:   41.7s\n",
      "[Parallel(n_jobs=4)]: Done  42 tasks      | elapsed:   20.1s\n",
      "[Parallel(n_jobs=4)]: Done 400 out of 400 | elapsed:  1.5min finished\n",
      "[Parallel(n_jobs=4)]: Using backend ThreadingBackend with 4 concurrent workers.\n",
      "[Parallel(n_jobs=4)]: Done 192 tasks      | elapsed:  1.4min\n",
      "[Parallel(n_jobs=4)]: Done  42 tasks      | elapsed:    9.8s\n",
      "[Parallel(n_jobs=4)]: Done 192 tasks      | elapsed:  1.5min\n",
      "[Parallel(n_jobs=4)]: Done 192 tasks      | elapsed:   44.3s\n",
      "[Parallel(n_jobs=4)]: Done 400 out of 400 | elapsed:  1.5min finished\n",
      "[Parallel(n_jobs=4)]: Using backend ThreadingBackend with 4 concurrent workers.\n",
      "[Parallel(n_jobs=4)]: Done 400 out of 400 | elapsed:  3.0min finished\n",
      "[Parallel(n_jobs=4)]: Using backend ThreadingBackend with 4 concurrent workers.\n",
      "[Parallel(n_jobs=4)]: Done  42 tasks      | elapsed:   21.1s\n",
      "[Parallel(n_jobs=4)]: Done  42 tasks      | elapsed:   21.5s\n",
      "[Parallel(n_jobs=4)]: Done 400 out of 400 | elapsed:  3.0min finished\n",
      "[Parallel(n_jobs=4)]: Using backend ThreadingBackend with 4 concurrent workers.\n",
      "[Parallel(n_jobs=4)]: Done  42 tasks      | elapsed:   22.4s\n",
      "[Parallel(n_jobs=4)]: Done 192 tasks      | elapsed:  1.5min\n",
      "[Parallel(n_jobs=4)]: Done 192 tasks      | elapsed:  1.5min\n",
      "[Parallel(n_jobs=4)]: Done 192 tasks      | elapsed:  1.5min\n",
      "[Parallel(n_jobs=4)]: Done 400 out of 400 | elapsed:  3.1min finished\n",
      "[Parallel(n_jobs=4)]: Done 400 out of 400 | elapsed:  3.1min finished\n",
      "[Parallel(n_jobs=4)]: Using backend ThreadingBackend with 4 concurrent workers.\n",
      "[Parallel(n_jobs=4)]: Done  42 tasks      | elapsed:   13.8s\n",
      "[Parallel(n_jobs=4)]: Done 400 out of 400 | elapsed:  3.0min finished\n",
      "[Parallel(n_jobs=4)]: Done 192 tasks      | elapsed:   36.7s\n",
      "[Parallel(n_jobs=4)]: Done 400 out of 400 | elapsed:  1.1min finished\n",
      "[Parallel(n_jobs=-1)]: Using backend ThreadingBackend with 4 concurrent workers.\n",
      "[Parallel(n_jobs=-1)]: Done  42 tasks      | elapsed:  6.6min\n",
      "[Parallel(n_jobs=-1)]: Done 192 tasks      | elapsed: 29.3min\n",
      "[Parallel(n_jobs=-1)]: Done 400 out of 400 | elapsed: 60.6min finished\n"
     ]
    },
    {
     "name": "stdout",
     "output_type": "stream",
     "text": [
      "Grid Searching took 238.20238478581112 mins.\n"
     ]
    }
   ],
   "source": [
    "groups = np.load(os.getcwd()+'/JPNotebookExported/Train_PCEN_lostanlen_GroupK.npy')\n",
    "gkf = GroupKFold(n_splits = 3)\n",
    "Params = {\n",
    "    'sampling_rate':22050,\n",
    "    'win_size':1024,\n",
    "    'hop_size':512,\n",
    "    'min_freq':80,\n",
    "    'max_freq':8000,\n",
    "    'num_mel_filters':128,\n",
    "    'n_dct':20\n",
    "}\n",
    "\n",
    "param_grid = {\"n_estimators\": np.arange(10, 400, 40),\n",
    "              \"max_depth\": np.arange(1, 50, 5),\n",
    "              \"min_samples_split\": np.arange(2,12,4),\n",
    "              \"min_samples_leaf\": np.arange(1,24,6)\n",
    "             }\n",
    "\n",
    "scoring = ['roc_auc','balanced_accuracy']\n",
    "pcen_clf = RandomForestClassifier(n_estimators=400,\n",
    "                             #max_depth = 5,\n",
    "                             #min_samples_split = 15, \n",
    "                             #min_samples_leaf = 370,\n",
    "                             oob_score=True,\n",
    "                             random_state=10,\n",
    "                             verbose=1, n_jobs = -1,class_weight='balanced')\n",
    "grid_search_pcen = GridSearchCV(pcen_clf,param_grid=param_grid,cv = gkf,refit = 'roc_auc',scoring = scoring)\n",
    "\n",
    "start_time = time()\n",
    "with parallel_backend('threading'):\n",
    "    grid_search_pcen.fit(train_data,train_label,groups = groups)\n",
    "print(\"Grid Searching took {} mins.\" .format((time() - start_time)/60.0))"
   ]
  },
  {
   "cell_type": "code",
   "execution_count": 28,
   "metadata": {},
   "outputs": [
    {
     "data": {
      "text/plain": [
       "0.8734525792123479"
      ]
     },
     "execution_count": 28,
     "metadata": {},
     "output_type": "execute_result"
    }
   ],
   "source": [
    "grid_search_pcen_los.best_score_"
   ]
  },
  {
   "cell_type": "code",
   "execution_count": 47,
   "metadata": {},
   "outputs": [
    {
     "data": {
      "text/plain": [
       "0.8705839603435369"
      ]
     },
     "execution_count": 47,
     "metadata": {},
     "output_type": "execute_result"
    }
   ],
   "source": [
    "grid_search_pcen.best_score_"
   ]
  },
  {
   "cell_type": "code",
   "execution_count": 11,
   "metadata": {},
   "outputs": [
    {
     "name": "stdout",
     "output_type": "stream",
     "text": [
      "(861138, 20)\n",
      "(861138,)\n"
     ]
    }
   ],
   "source": [
    "test_path= os.getcwd()+'/JPNotebookExported/Test_PCEN_lostanlen_Dataset.npy'\n",
    "test_set= LoadSet(test_path)\n",
    "test_data,test_label = test_set['Data'], test_set['Label']"
   ]
  },
  {
   "cell_type": "code",
   "execution_count": 12,
   "metadata": {
    "scrolled": true
   },
   "outputs": [
    {
     "name": "stdout",
     "output_type": "stream",
     "text": [
      "Best parameters set found on development set:\n",
      "\n",
      "{'max_depth': 60, 'min_samples_leaf': 7, 'min_samples_split': 6}\n",
      "\n",
      "Grid scores on development set:\n",
      "\n",
      "0.848 (+/-0.001) for {'max_depth': 10, 'min_samples_leaf': 7, 'min_samples_split': 6}\n",
      "0.848 (+/-0.001) for {'max_depth': 10, 'min_samples_leaf': 7, 'min_samples_split': 12}\n",
      "0.848 (+/-0.001) for {'max_depth': 10, 'min_samples_leaf': 7, 'min_samples_split': 20}\n",
      "0.849 (+/-0.001) for {'max_depth': 10, 'min_samples_leaf': 15, 'min_samples_split': 6}\n",
      "0.849 (+/-0.001) for {'max_depth': 10, 'min_samples_leaf': 15, 'min_samples_split': 12}\n",
      "0.849 (+/-0.001) for {'max_depth': 10, 'min_samples_leaf': 15, 'min_samples_split': 20}\n",
      "0.848 (+/-0.001) for {'max_depth': 10, 'min_samples_leaf': 23, 'min_samples_split': 6}\n",
      "0.848 (+/-0.001) for {'max_depth': 10, 'min_samples_leaf': 23, 'min_samples_split': 12}\n",
      "0.848 (+/-0.001) for {'max_depth': 10, 'min_samples_leaf': 23, 'min_samples_split': 20}\n",
      "0.872 (+/-0.002) for {'max_depth': 35, 'min_samples_leaf': 7, 'min_samples_split': 6}\n",
      "0.872 (+/-0.002) for {'max_depth': 35, 'min_samples_leaf': 7, 'min_samples_split': 12}\n",
      "0.873 (+/-0.002) for {'max_depth': 35, 'min_samples_leaf': 7, 'min_samples_split': 20}\n",
      "0.873 (+/-0.002) for {'max_depth': 35, 'min_samples_leaf': 15, 'min_samples_split': 6}\n",
      "0.873 (+/-0.002) for {'max_depth': 35, 'min_samples_leaf': 15, 'min_samples_split': 12}\n",
      "0.873 (+/-0.002) for {'max_depth': 35, 'min_samples_leaf': 15, 'min_samples_split': 20}\n",
      "0.872 (+/-0.002) for {'max_depth': 35, 'min_samples_leaf': 23, 'min_samples_split': 6}\n",
      "0.872 (+/-0.002) for {'max_depth': 35, 'min_samples_leaf': 23, 'min_samples_split': 12}\n",
      "0.872 (+/-0.002) for {'max_depth': 35, 'min_samples_leaf': 23, 'min_samples_split': 20}\n",
      "0.873 (+/-0.003) for {'max_depth': 60, 'min_samples_leaf': 7, 'min_samples_split': 6}\n",
      "0.873 (+/-0.003) for {'max_depth': 60, 'min_samples_leaf': 7, 'min_samples_split': 12}\n",
      "0.873 (+/-0.003) for {'max_depth': 60, 'min_samples_leaf': 7, 'min_samples_split': 20}\n",
      "0.873 (+/-0.003) for {'max_depth': 60, 'min_samples_leaf': 15, 'min_samples_split': 6}\n",
      "0.873 (+/-0.003) for {'max_depth': 60, 'min_samples_leaf': 15, 'min_samples_split': 12}\n",
      "0.873 (+/-0.003) for {'max_depth': 60, 'min_samples_leaf': 15, 'min_samples_split': 20}\n",
      "0.872 (+/-0.003) for {'max_depth': 60, 'min_samples_leaf': 23, 'min_samples_split': 6}\n",
      "0.872 (+/-0.003) for {'max_depth': 60, 'min_samples_leaf': 23, 'min_samples_split': 12}\n",
      "0.872 (+/-0.003) for {'max_depth': 60, 'min_samples_leaf': 23, 'min_samples_split': 20}\n",
      "\n",
      "Detailed classification report:\n",
      "\n",
      "The model is trained on the full development set.\n",
      "The scores are computed on the full evaluation set.\n",
      "\n"
     ]
    },
    {
     "name": "stderr",
     "output_type": "stream",
     "text": [
      "[Parallel(n_jobs=4)]: Using backend ThreadingBackend with 4 concurrent workers.\n",
      "[Parallel(n_jobs=4)]: Done  42 tasks      | elapsed:    7.8s\n",
      "[Parallel(n_jobs=4)]: Done 192 tasks      | elapsed:   30.1s\n",
      "[Parallel(n_jobs=4)]: Done 400 out of 400 | elapsed:   53.0s finished\n"
     ]
    },
    {
     "name": "stdout",
     "output_type": "stream",
     "text": [
      "              precision    recall  f1-score   support\n",
      "\n",
      "           0       0.95      0.96      0.95    790138\n",
      "           1       0.49      0.38      0.42     71000\n",
      "\n",
      "   micro avg       0.92      0.92      0.92    861138\n",
      "   macro avg       0.72      0.67      0.69    861138\n",
      "weighted avg       0.91      0.92      0.91    861138\n",
      "\n",
      "\n"
     ]
    }
   ],
   "source": [
    "def sklearn_print_result(clf,test_data,test_label):\n",
    "    print(\"Best parameters set found on development set:\")\n",
    "    print()\n",
    "    print(clf.best_params_)\n",
    "    print()\n",
    "    print(\"Grid scores on development set:\")\n",
    "    print()\n",
    "    means = clf.cv_results_['mean_test_roc_auc']\n",
    "    stds = clf.cv_results_['std_test_roc_auc']\n",
    "    for mean, std, params in zip(means, stds, clf.cv_results_['params']):\n",
    "        print(\"%0.3f (+/-%0.03f) for %r\"\n",
    "              % (mean, std * 2, params))\n",
    "    print()\n",
    "\n",
    "    print(\"Detailed classification report:\")\n",
    "    print()\n",
    "    print(\"The model is trained on the full development set.\")\n",
    "    print(\"The scores are computed on the full evaluation set.\")\n",
    "    print()\n",
    "    y_true, y_pred = test_label, clf.predict(test_data)\n",
    "    print(metrics.classification_report(y_true, y_pred))\n",
    "    print()\n",
    "sklearn_print_result(grid_search_pcen_los,test_data,test_label)"
   ]
  },
  {
   "cell_type": "code",
   "execution_count": 8,
   "metadata": {},
   "outputs": [
    {
     "name": "stdout",
     "output_type": "stream",
     "text": [
      "Best parameters set found on development set:\n",
      "\n",
      "{'max_depth': 60, 'min_samples_leaf': 5, 'min_samples_split': 10}\n",
      "\n",
      "Grid scores on development set:\n",
      "\n",
      "0.862 (+/-0.002) for {'max_depth': 10, 'min_samples_leaf': 5, 'min_samples_split': 10}\n",
      "0.862 (+/-0.002) for {'max_depth': 10, 'min_samples_leaf': 5, 'min_samples_split': 30}\n",
      "0.862 (+/-0.002) for {'max_depth': 10, 'min_samples_leaf': 5, 'min_samples_split': 50}\n",
      "0.862 (+/-0.002) for {'max_depth': 10, 'min_samples_leaf': 20, 'min_samples_split': 10}\n",
      "0.862 (+/-0.002) for {'max_depth': 10, 'min_samples_leaf': 20, 'min_samples_split': 30}\n",
      "0.862 (+/-0.002) for {'max_depth': 10, 'min_samples_leaf': 20, 'min_samples_split': 50}\n",
      "0.861 (+/-0.002) for {'max_depth': 10, 'min_samples_leaf': 45, 'min_samples_split': 10}\n",
      "0.861 (+/-0.002) for {'max_depth': 10, 'min_samples_leaf': 45, 'min_samples_split': 30}\n",
      "0.861 (+/-0.002) for {'max_depth': 10, 'min_samples_leaf': 45, 'min_samples_split': 50}\n",
      "0.882 (+/-0.002) for {'max_depth': 35, 'min_samples_leaf': 5, 'min_samples_split': 10}\n",
      "0.881 (+/-0.002) for {'max_depth': 35, 'min_samples_leaf': 5, 'min_samples_split': 30}\n",
      "0.881 (+/-0.002) for {'max_depth': 35, 'min_samples_leaf': 5, 'min_samples_split': 50}\n",
      "0.880 (+/-0.002) for {'max_depth': 35, 'min_samples_leaf': 20, 'min_samples_split': 10}\n",
      "0.880 (+/-0.002) for {'max_depth': 35, 'min_samples_leaf': 20, 'min_samples_split': 30}\n",
      "0.880 (+/-0.002) for {'max_depth': 35, 'min_samples_leaf': 20, 'min_samples_split': 50}\n",
      "0.878 (+/-0.002) for {'max_depth': 35, 'min_samples_leaf': 45, 'min_samples_split': 10}\n",
      "0.878 (+/-0.002) for {'max_depth': 35, 'min_samples_leaf': 45, 'min_samples_split': 30}\n",
      "0.878 (+/-0.002) for {'max_depth': 35, 'min_samples_leaf': 45, 'min_samples_split': 50}\n",
      "0.883 (+/-0.002) for {'max_depth': 60, 'min_samples_leaf': 5, 'min_samples_split': 10}\n",
      "0.882 (+/-0.002) for {'max_depth': 60, 'min_samples_leaf': 5, 'min_samples_split': 30}\n",
      "0.881 (+/-0.002) for {'max_depth': 60, 'min_samples_leaf': 5, 'min_samples_split': 50}\n",
      "0.880 (+/-0.002) for {'max_depth': 60, 'min_samples_leaf': 20, 'min_samples_split': 10}\n",
      "0.880 (+/-0.002) for {'max_depth': 60, 'min_samples_leaf': 20, 'min_samples_split': 30}\n",
      "0.880 (+/-0.002) for {'max_depth': 60, 'min_samples_leaf': 20, 'min_samples_split': 50}\n",
      "0.878 (+/-0.002) for {'max_depth': 60, 'min_samples_leaf': 45, 'min_samples_split': 10}\n",
      "0.878 (+/-0.002) for {'max_depth': 60, 'min_samples_leaf': 45, 'min_samples_split': 30}\n",
      "0.878 (+/-0.002) for {'max_depth': 60, 'min_samples_leaf': 45, 'min_samples_split': 50}\n",
      "\n",
      "Detailed classification report:\n",
      "\n",
      "The model is trained on the full development set.\n",
      "The scores are computed on the full evaluation set.\n",
      "\n"
     ]
    },
    {
     "name": "stderr",
     "output_type": "stream",
     "text": [
      "[Parallel(n_jobs=8)]: Using backend ThreadingBackend with 8 concurrent workers.\n",
      "[Parallel(n_jobs=8)]: Done  34 tasks      | elapsed:    4.4s\n",
      "[Parallel(n_jobs=8)]: Done 184 tasks      | elapsed:   17.7s\n",
      "[Parallel(n_jobs=8)]: Done 400 out of 400 | elapsed:   36.1s finished\n"
     ]
    },
    {
     "name": "stdout",
     "output_type": "stream",
     "text": [
      "              precision    recall  f1-score   support\n",
      "\n",
      "           0       0.94      0.97      0.96    792263\n",
      "           1       0.45      0.24      0.31     68875\n",
      "\n",
      "   micro avg       0.92      0.92      0.92    861138\n",
      "   macro avg       0.69      0.61      0.63    861138\n",
      "weighted avg       0.90      0.92      0.90    861138\n",
      "\n",
      "\n"
     ]
    }
   ],
   "source": [
    "def sklearn_print_result(clf,test_data,test_label):\n",
    "    print(\"Best parameters set found on development set:\")\n",
    "    print()\n",
    "    print(clf.best_params_)\n",
    "    print()\n",
    "    print(\"Grid scores on development set:\")\n",
    "    print()\n",
    "    means = clf.cv_results_['mean_test_roc_auc']\n",
    "    stds = clf.cv_results_['std_test_roc_auc']\n",
    "    for mean, std, params in zip(means, stds, clf.cv_results_['params']):\n",
    "        print(\"%0.3f (+/-%0.03f) for %r\"\n",
    "              % (mean, std * 2, params))\n",
    "    print()\n",
    "\n",
    "    print(\"Detailed classification report:\")\n",
    "    print()\n",
    "    print(\"The model is trained on the full development set.\")\n",
    "    print(\"The scores are computed on the full evaluation set.\")\n",
    "    print()\n",
    "    y_true, y_pred = test_label, clf.predict(test_data)\n",
    "    print(metrics.classification_report(y_true, y_pred))\n",
    "    print()\n",
    "sklearn_print_result(grid_search_mfcc,test_data,test_label)"
   ]
  },
  {
   "cell_type": "code",
   "execution_count": 119,
   "metadata": {},
   "outputs": [
    {
     "name": "stdout",
     "output_type": "stream",
     "text": [
      "(2586015, 20)\n",
      "(2586015,)\n"
     ]
    },
    {
     "name": "stderr",
     "output_type": "stream",
     "text": [
      "[Parallel(n_jobs=-1)]: Using backend ThreadingBackend with 4 concurrent workers.\n",
      "[Parallel(n_jobs=-1)]: Done  42 tasks      | elapsed:  9.7min\n",
      "[Parallel(n_jobs=-1)]: Done 192 tasks      | elapsed: 43.3min\n",
      "[Parallel(n_jobs=-1)]: Done 442 tasks      | elapsed: 266.8min\n",
      "[Parallel(n_jobs=-1)]: Done 792 tasks      | elapsed: 348.0min\n",
      "[Parallel(n_jobs=-1)]: Done 1000 out of 1000 | elapsed: 391.7min finished\n"
     ]
    },
    {
     "data": {
      "text/plain": [
       "RandomForestClassifier(bootstrap=True, class_weight='balanced',\n",
       "            criterion='gini', max_depth=None, max_features='auto',\n",
       "            max_leaf_nodes=None, min_impurity_decrease=0.0,\n",
       "            min_impurity_split=None, min_samples_leaf=1,\n",
       "            min_samples_split=2, min_weight_fraction_leaf=0.0,\n",
       "            n_estimators=1000, n_jobs=-1, oob_score=True, random_state=10,\n",
       "            verbose=1, warm_start=False)"
      ]
     },
     "execution_count": 119,
     "metadata": {},
     "output_type": "execute_result"
    }
   ],
   "source": [
    "\n",
    "temp_new_clf = RandomForestClassifier(bootstrap=True, class_weight='balanced',\n",
    "            criterion='gini', n_estimators=1000, n_jobs=-1, oob_score=True, random_state=10,\n",
    "            verbose=1, warm_start=False)\n",
    "\n",
    "train_path= os.getcwd()+'/JPNotebookExported/Train_PCEN_lostanlen_Dataset.npy'\n",
    "train_set= LoadSet(train_path)\n",
    "train_data,train_label = train_set['Data'], train_set['Label']\n",
    "temp_new_clf.fit(train_data,train_label)"
   ]
  },
  {
   "cell_type": "code",
   "execution_count": 125,
   "metadata": {},
   "outputs": [
    {
     "name": "stdout",
     "output_type": "stream",
     "text": [
      "(861138, 20)\n",
      "(861138,)\n"
     ]
    },
    {
     "name": "stderr",
     "output_type": "stream",
     "text": [
      "[Parallel(n_jobs=4)]: Using backend ThreadingBackend with 4 concurrent workers.\n",
      "[Parallel(n_jobs=4)]: Done  42 tasks      | elapsed:    5.4s\n",
      "[Parallel(n_jobs=4)]: Done 192 tasks      | elapsed:   22.5s\n",
      "[Parallel(n_jobs=4)]: Done 400 out of 400 | elapsed:   47.0s finished\n",
      "[Parallel(n_jobs=4)]: Using backend ThreadingBackend with 4 concurrent workers.\n",
      "[Parallel(n_jobs=4)]: Done  42 tasks      | elapsed:    5.0s\n",
      "[Parallel(n_jobs=4)]: Done 192 tasks      | elapsed:   21.2s\n",
      "[Parallel(n_jobs=4)]: Done 400 out of 400 | elapsed:   45.1s finished\n"
     ]
    },
    {
     "name": "stdout",
     "output_type": "stream",
     "text": [
      "0.8622666014858021\n",
      "0.6701408751953082\n",
      "              precision    recall  f1-score   support\n",
      "\n",
      "           0       0.95      0.96      0.95    790138\n",
      "           1       0.49      0.38      0.42     71000\n",
      "\n",
      "   micro avg       0.92      0.92      0.92    861138\n",
      "   macro avg       0.72      0.67      0.69    861138\n",
      "weighted avg       0.91      0.92      0.91    861138\n",
      "\n"
     ]
    },
    {
     "data": {
      "image/png": "[encoded data removed]",
      "text/plain": [
       "<Figure size 432x288 with 2 Axes>"
      ]
     },
     "metadata": {
      "needs_background": "light"
     },
     "output_type": "display_data"
    }
   ],
   "source": [
    "\n",
    "test_path= os.getcwd()+'/JPNotebookExported/Test_PCEN_lostanlen_Dataset.npy'\n",
    "test_set= LoadSet(test_path)\n",
    "test_data,test_label = test_set['Data'], test_set['Label']\n",
    "y_true, y_pred, y_pred_prob = test_label, grid_search_pcen_los.predict(test_data),grid_search_pcen_los.predict_proba(test_data)[:,1]\n",
    "print(metrics.roc_auc_score(y_true, y_pred_prob))\n",
    "print(metrics.balanced_accuracy_score(y_true, y_pred))\n",
    "#print(metrics.recall_score(y_true, y_pred))\n",
    "#print(metrics.f1_score(y_true, y_pred))\n",
    "print(metrics.classification_report(y_true,y_pred))\n",
    "\n",
    "target_names = ['NonSpeech', 'Speech']\n",
    "sklearn_evaluation.plot.confusion_matrix(y_true, y_pred, target_names=target_names, normalize=True, cmap=None, ax=None)\n",
    "plt.show()"
   ]
  },
  {
   "cell_type": "code",
   "execution_count": 129,
   "metadata": {},
   "outputs": [
    {
     "data": {
      "image/png": "[encoded data removed]",
      "text/plain": [
       "<Figure size 432x288 with 2 Axes>"
      ]
     },
     "metadata": {
      "needs_background": "light"
     },
     "output_type": "display_data"
    },
    {
     "name": "stdout",
     "output_type": "stream",
     "text": [
      "0.8300189427063535\n"
     ]
    }
   ],
   "source": [
    "\n",
    "viterbi_result = librosa.sequence.viterbi_binary(y_pred_prob, transition_matrix, p_state=0.26, p_init=None).ravel()\n",
    "sklearn_evaluation.plot.confusion_matrix(y_true, viterbi_result, target_names=target_names, normalize=True)\n",
    "plt.show()\n",
    "print(metrics.balanced_accuracy_score(y_true, viterbi_result))"
   ]
  },
  {
   "cell_type": "code",
   "execution_count": 42,
   "metadata": {},
   "outputs": [
    {
     "name": "stderr",
     "output_type": "stream",
     "text": [
      "/Users/anderson675/miniconda3/lib/python3.7/site-packages/sklearn/base.py:253: UserWarning: Trying to unpickle estimator GridSearchCV from version 0.20.1 when using version 0.20.3. This might lead to breaking code or invalid results. Use at your own risk.\n",
      "  UserWarning)\n"
     ]
    },
    {
     "data": {
      "image/png": "[encoded data removed]",
      "text/plain": [
       "<Figure size 1080x720 with 1 Axes>"
      ]
     },
     "metadata": {
      "needs_background": "light"
     },
     "output_type": "display_data"
    }
   ],
   "source": [
    "import sklearn_evaluation\n",
    "\n",
    "grid_search_pcen = joblib.load('grid_search_cv_pcen_coarse4.joblib') \n",
    "to_vary = 'max_depth'\n",
    "\n",
    "plt.figure(figsize=(15,10))\n",
    "\n",
    "sklearn_evaluation.plot.grid_search(grid_search_pcen.cv_results_, to_vary, kind='bar')\n",
    "plt.ylim([0.8, 0.9])\n",
    "#plt.savefig('PCEN_Coarse2.png',dpi = 1000)\n",
    "plt.show()"
   ]
  },
  {
   "cell_type": "code",
   "execution_count": null,
   "metadata": {},
   "outputs": [],
   "source": []
  },
  {
   "cell_type": "code",
   "execution_count": null,
   "metadata": {},
   "outputs": [],
   "source": []
  },
  {
   "cell_type": "code",
   "execution_count": null,
   "metadata": {},
   "outputs": [],
   "source": []
  },
  {
   "cell_type": "code",
   "execution_count": null,
   "metadata": {},
   "outputs": [],
   "source": []
  },
  {
   "cell_type": "code",
   "execution_count": null,
   "metadata": {},
   "outputs": [],
   "source": []
  },
  {
   "cell_type": "code",
   "execution_count": null,
   "metadata": {},
   "outputs": [],
   "source": []
  },
  {
   "cell_type": "code",
   "execution_count": null,
   "metadata": {},
   "outputs": [],
   "source": []
  },
  {
   "cell_type": "code",
   "execution_count": null,
   "metadata": {},
   "outputs": [],
   "source": []
  },
  {
   "cell_type": "code",
   "execution_count": null,
   "metadata": {},
   "outputs": [],
   "source": []
  },
  {
   "cell_type": "code",
   "execution_count": null,
   "metadata": {},
   "outputs": [],
   "source": []
  },
  {
   "cell_type": "code",
   "execution_count": null,
   "metadata": {},
   "outputs": [],
   "source": []
  },
  {
   "cell_type": "code",
   "execution_count": null,
   "metadata": {},
   "outputs": [],
   "source": []
  },
  {
   "cell_type": "code",
   "execution_count": null,
   "metadata": {},
   "outputs": [],
   "source": []
  },
  {
   "cell_type": "code",
   "execution_count": null,
   "metadata": {},
   "outputs": [],
   "source": [
    "\n"
   ]
  },
  {
   "cell_type": "code",
   "execution_count": null,
   "metadata": {},
   "outputs": [],
   "source": []
  },
  {
   "cell_type": "code",
   "execution_count": null,
   "metadata": {},
   "outputs": [],
   "source": []
  },
  {
   "cell_type": "code",
   "execution_count": null,
   "metadata": {},
   "outputs": [],
   "source": []
  },
  {
   "cell_type": "code",
   "execution_count": null,
   "metadata": {},
   "outputs": [],
   "source": []
  },
  {
   "cell_type": "code",
   "execution_count": null,
   "metadata": {},
   "outputs": [],
   "source": []
  }
 ],
 "metadata": {
  "kernelspec": {
   "display_name": "Python 3",
   "language": "python",
   "name": "python3"
  },
  "language_info": {
   "codemirror_mode": {
    "name": "ipython",
    "version": 3
   },
   "file_extension": ".py",
   "mimetype": "text/x-python",
   "name": "python",
   "nbconvert_exporter": "python",
   "pygments_lexer": "ipython3",
   "version": "3.7.3"
  }
 },
 "nbformat": 4,
 "nbformat_minor": 2
}
