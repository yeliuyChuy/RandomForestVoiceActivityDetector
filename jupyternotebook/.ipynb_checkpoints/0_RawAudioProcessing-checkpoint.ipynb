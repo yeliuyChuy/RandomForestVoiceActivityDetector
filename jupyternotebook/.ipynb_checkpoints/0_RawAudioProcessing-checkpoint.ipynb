{
 "cells": [
  {
   "cell_type": "code",
   "execution_count": 6,
   "metadata": {},
   "outputs": [],
   "source": [
    "#Process speech audio, slice them into 4s per file."
   ]
  },
  {
   "cell_type": "code",
   "execution_count": 7,
   "metadata": {},
   "outputs": [],
   "source": [
    "import pandas as pd\n",
    "import numpy as np\n",
    "import os\n",
    "import librosa\n",
    "import soundfile as sf"
   ]
  },
  {
   "cell_type": "code",
   "execution_count": 8,
   "metadata": {},
   "outputs": [],
   "source": [
    "#Concatenate all audio files in a folder, and slice them into pieces of desired length\n",
    "def slice_audio(input_dir,output_dir,expected_len,sr = 22050):\n",
    "\n",
    "    '''\n",
    "    parameters:\n",
    "        input_dir: the path of the folder where you saved all the audio file to process\n",
    "        output_dir: the path of the folder where you want to export the processed audio files\n",
    "        expected_len: desired length in second of sliced audio\n",
    "        sr: output sampling rate.(default = 22050 since we are using librosa.load to load in)\n",
    "    \n",
    "    '''\n",
    "    audio_data = []\n",
    "    file_idx = 0\n",
    "    \n",
    "    for file in os.listdir(input_dir):\n",
    "        if file.endswith('.mp3'):\n",
    "            print(\"processing {}\".format(file))\n",
    "            file_path = input_dir + file\n",
    "            y_data, y_samplerate = librosa.load(file_path)\n",
    "            audio_data = audio_data + y_data.tolist()\n",
    "            \n",
    "            if len(audio_data) > expected_len * sr:\n",
    "                #Slice audio\n",
    "                audio_data_np = np.asarray(audio_data[0:expected_len * sr], dtype=np.float32)\n",
    "                #save the audio\n",
    "                file_path = output_dir + \"speech\" + str(file_idx) + '-2.wav'\n",
    "                sf.write(file_path, audio_data_np, sr)\n",
    "                #update file index and list buffer\n",
    "                file_idx += 1               \n",
    "                audio_data = audio_data[expected_len * sr + 1:-1]\n",
    "\n",
    "#============================================================================\n",
    "#Speech audio folder\n",
    "speech_folder = os.getcwd() + '/0_RawAudio_Speech/' \n",
    "output_folder = os.getcwd() + '/Exported/' \n",
    "sr = 22050\n",
    "slice_audio(input_dir = speech_folder,\n",
    "            output_dir = output_folder,\n",
    "            expected_len = 4,\n",
    "            sr = 22050)"
   ]
  },
  {
   "cell_type": "code",
   "execution_count": null,
   "metadata": {},
   "outputs": [],
   "source": [
    "#This is a function that replace the children_playing audio file with speech in UrbanSound8K dataset\n",
    "#CSV will also be changed that speech file will replace the children_playing\n",
    "metadatafile = os.getcwd() + '/1_Dataset_Generate/metadata/UrbanSound8K.csv'\n",
    "metadata = pd.read_csv(metadatafile)\n",
    "children_playing_metadata = metadata[metadata.classID == 2]\n",
    "speechfolder = os.getcwd() + '/Exported/'\n",
    "speech_file_idx = 0\n",
    "for i,r in children_playing_metadata.iterrows():\n",
    "    audiofolder = os.getcwd() + '/1_Dataset_Generate/audio/fold{:d}/'.format(r[5])\n",
    "    audiofile = audiofolder + r[0]\n",
    "    #Delete original audio file\n",
    "    os.remove(audiofile)\n",
    "    \n",
    "    #put in the speech audio file \n",
    "    speech_file_name =  'speech' + str(speech_file_idx) + '-2.wav'\n",
    "    speechfile = speechfolder + speech_file_name\n",
    "    shutil.copy(speechfile, audiofolder)\n",
    "    \n",
    "    #Change the corresponding metadata infor\n",
    "    children_playing_metadata.loc[i,'slice_file_name'] = speech_file_name\n",
    "    children_playing_metadata.loc[i,'class'] = 'speech'\n",
    "    \n",
    "    children_playing_metadata.loc[i,'fsID'] = 0\n",
    "    children_playing_metadata.loc[i,'start'] = 0\n",
    "    children_playing_metadata.loc[i,'end'] = 0\n",
    "    children_playing_metadata.loc[i,'salience'] = 0    \n",
    "    #update parameters\n",
    "    speech_file_idx += 1\n",
    "    \n",
    "new_frames = [metadata[metadata.classID != 2],speech_metadata]\n",
    "new_metadata = pd.concat(new_frames, sort=False)\n",
    "new_metadata.to_csv('metadata_with_speech.csv',index=False)"
   ]
  },
  {
   "cell_type": "code",
   "execution_count": null,
   "metadata": {},
   "outputs": [],
   "source": []
  },
  {
   "cell_type": "code",
   "execution_count": 195,
   "metadata": {},
   "outputs": [
    {
     "name": "stderr",
     "output_type": "stream",
     "text": [
      "  2%|▏         | 18/873 [00:00<00:04, 177.57it/s]"
     ]
    },
    {
     "name": "stdout",
     "output_type": "stream",
     "text": [
      "['air_conditioner', 'car_horn', 'dog_bark', 'drilling', 'engine_idling', 'gun_shot', 'jackhammer', 'siren', 'speech', 'street_music']\n",
      "FOLD 1\n"
     ]
    },
    {
     "name": "stderr",
     "output_type": "stream",
     "text": [
      "100%|██████████| 873/873 [00:04<00:00, 182.84it/s]\n",
      "  2%|▏         | 16/888 [00:00<00:05, 155.97it/s]"
     ]
    },
    {
     "name": "stdout",
     "output_type": "stream",
     "text": [
      "   Fold 1 labels:\n",
      "   air_conditioner:\t100\n",
      "   car_horn:\t36\n",
      "   dog_bark:\t100\n",
      "   drilling:\t100\n",
      "   engine_idling:\t96\n",
      "   gun_shot:\t35\n",
      "   jackhammer:\t120\n",
      "   siren:\t86\n",
      "   speech:\t100\n",
      "   street_music:\t100\n",
      "FOLD 2\n"
     ]
    },
    {
     "name": "stderr",
     "output_type": "stream",
     "text": [
      "100%|██████████| 888/888 [00:04<00:00, 182.19it/s]\n",
      "  2%|▏         | 22/925 [00:00<00:04, 213.56it/s]"
     ]
    },
    {
     "name": "stdout",
     "output_type": "stream",
     "text": [
      "   Fold 2 labels:\n",
      "   air_conditioner:\t100\n",
      "   car_horn:\t42\n",
      "   dog_bark:\t100\n",
      "   drilling:\t100\n",
      "   engine_idling:\t100\n",
      "   gun_shot:\t35\n",
      "   jackhammer:\t120\n",
      "   siren:\t91\n",
      "   speech:\t100\n",
      "   street_music:\t100\n",
      "FOLD 3\n"
     ]
    },
    {
     "name": "stderr",
     "output_type": "stream",
     "text": [
      "100%|██████████| 925/925 [00:04<00:00, 194.38it/s]\n",
      "  2%|▏         | 22/990 [00:00<00:04, 214.99it/s]"
     ]
    },
    {
     "name": "stdout",
     "output_type": "stream",
     "text": [
      "   Fold 3 labels:\n",
      "   air_conditioner:\t100\n",
      "   car_horn:\t43\n",
      "   dog_bark:\t100\n",
      "   drilling:\t100\n",
      "   engine_idling:\t107\n",
      "   gun_shot:\t36\n",
      "   jackhammer:\t120\n",
      "   siren:\t119\n",
      "   speech:\t100\n",
      "   street_music:\t100\n",
      "FOLD 4\n"
     ]
    },
    {
     "name": "stderr",
     "output_type": "stream",
     "text": [
      "100%|██████████| 990/990 [00:05<00:00, 190.60it/s]\n",
      "  2%|▏         | 19/936 [00:00<00:05, 181.87it/s]"
     ]
    },
    {
     "name": "stdout",
     "output_type": "stream",
     "text": [
      "   Fold 4 labels:\n",
      "   air_conditioner:\t100\n",
      "   car_horn:\t59\n",
      "   dog_bark:\t100\n",
      "   drilling:\t100\n",
      "   engine_idling:\t107\n",
      "   gun_shot:\t38\n",
      "   jackhammer:\t120\n",
      "   siren:\t166\n",
      "   speech:\t100\n",
      "   street_music:\t100\n",
      "FOLD 5\n"
     ]
    },
    {
     "name": "stderr",
     "output_type": "stream",
     "text": [
      "100%|██████████| 936/936 [00:04<00:00, 188.25it/s]\n",
      "  2%|▏         | 19/823 [00:00<00:04, 165.21it/s]"
     ]
    },
    {
     "name": "stdout",
     "output_type": "stream",
     "text": [
      "   Fold 5 labels:\n",
      "   air_conditioner:\t100\n",
      "   car_horn:\t98\n",
      "   dog_bark:\t100\n",
      "   drilling:\t100\n",
      "   engine_idling:\t107\n",
      "   gun_shot:\t40\n",
      "   jackhammer:\t120\n",
      "   siren:\t71\n",
      "   speech:\t100\n",
      "   street_music:\t100\n",
      "FOLD 6\n"
     ]
    },
    {
     "name": "stderr",
     "output_type": "stream",
     "text": [
      "100%|██████████| 823/823 [00:04<00:00, 195.10it/s]"
     ]
    },
    {
     "name": "stdout",
     "output_type": "stream",
     "text": [
      "   Fold 6 labels:\n",
      "   air_conditioner:\t100\n",
      "   car_horn:\t28\n",
      "   dog_bark:\t100\n",
      "   drilling:\t100\n",
      "   engine_idling:\t107\n",
      "   gun_shot:\t46\n",
      "   jackhammer:\t68\n",
      "   siren:\t74\n",
      "   speech:\t100\n",
      "   street_music:\t100\n",
      "\n",
      "\n",
      "OVERALL labels:\n",
      "air_conditioner:\t600\n",
      "car_horn:\t306\n",
      "dog_bark:\t600\n",
      "drilling:\t600\n",
      "engine_idling:\t624\n",
      "gun_shot:\t230\n",
      "jackhammer:\t668\n",
      "siren:\t607\n",
      "speech:\t600\n",
      "street_music:\t600\n"
     ]
    },
    {
     "name": "stderr",
     "output_type": "stream",
     "text": [
      "\n"
     ]
    }
   ],
   "source": [
    "## Create soundbank for TRAIN (folds 1-6)\n",
    "#Generate Dataset using pre-sorted data\n",
    "\n",
    "import pandas as pd\n",
    "import numpy as np\n",
    "import shutil\n",
    "import os\n",
    "from tqdm import tqdm\n",
    "import glob\n",
    "\n",
    "metadatafile = os.getcwd() + '/1_Dataset_Generate/metadata/metadata_with_speech.csv'\n",
    "metadata = pd.read_csv(metadatafile)\n",
    "label_list = sorted(metadata['class'].unique())\n",
    "print(label_list)\n",
    "\n",
    "folds = [1, 2, 3, 4, 5, 6]\n",
    "splitname = 'train'\n",
    "soundbankfolder = os.getcwd() + '/1_Dataset_Generate/audio/soundbanks/'\n",
    "soundbankfolder = os.path.join(soundbankfolder, splitname)\n",
    "\n",
    "label_count = {}\n",
    "for label in label_list:\n",
    "    label_count[label] = 0\n",
    "    \n",
    "for fold in folds:\n",
    "    \n",
    "    print('FOLD {:d}'.format(fold))\n",
    "    audiofolder = os.getcwd() + '/1_Dataset_Generate/audio/fold{:d}/'.format(fold)\n",
    "    audiofiles = glob.glob(os.path.join(audiofolder, '*.wav'))\n",
    "    \n",
    "    fold_label_count = {}\n",
    "    for label in label_list:\n",
    "        fold_label_count[label] = 0\n",
    "    \n",
    "    for af in tqdm(audiofiles):\n",
    "        # print(os.path.basename(af))\n",
    "        label = metadata.loc[metadata.slice_file_name == os.path.basename(af), 'class'].values[0]\n",
    "        label_count[label] += 1\n",
    "        fold_label_count[label] += 1\n",
    "        destfolder = os.path.join(soundbankfolder, 'foreground', label)\n",
    "        if not os.path.isdir(destfolder):\n",
    "            os.mkdir(destfolder)\n",
    "        destfile = os.path.join(destfolder, os.path.basename(af))\n",
    "        shutil.copyfile(af, destfile)\n",
    "        \n",
    "    # Print fold report\n",
    "    print('   Fold {:d} labels:'.format(fold))\n",
    "    for label in label_list:\n",
    "        print('   {:s}:\\t{:d}'.format(label, fold_label_count[label]))\n",
    "        \n",
    "# Print overall report\n",
    "print('\\n\\nOVERALL labels:')\n",
    "for label in label_list:\n",
    "    print('{:s}:\\t{:d}'.format(label, label_count[label]))"
   ]
  },
  {
   "cell_type": "markdown",
   "metadata": {},
   "source": [
    "## Create soundbank for VALIDATE (folds 7-8)"
   ]
  },
  {
   "cell_type": "code",
   "execution_count": 200,
   "metadata": {},
   "outputs": [
    {
     "name": "stderr",
     "output_type": "stream",
     "text": [
      "  2%|▏         | 17/838 [00:00<00:04, 168.21it/s]"
     ]
    },
    {
     "name": "stdout",
     "output_type": "stream",
     "text": [
      "FOLD 7\n"
     ]
    },
    {
     "name": "stderr",
     "output_type": "stream",
     "text": [
      "100%|██████████| 838/838 [00:04<00:00, 190.85it/s]\n",
      "  2%|▏         | 18/806 [00:00<00:04, 176.62it/s]"
     ]
    },
    {
     "name": "stdout",
     "output_type": "stream",
     "text": [
      "   Fold 7 labels:\n",
      "   air_conditioner:\t100\n",
      "   car_horn:\t28\n",
      "   dog_bark:\t100\n",
      "   drilling:\t100\n",
      "   engine_idling:\t106\n",
      "   gun_shot:\t51\n",
      "   jackhammer:\t76\n",
      "   siren:\t77\n",
      "   speech:\t100\n",
      "   street_music:\t100\n",
      "FOLD 8\n"
     ]
    },
    {
     "name": "stderr",
     "output_type": "stream",
     "text": [
      "100%|██████████| 806/806 [00:04<00:00, 191.40it/s]"
     ]
    },
    {
     "name": "stdout",
     "output_type": "stream",
     "text": [
      "   Fold 8 labels:\n",
      "   air_conditioner:\t100\n",
      "   car_horn:\t30\n",
      "   dog_bark:\t100\n",
      "   drilling:\t100\n",
      "   engine_idling:\t88\n",
      "   gun_shot:\t30\n",
      "   jackhammer:\t78\n",
      "   siren:\t80\n",
      "   speech:\t100\n",
      "   street_music:\t100\n",
      "\n",
      "\n",
      "OVERALL labels:\n",
      "air_conditioner:\t200\n",
      "car_horn:\t58\n",
      "dog_bark:\t200\n",
      "drilling:\t200\n",
      "engine_idling:\t194\n",
      "gun_shot:\t81\n",
      "jackhammer:\t154\n",
      "siren:\t157\n",
      "speech:\t200\n",
      "street_music:\t200\n"
     ]
    },
    {
     "name": "stderr",
     "output_type": "stream",
     "text": [
      "\n"
     ]
    }
   ],
   "source": [
    "folds = [7, 8]\n",
    "splitname = 'validate'\n",
    "\n",
    "soundbankfolder = os.getcwd() + '/1_Dataset_Generate/audio/soundbanks/'\n",
    "soundbankfolder = os.path.join(soundbankfolder, splitname)\n",
    "\n",
    "label_count = {}\n",
    "for label in label_list:\n",
    "    label_count[label] = 0\n",
    "    \n",
    "for fold in folds:\n",
    "    \n",
    "    print('FOLD {:d}'.format(fold))\n",
    "    audiofolder = os.getcwd() + '/1_Dataset_Generate/audio/fold{:d}/'.format(fold)\n",
    "    audiofiles = glob.glob(os.path.join(audiofolder, '*.wav'))\n",
    "    \n",
    "    fold_label_count = {}\n",
    "    for label in label_list:\n",
    "        fold_label_count[label] = 0\n",
    "    \n",
    "    for af in tqdm(audiofiles):\n",
    "        # print(os.path.basename(af))\n",
    "        label = metadata.loc[metadata.slice_file_name == os.path.basename(af), 'class'].values[0]       \n",
    "        label_count[label] += 1\n",
    "        fold_label_count[label] += 1\n",
    "        destfolder = os.path.join(soundbankfolder, 'foreground', label)\n",
    "        if not os.path.isdir(destfolder):\n",
    "            os.mkdir(destfolder)\n",
    "        destfile = os.path.join(destfolder, os.path.basename(af))\n",
    "        shutil.copyfile(af, destfile)\n",
    "        \n",
    "    # Print fold report\n",
    "    print('   Fold {:d} labels:'.format(fold))\n",
    "    for label in label_list:\n",
    "        print('   {:s}:\\t{:d}'.format(label, fold_label_count[label]))\n",
    "        \n",
    "# Print overall report\n",
    "print('\\n\\nOVERALL labels:')\n",
    "for label in label_list:\n",
    "    print('{:s}:\\t{:d}'.format(label, label_count[label]))"
   ]
  },
  {
   "cell_type": "markdown",
   "metadata": {},
   "source": [
    "## Create soundbank for TEST (folds 9-10)"
   ]
  },
  {
   "cell_type": "code",
   "execution_count": 201,
   "metadata": {},
   "outputs": [
    {
     "name": "stderr",
     "output_type": "stream",
     "text": [
      "  2%|▏         | 17/816 [00:00<00:04, 164.56it/s]"
     ]
    },
    {
     "name": "stdout",
     "output_type": "stream",
     "text": [
      "FOLD 9\n"
     ]
    },
    {
     "name": "stderr",
     "output_type": "stream",
     "text": [
      "100%|██████████| 816/816 [00:04<00:00, 178.61it/s]\n",
      "  3%|▎         | 22/837 [00:00<00:03, 210.41it/s]"
     ]
    },
    {
     "name": "stdout",
     "output_type": "stream",
     "text": [
      "   Fold 9 labels:\n",
      "   air_conditioner:\t100\n",
      "   car_horn:\t32\n",
      "   dog_bark:\t100\n",
      "   drilling:\t100\n",
      "   engine_idling:\t89\n",
      "   gun_shot:\t31\n",
      "   jackhammer:\t82\n",
      "   siren:\t82\n",
      "   speech:\t100\n",
      "   street_music:\t100\n",
      "FOLD 10\n"
     ]
    },
    {
     "name": "stderr",
     "output_type": "stream",
     "text": [
      "100%|██████████| 837/837 [00:04<00:00, 193.96it/s]"
     ]
    },
    {
     "name": "stdout",
     "output_type": "stream",
     "text": [
      "   Fold 10 labels:\n",
      "   air_conditioner:\t100\n",
      "   car_horn:\t33\n",
      "   dog_bark:\t100\n",
      "   drilling:\t100\n",
      "   engine_idling:\t93\n",
      "   gun_shot:\t32\n",
      "   jackhammer:\t96\n",
      "   siren:\t83\n",
      "   speech:\t100\n",
      "   street_music:\t100\n",
      "\n",
      "\n",
      "OVERALL labels:\n",
      "air_conditioner:\t200\n",
      "car_horn:\t65\n",
      "dog_bark:\t200\n",
      "drilling:\t200\n",
      "engine_idling:\t182\n",
      "gun_shot:\t63\n",
      "jackhammer:\t178\n",
      "siren:\t165\n",
      "speech:\t200\n",
      "street_music:\t200\n"
     ]
    },
    {
     "name": "stderr",
     "output_type": "stream",
     "text": [
      "\n"
     ]
    }
   ],
   "source": [
    "folds = [9, 10]\n",
    "splitname = 'test'\n",
    "\n",
    "soundbankfolder = os.getcwd() + '/1_Dataset_Generate/audio/soundbanks/'\n",
    "soundbankfolder = os.path.join(soundbankfolder, splitname)\n",
    "\n",
    "label_count = {}\n",
    "for label in label_list:\n",
    "    label_count[label] = 0\n",
    "    \n",
    "for fold in folds:\n",
    "    \n",
    "    print('FOLD {:d}'.format(fold))\n",
    "    audiofolder = os.getcwd() + '/1_Dataset_Generate/audio/fold{:d}/'.format(fold)\n",
    "    audiofiles = glob.glob(os.path.join(audiofolder, '*.wav'))\n",
    "    \n",
    "    fold_label_count = {}\n",
    "    for label in label_list:\n",
    "        fold_label_count[label] = 0\n",
    "    \n",
    "    for af in tqdm(audiofiles):\n",
    "        # print(os.path.basename(af))\n",
    "        label = metadata.loc[metadata.slice_file_name == os.path.basename(af), 'class'].values[0]\n",
    "        label_count[label] += 1\n",
    "        fold_label_count[label] += 1\n",
    "        destfolder = os.path.join(soundbankfolder, 'foreground', label)\n",
    "        if not os.path.isdir(destfolder):\n",
    "            os.mkdir(destfolder)\n",
    "        destfile = os.path.join(destfolder, os.path.basename(af))\n",
    "        shutil.copyfile(af, destfile)\n",
    "        \n",
    "    # Print fold report\n",
    "    print('   Fold {:d} labels:'.format(fold))\n",
    "    for label in label_list:\n",
    "        print('   {:s}:\\t{:d}'.format(label, fold_label_count[label]))\n",
    "        \n",
    "# Print overall report\n",
    "print('\\n\\nOVERALL labels:')\n",
    "for label in label_list:\n",
    "    print('{:s}:\\t{:d}'.format(label, label_count[label]))"
   ]
  },
  {
   "cell_type": "markdown",
   "metadata": {},
   "source": [
    "## Copy noise excerpt for all files"
   ]
  },
  {
   "cell_type": "code",
   "execution_count": 203,
   "metadata": {},
   "outputs": [],
   "source": [
    "noisefile = os.getcwd() + '/1_Dataset_Generate/audio/noise/brownian.wav'\n",
    "soundbankfolder = os.getcwd() + '/1_Dataset_Generate/audio/soundbanks/'\n",
    "\n",
    "for split in ['train', 'validate', 'test']:\n",
    "    \n",
    "    destfolder = os.path.join(soundbankfolder, split, 'background', 'noise')\n",
    "    if not os.path.isdir(destfolder):\n",
    "        os.mkdir(destfolder)\n",
    "        \n",
    "    destfile = os.path.join(destfolder, os.path.basename(noisefile))\n",
    "    shutil.copyfile(noisefile, destfile)\n"
   ]
  },
  {
   "cell_type": "code",
   "execution_count": null,
   "metadata": {},
   "outputs": [],
   "source": []
  },
  {
   "cell_type": "code",
   "execution_count": null,
   "metadata": {},
   "outputs": [],
   "source": []
  },
  {
   "cell_type": "code",
   "execution_count": null,
   "metadata": {},
   "outputs": [],
   "source": []
  },
  {
   "cell_type": "code",
   "execution_count": 69,
   "metadata": {},
   "outputs": [],
   "source": []
  },
  {
   "cell_type": "code",
   "execution_count": null,
   "metadata": {},
   "outputs": [],
   "source": []
  },
  {
   "cell_type": "code",
   "execution_count": null,
   "metadata": {},
   "outputs": [],
   "source": []
  },
  {
   "cell_type": "code",
   "execution_count": null,
   "metadata": {},
   "outputs": [],
   "source": []
  },
  {
   "cell_type": "code",
   "execution_count": null,
   "metadata": {},
   "outputs": [],
   "source": []
  },
  {
   "cell_type": "code",
   "execution_count": null,
   "metadata": {},
   "outputs": [],
   "source": []
  },
  {
   "cell_type": "code",
   "execution_count": null,
   "metadata": {},
   "outputs": [],
   "source": []
  },
  {
   "cell_type": "code",
   "execution_count": null,
   "metadata": {},
   "outputs": [],
   "source": []
  },
  {
   "cell_type": "code",
   "execution_count": 104,
   "metadata": {},
   "outputs": [],
   "source": []
  },
  {
   "cell_type": "code",
   "execution_count": null,
   "metadata": {},
   "outputs": [],
   "source": []
  },
  {
   "cell_type": "code",
   "execution_count": null,
   "metadata": {},
   "outputs": [],
   "source": []
  },
  {
   "cell_type": "code",
   "execution_count": 113,
   "metadata": {},
   "outputs": [],
   "source": []
  },
  {
   "cell_type": "code",
   "execution_count": null,
   "metadata": {},
   "outputs": [],
   "source": []
  }
 ],
 "metadata": {
  "kernelspec": {
   "display_name": "Python 3",
   "language": "python",
   "name": "python3"
  },
  "language_info": {
   "codemirror_mode": {
    "name": "ipython",
    "version": 3
   },
   "file_extension": ".py",
   "mimetype": "text/x-python",
   "name": "python",
   "nbconvert_exporter": "python",
   "pygments_lexer": "ipython3",
   "version": "3.7.3"
  }
 },
 "nbformat": 4,
 "nbformat_minor": 2
}
