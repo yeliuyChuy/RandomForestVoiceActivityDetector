{
 "cells": [
  {
   "cell_type": "code",
   "execution_count": 20,
   "metadata": {},
   "outputs": [],
   "source": [
    "import numpy as np\n",
    "import scaper\n",
    "import os"
   ]
  },
  {
   "cell_type": "markdown",
   "metadata": {},
   "source": [
    "# =============Train================"
   ]
  },
  {
   "cell_type": "markdown",
   "metadata": {},
   "source": [
    "# Train-Bimodal"
   ]
  },
  {
   "cell_type": "code",
   "execution_count": 21,
   "metadata": {},
   "outputs": [
    {
     "name": "stdout",
     "output_type": "stream",
     "text": [
      "Generating soundscape: 1/200\n",
      "Generating soundscape: 2/200\n",
      "Generating soundscape: 3/200\n"
     ]
    },
    {
     "name": "stderr",
     "output_type": "stream",
     "text": [
      "/Users/anderson675/miniconda3/lib/python3.7/site-packages/scaper/core.py:1268: ScaperWarning: siren event time (5.97) is too great given stretched event duration (4.14) and soundscape duration (10.00), changed to 5.86.\n",
      "  ScaperWarning)\n"
     ]
    },
    {
     "name": "stdout",
     "output_type": "stream",
     "text": [
      "Generating soundscape: 4/200\n",
      "Generating soundscape: 5/200\n"
     ]
    },
    {
     "name": "stderr",
     "output_type": "stream",
     "text": [
      "/Users/anderson675/miniconda3/lib/python3.7/site-packages/scaper/core.py:1172: ScaperWarning: gun_shot event duration (1.53) is greater that source duration (1.50), changing to 1.50\n",
      "  ScaperWarning)\n"
     ]
    },
    {
     "name": "stdout",
     "output_type": "stream",
     "text": [
      "Generating soundscape: 6/200\n"
     ]
    },
    {
     "name": "stderr",
     "output_type": "stream",
     "text": [
      "/Users/anderson675/miniconda3/lib/python3.7/site-packages/scaper/core.py:1268: ScaperWarning: street_music event time (7.76) is too great given stretched event duration (2.59) and soundscape duration (10.00), changed to 7.41.\n",
      "  ScaperWarning)\n",
      "/Users/anderson675/miniconda3/lib/python3.7/site-packages/scaper/core.py:1172: ScaperWarning: jackhammer event duration (2.66) is greater that source duration (1.26), changing to 1.26\n",
      "  ScaperWarning)\n"
     ]
    },
    {
     "name": "stdout",
     "output_type": "stream",
     "text": [
      "Generating soundscape: 7/200\n"
     ]
    },
    {
     "name": "stderr",
     "output_type": "stream",
     "text": [
      "/Users/anderson675/miniconda3/lib/python3.7/site-packages/scaper/core.py:1172: ScaperWarning: gun_shot event duration (1.45) is greater that source duration (1.18), changing to 1.18\n",
      "  ScaperWarning)\n",
      "/Users/anderson675/miniconda3/lib/python3.7/site-packages/scaper/core.py:1172: ScaperWarning: drilling event duration (0.84) is greater that source duration (0.83), changing to 0.83\n",
      "  ScaperWarning)\n"
     ]
    },
    {
     "name": "stdout",
     "output_type": "stream",
     "text": [
      "Generating soundscape: 8/200\n"
     ]
    },
    {
     "name": "stderr",
     "output_type": "stream",
     "text": [
      "/Users/anderson675/miniconda3/lib/python3.7/site-packages/scaper/core.py:1268: ScaperWarning: drilling event time (8.31) is too great given stretched event duration (1.78) and soundscape duration (10.00), changed to 8.22.\n",
      "  ScaperWarning)\n"
     ]
    },
    {
     "name": "stdout",
     "output_type": "stream",
     "text": [
      "Generating soundscape: 9/200\n"
     ]
    },
    {
     "name": "stderr",
     "output_type": "stream",
     "text": [
      "/Users/anderson675/miniconda3/lib/python3.7/site-packages/scaper/core.py:1268: ScaperWarning: gun_shot event time (8.55) is too great given stretched event duration (1.92) and soundscape duration (10.00), changed to 8.08.\n",
      "  ScaperWarning)\n",
      "/Users/anderson675/miniconda3/lib/python3.7/site-packages/scaper/core.py:1172: ScaperWarning: drilling event duration (2.25) is greater that source duration (1.99), changing to 1.99\n",
      "  ScaperWarning)\n"
     ]
    },
    {
     "name": "stdout",
     "output_type": "stream",
     "text": [
      "Generating soundscape: 10/200\n"
     ]
    },
    {
     "name": "stderr",
     "output_type": "stream",
     "text": [
      "/Users/anderson675/miniconda3/lib/python3.7/site-packages/scaper/core.py:1268: ScaperWarning: drilling event time (9.92) is too great given stretched event duration (3.14) and soundscape duration (10.00), changed to 6.86.\n",
      "  ScaperWarning)\n",
      "/Users/anderson675/miniconda3/lib/python3.7/site-packages/scaper/core.py:1268: ScaperWarning: drilling event time (6.87) is too great given stretched event duration (3.78) and soundscape duration (10.00), changed to 6.22.\n",
      "  ScaperWarning)\n"
     ]
    },
    {
     "name": "stdout",
     "output_type": "stream",
     "text": [
      "Generating soundscape: 11/200\n"
     ]
    },
    {
     "name": "stderr",
     "output_type": "stream",
     "text": [
      "/Users/anderson675/miniconda3/lib/python3.7/site-packages/scaper/core.py:1268: ScaperWarning: street_music event time (9.19) is too great given stretched event duration (2.75) and soundscape duration (10.00), changed to 7.25.\n",
      "  ScaperWarning)\n",
      "/Users/anderson675/miniconda3/lib/python3.7/site-packages/scaper/core.py:1268: ScaperWarning: speech event time (8.58) is too great given stretched event duration (3.12) and soundscape duration (10.00), changed to 6.88.\n",
      "  ScaperWarning)\n",
      "/Users/anderson675/miniconda3/lib/python3.7/site-packages/scaper/core.py:1268: ScaperWarning: jackhammer event time (6.14) is too great given stretched event duration (4.03) and soundscape duration (10.00), changed to 5.97.\n",
      "  ScaperWarning)\n",
      "/Users/anderson675/miniconda3/lib/python3.7/site-packages/scaper/core.py:1268: ScaperWarning: drilling event time (9.93) is too great given stretched event duration (3.10) and soundscape duration (10.00), changed to 6.90.\n",
      "  ScaperWarning)\n"
     ]
    },
    {
     "name": "stdout",
     "output_type": "stream",
     "text": [
      "Generating soundscape: 12/200\n"
     ]
    },
    {
     "name": "stderr",
     "output_type": "stream",
     "text": [
      "/Users/anderson675/miniconda3/lib/python3.7/site-packages/scaper/core.py:1172: ScaperWarning: drilling event duration (3.64) is greater that source duration (0.69), changing to 0.69\n",
      "  ScaperWarning)\n"
     ]
    },
    {
     "name": "stdout",
     "output_type": "stream",
     "text": [
      "Generating soundscape: 13/200\n"
     ]
    },
    {
     "name": "stderr",
     "output_type": "stream",
     "text": [
      "/Users/anderson675/miniconda3/lib/python3.7/site-packages/scaper/core.py:1268: ScaperWarning: speech event time (8.61) is too great given stretched event duration (2.51) and soundscape duration (10.00), changed to 7.49.\n",
      "  ScaperWarning)\n",
      "/Users/anderson675/miniconda3/lib/python3.7/site-packages/scaper/core.py:1172: ScaperWarning: dog_bark event duration (3.14) is greater that source duration (0.65), changing to 0.65\n",
      "  ScaperWarning)\n",
      "/Users/anderson675/miniconda3/lib/python3.7/site-packages/scaper/core.py:1172: ScaperWarning: gun_shot event duration (1.45) is greater that source duration (1.06), changing to 1.06\n",
      "  ScaperWarning)\n",
      "/Users/anderson675/miniconda3/lib/python3.7/site-packages/scaper/core.py:1172: ScaperWarning: gun_shot event duration (2.75) is greater that source duration (1.50), changing to 1.50\n",
      "  ScaperWarning)\n"
     ]
    },
    {
     "name": "stdout",
     "output_type": "stream",
     "text": [
      "Generating soundscape: 14/200\n"
     ]
    },
    {
     "name": "stderr",
     "output_type": "stream",
     "text": [
      "/Users/anderson675/miniconda3/lib/python3.7/site-packages/scaper/core.py:1268: ScaperWarning: drilling event time (9.15) is too great given stretched event duration (3.30) and soundscape duration (10.00), changed to 6.70.\n",
      "  ScaperWarning)\n",
      "/Users/anderson675/miniconda3/lib/python3.7/site-packages/scaper/core.py:1268: ScaperWarning: speech event time (7.57) is too great given stretched event duration (2.77) and soundscape duration (10.00), changed to 7.23.\n",
      "  ScaperWarning)\n"
     ]
    },
    {
     "name": "stdout",
     "output_type": "stream",
     "text": [
      "Generating soundscape: 15/200\n"
     ]
    },
    {
     "name": "stderr",
     "output_type": "stream",
     "text": [
      "/Users/anderson675/miniconda3/lib/python3.7/site-packages/scaper/core.py:1268: ScaperWarning: dog_bark event time (6.11) is too great given stretched event duration (4.09) and soundscape duration (10.00), changed to 5.91.\n",
      "  ScaperWarning)\n"
     ]
    },
    {
     "name": "stdout",
     "output_type": "stream",
     "text": [
      "Generating soundscape: 16/200\n"
     ]
    },
    {
     "name": "stderr",
     "output_type": "stream",
     "text": [
      "/Users/anderson675/miniconda3/lib/python3.7/site-packages/scaper/core.py:1268: ScaperWarning: dog_bark event time (8.89) is too great given stretched event duration (2.40) and soundscape duration (10.00), changed to 7.60.\n",
      "  ScaperWarning)\n"
     ]
    },
    {
     "name": "stdout",
     "output_type": "stream",
     "text": [
      "Generating soundscape: 17/200\n"
     ]
    },
    {
     "name": "stderr",
     "output_type": "stream",
     "text": [
      "/Users/anderson675/miniconda3/lib/python3.7/site-packages/scaper/core.py:1172: ScaperWarning: car_horn event duration (1.41) is greater that source duration (0.99), changing to 0.99\n",
      "  ScaperWarning)\n"
     ]
    },
    {
     "name": "stdout",
     "output_type": "stream",
     "text": [
      "Generating soundscape: 18/200\n",
      "Generating soundscape: 19/200\n"
     ]
    },
    {
     "name": "stderr",
     "output_type": "stream",
     "text": [
      "/Users/anderson675/miniconda3/lib/python3.7/site-packages/scaper/core.py:1172: ScaperWarning: drilling event duration (2.37) is greater that source duration (1.33), changing to 1.33\n",
      "  ScaperWarning)\n"
     ]
    },
    {
     "name": "stdout",
     "output_type": "stream",
     "text": [
      "Generating soundscape: 20/200\n"
     ]
    },
    {
     "name": "stderr",
     "output_type": "stream",
     "text": [
      "/Users/anderson675/miniconda3/lib/python3.7/site-packages/scaper/core.py:1268: ScaperWarning: engine_idling event time (8.42) is too great given stretched event duration (3.03) and soundscape duration (10.00), changed to 6.97.\n",
      "  ScaperWarning)\n",
      "/Users/anderson675/miniconda3/lib/python3.7/site-packages/scaper/core.py:1172: ScaperWarning: gun_shot event duration (2.54) is greater that source duration (0.48), changing to 0.48\n",
      "  ScaperWarning)\n",
      "/Users/anderson675/miniconda3/lib/python3.7/site-packages/scaper/core.py:1172: ScaperWarning: gun_shot event duration (1.26) is greater that source duration (0.61), changing to 0.61\n",
      "  ScaperWarning)\n",
      "/Users/anderson675/miniconda3/lib/python3.7/site-packages/scaper/core.py:1172: ScaperWarning: jackhammer event duration (2.99) is greater that source duration (1.05), changing to 1.05\n",
      "  ScaperWarning)\n"
     ]
    },
    {
     "name": "stdout",
     "output_type": "stream",
     "text": [
      "Generating soundscape: 21/200\n",
      "Generating soundscape: 22/200\n"
     ]
    },
    {
     "name": "stderr",
     "output_type": "stream",
     "text": [
      "/Users/anderson675/miniconda3/lib/python3.7/site-packages/scaper/core.py:1172: ScaperWarning: dog_bark event duration (0.71) is greater that source duration (0.58), changing to 0.58\n",
      "  ScaperWarning)\n",
      "/Users/anderson675/miniconda3/lib/python3.7/site-packages/scaper/core.py:1172: ScaperWarning: dog_bark event duration (3.35) is greater that source duration (1.37), changing to 1.37\n",
      "  ScaperWarning)\n"
     ]
    },
    {
     "name": "stdout",
     "output_type": "stream",
     "text": [
      "Generating soundscape: 23/200\n",
      "Generating soundscape: 24/200\n"
     ]
    },
    {
     "name": "stderr",
     "output_type": "stream",
     "text": [
      "/Users/anderson675/miniconda3/lib/python3.7/site-packages/scaper/core.py:1268: ScaperWarning: speech event time (9.94) is too great given stretched event duration (2.39) and soundscape duration (10.00), changed to 7.61.\n",
      "  ScaperWarning)\n",
      "/Users/anderson675/miniconda3/lib/python3.7/site-packages/scaper/core.py:1268: ScaperWarning: dog_bark event time (8.15) is too great given stretched event duration (3.42) and soundscape duration (10.00), changed to 6.58.\n",
      "  ScaperWarning)\n",
      "/Users/anderson675/miniconda3/lib/python3.7/site-packages/scaper/core.py:1268: ScaperWarning: jackhammer event time (8.28) is too great given stretched event duration (3.79) and soundscape duration (10.00), changed to 6.21.\n",
      "  ScaperWarning)\n"
     ]
    },
    {
     "name": "stdout",
     "output_type": "stream",
     "text": [
      "Generating soundscape: 25/200\n"
     ]
    },
    {
     "name": "stderr",
     "output_type": "stream",
     "text": [
      "/Users/anderson675/miniconda3/lib/python3.7/site-packages/scaper/core.py:1268: ScaperWarning: siren event time (7.69) is too great given stretched event duration (3.41) and soundscape duration (10.00), changed to 6.59.\n",
      "  ScaperWarning)\n"
     ]
    },
    {
     "name": "stdout",
     "output_type": "stream",
     "text": [
      "Generating soundscape: 26/200\n"
     ]
    },
    {
     "name": "stderr",
     "output_type": "stream",
     "text": [
      "/Users/anderson675/miniconda3/lib/python3.7/site-packages/scaper/core.py:1172: ScaperWarning: gun_shot event duration (3.72) is greater that source duration (1.81), changing to 1.81\n",
      "  ScaperWarning)\n",
      "/Users/anderson675/miniconda3/lib/python3.7/site-packages/scaper/core.py:1172: ScaperWarning: gun_shot event duration (2.85) is greater that source duration (1.51), changing to 1.51\n",
      "  ScaperWarning)\n"
     ]
    },
    {
     "name": "stdout",
     "output_type": "stream",
     "text": [
      "Generating soundscape: 27/200\n",
      "Generating soundscape: 28/200\n"
     ]
    },
    {
     "name": "stderr",
     "output_type": "stream",
     "text": [
      "/Users/anderson675/miniconda3/lib/python3.7/site-packages/scaper/core.py:1268: ScaperWarning: car_horn event time (8.37) is too great given stretched event duration (2.91) and soundscape duration (10.00), changed to 7.09.\n",
      "  ScaperWarning)\n"
     ]
    },
    {
     "name": "stdout",
     "output_type": "stream",
     "text": [
      "Generating soundscape: 29/200\n"
     ]
    },
    {
     "name": "stderr",
     "output_type": "stream",
     "text": [
      "/Users/anderson675/miniconda3/lib/python3.7/site-packages/scaper/core.py:1172: ScaperWarning: car_horn event duration (2.40) is greater that source duration (0.54), changing to 0.54\n",
      "  ScaperWarning)\n",
      "/Users/anderson675/miniconda3/lib/python3.7/site-packages/scaper/core.py:1172: ScaperWarning: gun_shot event duration (1.64) is greater that source duration (1.06), changing to 1.06\n",
      "  ScaperWarning)\n"
     ]
    },
    {
     "name": "stdout",
     "output_type": "stream",
     "text": [
      "Generating soundscape: 30/200\n"
     ]
    },
    {
     "name": "stderr",
     "output_type": "stream",
     "text": [
      "/Users/anderson675/miniconda3/lib/python3.7/site-packages/scaper/core.py:1172: ScaperWarning: gun_shot event duration (3.86) is greater that source duration (1.96), changing to 1.96\n",
      "  ScaperWarning)\n"
     ]
    },
    {
     "name": "stdout",
     "output_type": "stream",
     "text": [
      "Generating soundscape: 31/200\n",
      "Generating soundscape: 32/200\n"
     ]
    },
    {
     "name": "stderr",
     "output_type": "stream",
     "text": [
      "/Users/anderson675/miniconda3/lib/python3.7/site-packages/scaper/core.py:1172: ScaperWarning: gun_shot event duration (2.34) is greater that source duration (0.67), changing to 0.67\n",
      "  ScaperWarning)\n",
      "/Users/anderson675/miniconda3/lib/python3.7/site-packages/scaper/core.py:1172: ScaperWarning: dog_bark event duration (3.22) is greater that source duration (0.32), changing to 0.32\n",
      "  ScaperWarning)\n",
      "/Users/anderson675/miniconda3/lib/python3.7/site-packages/scaper/core.py:1268: ScaperWarning: drilling event time (9.79) is too great given stretched event duration (2.62) and soundscape duration (10.00), changed to 7.38.\n",
      "  ScaperWarning)\n"
     ]
    },
    {
     "name": "stdout",
     "output_type": "stream",
     "text": [
      "Generating soundscape: 33/200\n"
     ]
    },
    {
     "name": "stderr",
     "output_type": "stream",
     "text": [
      "/Users/anderson675/miniconda3/lib/python3.7/site-packages/scaper/core.py:1172: ScaperWarning: gun_shot event duration (1.67) is greater that source duration (0.49), changing to 0.49\n",
      "  ScaperWarning)\n",
      "/Users/anderson675/miniconda3/lib/python3.7/site-packages/scaper/core.py:1172: ScaperWarning: gun_shot event duration (3.75) is greater that source duration (2.52), changing to 2.52\n",
      "  ScaperWarning)\n"
     ]
    },
    {
     "name": "stdout",
     "output_type": "stream",
     "text": [
      "Generating soundscape: 34/200\n"
     ]
    },
    {
     "name": "stderr",
     "output_type": "stream",
     "text": [
      "/Users/anderson675/miniconda3/lib/python3.7/site-packages/scaper/core.py:1172: ScaperWarning: dog_bark event duration (3.79) is greater that source duration (1.06), changing to 1.06\n",
      "  ScaperWarning)\n",
      "/Users/anderson675/miniconda3/lib/python3.7/site-packages/scaper/core.py:1268: ScaperWarning: air_conditioner event time (9.50) is too great given stretched event duration (3.95) and soundscape duration (10.00), changed to 6.05.\n",
      "  ScaperWarning)\n",
      "/Users/anderson675/miniconda3/lib/python3.7/site-packages/scaper/core.py:1172: ScaperWarning: dog_bark event duration (3.62) is greater that source duration (1.32), changing to 1.32\n",
      "  ScaperWarning)\n",
      "/Users/anderson675/miniconda3/lib/python3.7/site-packages/scaper/core.py:1268: ScaperWarning: engine_idling event time (8.79) is too great given stretched event duration (4.60) and soundscape duration (10.00), changed to 5.40.\n",
      "  ScaperWarning)\n",
      "/Users/anderson675/miniconda3/lib/python3.7/site-packages/scaper/core.py:1268: ScaperWarning: dog_bark event time (9.23) is too great given stretched event duration (1.84) and soundscape duration (10.00), changed to 8.16.\n",
      "  ScaperWarning)\n"
     ]
    },
    {
     "name": "stdout",
     "output_type": "stream",
     "text": [
      "Generating soundscape: 35/200\n"
     ]
    },
    {
     "name": "stderr",
     "output_type": "stream",
     "text": [
      "/Users/anderson675/miniconda3/lib/python3.7/site-packages/scaper/core.py:1172: ScaperWarning: gun_shot event duration (3.27) is greater that source duration (1.12), changing to 1.12\n",
      "  ScaperWarning)\n",
      "/Users/anderson675/miniconda3/lib/python3.7/site-packages/scaper/core.py:1172: ScaperWarning: gun_shot event duration (3.04) is greater that source duration (2.18), changing to 2.18\n",
      "  ScaperWarning)\n",
      "/Users/anderson675/miniconda3/lib/python3.7/site-packages/scaper/core.py:1268: ScaperWarning: air_conditioner event time (7.90) is too great given stretched event duration (2.58) and soundscape duration (10.00), changed to 7.42.\n",
      "  ScaperWarning)\n"
     ]
    },
    {
     "name": "stdout",
     "output_type": "stream",
     "text": [
      "Generating soundscape: 36/200\n"
     ]
    },
    {
     "name": "stderr",
     "output_type": "stream",
     "text": [
      "/Users/anderson675/miniconda3/lib/python3.7/site-packages/scaper/core.py:1172: ScaperWarning: drilling event duration (3.26) is greater that source duration (0.51), changing to 0.51\n",
      "  ScaperWarning)\n",
      "/Users/anderson675/miniconda3/lib/python3.7/site-packages/scaper/core.py:1172: ScaperWarning: drilling event duration (2.74) is greater that source duration (1.75), changing to 1.75\n",
      "  ScaperWarning)\n"
     ]
    },
    {
     "name": "stdout",
     "output_type": "stream",
     "text": [
      "Generating soundscape: 37/200\n"
     ]
    },
    {
     "name": "stderr",
     "output_type": "stream",
     "text": [
      "/Users/anderson675/miniconda3/lib/python3.7/site-packages/scaper/core.py:1172: ScaperWarning: dog_bark event duration (2.45) is greater that source duration (1.16), changing to 1.16\n",
      "  ScaperWarning)\n",
      "/Users/anderson675/miniconda3/lib/python3.7/site-packages/scaper/core.py:1268: ScaperWarning: siren event time (9.15) is too great given stretched event duration (3.49) and soundscape duration (10.00), changed to 6.51.\n",
      "  ScaperWarning)\n",
      "/Users/anderson675/miniconda3/lib/python3.7/site-packages/scaper/core.py:1172: ScaperWarning: gun_shot event duration (2.62) is greater that source duration (2.20), changing to 2.20\n",
      "  ScaperWarning)\n",
      "/Users/anderson675/miniconda3/lib/python3.7/site-packages/scaper/core.py:1268: ScaperWarning: drilling event time (7.34) is too great given stretched event duration (3.51) and soundscape duration (10.00), changed to 6.49.\n",
      "  ScaperWarning)\n"
     ]
    },
    {
     "name": "stdout",
     "output_type": "stream",
     "text": [
      "Generating soundscape: 38/200\n",
      "Generating soundscape: 39/200\n"
     ]
    },
    {
     "name": "stderr",
     "output_type": "stream",
     "text": [
      "/Users/anderson675/miniconda3/lib/python3.7/site-packages/scaper/core.py:1172: ScaperWarning: car_horn event duration (0.57) is greater that source duration (0.16), changing to 0.16\n",
      "  ScaperWarning)\n",
      "/Users/anderson675/miniconda3/lib/python3.7/site-packages/scaper/core.py:1268: ScaperWarning: drilling event time (8.93) is too great given stretched event duration (1.29) and soundscape duration (10.00), changed to 8.71.\n",
      "  ScaperWarning)\n"
     ]
    },
    {
     "name": "stdout",
     "output_type": "stream",
     "text": [
      "Generating soundscape: 40/200\n"
     ]
    },
    {
     "name": "stderr",
     "output_type": "stream",
     "text": [
      "/Users/anderson675/miniconda3/lib/python3.7/site-packages/scaper/core.py:1172: ScaperWarning: car_horn event duration (1.40) is greater that source duration (0.14), changing to 0.14\n",
      "  ScaperWarning)\n",
      "/Users/anderson675/miniconda3/lib/python3.7/site-packages/scaper/core.py:1268: ScaperWarning: speech event time (7.32) is too great given stretched event duration (3.53) and soundscape duration (10.00), changed to 6.47.\n",
      "  ScaperWarning)\n"
     ]
    },
    {
     "name": "stdout",
     "output_type": "stream",
     "text": [
      "Generating soundscape: 41/200\n"
     ]
    },
    {
     "name": "stderr",
     "output_type": "stream",
     "text": [
      "/Users/anderson675/miniconda3/lib/python3.7/site-packages/scaper/core.py:1172: ScaperWarning: dog_bark event duration (3.36) is greater that source duration (1.35), changing to 1.35\n",
      "  ScaperWarning)\n",
      "/Users/anderson675/miniconda3/lib/python3.7/site-packages/scaper/core.py:1172: ScaperWarning: car_horn event duration (3.28) is greater that source duration (0.39), changing to 0.39\n",
      "  ScaperWarning)\n"
     ]
    },
    {
     "name": "stdout",
     "output_type": "stream",
     "text": [
      "Generating soundscape: 42/200\n"
     ]
    },
    {
     "name": "stderr",
     "output_type": "stream",
     "text": [
      "/Users/anderson675/miniconda3/lib/python3.7/site-packages/scaper/core.py:1172: ScaperWarning: gun_shot event duration (3.65) is greater that source duration (2.08), changing to 2.08\n",
      "  ScaperWarning)\n",
      "/Users/anderson675/miniconda3/lib/python3.7/site-packages/scaper/core.py:1172: ScaperWarning: gun_shot event duration (3.82) is greater that source duration (1.88), changing to 1.88\n",
      "  ScaperWarning)\n"
     ]
    },
    {
     "name": "stdout",
     "output_type": "stream",
     "text": [
      "Generating soundscape: 43/200\n"
     ]
    },
    {
     "name": "stderr",
     "output_type": "stream",
     "text": [
      "/Users/anderson675/miniconda3/lib/python3.7/site-packages/scaper/core.py:1268: ScaperWarning: siren event time (7.73) is too great given stretched event duration (2.44) and soundscape duration (10.00), changed to 7.56.\n",
      "  ScaperWarning)\n"
     ]
    },
    {
     "name": "stdout",
     "output_type": "stream",
     "text": [
      "Generating soundscape: 44/200\n"
     ]
    },
    {
     "name": "stderr",
     "output_type": "stream",
     "text": [
      "/Users/anderson675/miniconda3/lib/python3.7/site-packages/scaper/core.py:1172: ScaperWarning: gun_shot event duration (3.97) is greater that source duration (0.87), changing to 0.87\n",
      "  ScaperWarning)\n"
     ]
    },
    {
     "name": "stdout",
     "output_type": "stream",
     "text": [
      "Generating soundscape: 45/200\n"
     ]
    },
    {
     "name": "stderr",
     "output_type": "stream",
     "text": [
      "/Users/anderson675/miniconda3/lib/python3.7/site-packages/scaper/core.py:1172: ScaperWarning: gun_shot event duration (3.78) is greater that source duration (1.28), changing to 1.28\n",
      "  ScaperWarning)\n",
      "/Users/anderson675/miniconda3/lib/python3.7/site-packages/scaper/core.py:1172: ScaperWarning: dog_bark event duration (2.04) is greater that source duration (0.58), changing to 0.58\n",
      "  ScaperWarning)\n"
     ]
    },
    {
     "name": "stdout",
     "output_type": "stream",
     "text": [
      "Generating soundscape: 46/200\n",
      "Generating soundscape: 47/200\n"
     ]
    },
    {
     "name": "stderr",
     "output_type": "stream",
     "text": [
      "/Users/anderson675/miniconda3/lib/python3.7/site-packages/scaper/core.py:1268: ScaperWarning: speech event time (8.27) is too great given stretched event duration (2.02) and soundscape duration (10.00), changed to 7.98.\n",
      "  ScaperWarning)\n",
      "/Users/anderson675/miniconda3/lib/python3.7/site-packages/scaper/core.py:1268: ScaperWarning: street_music event time (8.36) is too great given stretched event duration (3.16) and soundscape duration (10.00), changed to 6.84.\n",
      "  ScaperWarning)\n"
     ]
    },
    {
     "name": "stdout",
     "output_type": "stream",
     "text": [
      "Generating soundscape: 48/200\n"
     ]
    },
    {
     "name": "stderr",
     "output_type": "stream",
     "text": [
      "/Users/anderson675/miniconda3/lib/python3.7/site-packages/scaper/core.py:1268: ScaperWarning: siren event time (6.88) is too great given stretched event duration (3.41) and soundscape duration (10.00), changed to 6.59.\n",
      "  ScaperWarning)\n",
      "/Users/anderson675/miniconda3/lib/python3.7/site-packages/scaper/core.py:1172: ScaperWarning: dog_bark event duration (2.07) is greater that source duration (0.45), changing to 0.45\n",
      "  ScaperWarning)\n",
      "/Users/anderson675/miniconda3/lib/python3.7/site-packages/scaper/core.py:1268: ScaperWarning: dog_bark event time (6.36) is too great given stretched event duration (4.21) and soundscape duration (10.00), changed to 5.79.\n",
      "  ScaperWarning)\n",
      "/Users/anderson675/miniconda3/lib/python3.7/site-packages/scaper/core.py:1268: ScaperWarning: gun_shot event time (9.83) is too great given stretched event duration (0.62) and soundscape duration (10.00), changed to 9.38.\n",
      "  ScaperWarning)\n"
     ]
    },
    {
     "name": "stdout",
     "output_type": "stream",
     "text": [
      "Generating soundscape: 49/200\n"
     ]
    },
    {
     "name": "stderr",
     "output_type": "stream",
     "text": [
      "/Users/anderson675/miniconda3/lib/python3.7/site-packages/scaper/core.py:1268: ScaperWarning: engine_idling event time (6.70) is too great given stretched event duration (3.67) and soundscape duration (10.00), changed to 6.33.\n",
      "  ScaperWarning)\n",
      "/Users/anderson675/miniconda3/lib/python3.7/site-packages/scaper/core.py:1268: ScaperWarning: dog_bark event time (8.60) is too great given stretched event duration (2.04) and soundscape duration (10.00), changed to 7.96.\n",
      "  ScaperWarning)\n",
      "/Users/anderson675/miniconda3/lib/python3.7/site-packages/scaper/core.py:1268: ScaperWarning: engine_idling event time (8.89) is too great given stretched event duration (2.48) and soundscape duration (10.00), changed to 7.52.\n",
      "  ScaperWarning)\n"
     ]
    },
    {
     "name": "stdout",
     "output_type": "stream",
     "text": [
      "Generating soundscape: 50/200\n"
     ]
    },
    {
     "name": "stderr",
     "output_type": "stream",
     "text": [
      "/Users/anderson675/miniconda3/lib/python3.7/site-packages/scaper/core.py:1172: ScaperWarning: gun_shot event duration (4.00) is greater that source duration (2.59), changing to 2.59\n",
      "  ScaperWarning)\n",
      "/Users/anderson675/miniconda3/lib/python3.7/site-packages/scaper/core.py:1268: ScaperWarning: gun_shot event time (8.08) is too great given stretched event duration (2.75) and soundscape duration (10.00), changed to 7.25.\n",
      "  ScaperWarning)\n",
      "/Users/anderson675/miniconda3/lib/python3.7/site-packages/scaper/core.py:1268: ScaperWarning: air_conditioner event time (9.84) is too great given stretched event duration (3.41) and soundscape duration (10.00), changed to 6.59.\n",
      "  ScaperWarning)\n"
     ]
    },
    {
     "name": "stdout",
     "output_type": "stream",
     "text": [
      "Generating soundscape: 51/200\n",
      "Generating soundscape: 52/200\n"
     ]
    },
    {
     "name": "stderr",
     "output_type": "stream",
     "text": [
      "/Users/anderson675/miniconda3/lib/python3.7/site-packages/scaper/core.py:1268: ScaperWarning: engine_idling event time (8.16) is too great given stretched event duration (3.05) and soundscape duration (10.00), changed to 6.95.\n",
      "  ScaperWarning)\n"
     ]
    },
    {
     "name": "stdout",
     "output_type": "stream",
     "text": [
      "Generating soundscape: 53/200\n",
      "Generating soundscape: 54/200\n"
     ]
    },
    {
     "name": "stderr",
     "output_type": "stream",
     "text": [
      "/Users/anderson675/miniconda3/lib/python3.7/site-packages/scaper/core.py:1172: ScaperWarning: gun_shot event duration (1.56) is greater that source duration (0.94), changing to 0.94\n",
      "  ScaperWarning)\n"
     ]
    },
    {
     "name": "stdout",
     "output_type": "stream",
     "text": [
      "Generating soundscape: 55/200\n"
     ]
    },
    {
     "name": "stderr",
     "output_type": "stream",
     "text": [
      "/Users/anderson675/miniconda3/lib/python3.7/site-packages/scaper/core.py:1268: ScaperWarning: jackhammer event time (9.49) is too great given stretched event duration (2.09) and soundscape duration (10.00), changed to 7.91.\n",
      "  ScaperWarning)\n",
      "/Users/anderson675/miniconda3/lib/python3.7/site-packages/scaper/core.py:1268: ScaperWarning: street_music event time (7.37) is too great given stretched event duration (3.73) and soundscape duration (10.00), changed to 6.27.\n",
      "  ScaperWarning)\n"
     ]
    },
    {
     "name": "stdout",
     "output_type": "stream",
     "text": [
      "Generating soundscape: 56/200\n"
     ]
    },
    {
     "name": "stderr",
     "output_type": "stream",
     "text": [
      "/Users/anderson675/miniconda3/lib/python3.7/site-packages/scaper/core.py:1172: ScaperWarning: gun_shot event duration (3.03) is greater that source duration (2.63), changing to 2.63\n",
      "  ScaperWarning)\n",
      "/Users/anderson675/miniconda3/lib/python3.7/site-packages/scaper/core.py:1172: ScaperWarning: car_horn event duration (1.58) is greater that source duration (0.82), changing to 0.82\n",
      "  ScaperWarning)\n",
      "/Users/anderson675/miniconda3/lib/python3.7/site-packages/scaper/core.py:1172: ScaperWarning: drilling event duration (2.30) is greater that source duration (1.28), changing to 1.28\n",
      "  ScaperWarning)\n"
     ]
    },
    {
     "name": "stdout",
     "output_type": "stream",
     "text": [
      "Generating soundscape: 57/200\n"
     ]
    },
    {
     "name": "stderr",
     "output_type": "stream",
     "text": [
      "/Users/anderson675/miniconda3/lib/python3.7/site-packages/scaper/core.py:1172: ScaperWarning: gun_shot event duration (2.53) is greater that source duration (0.18), changing to 0.18\n",
      "  ScaperWarning)\n",
      "/Users/anderson675/miniconda3/lib/python3.7/site-packages/scaper/core.py:1268: ScaperWarning: engine_idling event time (8.41) is too great given stretched event duration (2.51) and soundscape duration (10.00), changed to 7.49.\n",
      "  ScaperWarning)\n",
      "/Users/anderson675/miniconda3/lib/python3.7/site-packages/scaper/core.py:1172: ScaperWarning: gun_shot event duration (3.89) is greater that source duration (1.46), changing to 1.46\n",
      "  ScaperWarning)\n",
      "/Users/anderson675/miniconda3/lib/python3.7/site-packages/scaper/core.py:1268: ScaperWarning: air_conditioner event time (8.18) is too great given stretched event duration (2.33) and soundscape duration (10.00), changed to 7.67.\n",
      "  ScaperWarning)\n",
      "/Users/anderson675/miniconda3/lib/python3.7/site-packages/scaper/core.py:1268: ScaperWarning: speech event time (8.22) is too great given stretched event duration (3.76) and soundscape duration (10.00), changed to 6.24.\n",
      "  ScaperWarning)\n"
     ]
    },
    {
     "name": "stdout",
     "output_type": "stream",
     "text": [
      "Generating soundscape: 58/200\n"
     ]
    },
    {
     "name": "stderr",
     "output_type": "stream",
     "text": [
      "/Users/anderson675/miniconda3/lib/python3.7/site-packages/scaper/core.py:1268: ScaperWarning: car_horn event time (5.86) is too great given stretched event duration (4.28) and soundscape duration (10.00), changed to 5.72.\n",
      "  ScaperWarning)\n"
     ]
    },
    {
     "name": "stdout",
     "output_type": "stream",
     "text": [
      "Generating soundscape: 59/200\n"
     ]
    },
    {
     "name": "stderr",
     "output_type": "stream",
     "text": [
      "/Users/anderson675/miniconda3/lib/python3.7/site-packages/scaper/core.py:1172: ScaperWarning: gun_shot event duration (2.92) is greater that source duration (0.66), changing to 0.66\n",
      "  ScaperWarning)\n",
      "/Users/anderson675/miniconda3/lib/python3.7/site-packages/scaper/core.py:1268: ScaperWarning: air_conditioner event time (8.02) is too great given stretched event duration (4.05) and soundscape duration (10.00), changed to 5.95.\n",
      "  ScaperWarning)\n",
      "/Users/anderson675/miniconda3/lib/python3.7/site-packages/scaper/core.py:1172: ScaperWarning: dog_bark event duration (3.34) is greater that source duration (1.45), changing to 1.45\n",
      "  ScaperWarning)\n",
      "/Users/anderson675/miniconda3/lib/python3.7/site-packages/scaper/core.py:1268: ScaperWarning: drilling event time (8.47) is too great given stretched event duration (2.06) and soundscape duration (10.00), changed to 7.94.\n",
      "  ScaperWarning)\n"
     ]
    },
    {
     "name": "stdout",
     "output_type": "stream",
     "text": [
      "Generating soundscape: 60/200\n",
      "Generating soundscape: 61/200\n"
     ]
    },
    {
     "name": "stderr",
     "output_type": "stream",
     "text": [
      "/Users/anderson675/miniconda3/lib/python3.7/site-packages/scaper/core.py:1268: ScaperWarning: street_music event time (8.74) is too great given stretched event duration (1.47) and soundscape duration (10.00), changed to 8.53.\n",
      "  ScaperWarning)\n"
     ]
    },
    {
     "name": "stdout",
     "output_type": "stream",
     "text": [
      "Generating soundscape: 62/200\n",
      "Generating soundscape: 63/200\n"
     ]
    },
    {
     "name": "stderr",
     "output_type": "stream",
     "text": [
      "/Users/anderson675/miniconda3/lib/python3.7/site-packages/scaper/core.py:1172: ScaperWarning: gun_shot event duration (1.66) is greater that source duration (1.23), changing to 1.23\n",
      "  ScaperWarning)\n",
      "/Users/anderson675/miniconda3/lib/python3.7/site-packages/scaper/core.py:1172: ScaperWarning: drilling event duration (1.01) is greater that source duration (0.50), changing to 0.50\n",
      "  ScaperWarning)\n",
      "/Users/anderson675/miniconda3/lib/python3.7/site-packages/scaper/core.py:1268: ScaperWarning: speech event time (7.87) is too great given stretched event duration (3.37) and soundscape duration (10.00), changed to 6.63.\n",
      "  ScaperWarning)\n",
      "/Users/anderson675/miniconda3/lib/python3.7/site-packages/scaper/core.py:1172: ScaperWarning: gun_shot event duration (2.54) is greater that source duration (1.77), changing to 1.77\n",
      "  ScaperWarning)\n"
     ]
    },
    {
     "name": "stdout",
     "output_type": "stream",
     "text": [
      "Generating soundscape: 64/200\n"
     ]
    },
    {
     "name": "stderr",
     "output_type": "stream",
     "text": [
      "/Users/anderson675/miniconda3/lib/python3.7/site-packages/scaper/core.py:1172: ScaperWarning: car_horn event duration (3.28) is greater that source duration (0.74), changing to 0.74\n",
      "  ScaperWarning)\n"
     ]
    },
    {
     "name": "stdout",
     "output_type": "stream",
     "text": [
      "Generating soundscape: 65/200\n"
     ]
    },
    {
     "name": "stderr",
     "output_type": "stream",
     "text": [
      "/Users/anderson675/miniconda3/lib/python3.7/site-packages/scaper/core.py:1172: ScaperWarning: car_horn event duration (3.79) is greater that source duration (2.98), changing to 2.98\n",
      "  ScaperWarning)\n"
     ]
    },
    {
     "name": "stdout",
     "output_type": "stream",
     "text": [
      "Generating soundscape: 66/200\n"
     ]
    },
    {
     "name": "stderr",
     "output_type": "stream",
     "text": [
      "/Users/anderson675/miniconda3/lib/python3.7/site-packages/scaper/core.py:1172: ScaperWarning: gun_shot event duration (3.92) is greater that source duration (1.28), changing to 1.28\n",
      "  ScaperWarning)\n",
      "/Users/anderson675/miniconda3/lib/python3.7/site-packages/scaper/core.py:1172: ScaperWarning: gun_shot event duration (2.33) is greater that source duration (0.17), changing to 0.17\n",
      "  ScaperWarning)\n",
      "/Users/anderson675/miniconda3/lib/python3.7/site-packages/scaper/core.py:1268: ScaperWarning: drilling event time (8.22) is too great given stretched event duration (2.15) and soundscape duration (10.00), changed to 7.85.\n",
      "  ScaperWarning)\n",
      "/Users/anderson675/miniconda3/lib/python3.7/site-packages/scaper/core.py:1268: ScaperWarning: jackhammer event time (8.75) is too great given stretched event duration (1.47) and soundscape duration (10.00), changed to 8.53.\n",
      "  ScaperWarning)\n"
     ]
    },
    {
     "name": "stdout",
     "output_type": "stream",
     "text": [
      "Generating soundscape: 67/200\n"
     ]
    },
    {
     "name": "stderr",
     "output_type": "stream",
     "text": [
      "/Users/anderson675/miniconda3/lib/python3.7/site-packages/scaper/core.py:1268: ScaperWarning: street_music event time (8.16) is too great given stretched event duration (2.33) and soundscape duration (10.00), changed to 7.67.\n",
      "  ScaperWarning)\n"
     ]
    },
    {
     "name": "stdout",
     "output_type": "stream",
     "text": [
      "Generating soundscape: 68/200\n"
     ]
    },
    {
     "name": "stderr",
     "output_type": "stream",
     "text": [
      "/Users/anderson675/miniconda3/lib/python3.7/site-packages/scaper/core.py:1172: ScaperWarning: dog_bark event duration (2.71) is greater that source duration (1.70), changing to 1.70\n",
      "  ScaperWarning)\n",
      "/Users/anderson675/miniconda3/lib/python3.7/site-packages/scaper/core.py:1172: ScaperWarning: gun_shot event duration (1.95) is greater that source duration (0.82), changing to 0.82\n",
      "  ScaperWarning)\n",
      "/Users/anderson675/miniconda3/lib/python3.7/site-packages/scaper/core.py:1172: ScaperWarning: jackhammer event duration (2.06) is greater that source duration (0.97), changing to 0.97\n",
      "  ScaperWarning)\n"
     ]
    },
    {
     "name": "stdout",
     "output_type": "stream",
     "text": [
      "Generating soundscape: 69/200\n",
      "Generating soundscape: 70/200\n"
     ]
    },
    {
     "name": "stderr",
     "output_type": "stream",
     "text": [
      "/Users/anderson675/miniconda3/lib/python3.7/site-packages/scaper/core.py:1268: ScaperWarning: siren event time (7.80) is too great given stretched event duration (4.16) and soundscape duration (10.00), changed to 5.84.\n",
      "  ScaperWarning)\n",
      "/Users/anderson675/miniconda3/lib/python3.7/site-packages/scaper/core.py:1172: ScaperWarning: drilling event duration (3.06) is greater that source duration (1.60), changing to 1.60\n",
      "  ScaperWarning)\n",
      "/Users/anderson675/miniconda3/lib/python3.7/site-packages/scaper/core.py:1172: ScaperWarning: car_horn event duration (2.22) is greater that source duration (0.55), changing to 0.55\n",
      "  ScaperWarning)\n",
      "/Users/anderson675/miniconda3/lib/python3.7/site-packages/scaper/core.py:1172: ScaperWarning: gun_shot event duration (1.52) is greater that source duration (0.80), changing to 0.80\n",
      "  ScaperWarning)\n"
     ]
    },
    {
     "name": "stdout",
     "output_type": "stream",
     "text": [
      "Generating soundscape: 71/200\n",
      "Generating soundscape: 72/200\n",
      "Generating soundscape: 73/200\n"
     ]
    },
    {
     "name": "stderr",
     "output_type": "stream",
     "text": [
      "/Users/anderson675/miniconda3/lib/python3.7/site-packages/scaper/core.py:1172: ScaperWarning: gun_shot event duration (3.01) is greater that source duration (0.60), changing to 0.60\n",
      "  ScaperWarning)\n",
      "/Users/anderson675/miniconda3/lib/python3.7/site-packages/scaper/core.py:1268: ScaperWarning: air_conditioner event time (9.72) is too great given stretched event duration (0.69) and soundscape duration (10.00), changed to 9.31.\n",
      "  ScaperWarning)\n"
     ]
    },
    {
     "name": "stdout",
     "output_type": "stream",
     "text": [
      "Generating soundscape: 74/200\n"
     ]
    },
    {
     "name": "stderr",
     "output_type": "stream",
     "text": [
      "/Users/anderson675/miniconda3/lib/python3.7/site-packages/scaper/core.py:1268: ScaperWarning: street_music event time (8.05) is too great given stretched event duration (3.08) and soundscape duration (10.00), changed to 6.92.\n",
      "  ScaperWarning)\n",
      "/Users/anderson675/miniconda3/lib/python3.7/site-packages/scaper/core.py:1268: ScaperWarning: speech event time (9.25) is too great given stretched event duration (1.13) and soundscape duration (10.00), changed to 8.87.\n",
      "  ScaperWarning)\n"
     ]
    },
    {
     "name": "stdout",
     "output_type": "stream",
     "text": [
      "Generating soundscape: 75/200\n",
      "Generating soundscape: 76/200\n",
      "Generating soundscape: 77/200\n"
     ]
    },
    {
     "name": "stderr",
     "output_type": "stream",
     "text": [
      "/Users/anderson675/miniconda3/lib/python3.7/site-packages/scaper/core.py:1172: ScaperWarning: siren event duration (3.19) is greater that source duration (0.56), changing to 0.56\n",
      "  ScaperWarning)\n",
      "/Users/anderson675/miniconda3/lib/python3.7/site-packages/scaper/core.py:1172: ScaperWarning: gun_shot event duration (1.05) is greater that source duration (1.01), changing to 1.01\n",
      "  ScaperWarning)\n"
     ]
    },
    {
     "name": "stdout",
     "output_type": "stream",
     "text": [
      "Generating soundscape: 78/200\n",
      "Generating soundscape: 79/200\n",
      "Generating soundscape: 80/200\n"
     ]
    },
    {
     "name": "stderr",
     "output_type": "stream",
     "text": [
      "/Users/anderson675/miniconda3/lib/python3.7/site-packages/scaper/core.py:1172: ScaperWarning: jackhammer event duration (2.77) is greater that source duration (1.15), changing to 1.15\n",
      "  ScaperWarning)\n",
      "/Users/anderson675/miniconda3/lib/python3.7/site-packages/scaper/core.py:1268: ScaperWarning: air_conditioner event time (8.39) is too great given stretched event duration (3.42) and soundscape duration (10.00), changed to 6.58.\n",
      "  ScaperWarning)\n",
      "/Users/anderson675/miniconda3/lib/python3.7/site-packages/scaper/core.py:1268: ScaperWarning: street_music event time (9.79) is too great given stretched event duration (3.67) and soundscape duration (10.00), changed to 6.33.\n",
      "  ScaperWarning)\n",
      "/Users/anderson675/miniconda3/lib/python3.7/site-packages/scaper/core.py:1268: ScaperWarning: gun_shot event time (7.25) is too great given stretched event duration (3.14) and soundscape duration (10.00), changed to 6.86.\n",
      "  ScaperWarning)\n",
      "/Users/anderson675/miniconda3/lib/python3.7/site-packages/scaper/core.py:1172: ScaperWarning: car_horn event duration (2.74) is greater that source duration (2.36), changing to 2.36\n",
      "  ScaperWarning)\n"
     ]
    },
    {
     "name": "stdout",
     "output_type": "stream",
     "text": [
      "Generating soundscape: 81/200\n"
     ]
    },
    {
     "name": "stderr",
     "output_type": "stream",
     "text": [
      "/Users/anderson675/miniconda3/lib/python3.7/site-packages/scaper/core.py:1172: ScaperWarning: car_horn event duration (2.16) is greater that source duration (0.32), changing to 0.32\n",
      "  ScaperWarning)\n"
     ]
    },
    {
     "name": "stdout",
     "output_type": "stream",
     "text": [
      "Generating soundscape: 82/200\n",
      "Generating soundscape: 83/200\n"
     ]
    },
    {
     "name": "stderr",
     "output_type": "stream",
     "text": [
      "/Users/anderson675/miniconda3/lib/python3.7/site-packages/scaper/core.py:1172: ScaperWarning: gun_shot event duration (2.62) is greater that source duration (1.49), changing to 1.49\n",
      "  ScaperWarning)\n",
      "/Users/anderson675/miniconda3/lib/python3.7/site-packages/scaper/core.py:1172: ScaperWarning: car_horn event duration (2.98) is greater that source duration (0.20), changing to 0.20\n",
      "  ScaperWarning)\n"
     ]
    },
    {
     "name": "stdout",
     "output_type": "stream",
     "text": [
      "Generating soundscape: 84/200\n",
      "Generating soundscape: 85/200\n",
      "Generating soundscape: 86/200\n"
     ]
    },
    {
     "name": "stderr",
     "output_type": "stream",
     "text": [
      "/Users/anderson675/miniconda3/lib/python3.7/site-packages/scaper/core.py:1172: ScaperWarning: dog_bark event duration (3.30) is greater that source duration (0.62), changing to 0.62\n",
      "  ScaperWarning)\n",
      "/Users/anderson675/miniconda3/lib/python3.7/site-packages/scaper/core.py:1268: ScaperWarning: engine_idling event time (8.83) is too great given stretched event duration (3.81) and soundscape duration (10.00), changed to 6.19.\n",
      "  ScaperWarning)\n"
     ]
    },
    {
     "name": "stdout",
     "output_type": "stream",
     "text": [
      "Generating soundscape: 87/200\n"
     ]
    },
    {
     "name": "stderr",
     "output_type": "stream",
     "text": [
      "/Users/anderson675/miniconda3/lib/python3.7/site-packages/scaper/core.py:1172: ScaperWarning: drilling event duration (3.65) is greater that source duration (1.14), changing to 1.14\n",
      "  ScaperWarning)\n",
      "/Users/anderson675/miniconda3/lib/python3.7/site-packages/scaper/core.py:1172: ScaperWarning: dog_bark event duration (3.10) is greater that source duration (0.19), changing to 0.19\n",
      "  ScaperWarning)\n",
      "/Users/anderson675/miniconda3/lib/python3.7/site-packages/scaper/core.py:1268: ScaperWarning: engine_idling event time (7.44) is too great given stretched event duration (2.75) and soundscape duration (10.00), changed to 7.25.\n",
      "  ScaperWarning)\n",
      "/Users/anderson675/miniconda3/lib/python3.7/site-packages/scaper/core.py:1172: ScaperWarning: car_horn event duration (1.29) is greater that source duration (0.35), changing to 0.35\n",
      "  ScaperWarning)\n"
     ]
    },
    {
     "name": "stdout",
     "output_type": "stream",
     "text": [
      "Generating soundscape: 88/200\n"
     ]
    },
    {
     "name": "stderr",
     "output_type": "stream",
     "text": [
      "/Users/anderson675/miniconda3/lib/python3.7/site-packages/scaper/core.py:1172: ScaperWarning: gun_shot event duration (2.20) is greater that source duration (0.96), changing to 0.96\n",
      "  ScaperWarning)\n",
      "/Users/anderson675/miniconda3/lib/python3.7/site-packages/scaper/core.py:1172: ScaperWarning: drilling event duration (2.21) is greater that source duration (1.01), changing to 1.01\n",
      "  ScaperWarning)\n"
     ]
    },
    {
     "name": "stdout",
     "output_type": "stream",
     "text": [
      "Generating soundscape: 89/200\n"
     ]
    },
    {
     "name": "stderr",
     "output_type": "stream",
     "text": [
      "/Users/anderson675/miniconda3/lib/python3.7/site-packages/scaper/core.py:1268: ScaperWarning: street_music event time (7.84) is too great given stretched event duration (2.44) and soundscape duration (10.00), changed to 7.56.\n",
      "  ScaperWarning)\n"
     ]
    },
    {
     "name": "stdout",
     "output_type": "stream",
     "text": [
      "Generating soundscape: 90/200\n",
      "Generating soundscape: 91/200\n"
     ]
    },
    {
     "name": "stderr",
     "output_type": "stream",
     "text": [
      "/Users/anderson675/miniconda3/lib/python3.7/site-packages/scaper/core.py:1172: ScaperWarning: jackhammer event duration (1.38) is greater that source duration (1.06), changing to 1.06\n",
      "  ScaperWarning)\n",
      "/Users/anderson675/miniconda3/lib/python3.7/site-packages/scaper/core.py:1172: ScaperWarning: gun_shot event duration (3.86) is greater that source duration (1.97), changing to 1.97\n",
      "  ScaperWarning)\n",
      "/Users/anderson675/miniconda3/lib/python3.7/site-packages/scaper/core.py:1172: ScaperWarning: gun_shot event duration (1.70) is greater that source duration (1.41), changing to 1.41\n",
      "  ScaperWarning)\n"
     ]
    },
    {
     "name": "stdout",
     "output_type": "stream",
     "text": [
      "Generating soundscape: 92/200\n"
     ]
    },
    {
     "name": "stderr",
     "output_type": "stream",
     "text": [
      "/Users/anderson675/miniconda3/lib/python3.7/site-packages/scaper/core.py:1172: ScaperWarning: gun_shot event duration (3.98) is greater that source duration (0.58), changing to 0.58\n",
      "  ScaperWarning)\n"
     ]
    },
    {
     "name": "stdout",
     "output_type": "stream",
     "text": [
      "Generating soundscape: 93/200\n"
     ]
    },
    {
     "name": "stderr",
     "output_type": "stream",
     "text": [
      "/Users/anderson675/miniconda3/lib/python3.7/site-packages/scaper/core.py:1172: ScaperWarning: car_horn event duration (2.88) is greater that source duration (1.42), changing to 1.42\n",
      "  ScaperWarning)\n",
      "/Users/anderson675/miniconda3/lib/python3.7/site-packages/scaper/core.py:1172: ScaperWarning: car_horn event duration (2.46) is greater that source duration (0.20), changing to 0.20\n",
      "  ScaperWarning)\n",
      "/Users/anderson675/miniconda3/lib/python3.7/site-packages/scaper/core.py:1172: ScaperWarning: dog_bark event duration (3.58) is greater that source duration (0.65), changing to 0.65\n",
      "  ScaperWarning)\n"
     ]
    },
    {
     "name": "stdout",
     "output_type": "stream",
     "text": [
      "Generating soundscape: 94/200\n"
     ]
    },
    {
     "name": "stderr",
     "output_type": "stream",
     "text": [
      "/Users/anderson675/miniconda3/lib/python3.7/site-packages/scaper/core.py:1268: ScaperWarning: dog_bark event time (8.76) is too great given stretched event duration (1.82) and soundscape duration (10.00), changed to 8.18.\n",
      "  ScaperWarning)\n"
     ]
    },
    {
     "name": "stdout",
     "output_type": "stream",
     "text": [
      "Generating soundscape: 95/200\n",
      "Generating soundscape: 96/200\n"
     ]
    },
    {
     "name": "stderr",
     "output_type": "stream",
     "text": [
      "/Users/anderson675/miniconda3/lib/python3.7/site-packages/scaper/core.py:1268: ScaperWarning: speech event time (9.92) is too great given stretched event duration (2.84) and soundscape duration (10.00), changed to 7.16.\n",
      "  ScaperWarning)\n",
      "/Users/anderson675/miniconda3/lib/python3.7/site-packages/scaper/core.py:1172: ScaperWarning: gun_shot event duration (3.28) is greater that source duration (0.72), changing to 0.72\n",
      "  ScaperWarning)\n"
     ]
    },
    {
     "name": "stdout",
     "output_type": "stream",
     "text": [
      "Generating soundscape: 97/200\n"
     ]
    },
    {
     "name": "stderr",
     "output_type": "stream",
     "text": [
      "/Users/anderson675/miniconda3/lib/python3.7/site-packages/scaper/core.py:1172: ScaperWarning: gun_shot event duration (3.51) is greater that source duration (0.60), changing to 0.60\n",
      "  ScaperWarning)\n",
      "/Users/anderson675/miniconda3/lib/python3.7/site-packages/scaper/core.py:1268: ScaperWarning: engine_idling event time (8.54) is too great given stretched event duration (2.32) and soundscape duration (10.00), changed to 7.68.\n",
      "  ScaperWarning)\n",
      "/Users/anderson675/miniconda3/lib/python3.7/site-packages/scaper/core.py:1172: ScaperWarning: car_horn event duration (1.21) is greater that source duration (0.99), changing to 0.99\n",
      "  ScaperWarning)\n",
      "/Users/anderson675/miniconda3/lib/python3.7/site-packages/scaper/core.py:1268: ScaperWarning: drilling event time (6.90) is too great given stretched event duration (3.13) and soundscape duration (10.00), changed to 6.87.\n",
      "  ScaperWarning)\n"
     ]
    },
    {
     "name": "stdout",
     "output_type": "stream",
     "text": [
      "Generating soundscape: 98/200\n",
      "Generating soundscape: 99/200\n"
     ]
    },
    {
     "name": "stderr",
     "output_type": "stream",
     "text": [
      "/Users/anderson675/miniconda3/lib/python3.7/site-packages/scaper/core.py:1268: ScaperWarning: street_music event time (8.62) is too great given stretched event duration (3.42) and soundscape duration (10.00), changed to 6.58.\n",
      "  ScaperWarning)\n"
     ]
    },
    {
     "name": "stdout",
     "output_type": "stream",
     "text": [
      "Generating soundscape: 100/200\n"
     ]
    },
    {
     "name": "stderr",
     "output_type": "stream",
     "text": [
      "/Users/anderson675/miniconda3/lib/python3.7/site-packages/scaper/core.py:1268: ScaperWarning: street_music event time (8.25) is too great given stretched event duration (3.25) and soundscape duration (10.00), changed to 6.75.\n",
      "  ScaperWarning)\n",
      "/Users/anderson675/miniconda3/lib/python3.7/site-packages/scaper/core.py:1268: ScaperWarning: dog_bark event time (9.05) is too great given stretched event duration (1.60) and soundscape duration (10.00), changed to 8.40.\n",
      "  ScaperWarning)\n"
     ]
    },
    {
     "name": "stdout",
     "output_type": "stream",
     "text": [
      "Generating soundscape: 101/200\n"
     ]
    },
    {
     "name": "stderr",
     "output_type": "stream",
     "text": [
      "/Users/anderson675/miniconda3/lib/python3.7/site-packages/scaper/core.py:1268: ScaperWarning: jackhammer event time (6.19) is too great given stretched event duration (4.35) and soundscape duration (10.00), changed to 5.65.\n",
      "  ScaperWarning)\n"
     ]
    },
    {
     "name": "stdout",
     "output_type": "stream",
     "text": [
      "Generating soundscape: 102/200\n"
     ]
    },
    {
     "name": "stderr",
     "output_type": "stream",
     "text": [
      "/Users/anderson675/miniconda3/lib/python3.7/site-packages/scaper/core.py:1172: ScaperWarning: dog_bark event duration (2.13) is greater that source duration (0.35), changing to 0.35\n",
      "  ScaperWarning)\n",
      "/Users/anderson675/miniconda3/lib/python3.7/site-packages/scaper/core.py:1268: ScaperWarning: engine_idling event time (7.91) is too great given stretched event duration (4.10) and soundscape duration (10.00), changed to 5.90.\n",
      "  ScaperWarning)\n"
     ]
    },
    {
     "name": "stdout",
     "output_type": "stream",
     "text": [
      "Generating soundscape: 103/200\n"
     ]
    },
    {
     "name": "stderr",
     "output_type": "stream",
     "text": [
      "/Users/anderson675/miniconda3/lib/python3.7/site-packages/scaper/core.py:1268: ScaperWarning: siren event time (9.52) is too great given stretched event duration (4.33) and soundscape duration (10.00), changed to 5.67.\n",
      "  ScaperWarning)\n"
     ]
    },
    {
     "name": "stdout",
     "output_type": "stream",
     "text": [
      "Generating soundscape: 104/200\n",
      "Generating soundscape: 105/200\n"
     ]
    },
    {
     "name": "stderr",
     "output_type": "stream",
     "text": [
      "/Users/anderson675/miniconda3/lib/python3.7/site-packages/scaper/core.py:1268: ScaperWarning: dog_bark event time (7.88) is too great given stretched event duration (3.89) and soundscape duration (10.00), changed to 6.11.\n",
      "  ScaperWarning)\n"
     ]
    },
    {
     "name": "stdout",
     "output_type": "stream",
     "text": [
      "Generating soundscape: 106/200\n"
     ]
    },
    {
     "name": "stderr",
     "output_type": "stream",
     "text": [
      "/Users/anderson675/miniconda3/lib/python3.7/site-packages/scaper/core.py:1268: ScaperWarning: siren event time (8.68) is too great given stretched event duration (2.83) and soundscape duration (10.00), changed to 7.17.\n",
      "  ScaperWarning)\n",
      "/Users/anderson675/miniconda3/lib/python3.7/site-packages/scaper/core.py:1268: ScaperWarning: jackhammer event time (8.74) is too great given stretched event duration (1.93) and soundscape duration (10.00), changed to 8.07.\n",
      "  ScaperWarning)\n",
      "/Users/anderson675/miniconda3/lib/python3.7/site-packages/scaper/core.py:1172: ScaperWarning: gun_shot event duration (2.09) is greater that source duration (0.72), changing to 0.72\n",
      "  ScaperWarning)\n",
      "/Users/anderson675/miniconda3/lib/python3.7/site-packages/scaper/core.py:1172: ScaperWarning: jackhammer event duration (2.85) is greater that source duration (1.07), changing to 1.07\n",
      "  ScaperWarning)\n"
     ]
    },
    {
     "name": "stdout",
     "output_type": "stream",
     "text": [
      "Generating soundscape: 107/200\n"
     ]
    },
    {
     "name": "stderr",
     "output_type": "stream",
     "text": [
      "/Users/anderson675/miniconda3/lib/python3.7/site-packages/scaper/core.py:1172: ScaperWarning: dog_bark event duration (3.90) is greater that source duration (1.13), changing to 1.13\n",
      "  ScaperWarning)\n",
      "/Users/anderson675/miniconda3/lib/python3.7/site-packages/scaper/core.py:1172: ScaperWarning: dog_bark event duration (1.74) is greater that source duration (0.50), changing to 0.50\n",
      "  ScaperWarning)\n"
     ]
    },
    {
     "name": "stdout",
     "output_type": "stream",
     "text": [
      "Generating soundscape: 108/200\n"
     ]
    },
    {
     "name": "stderr",
     "output_type": "stream",
     "text": [
      "/Users/anderson675/miniconda3/lib/python3.7/site-packages/scaper/core.py:1172: ScaperWarning: dog_bark event duration (1.59) is greater that source duration (1.02), changing to 1.02\n",
      "  ScaperWarning)\n",
      "/Users/anderson675/miniconda3/lib/python3.7/site-packages/scaper/core.py:1172: ScaperWarning: car_horn event duration (1.82) is greater that source duration (0.06), changing to 0.06\n",
      "  ScaperWarning)\n"
     ]
    },
    {
     "name": "stdout",
     "output_type": "stream",
     "text": [
      "Generating soundscape: 109/200\n",
      "Generating soundscape: 110/200\n"
     ]
    },
    {
     "name": "stderr",
     "output_type": "stream",
     "text": [
      "/Users/anderson675/miniconda3/lib/python3.7/site-packages/scaper/core.py:1268: ScaperWarning: drilling event time (9.01) is too great given stretched event duration (1.83) and soundscape duration (10.00), changed to 8.17.\n",
      "  ScaperWarning)\n",
      "/Users/anderson675/miniconda3/lib/python3.7/site-packages/scaper/core.py:1172: ScaperWarning: gun_shot event duration (3.86) is greater that source duration (2.63), changing to 2.63\n",
      "  ScaperWarning)\n",
      "/Users/anderson675/miniconda3/lib/python3.7/site-packages/scaper/core.py:1268: ScaperWarning: gun_shot event time (7.96) is too great given stretched event duration (3.04) and soundscape duration (10.00), changed to 6.96.\n",
      "  ScaperWarning)\n",
      "/Users/anderson675/miniconda3/lib/python3.7/site-packages/scaper/core.py:1172: ScaperWarning: dog_bark event duration (3.36) is greater that source duration (0.44), changing to 0.44\n",
      "  ScaperWarning)\n",
      "/Users/anderson675/miniconda3/lib/python3.7/site-packages/scaper/core.py:1172: ScaperWarning: jackhammer event duration (2.57) is greater that source duration (2.39), changing to 2.39\n",
      "  ScaperWarning)\n"
     ]
    },
    {
     "name": "stdout",
     "output_type": "stream",
     "text": [
      "Generating soundscape: 111/200\n"
     ]
    },
    {
     "name": "stderr",
     "output_type": "stream",
     "text": [
      "/Users/anderson675/miniconda3/lib/python3.7/site-packages/scaper/core.py:1172: ScaperWarning: dog_bark event duration (3.58) is greater that source duration (2.30), changing to 2.30\n",
      "  ScaperWarning)\n",
      "/Users/anderson675/miniconda3/lib/python3.7/site-packages/scaper/core.py:1172: ScaperWarning: jackhammer event duration (1.54) is greater that source duration (1.06), changing to 1.06\n",
      "  ScaperWarning)\n",
      "/Users/anderson675/miniconda3/lib/python3.7/site-packages/scaper/core.py:1268: ScaperWarning: air_conditioner event time (9.46) is too great given stretched event duration (1.09) and soundscape duration (10.00), changed to 8.91.\n",
      "  ScaperWarning)\n",
      "/Users/anderson675/miniconda3/lib/python3.7/site-packages/scaper/core.py:1268: ScaperWarning: air_conditioner event time (8.69) is too great given stretched event duration (2.46) and soundscape duration (10.00), changed to 7.54.\n",
      "  ScaperWarning)\n"
     ]
    },
    {
     "name": "stdout",
     "output_type": "stream",
     "text": [
      "Generating soundscape: 112/200\n"
     ]
    },
    {
     "name": "stderr",
     "output_type": "stream",
     "text": [
      "/Users/anderson675/miniconda3/lib/python3.7/site-packages/scaper/core.py:1172: ScaperWarning: jackhammer event duration (3.45) is greater that source duration (1.25), changing to 1.25\n",
      "  ScaperWarning)\n",
      "/Users/anderson675/miniconda3/lib/python3.7/site-packages/scaper/core.py:1172: ScaperWarning: car_horn event duration (3.54) is greater that source duration (0.75), changing to 0.75\n",
      "  ScaperWarning)\n",
      "/Users/anderson675/miniconda3/lib/python3.7/site-packages/scaper/core.py:1172: ScaperWarning: dog_bark event duration (3.74) is greater that source duration (0.32), changing to 0.32\n",
      "  ScaperWarning)\n"
     ]
    },
    {
     "name": "stdout",
     "output_type": "stream",
     "text": [
      "Generating soundscape: 113/200\n"
     ]
    },
    {
     "name": "stderr",
     "output_type": "stream",
     "text": [
      "/Users/anderson675/miniconda3/lib/python3.7/site-packages/scaper/core.py:1268: ScaperWarning: drilling event time (6.83) is too great given stretched event duration (3.72) and soundscape duration (10.00), changed to 6.28.\n",
      "  ScaperWarning)\n",
      "/Users/anderson675/miniconda3/lib/python3.7/site-packages/scaper/core.py:1268: ScaperWarning: street_music event time (7.00) is too great given stretched event duration (3.51) and soundscape duration (10.00), changed to 6.49.\n",
      "  ScaperWarning)\n"
     ]
    },
    {
     "name": "stdout",
     "output_type": "stream",
     "text": [
      "Generating soundscape: 114/200\n"
     ]
    },
    {
     "name": "stderr",
     "output_type": "stream",
     "text": [
      "/Users/anderson675/miniconda3/lib/python3.7/site-packages/scaper/core.py:1268: ScaperWarning: engine_idling event time (6.59) is too great given stretched event duration (4.18) and soundscape duration (10.00), changed to 5.82.\n",
      "  ScaperWarning)\n"
     ]
    },
    {
     "name": "stdout",
     "output_type": "stream",
     "text": [
      "Generating soundscape: 115/200\n"
     ]
    },
    {
     "name": "stderr",
     "output_type": "stream",
     "text": [
      "/Users/anderson675/miniconda3/lib/python3.7/site-packages/scaper/core.py:1268: ScaperWarning: car_horn event time (8.98) is too great given stretched event duration (3.18) and soundscape duration (10.00), changed to 6.82.\n",
      "  ScaperWarning)\n",
      "/Users/anderson675/miniconda3/lib/python3.7/site-packages/scaper/core.py:1268: ScaperWarning: siren event time (7.50) is too great given stretched event duration (2.86) and soundscape duration (10.00), changed to 7.14.\n",
      "  ScaperWarning)\n"
     ]
    },
    {
     "name": "stdout",
     "output_type": "stream",
     "text": [
      "Generating soundscape: 116/200\n"
     ]
    },
    {
     "name": "stderr",
     "output_type": "stream",
     "text": [
      "/Users/anderson675/miniconda3/lib/python3.7/site-packages/scaper/core.py:1268: ScaperWarning: siren event time (7.99) is too great given stretched event duration (3.52) and soundscape duration (10.00), changed to 6.48.\n",
      "  ScaperWarning)\n",
      "/Users/anderson675/miniconda3/lib/python3.7/site-packages/scaper/core.py:1268: ScaperWarning: speech event time (7.99) is too great given stretched event duration (3.26) and soundscape duration (10.00), changed to 6.74.\n",
      "  ScaperWarning)\n"
     ]
    },
    {
     "name": "stdout",
     "output_type": "stream",
     "text": [
      "Generating soundscape: 117/200\n"
     ]
    },
    {
     "name": "stderr",
     "output_type": "stream",
     "text": [
      "/Users/anderson675/miniconda3/lib/python3.7/site-packages/scaper/core.py:1172: ScaperWarning: dog_bark event duration (2.88) is greater that source duration (1.12), changing to 1.12\n",
      "  ScaperWarning)\n"
     ]
    },
    {
     "name": "stdout",
     "output_type": "stream",
     "text": [
      "Generating soundscape: 118/200\n"
     ]
    },
    {
     "name": "stderr",
     "output_type": "stream",
     "text": [
      "/Users/anderson675/miniconda3/lib/python3.7/site-packages/scaper/core.py:1172: ScaperWarning: gun_shot event duration (2.31) is greater that source duration (0.41), changing to 0.41\n",
      "  ScaperWarning)\n"
     ]
    },
    {
     "name": "stdout",
     "output_type": "stream",
     "text": [
      "Generating soundscape: 119/200\n",
      "Generating soundscape: 120/200\n"
     ]
    },
    {
     "name": "stderr",
     "output_type": "stream",
     "text": [
      "/Users/anderson675/miniconda3/lib/python3.7/site-packages/scaper/core.py:1172: ScaperWarning: car_horn event duration (0.90) is greater that source duration (0.35), changing to 0.35\n",
      "  ScaperWarning)\n"
     ]
    },
    {
     "name": "stdout",
     "output_type": "stream",
     "text": [
      "Generating soundscape: 121/200\n"
     ]
    },
    {
     "name": "stderr",
     "output_type": "stream",
     "text": [
      "/Users/anderson675/miniconda3/lib/python3.7/site-packages/scaper/core.py:1172: ScaperWarning: car_horn event duration (2.66) is greater that source duration (1.38), changing to 1.38\n",
      "  ScaperWarning)\n"
     ]
    },
    {
     "name": "stdout",
     "output_type": "stream",
     "text": [
      "Generating soundscape: 122/200\n",
      "Generating soundscape: 123/200\n"
     ]
    },
    {
     "name": "stderr",
     "output_type": "stream",
     "text": [
      "/Users/anderson675/miniconda3/lib/python3.7/site-packages/scaper/core.py:1172: ScaperWarning: jackhammer event duration (2.49) is greater that source duration (0.94), changing to 0.94\n",
      "  ScaperWarning)\n",
      "/Users/anderson675/miniconda3/lib/python3.7/site-packages/scaper/core.py:1172: ScaperWarning: dog_bark event duration (2.82) is greater that source duration (0.25), changing to 0.25\n",
      "  ScaperWarning)\n",
      "/Users/anderson675/miniconda3/lib/python3.7/site-packages/scaper/core.py:1172: ScaperWarning: car_horn event duration (3.35) is greater that source duration (0.06), changing to 0.06\n",
      "  ScaperWarning)\n"
     ]
    },
    {
     "name": "stdout",
     "output_type": "stream",
     "text": [
      "Generating soundscape: 124/200\n",
      "Generating soundscape: 125/200\n"
     ]
    },
    {
     "name": "stderr",
     "output_type": "stream",
     "text": [
      "/Users/anderson675/miniconda3/lib/python3.7/site-packages/scaper/core.py:1172: ScaperWarning: jackhammer event duration (2.37) is greater that source duration (1.27), changing to 1.27\n",
      "  ScaperWarning)\n"
     ]
    },
    {
     "name": "stdout",
     "output_type": "stream",
     "text": [
      "Generating soundscape: 126/200\n",
      "Generating soundscape: 127/200\n"
     ]
    },
    {
     "name": "stderr",
     "output_type": "stream",
     "text": [
      "/Users/anderson675/miniconda3/lib/python3.7/site-packages/scaper/core.py:1172: ScaperWarning: car_horn event duration (3.70) is greater that source duration (0.37), changing to 0.37\n",
      "  ScaperWarning)\n",
      "/Users/anderson675/miniconda3/lib/python3.7/site-packages/scaper/core.py:1268: ScaperWarning: street_music event time (6.81) is too great given stretched event duration (3.74) and soundscape duration (10.00), changed to 6.26.\n",
      "  ScaperWarning)\n"
     ]
    },
    {
     "name": "stdout",
     "output_type": "stream",
     "text": [
      "Generating soundscape: 128/200\n"
     ]
    },
    {
     "name": "stderr",
     "output_type": "stream",
     "text": [
      "/Users/anderson675/miniconda3/lib/python3.7/site-packages/scaper/core.py:1172: ScaperWarning: siren event duration (2.93) is greater that source duration (1.32), changing to 1.32\n",
      "  ScaperWarning)\n"
     ]
    },
    {
     "name": "stdout",
     "output_type": "stream",
     "text": [
      "Generating soundscape: 129/200\n"
     ]
    },
    {
     "name": "stderr",
     "output_type": "stream",
     "text": [
      "/Users/anderson675/miniconda3/lib/python3.7/site-packages/scaper/core.py:1268: ScaperWarning: speech event time (8.69) is too great given stretched event duration (1.72) and soundscape duration (10.00), changed to 8.28.\n",
      "  ScaperWarning)\n",
      "/Users/anderson675/miniconda3/lib/python3.7/site-packages/scaper/core.py:1172: ScaperWarning: car_horn event duration (3.51) is greater that source duration (0.42), changing to 0.42\n",
      "  ScaperWarning)\n"
     ]
    },
    {
     "name": "stdout",
     "output_type": "stream",
     "text": [
      "Generating soundscape: 130/200\n"
     ]
    },
    {
     "name": "stderr",
     "output_type": "stream",
     "text": [
      "/Users/anderson675/miniconda3/lib/python3.7/site-packages/scaper/core.py:1172: ScaperWarning: car_horn event duration (3.99) is greater that source duration (0.14), changing to 0.14\n",
      "  ScaperWarning)\n"
     ]
    },
    {
     "name": "stdout",
     "output_type": "stream",
     "text": [
      "Generating soundscape: 131/200\n"
     ]
    },
    {
     "name": "stderr",
     "output_type": "stream",
     "text": [
      "/Users/anderson675/miniconda3/lib/python3.7/site-packages/scaper/core.py:1172: ScaperWarning: gun_shot event duration (2.68) is greater that source duration (2.46), changing to 2.46\n",
      "  ScaperWarning)\n"
     ]
    },
    {
     "name": "stdout",
     "output_type": "stream",
     "text": [
      "Generating soundscape: 132/200\n"
     ]
    },
    {
     "name": "stderr",
     "output_type": "stream",
     "text": [
      "/Users/anderson675/miniconda3/lib/python3.7/site-packages/scaper/core.py:1172: ScaperWarning: gun_shot event duration (2.73) is greater that source duration (1.87), changing to 1.87\n",
      "  ScaperWarning)\n",
      "/Users/anderson675/miniconda3/lib/python3.7/site-packages/scaper/core.py:1268: ScaperWarning: speech event time (6.34) is too great given stretched event duration (3.81) and soundscape duration (10.00), changed to 6.19.\n",
      "  ScaperWarning)\n",
      "/Users/anderson675/miniconda3/lib/python3.7/site-packages/scaper/core.py:1172: ScaperWarning: drilling event duration (3.51) is greater that source duration (0.61), changing to 0.61\n",
      "  ScaperWarning)\n"
     ]
    },
    {
     "name": "stdout",
     "output_type": "stream",
     "text": [
      "Generating soundscape: 133/200\n"
     ]
    },
    {
     "name": "stderr",
     "output_type": "stream",
     "text": [
      "/Users/anderson675/miniconda3/lib/python3.7/site-packages/scaper/core.py:1172: ScaperWarning: dog_bark event duration (1.88) is greater that source duration (0.21), changing to 0.21\n",
      "  ScaperWarning)\n"
     ]
    },
    {
     "name": "stdout",
     "output_type": "stream",
     "text": [
      "Generating soundscape: 134/200\n"
     ]
    },
    {
     "name": "stderr",
     "output_type": "stream",
     "text": [
      "/Users/anderson675/miniconda3/lib/python3.7/site-packages/scaper/core.py:1172: ScaperWarning: gun_shot event duration (3.38) is greater that source duration (1.62), changing to 1.62\n",
      "  ScaperWarning)\n"
     ]
    },
    {
     "name": "stdout",
     "output_type": "stream",
     "text": [
      "Generating soundscape: 135/200\n",
      "Generating soundscape: 136/200\n"
     ]
    },
    {
     "name": "stderr",
     "output_type": "stream",
     "text": [
      "/Users/anderson675/miniconda3/lib/python3.7/site-packages/scaper/core.py:1268: ScaperWarning: air_conditioner event time (8.71) is too great given stretched event duration (2.53) and soundscape duration (10.00), changed to 7.47.\n",
      "  ScaperWarning)\n"
     ]
    },
    {
     "name": "stdout",
     "output_type": "stream",
     "text": [
      "Generating soundscape: 137/200\n"
     ]
    },
    {
     "name": "stderr",
     "output_type": "stream",
     "text": [
      "/Users/anderson675/miniconda3/lib/python3.7/site-packages/scaper/core.py:1268: ScaperWarning: siren event time (9.19) is too great given stretched event duration (1.49) and soundscape duration (10.00), changed to 8.51.\n",
      "  ScaperWarning)\n",
      "/Users/anderson675/miniconda3/lib/python3.7/site-packages/scaper/core.py:1268: ScaperWarning: jackhammer event time (6.40) is too great given stretched event duration (3.99) and soundscape duration (10.00), changed to 6.01.\n",
      "  ScaperWarning)\n",
      "/Users/anderson675/miniconda3/lib/python3.7/site-packages/scaper/core.py:1172: ScaperWarning: jackhammer event duration (2.81) is greater that source duration (2.21), changing to 2.21\n",
      "  ScaperWarning)\n",
      "/Users/anderson675/miniconda3/lib/python3.7/site-packages/scaper/core.py:1268: ScaperWarning: jackhammer event time (8.11) is too great given stretched event duration (2.26) and soundscape duration (10.00), changed to 7.74.\n",
      "  ScaperWarning)\n",
      "/Users/anderson675/miniconda3/lib/python3.7/site-packages/scaper/core.py:1172: ScaperWarning: car_horn event duration (2.03) is greater that source duration (0.37), changing to 0.37\n",
      "  ScaperWarning)\n"
     ]
    },
    {
     "name": "stdout",
     "output_type": "stream",
     "text": [
      "Generating soundscape: 138/200\n"
     ]
    },
    {
     "name": "stderr",
     "output_type": "stream",
     "text": [
      "/Users/anderson675/miniconda3/lib/python3.7/site-packages/scaper/core.py:1172: ScaperWarning: gun_shot event duration (3.72) is greater that source duration (1.33), changing to 1.33\n",
      "  ScaperWarning)\n",
      "/Users/anderson675/miniconda3/lib/python3.7/site-packages/scaper/core.py:1268: ScaperWarning: dog_bark event time (8.87) is too great given stretched event duration (3.66) and soundscape duration (10.00), changed to 6.34.\n",
      "  ScaperWarning)\n"
     ]
    },
    {
     "name": "stdout",
     "output_type": "stream",
     "text": [
      "Generating soundscape: 139/200\n"
     ]
    },
    {
     "name": "stderr",
     "output_type": "stream",
     "text": [
      "/Users/anderson675/miniconda3/lib/python3.7/site-packages/scaper/core.py:1172: ScaperWarning: dog_bark event duration (3.41) is greater that source duration (0.68), changing to 0.68\n",
      "  ScaperWarning)\n",
      "/Users/anderson675/miniconda3/lib/python3.7/site-packages/scaper/core.py:1268: ScaperWarning: dog_bark event time (9.96) is too great given stretched event duration (0.61) and soundscape duration (10.00), changed to 9.39.\n",
      "  ScaperWarning)\n",
      "/Users/anderson675/miniconda3/lib/python3.7/site-packages/scaper/core.py:1268: ScaperWarning: engine_idling event time (8.73) is too great given stretched event duration (3.38) and soundscape duration (10.00), changed to 6.62.\n",
      "  ScaperWarning)\n"
     ]
    },
    {
     "name": "stdout",
     "output_type": "stream",
     "text": [
      "Generating soundscape: 140/200\n",
      "Generating soundscape: 141/200\n"
     ]
    },
    {
     "name": "stderr",
     "output_type": "stream",
     "text": [
      "/Users/anderson675/miniconda3/lib/python3.7/site-packages/scaper/core.py:1268: ScaperWarning: siren event time (7.89) is too great given stretched event duration (3.76) and soundscape duration (10.00), changed to 6.24.\n",
      "  ScaperWarning)\n"
     ]
    },
    {
     "name": "stdout",
     "output_type": "stream",
     "text": [
      "Generating soundscape: 142/200\n"
     ]
    },
    {
     "name": "stderr",
     "output_type": "stream",
     "text": [
      "/Users/anderson675/miniconda3/lib/python3.7/site-packages/scaper/core.py:1172: ScaperWarning: jackhammer event duration (2.66) is greater that source duration (2.31), changing to 2.31\n",
      "  ScaperWarning)\n"
     ]
    },
    {
     "name": "stdout",
     "output_type": "stream",
     "text": [
      "Generating soundscape: 143/200\n"
     ]
    },
    {
     "name": "stderr",
     "output_type": "stream",
     "text": [
      "/Users/anderson675/miniconda3/lib/python3.7/site-packages/scaper/core.py:1268: ScaperWarning: gun_shot event time (9.68) is too great given stretched event duration (1.67) and soundscape duration (10.00), changed to 8.33.\n",
      "  ScaperWarning)\n",
      "/Users/anderson675/miniconda3/lib/python3.7/site-packages/scaper/core.py:1268: ScaperWarning: dog_bark event time (8.98) is too great given stretched event duration (1.64) and soundscape duration (10.00), changed to 8.36.\n",
      "  ScaperWarning)\n",
      "/Users/anderson675/miniconda3/lib/python3.7/site-packages/scaper/core.py:1268: ScaperWarning: engine_idling event time (7.78) is too great given stretched event duration (3.33) and soundscape duration (10.00), changed to 6.67.\n",
      "  ScaperWarning)\n"
     ]
    },
    {
     "name": "stdout",
     "output_type": "stream",
     "text": [
      "Generating soundscape: 144/200\n"
     ]
    },
    {
     "name": "stderr",
     "output_type": "stream",
     "text": [
      "/Users/anderson675/miniconda3/lib/python3.7/site-packages/scaper/core.py:1268: ScaperWarning: siren event time (8.39) is too great given stretched event duration (3.37) and soundscape duration (10.00), changed to 6.63.\n",
      "  ScaperWarning)\n",
      "/Users/anderson675/miniconda3/lib/python3.7/site-packages/scaper/core.py:1172: ScaperWarning: car_horn event duration (2.53) is greater that source duration (0.11), changing to 0.11\n",
      "  ScaperWarning)\n"
     ]
    },
    {
     "name": "stdout",
     "output_type": "stream",
     "text": [
      "Generating soundscape: 145/200\n"
     ]
    },
    {
     "name": "stderr",
     "output_type": "stream",
     "text": [
      "/Users/anderson675/miniconda3/lib/python3.7/site-packages/scaper/core.py:1268: ScaperWarning: drilling event time (8.15) is too great given stretched event duration (2.88) and soundscape duration (10.00), changed to 7.12.\n",
      "  ScaperWarning)\n"
     ]
    },
    {
     "name": "stdout",
     "output_type": "stream",
     "text": [
      "Generating soundscape: 146/200\n",
      "Generating soundscape: 147/200\n",
      "Generating soundscape: 148/200\n"
     ]
    },
    {
     "name": "stderr",
     "output_type": "stream",
     "text": [
      "/Users/anderson675/miniconda3/lib/python3.7/site-packages/scaper/core.py:1172: ScaperWarning: gun_shot event duration (2.68) is greater that source duration (2.34), changing to 2.34\n",
      "  ScaperWarning)\n",
      "/Users/anderson675/miniconda3/lib/python3.7/site-packages/scaper/core.py:1172: ScaperWarning: siren event duration (3.88) is greater that source duration (0.59), changing to 0.59\n",
      "  ScaperWarning)\n",
      "/Users/anderson675/miniconda3/lib/python3.7/site-packages/scaper/core.py:1172: ScaperWarning: gun_shot event duration (1.20) is greater that source duration (0.61), changing to 0.61\n",
      "  ScaperWarning)\n"
     ]
    },
    {
     "name": "stdout",
     "output_type": "stream",
     "text": [
      "Generating soundscape: 149/200\n"
     ]
    },
    {
     "name": "stderr",
     "output_type": "stream",
     "text": [
      "/Users/anderson675/miniconda3/lib/python3.7/site-packages/scaper/core.py:1172: ScaperWarning: gun_shot event duration (1.85) is greater that source duration (1.50), changing to 1.50\n",
      "  ScaperWarning)\n",
      "/Users/anderson675/miniconda3/lib/python3.7/site-packages/scaper/core.py:1268: ScaperWarning: gun_shot event time (8.62) is too great given stretched event duration (1.53) and soundscape duration (10.00), changed to 8.47.\n",
      "  ScaperWarning)\n",
      "/Users/anderson675/miniconda3/lib/python3.7/site-packages/scaper/core.py:1172: ScaperWarning: gun_shot event duration (3.52) is greater that source duration (1.50), changing to 1.50\n",
      "  ScaperWarning)\n",
      "/Users/anderson675/miniconda3/lib/python3.7/site-packages/scaper/core.py:1268: ScaperWarning: engine_idling event time (7.60) is too great given stretched event duration (3.89) and soundscape duration (10.00), changed to 6.11.\n",
      "  ScaperWarning)\n"
     ]
    },
    {
     "name": "stdout",
     "output_type": "stream",
     "text": [
      "Generating soundscape: 150/200\n"
     ]
    },
    {
     "name": "stderr",
     "output_type": "stream",
     "text": [
      "/Users/anderson675/miniconda3/lib/python3.7/site-packages/scaper/core.py:1268: ScaperWarning: engine_idling event time (9.84) is too great given stretched event duration (0.56) and soundscape duration (10.00), changed to 9.44.\n",
      "  ScaperWarning)\n"
     ]
    },
    {
     "name": "stdout",
     "output_type": "stream",
     "text": [
      "Generating soundscape: 151/200\n"
     ]
    },
    {
     "name": "stderr",
     "output_type": "stream",
     "text": [
      "/Users/anderson675/miniconda3/lib/python3.7/site-packages/scaper/core.py:1268: ScaperWarning: jackhammer event time (8.97) is too great given stretched event duration (3.45) and soundscape duration (10.00), changed to 6.55.\n",
      "  ScaperWarning)\n",
      "/Users/anderson675/miniconda3/lib/python3.7/site-packages/scaper/core.py:1172: ScaperWarning: car_horn event duration (2.37) is greater that source duration (0.78), changing to 0.78\n",
      "  ScaperWarning)\n"
     ]
    },
    {
     "name": "stdout",
     "output_type": "stream",
     "text": [
      "Generating soundscape: 152/200\n"
     ]
    },
    {
     "name": "stderr",
     "output_type": "stream",
     "text": [
      "/Users/anderson675/miniconda3/lib/python3.7/site-packages/scaper/core.py:1172: ScaperWarning: car_horn event duration (3.95) is greater that source duration (0.37), changing to 0.37\n",
      "  ScaperWarning)\n",
      "/Users/anderson675/miniconda3/lib/python3.7/site-packages/scaper/core.py:1268: ScaperWarning: air_conditioner event time (9.85) is too great given stretched event duration (2.35) and soundscape duration (10.00), changed to 7.65.\n",
      "  ScaperWarning)\n"
     ]
    },
    {
     "name": "stdout",
     "output_type": "stream",
     "text": [
      "Generating soundscape: 153/200\n"
     ]
    },
    {
     "name": "stderr",
     "output_type": "stream",
     "text": [
      "/Users/anderson675/miniconda3/lib/python3.7/site-packages/scaper/core.py:1268: ScaperWarning: air_conditioner event time (9.75) is too great given stretched event duration (2.29) and soundscape duration (10.00), changed to 7.71.\n",
      "  ScaperWarning)\n",
      "/Users/anderson675/miniconda3/lib/python3.7/site-packages/scaper/core.py:1172: ScaperWarning: dog_bark event duration (3.97) is greater that source duration (1.20), changing to 1.20\n",
      "  ScaperWarning)\n",
      "/Users/anderson675/miniconda3/lib/python3.7/site-packages/scaper/core.py:1172: ScaperWarning: car_horn event duration (3.09) is greater that source duration (0.26), changing to 0.26\n",
      "  ScaperWarning)\n"
     ]
    },
    {
     "name": "stdout",
     "output_type": "stream",
     "text": [
      "Generating soundscape: 154/200\n"
     ]
    },
    {
     "name": "stderr",
     "output_type": "stream",
     "text": [
      "/Users/anderson675/miniconda3/lib/python3.7/site-packages/scaper/core.py:1268: ScaperWarning: jackhammer event time (5.94) is too great given stretched event duration (4.20) and soundscape duration (10.00), changed to 5.80.\n",
      "  ScaperWarning)\n"
     ]
    },
    {
     "name": "stdout",
     "output_type": "stream",
     "text": [
      "Generating soundscape: 155/200\n"
     ]
    },
    {
     "name": "stderr",
     "output_type": "stream",
     "text": [
      "/Users/anderson675/miniconda3/lib/python3.7/site-packages/scaper/core.py:1172: ScaperWarning: gun_shot event duration (2.46) is greater that source duration (1.01), changing to 1.01\n",
      "  ScaperWarning)\n",
      "/Users/anderson675/miniconda3/lib/python3.7/site-packages/scaper/core.py:1172: ScaperWarning: drilling event duration (3.89) is greater that source duration (1.63), changing to 1.63\n",
      "  ScaperWarning)\n",
      "/Users/anderson675/miniconda3/lib/python3.7/site-packages/scaper/core.py:1172: ScaperWarning: gun_shot event duration (3.65) is greater that source duration (3.17), changing to 3.17\n",
      "  ScaperWarning)\n",
      "/Users/anderson675/miniconda3/lib/python3.7/site-packages/scaper/core.py:1268: ScaperWarning: gun_shot event time (6.80) is too great given stretched event duration (3.59) and soundscape duration (10.00), changed to 6.41.\n",
      "  ScaperWarning)\n",
      "/Users/anderson675/miniconda3/lib/python3.7/site-packages/scaper/core.py:1268: ScaperWarning: jackhammer event time (6.67) is too great given stretched event duration (3.69) and soundscape duration (10.00), changed to 6.31.\n",
      "  ScaperWarning)\n"
     ]
    },
    {
     "name": "stdout",
     "output_type": "stream",
     "text": [
      "Generating soundscape: 156/200\n"
     ]
    },
    {
     "name": "stderr",
     "output_type": "stream",
     "text": [
      "/Users/anderson675/miniconda3/lib/python3.7/site-packages/scaper/core.py:1172: ScaperWarning: gun_shot event duration (1.94) is greater that source duration (1.35), changing to 1.35\n",
      "  ScaperWarning)\n"
     ]
    },
    {
     "name": "stdout",
     "output_type": "stream",
     "text": [
      "Generating soundscape: 157/200\n"
     ]
    },
    {
     "name": "stderr",
     "output_type": "stream",
     "text": [
      "/Users/anderson675/miniconda3/lib/python3.7/site-packages/scaper/core.py:1268: ScaperWarning: engine_idling event time (6.96) is too great given stretched event duration (3.25) and soundscape duration (10.00), changed to 6.75.\n",
      "  ScaperWarning)\n"
     ]
    },
    {
     "name": "stdout",
     "output_type": "stream",
     "text": [
      "Generating soundscape: 158/200\n"
     ]
    },
    {
     "name": "stderr",
     "output_type": "stream",
     "text": [
      "/Users/anderson675/miniconda3/lib/python3.7/site-packages/scaper/core.py:1172: ScaperWarning: car_horn event duration (2.71) is greater that source duration (1.99), changing to 1.99\n",
      "  ScaperWarning)\n",
      "/Users/anderson675/miniconda3/lib/python3.7/site-packages/scaper/core.py:1268: ScaperWarning: street_music event time (8.60) is too great given stretched event duration (3.23) and soundscape duration (10.00), changed to 6.77.\n",
      "  ScaperWarning)\n",
      "/Users/anderson675/miniconda3/lib/python3.7/site-packages/scaper/core.py:1268: ScaperWarning: car_horn event time (8.05) is too great given stretched event duration (3.39) and soundscape duration (10.00), changed to 6.61.\n",
      "  ScaperWarning)\n"
     ]
    },
    {
     "name": "stdout",
     "output_type": "stream",
     "text": [
      "Generating soundscape: 159/200\n",
      "Generating soundscape: 160/200\n"
     ]
    },
    {
     "name": "stderr",
     "output_type": "stream",
     "text": [
      "/Users/anderson675/miniconda3/lib/python3.7/site-packages/scaper/core.py:1268: ScaperWarning: speech event time (9.38) is too great given stretched event duration (0.66) and soundscape duration (10.00), changed to 9.34.\n",
      "  ScaperWarning)\n"
     ]
    },
    {
     "name": "stdout",
     "output_type": "stream",
     "text": [
      "Generating soundscape: 161/200\n"
     ]
    },
    {
     "name": "stderr",
     "output_type": "stream",
     "text": [
      "/Users/anderson675/miniconda3/lib/python3.7/site-packages/scaper/core.py:1268: ScaperWarning: dog_bark event time (9.21) is too great given stretched event duration (1.44) and soundscape duration (10.00), changed to 8.56.\n",
      "  ScaperWarning)\n",
      "/Users/anderson675/miniconda3/lib/python3.7/site-packages/scaper/core.py:1268: ScaperWarning: drilling event time (7.93) is too great given stretched event duration (4.56) and soundscape duration (10.00), changed to 5.44.\n",
      "  ScaperWarning)\n"
     ]
    },
    {
     "name": "stdout",
     "output_type": "stream",
     "text": [
      "Generating soundscape: 162/200\n"
     ]
    },
    {
     "name": "stderr",
     "output_type": "stream",
     "text": [
      "/Users/anderson675/miniconda3/lib/python3.7/site-packages/scaper/core.py:1172: ScaperWarning: gun_shot event duration (3.09) is greater that source duration (2.44), changing to 2.44\n",
      "  ScaperWarning)\n",
      "/Users/anderson675/miniconda3/lib/python3.7/site-packages/scaper/core.py:1172: ScaperWarning: dog_bark event duration (1.10) is greater that source duration (0.84), changing to 0.84\n",
      "  ScaperWarning)\n",
      "/Users/anderson675/miniconda3/lib/python3.7/site-packages/scaper/core.py:1268: ScaperWarning: speech event time (8.65) is too great given stretched event duration (2.22) and soundscape duration (10.00), changed to 7.78.\n",
      "  ScaperWarning)\n",
      "/Users/anderson675/miniconda3/lib/python3.7/site-packages/scaper/core.py:1268: ScaperWarning: engine_idling event time (9.99) is too great given stretched event duration (1.54) and soundscape duration (10.00), changed to 8.46.\n",
      "  ScaperWarning)\n"
     ]
    },
    {
     "name": "stdout",
     "output_type": "stream",
     "text": [
      "Generating soundscape: 163/200\n",
      "Generating soundscape: 164/200\n"
     ]
    },
    {
     "name": "stderr",
     "output_type": "stream",
     "text": [
      "/Users/anderson675/miniconda3/lib/python3.7/site-packages/scaper/core.py:1268: ScaperWarning: speech event time (8.01) is too great given stretched event duration (2.72) and soundscape duration (10.00), changed to 7.28.\n",
      "  ScaperWarning)\n"
     ]
    },
    {
     "name": "stdout",
     "output_type": "stream",
     "text": [
      "Generating soundscape: 165/200\n",
      "Generating soundscape: 166/200\n"
     ]
    },
    {
     "name": "stderr",
     "output_type": "stream",
     "text": [
      "/Users/anderson675/miniconda3/lib/python3.7/site-packages/scaper/core.py:1172: ScaperWarning: car_horn event duration (2.27) is greater that source duration (0.25), changing to 0.25\n",
      "  ScaperWarning)\n"
     ]
    },
    {
     "name": "stdout",
     "output_type": "stream",
     "text": [
      "Generating soundscape: 167/200\n"
     ]
    },
    {
     "name": "stderr",
     "output_type": "stream",
     "text": [
      "/Users/anderson675/miniconda3/lib/python3.7/site-packages/scaper/core.py:1172: ScaperWarning: dog_bark event duration (1.90) is greater that source duration (0.63), changing to 0.63\n",
      "  ScaperWarning)\n",
      "/Users/anderson675/miniconda3/lib/python3.7/site-packages/scaper/core.py:1172: ScaperWarning: gun_shot event duration (2.12) is greater that source duration (0.48), changing to 0.48\n",
      "  ScaperWarning)\n",
      "/Users/anderson675/miniconda3/lib/python3.7/site-packages/scaper/core.py:1268: ScaperWarning: jackhammer event time (8.91) is too great given stretched event duration (1.34) and soundscape duration (10.00), changed to 8.66.\n",
      "  ScaperWarning)\n"
     ]
    },
    {
     "name": "stdout",
     "output_type": "stream",
     "text": [
      "Generating soundscape: 168/200\n"
     ]
    },
    {
     "name": "stderr",
     "output_type": "stream",
     "text": [
      "/Users/anderson675/miniconda3/lib/python3.7/site-packages/scaper/core.py:1172: ScaperWarning: dog_bark event duration (0.55) is greater that source duration (0.42), changing to 0.42\n",
      "  ScaperWarning)\n",
      "/Users/anderson675/miniconda3/lib/python3.7/site-packages/scaper/core.py:1172: ScaperWarning: gun_shot event duration (1.95) is greater that source duration (0.64), changing to 0.64\n",
      "  ScaperWarning)\n",
      "/Users/anderson675/miniconda3/lib/python3.7/site-packages/scaper/core.py:1172: ScaperWarning: drilling event duration (3.66) is greater that source duration (1.31), changing to 1.31\n",
      "  ScaperWarning)\n"
     ]
    },
    {
     "name": "stdout",
     "output_type": "stream",
     "text": [
      "Generating soundscape: 169/200\n"
     ]
    },
    {
     "name": "stderr",
     "output_type": "stream",
     "text": [
      "/Users/anderson675/miniconda3/lib/python3.7/site-packages/scaper/core.py:1172: ScaperWarning: gun_shot event duration (2.21) is greater that source duration (0.82), changing to 0.82\n",
      "  ScaperWarning)\n",
      "/Users/anderson675/miniconda3/lib/python3.7/site-packages/scaper/core.py:1268: ScaperWarning: gun_shot event time (9.33) is too great given stretched event duration (0.81) and soundscape duration (10.00), changed to 9.19.\n",
      "  ScaperWarning)\n",
      "/Users/anderson675/miniconda3/lib/python3.7/site-packages/scaper/core.py:1268: ScaperWarning: air_conditioner event time (7.93) is too great given stretched event duration (3.39) and soundscape duration (10.00), changed to 6.61.\n",
      "  ScaperWarning)\n",
      "/Users/anderson675/miniconda3/lib/python3.7/site-packages/scaper/core.py:1172: ScaperWarning: gun_shot event duration (2.63) is greater that source duration (1.06), changing to 1.06\n",
      "  ScaperWarning)\n"
     ]
    },
    {
     "name": "stdout",
     "output_type": "stream",
     "text": [
      "Generating soundscape: 170/200\n"
     ]
    },
    {
     "name": "stderr",
     "output_type": "stream",
     "text": [
      "/Users/anderson675/miniconda3/lib/python3.7/site-packages/scaper/core.py:1268: ScaperWarning: car_horn event time (9.43) is too great given stretched event duration (2.77) and soundscape duration (10.00), changed to 7.23.\n",
      "  ScaperWarning)\n"
     ]
    },
    {
     "name": "stdout",
     "output_type": "stream",
     "text": [
      "Generating soundscape: 171/200\n",
      "Generating soundscape: 172/200\n"
     ]
    },
    {
     "name": "stderr",
     "output_type": "stream",
     "text": [
      "/Users/anderson675/miniconda3/lib/python3.7/site-packages/scaper/core.py:1268: ScaperWarning: engine_idling event time (7.25) is too great given stretched event duration (3.58) and soundscape duration (10.00), changed to 6.42.\n",
      "  ScaperWarning)\n"
     ]
    },
    {
     "name": "stdout",
     "output_type": "stream",
     "text": [
      "Generating soundscape: 173/200\n"
     ]
    },
    {
     "name": "stderr",
     "output_type": "stream",
     "text": [
      "/Users/anderson675/miniconda3/lib/python3.7/site-packages/scaper/core.py:1172: ScaperWarning: car_horn event duration (1.35) is greater that source duration (1.09), changing to 1.09\n",
      "  ScaperWarning)\n"
     ]
    },
    {
     "name": "stdout",
     "output_type": "stream",
     "text": [
      "Generating soundscape: 174/200\n",
      "Generating soundscape: 175/200\n"
     ]
    },
    {
     "name": "stderr",
     "output_type": "stream",
     "text": [
      "/Users/anderson675/miniconda3/lib/python3.7/site-packages/scaper/core.py:1268: ScaperWarning: drilling event time (9.92) is too great given stretched event duration (4.07) and soundscape duration (10.00), changed to 5.93.\n",
      "  ScaperWarning)\n",
      "/Users/anderson675/miniconda3/lib/python3.7/site-packages/scaper/core.py:1172: ScaperWarning: jackhammer event duration (1.10) is greater that source duration (0.81), changing to 0.81\n",
      "  ScaperWarning)\n",
      "/Users/anderson675/miniconda3/lib/python3.7/site-packages/scaper/core.py:1268: ScaperWarning: street_music event time (8.04) is too great given stretched event duration (2.12) and soundscape duration (10.00), changed to 7.88.\n",
      "  ScaperWarning)\n",
      "/Users/anderson675/miniconda3/lib/python3.7/site-packages/scaper/core.py:1172: ScaperWarning: drilling event duration (2.22) is greater that source duration (0.88), changing to 0.88\n",
      "  ScaperWarning)\n"
     ]
    },
    {
     "name": "stdout",
     "output_type": "stream",
     "text": [
      "Generating soundscape: 176/200\n"
     ]
    },
    {
     "name": "stderr",
     "output_type": "stream",
     "text": [
      "/Users/anderson675/miniconda3/lib/python3.7/site-packages/scaper/core.py:1268: ScaperWarning: speech event time (9.56) is too great given stretched event duration (4.47) and soundscape duration (10.00), changed to 5.53.\n",
      "  ScaperWarning)\n",
      "/Users/anderson675/miniconda3/lib/python3.7/site-packages/scaper/core.py:1172: ScaperWarning: dog_bark event duration (1.33) is greater that source duration (0.52), changing to 0.52\n",
      "  ScaperWarning)\n",
      "/Users/anderson675/miniconda3/lib/python3.7/site-packages/scaper/core.py:1172: ScaperWarning: gun_shot event duration (0.90) is greater that source duration (0.73), changing to 0.73\n",
      "  ScaperWarning)\n"
     ]
    },
    {
     "name": "stdout",
     "output_type": "stream",
     "text": [
      "Generating soundscape: 177/200\n"
     ]
    },
    {
     "name": "stderr",
     "output_type": "stream",
     "text": [
      "/Users/anderson675/miniconda3/lib/python3.7/site-packages/scaper/core.py:1172: ScaperWarning: car_horn event duration (2.41) is greater that source duration (0.11), changing to 0.11\n",
      "  ScaperWarning)\n",
      "/Users/anderson675/miniconda3/lib/python3.7/site-packages/scaper/core.py:1172: ScaperWarning: gun_shot event duration (3.93) is greater that source duration (1.23), changing to 1.23\n",
      "  ScaperWarning)\n"
     ]
    },
    {
     "name": "stdout",
     "output_type": "stream",
     "text": [
      "Generating soundscape: 178/200\n"
     ]
    },
    {
     "name": "stderr",
     "output_type": "stream",
     "text": [
      "/Users/anderson675/miniconda3/lib/python3.7/site-packages/scaper/core.py:1172: ScaperWarning: car_horn event duration (1.33) is greater that source duration (0.55), changing to 0.55\n",
      "  ScaperWarning)\n",
      "/Users/anderson675/miniconda3/lib/python3.7/site-packages/scaper/core.py:1268: ScaperWarning: speech event time (8.23) is too great given stretched event duration (2.55) and soundscape duration (10.00), changed to 7.45.\n",
      "  ScaperWarning)\n"
     ]
    },
    {
     "name": "stdout",
     "output_type": "stream",
     "text": [
      "Generating soundscape: 179/200\n"
     ]
    },
    {
     "name": "stderr",
     "output_type": "stream",
     "text": [
      "/Users/anderson675/miniconda3/lib/python3.7/site-packages/scaper/core.py:1268: ScaperWarning: siren event time (8.36) is too great given stretched event duration (2.42) and soundscape duration (10.00), changed to 7.58.\n",
      "  ScaperWarning)\n",
      "/Users/anderson675/miniconda3/lib/python3.7/site-packages/scaper/core.py:1268: ScaperWarning: speech event time (8.74) is too great given stretched event duration (1.79) and soundscape duration (10.00), changed to 8.21.\n",
      "  ScaperWarning)\n"
     ]
    },
    {
     "name": "stdout",
     "output_type": "stream",
     "text": [
      "Generating soundscape: 180/200\n"
     ]
    },
    {
     "name": "stderr",
     "output_type": "stream",
     "text": [
      "/Users/anderson675/miniconda3/lib/python3.7/site-packages/scaper/core.py:1268: ScaperWarning: engine_idling event time (8.50) is too great given stretched event duration (3.03) and soundscape duration (10.00), changed to 6.97.\n",
      "  ScaperWarning)\n"
     ]
    },
    {
     "name": "stdout",
     "output_type": "stream",
     "text": [
      "Generating soundscape: 181/200\n"
     ]
    },
    {
     "name": "stderr",
     "output_type": "stream",
     "text": [
      "/Users/anderson675/miniconda3/lib/python3.7/site-packages/scaper/core.py:1172: ScaperWarning: gun_shot event duration (1.72) is greater that source duration (1.63), changing to 1.63\n",
      "  ScaperWarning)\n"
     ]
    },
    {
     "name": "stdout",
     "output_type": "stream",
     "text": [
      "Generating soundscape: 182/200\n"
     ]
    },
    {
     "name": "stderr",
     "output_type": "stream",
     "text": [
      "/Users/anderson675/miniconda3/lib/python3.7/site-packages/scaper/core.py:1172: ScaperWarning: dog_bark event duration (3.19) is greater that source duration (1.06), changing to 1.06\n",
      "  ScaperWarning)\n"
     ]
    },
    {
     "name": "stdout",
     "output_type": "stream",
     "text": [
      "Generating soundscape: 183/200\n",
      "Generating soundscape: 184/200\n",
      "Generating soundscape: 185/200\n",
      "Generating soundscape: 186/200\n"
     ]
    },
    {
     "name": "stderr",
     "output_type": "stream",
     "text": [
      "/Users/anderson675/miniconda3/lib/python3.7/site-packages/scaper/core.py:1172: ScaperWarning: gun_shot event duration (1.52) is greater that source duration (1.19), changing to 1.19\n",
      "  ScaperWarning)\n",
      "/Users/anderson675/miniconda3/lib/python3.7/site-packages/scaper/core.py:1268: ScaperWarning: siren event time (9.99) is too great given stretched event duration (2.37) and soundscape duration (10.00), changed to 7.63.\n",
      "  ScaperWarning)\n",
      "/Users/anderson675/miniconda3/lib/python3.7/site-packages/scaper/core.py:1268: ScaperWarning: car_horn event time (7.13) is too great given stretched event duration (3.28) and soundscape duration (10.00), changed to 6.72.\n",
      "  ScaperWarning)\n",
      "/Users/anderson675/miniconda3/lib/python3.7/site-packages/scaper/core.py:1172: ScaperWarning: gun_shot event duration (1.20) is greater that source duration (0.61), changing to 0.61\n",
      "  ScaperWarning)\n",
      "/Users/anderson675/miniconda3/lib/python3.7/site-packages/scaper/core.py:1172: ScaperWarning: dog_bark event duration (1.91) is greater that source duration (1.25), changing to 1.25\n",
      "  ScaperWarning)\n"
     ]
    },
    {
     "name": "stdout",
     "output_type": "stream",
     "text": [
      "Generating soundscape: 187/200\n"
     ]
    },
    {
     "name": "stderr",
     "output_type": "stream",
     "text": [
      "/Users/anderson675/miniconda3/lib/python3.7/site-packages/scaper/core.py:1172: ScaperWarning: drilling event duration (2.41) is greater that source duration (1.09), changing to 1.09\n",
      "  ScaperWarning)\n",
      "/Users/anderson675/miniconda3/lib/python3.7/site-packages/scaper/core.py:1172: ScaperWarning: car_horn event duration (2.52) is greater that source duration (0.14), changing to 0.14\n",
      "  ScaperWarning)\n"
     ]
    },
    {
     "name": "stdout",
     "output_type": "stream",
     "text": [
      "Generating soundscape: 188/200\n"
     ]
    },
    {
     "name": "stderr",
     "output_type": "stream",
     "text": [
      "/Users/anderson675/miniconda3/lib/python3.7/site-packages/scaper/core.py:1172: ScaperWarning: car_horn event duration (4.00) is greater that source duration (1.38), changing to 1.38\n",
      "  ScaperWarning)\n"
     ]
    },
    {
     "name": "stdout",
     "output_type": "stream",
     "text": [
      "Generating soundscape: 189/200\n"
     ]
    },
    {
     "name": "stderr",
     "output_type": "stream",
     "text": [
      "/Users/anderson675/miniconda3/lib/python3.7/site-packages/scaper/core.py:1172: ScaperWarning: gun_shot event duration (2.46) is greater that source duration (2.39), changing to 2.39\n",
      "  ScaperWarning)\n",
      "/Users/anderson675/miniconda3/lib/python3.7/site-packages/scaper/core.py:1268: ScaperWarning: speech event time (9.07) is too great given stretched event duration (4.61) and soundscape duration (10.00), changed to 5.39.\n",
      "  ScaperWarning)\n"
     ]
    },
    {
     "name": "stdout",
     "output_type": "stream",
     "text": [
      "Generating soundscape: 190/200\n"
     ]
    },
    {
     "name": "stderr",
     "output_type": "stream",
     "text": [
      "/Users/anderson675/miniconda3/lib/python3.7/site-packages/scaper/core.py:1268: ScaperWarning: speech event time (8.74) is too great given stretched event duration (4.09) and soundscape duration (10.00), changed to 5.91.\n",
      "  ScaperWarning)\n"
     ]
    },
    {
     "name": "stdout",
     "output_type": "stream",
     "text": [
      "Generating soundscape: 191/200\n"
     ]
    },
    {
     "name": "stderr",
     "output_type": "stream",
     "text": [
      "/Users/anderson675/miniconda3/lib/python3.7/site-packages/scaper/core.py:1268: ScaperWarning: drilling event time (7.03) is too great given stretched event duration (3.41) and soundscape duration (10.00), changed to 6.59.\n",
      "  ScaperWarning)\n",
      "/Users/anderson675/miniconda3/lib/python3.7/site-packages/scaper/core.py:1268: ScaperWarning: engine_idling event time (8.76) is too great given stretched event duration (3.63) and soundscape duration (10.00), changed to 6.37.\n",
      "  ScaperWarning)\n",
      "/Users/anderson675/miniconda3/lib/python3.7/site-packages/scaper/core.py:1172: ScaperWarning: dog_bark event duration (1.75) is greater that source duration (1.23), changing to 1.23\n",
      "  ScaperWarning)\n"
     ]
    },
    {
     "name": "stdout",
     "output_type": "stream",
     "text": [
      "Generating soundscape: 192/200\n"
     ]
    },
    {
     "name": "stderr",
     "output_type": "stream",
     "text": [
      "/Users/anderson675/miniconda3/lib/python3.7/site-packages/scaper/core.py:1172: ScaperWarning: jackhammer event duration (3.39) is greater that source duration (2.84), changing to 2.84\n",
      "  ScaperWarning)\n",
      "/Users/anderson675/miniconda3/lib/python3.7/site-packages/scaper/core.py:1268: ScaperWarning: jackhammer event time (8.61) is too great given stretched event duration (2.89) and soundscape duration (10.00), changed to 7.11.\n",
      "  ScaperWarning)\n",
      "/Users/anderson675/miniconda3/lib/python3.7/site-packages/scaper/core.py:1268: ScaperWarning: drilling event time (9.72) is too great given stretched event duration (1.65) and soundscape duration (10.00), changed to 8.35.\n",
      "  ScaperWarning)\n",
      "/Users/anderson675/miniconda3/lib/python3.7/site-packages/scaper/core.py:1268: ScaperWarning: speech event time (8.88) is too great given stretched event duration (1.85) and soundscape duration (10.00), changed to 8.15.\n",
      "  ScaperWarning)\n",
      "/Users/anderson675/miniconda3/lib/python3.7/site-packages/scaper/core.py:1172: ScaperWarning: gun_shot event duration (1.68) is greater that source duration (0.20), changing to 0.20\n",
      "  ScaperWarning)\n"
     ]
    },
    {
     "name": "stdout",
     "output_type": "stream",
     "text": [
      "Generating soundscape: 193/200\n"
     ]
    },
    {
     "name": "stderr",
     "output_type": "stream",
     "text": [
      "/Users/anderson675/miniconda3/lib/python3.7/site-packages/scaper/core.py:1268: ScaperWarning: engine_idling event time (8.45) is too great given stretched event duration (3.88) and soundscape duration (10.00), changed to 6.12.\n",
      "  ScaperWarning)\n",
      "/Users/anderson675/miniconda3/lib/python3.7/site-packages/scaper/core.py:1268: ScaperWarning: siren event time (9.63) is too great given stretched event duration (1.73) and soundscape duration (10.00), changed to 8.27.\n",
      "  ScaperWarning)\n",
      "/Users/anderson675/miniconda3/lib/python3.7/site-packages/scaper/core.py:1268: ScaperWarning: air_conditioner event time (8.74) is too great given stretched event duration (2.16) and soundscape duration (10.00), changed to 7.84.\n",
      "  ScaperWarning)\n",
      "/Users/anderson675/miniconda3/lib/python3.7/site-packages/scaper/core.py:1268: ScaperWarning: dog_bark event time (5.80) is too great given stretched event duration (4.42) and soundscape duration (10.00), changed to 5.58.\n",
      "  ScaperWarning)\n"
     ]
    },
    {
     "name": "stdout",
     "output_type": "stream",
     "text": [
      "Generating soundscape: 194/200\n"
     ]
    },
    {
     "name": "stderr",
     "output_type": "stream",
     "text": [
      "/Users/anderson675/miniconda3/lib/python3.7/site-packages/scaper/core.py:1172: ScaperWarning: car_horn event duration (2.55) is greater that source duration (0.06), changing to 0.06\n",
      "  ScaperWarning)\n",
      "/Users/anderson675/miniconda3/lib/python3.7/site-packages/scaper/core.py:1172: ScaperWarning: dog_bark event duration (3.96) is greater that source duration (2.96), changing to 2.96\n",
      "  ScaperWarning)\n",
      "/Users/anderson675/miniconda3/lib/python3.7/site-packages/scaper/core.py:1268: ScaperWarning: jackhammer event time (9.92) is too great given stretched event duration (0.64) and soundscape duration (10.00), changed to 9.36.\n",
      "  ScaperWarning)\n",
      "/Users/anderson675/miniconda3/lib/python3.7/site-packages/scaper/core.py:1172: ScaperWarning: dog_bark event duration (3.39) is greater that source duration (1.09), changing to 1.09\n",
      "  ScaperWarning)\n"
     ]
    },
    {
     "name": "stdout",
     "output_type": "stream",
     "text": [
      "Generating soundscape: 195/200\n"
     ]
    },
    {
     "name": "stderr",
     "output_type": "stream",
     "text": [
      "/Users/anderson675/miniconda3/lib/python3.7/site-packages/scaper/core.py:1172: ScaperWarning: dog_bark event duration (1.00) is greater that source duration (0.72), changing to 0.72\n",
      "  ScaperWarning)\n"
     ]
    },
    {
     "name": "stdout",
     "output_type": "stream",
     "text": [
      "Generating soundscape: 196/200\n"
     ]
    },
    {
     "name": "stderr",
     "output_type": "stream",
     "text": [
      "/Users/anderson675/miniconda3/lib/python3.7/site-packages/scaper/core.py:1172: ScaperWarning: gun_shot event duration (2.42) is greater that source duration (1.09), changing to 1.09\n",
      "  ScaperWarning)\n"
     ]
    },
    {
     "name": "stdout",
     "output_type": "stream",
     "text": [
      "Generating soundscape: 197/200\n"
     ]
    },
    {
     "name": "stderr",
     "output_type": "stream",
     "text": [
      "/Users/anderson675/miniconda3/lib/python3.7/site-packages/scaper/core.py:1268: ScaperWarning: jackhammer event time (7.98) is too great given stretched event duration (2.64) and soundscape duration (10.00), changed to 7.36.\n",
      "  ScaperWarning)\n"
     ]
    },
    {
     "name": "stdout",
     "output_type": "stream",
     "text": [
      "Generating soundscape: 198/200\n"
     ]
    },
    {
     "name": "stderr",
     "output_type": "stream",
     "text": [
      "/Users/anderson675/miniconda3/lib/python3.7/site-packages/scaper/core.py:1268: ScaperWarning: street_music event time (8.88) is too great given stretched event duration (3.44) and soundscape duration (10.00), changed to 6.56.\n",
      "  ScaperWarning)\n",
      "/Users/anderson675/miniconda3/lib/python3.7/site-packages/scaper/core.py:1172: ScaperWarning: gun_shot event duration (2.63) is greater that source duration (0.96), changing to 0.96\n",
      "  ScaperWarning)\n",
      "/Users/anderson675/miniconda3/lib/python3.7/site-packages/scaper/core.py:1268: ScaperWarning: air_conditioner event time (7.85) is too great given stretched event duration (2.65) and soundscape duration (10.00), changed to 7.35.\n",
      "  ScaperWarning)\n"
     ]
    },
    {
     "name": "stdout",
     "output_type": "stream",
     "text": [
      "Generating soundscape: 199/200\n"
     ]
    },
    {
     "name": "stderr",
     "output_type": "stream",
     "text": [
      "/Users/anderson675/miniconda3/lib/python3.7/site-packages/scaper/core.py:1268: ScaperWarning: siren event time (8.56) is too great given stretched event duration (2.37) and soundscape duration (10.00), changed to 7.63.\n",
      "  ScaperWarning)\n",
      "/Users/anderson675/miniconda3/lib/python3.7/site-packages/scaper/core.py:1172: ScaperWarning: gun_shot event duration (3.89) is greater that source duration (1.06), changing to 1.06\n",
      "  ScaperWarning)\n"
     ]
    },
    {
     "name": "stdout",
     "output_type": "stream",
     "text": [
      "Generating soundscape: 200/200\n"
     ]
    }
   ],
   "source": [
    "# SCAPER SETTINGS\n",
    "np.random.seed(123)\n",
    "fg_folder = os.getcwd() + '/1_Dataset_Generate/audio/soundbanks/train/foreground/'\n",
    "bg_folder = os.getcwd() + '/1_Dataset_Generate/audio/soundbanks/train/background/'\n",
    "\n",
    "n_soundscapes = 200\n",
    "ref_db = -50\n",
    "duration = 10.0 \n",
    "\n",
    "min_events = 1\n",
    "max_events = 9\n",
    "\n",
    "event_time_dist = 'truncnorm'\n",
    "event_time_mean1 = 3.0\n",
    "event_time_mean2 = 7.0\n",
    "event_time_std = 2.0\n",
    "event_time_min = 0.0\n",
    "event_time_max = 10.0\n",
    "\n",
    "source_time_dist = 'const'\n",
    "source_time = 0.0\n",
    "\n",
    "event_duration_dist = 'uniform'\n",
    "event_duration_min = 0.5\n",
    "event_duration_max = 4.0\n",
    "\n",
    "snr_dist = 'uniform'\n",
    "snr_min = 6\n",
    "snr_max = 30\n",
    "\n",
    "pitch_dist = 'uniform'\n",
    "pitch_min = -3.0\n",
    "pitch_max = 3.0\n",
    "\n",
    "time_stretch_dist = 'uniform'\n",
    "time_stretch_min = 0.8\n",
    "time_stretch_max = 1.2\n",
    "\n",
    "\n",
    "# FILE SETTINGS\n",
    "outfolder = os.path.join(os.getcwd() + '/1_Dataset_Generate/audio/soundbanks/train/generated/bimodal')\n",
    "if not os.path.isdir(outfolder):\n",
    "    os.mkdir(outfolder)\n",
    "\n",
    "    # Generate 2000 soundscapes using a BIMODAL distribution of start times\n",
    "\n",
    "for n in range(n_soundscapes):\n",
    "    \n",
    "    print('Generating soundscape: {:d}/{:d}'.format(n+1, n_soundscapes))\n",
    "    \n",
    "    # create a scaper\n",
    "    sc = scaper.Scaper(duration, fg_folder, bg_folder)\n",
    "    sc.protected_labels = []\n",
    "    sc.ref_db = ref_db\n",
    "    \n",
    "    # add background\n",
    "    sc.add_background(label=('const', 'noise'), \n",
    "                      source_file=('choose', []), \n",
    "                      source_time=('const', 0))\n",
    "\n",
    "    # add random foreground events\n",
    "    n_events = np.random.randint(min_events, max_events+1)\n",
    "    for _ in range(n_events):\n",
    "        \n",
    "        coin = np.random.randint(0, 2)\n",
    "        if coin==0:\n",
    "            mu = event_time_mean1\n",
    "        else:\n",
    "            mu = event_time_mean2\n",
    "            \n",
    "        sc.add_event(label=('choose', []), \n",
    "                     source_file=('choose', []), \n",
    "                     source_time=(source_time_dist, source_time), \n",
    "                     event_time=(event_time_dist, mu, event_time_std, event_time_min, event_time_max), \n",
    "                     event_duration=(event_duration_dist, event_duration_min, event_duration_max), \n",
    "                     snr=(snr_dist, snr_min, snr_max),\n",
    "                     pitch_shift=(pitch_dist, pitch_min, pitch_max),\n",
    "                     time_stretch=(time_stretch_dist, time_stretch_min, time_stretch_max))\n",
    "    \n",
    "    # generate\n",
    "    audiofile = os.path.join(outfolder, \"soundscape_train_bimodal{:d}.wav\".format(n))\n",
    "    jamsfile = os.path.join(outfolder, \"soundscape_train_bimodal{:d}.jams\".format(n))\n",
    "    txtfile = os.path.join(outfolder, \"soundscape_train_bimodal{:d}.txt\".format(n))\n",
    "    \n",
    "    sc.generate(audiofile, jamsfile,\n",
    "                allow_repeated_label=True,\n",
    "                allow_repeated_source=False,\n",
    "                reverb=0.1,\n",
    "                disable_sox_warnings=True,\n",
    "                no_audio=False,\n",
    "                txt_path=txtfile)"
   ]
  },
  {
   "cell_type": "code",
   "execution_count": null,
   "metadata": {},
   "outputs": [],
   "source": []
  },
  {
   "cell_type": "markdown",
   "metadata": {},
   "source": [
    "# Train-Uniform"
   ]
  },
  {
   "cell_type": "code",
   "execution_count": 22,
   "metadata": {},
   "outputs": [
    {
     "name": "stdout",
     "output_type": "stream",
     "text": [
      "Generating soundscape: 1/200\n"
     ]
    },
    {
     "name": "stderr",
     "output_type": "stream",
     "text": [
      "/Users/anderson675/miniconda3/lib/python3.7/site-packages/scaper/core.py:1268: ScaperWarning: dog_bark event time (7.16) is too great given stretched event duration (3.57) and soundscape duration (10.00), changed to 6.43.\n",
      "  ScaperWarning)\n"
     ]
    },
    {
     "name": "stdout",
     "output_type": "stream",
     "text": [
      "Generating soundscape: 2/200\n",
      "Generating soundscape: 3/200\n"
     ]
    },
    {
     "name": "stderr",
     "output_type": "stream",
     "text": [
      "/Users/anderson675/miniconda3/lib/python3.7/site-packages/scaper/core.py:1172: ScaperWarning: car_horn event duration (1.88) is greater that source duration (0.54), changing to 0.54\n",
      "  ScaperWarning)\n",
      "/Users/anderson675/miniconda3/lib/python3.7/site-packages/scaper/core.py:1268: ScaperWarning: siren event time (9.43) is too great given stretched event duration (2.50) and soundscape duration (10.00), changed to 7.50.\n",
      "  ScaperWarning)\n",
      "/Users/anderson675/miniconda3/lib/python3.7/site-packages/scaper/core.py:1172: ScaperWarning: car_horn event duration (0.75) is greater that source duration (0.06), changing to 0.06\n",
      "  ScaperWarning)\n"
     ]
    },
    {
     "name": "stdout",
     "output_type": "stream",
     "text": [
      "Generating soundscape: 4/200\n",
      "Generating soundscape: 5/200\n"
     ]
    },
    {
     "name": "stderr",
     "output_type": "stream",
     "text": [
      "/Users/anderson675/miniconda3/lib/python3.7/site-packages/scaper/core.py:1268: ScaperWarning: engine_idling event time (8.10) is too great given stretched event duration (2.82) and soundscape duration (10.00), changed to 7.18.\n",
      "  ScaperWarning)\n"
     ]
    },
    {
     "name": "stdout",
     "output_type": "stream",
     "text": [
      "Generating soundscape: 6/200\n"
     ]
    },
    {
     "name": "stderr",
     "output_type": "stream",
     "text": [
      "/Users/anderson675/miniconda3/lib/python3.7/site-packages/scaper/core.py:1268: ScaperWarning: street_music event time (8.95) is too great given stretched event duration (1.57) and soundscape duration (10.00), changed to 8.43.\n",
      "  ScaperWarning)\n",
      "/Users/anderson675/miniconda3/lib/python3.7/site-packages/scaper/core.py:1268: ScaperWarning: air_conditioner event time (9.18) is too great given stretched event duration (1.09) and soundscape duration (10.00), changed to 8.91.\n",
      "  ScaperWarning)\n",
      "/Users/anderson675/miniconda3/lib/python3.7/site-packages/scaper/core.py:1268: ScaperWarning: engine_idling event time (9.65) is too great given stretched event duration (1.03) and soundscape duration (10.00), changed to 8.97.\n",
      "  ScaperWarning)\n"
     ]
    },
    {
     "name": "stdout",
     "output_type": "stream",
     "text": [
      "Generating soundscape: 7/200\n"
     ]
    },
    {
     "name": "stderr",
     "output_type": "stream",
     "text": [
      "/Users/anderson675/miniconda3/lib/python3.7/site-packages/scaper/core.py:1268: ScaperWarning: speech event time (9.04) is too great given stretched event duration (2.39) and soundscape duration (10.00), changed to 7.61.\n",
      "  ScaperWarning)\n"
     ]
    },
    {
     "name": "stdout",
     "output_type": "stream",
     "text": [
      "Generating soundscape: 8/200\n"
     ]
    },
    {
     "name": "stderr",
     "output_type": "stream",
     "text": [
      "/Users/anderson675/miniconda3/lib/python3.7/site-packages/scaper/core.py:1268: ScaperWarning: speech event time (8.41) is too great given stretched event duration (2.19) and soundscape duration (10.00), changed to 7.81.\n",
      "  ScaperWarning)\n"
     ]
    },
    {
     "name": "stdout",
     "output_type": "stream",
     "text": [
      "Generating soundscape: 9/200\n"
     ]
    },
    {
     "name": "stderr",
     "output_type": "stream",
     "text": [
      "/Users/anderson675/miniconda3/lib/python3.7/site-packages/scaper/core.py:1268: ScaperWarning: siren event time (9.10) is too great given stretched event duration (2.74) and soundscape duration (10.00), changed to 7.26.\n",
      "  ScaperWarning)\n"
     ]
    },
    {
     "name": "stdout",
     "output_type": "stream",
     "text": [
      "Generating soundscape: 10/200\n"
     ]
    },
    {
     "name": "stderr",
     "output_type": "stream",
     "text": [
      "/Users/anderson675/miniconda3/lib/python3.7/site-packages/scaper/core.py:1172: ScaperWarning: gun_shot event duration (2.37) is greater that source duration (1.23), changing to 1.23\n",
      "  ScaperWarning)\n"
     ]
    },
    {
     "name": "stdout",
     "output_type": "stream",
     "text": [
      "Generating soundscape: 11/200\n",
      "Generating soundscape: 12/200\n"
     ]
    },
    {
     "name": "stderr",
     "output_type": "stream",
     "text": [
      "/Users/anderson675/miniconda3/lib/python3.7/site-packages/scaper/core.py:1172: ScaperWarning: gun_shot event duration (1.58) is greater that source duration (0.50), changing to 0.50\n",
      "  ScaperWarning)\n"
     ]
    },
    {
     "name": "stdout",
     "output_type": "stream",
     "text": [
      "Generating soundscape: 13/200\n"
     ]
    },
    {
     "name": "stderr",
     "output_type": "stream",
     "text": [
      "/Users/anderson675/miniconda3/lib/python3.7/site-packages/scaper/core.py:1172: ScaperWarning: gun_shot event duration (2.09) is greater that source duration (0.87), changing to 0.87\n",
      "  ScaperWarning)\n",
      "/Users/anderson675/miniconda3/lib/python3.7/site-packages/scaper/core.py:1268: ScaperWarning: air_conditioner event time (7.46) is too great given stretched event duration (3.48) and soundscape duration (10.00), changed to 6.52.\n",
      "  ScaperWarning)\n",
      "/Users/anderson675/miniconda3/lib/python3.7/site-packages/scaper/core.py:1172: ScaperWarning: drilling event duration (1.03) is greater that source duration (0.87), changing to 0.87\n",
      "  ScaperWarning)\n"
     ]
    },
    {
     "name": "stdout",
     "output_type": "stream",
     "text": [
      "Generating soundscape: 14/200\n"
     ]
    },
    {
     "name": "stderr",
     "output_type": "stream",
     "text": [
      "/Users/anderson675/miniconda3/lib/python3.7/site-packages/scaper/core.py:1172: ScaperWarning: dog_bark event duration (3.37) is greater that source duration (1.70), changing to 1.70\n",
      "  ScaperWarning)\n"
     ]
    },
    {
     "name": "stdout",
     "output_type": "stream",
     "text": [
      "Generating soundscape: 15/200\n",
      "Generating soundscape: 16/200\n"
     ]
    },
    {
     "name": "stderr",
     "output_type": "stream",
     "text": [
      "/Users/anderson675/miniconda3/lib/python3.7/site-packages/scaper/core.py:1268: ScaperWarning: drilling event time (6.47) is too great given stretched event duration (3.78) and soundscape duration (10.00), changed to 6.22.\n",
      "  ScaperWarning)\n",
      "/Users/anderson675/miniconda3/lib/python3.7/site-packages/scaper/core.py:1268: ScaperWarning: drilling event time (6.01) is too great given stretched event duration (4.52) and soundscape duration (10.00), changed to 5.48.\n",
      "  ScaperWarning)\n",
      "/Users/anderson675/miniconda3/lib/python3.7/site-packages/scaper/core.py:1268: ScaperWarning: siren event time (8.31) is too great given stretched event duration (3.90) and soundscape duration (10.00), changed to 6.10.\n",
      "  ScaperWarning)\n"
     ]
    },
    {
     "name": "stdout",
     "output_type": "stream",
     "text": [
      "Generating soundscape: 17/200\n"
     ]
    },
    {
     "name": "stderr",
     "output_type": "stream",
     "text": [
      "/Users/anderson675/miniconda3/lib/python3.7/site-packages/scaper/core.py:1172: ScaperWarning: drilling event duration (1.67) is greater that source duration (1.01), changing to 1.01\n",
      "  ScaperWarning)\n"
     ]
    },
    {
     "name": "stdout",
     "output_type": "stream",
     "text": [
      "Generating soundscape: 18/200\n"
     ]
    },
    {
     "name": "stderr",
     "output_type": "stream",
     "text": [
      "/Users/anderson675/miniconda3/lib/python3.7/site-packages/scaper/core.py:1172: ScaperWarning: gun_shot event duration (2.14) is greater that source duration (1.16), changing to 1.16\n",
      "  ScaperWarning)\n"
     ]
    },
    {
     "name": "stdout",
     "output_type": "stream",
     "text": [
      "Generating soundscape: 19/200\n"
     ]
    },
    {
     "name": "stderr",
     "output_type": "stream",
     "text": [
      "/Users/anderson675/miniconda3/lib/python3.7/site-packages/scaper/core.py:1172: ScaperWarning: dog_bark event duration (3.47) is greater that source duration (0.75), changing to 0.75\n",
      "  ScaperWarning)\n",
      "/Users/anderson675/miniconda3/lib/python3.7/site-packages/scaper/core.py:1172: ScaperWarning: engine_idling event duration (3.79) is greater that source duration (3.14), changing to 3.14\n",
      "  ScaperWarning)\n",
      "/Users/anderson675/miniconda3/lib/python3.7/site-packages/scaper/core.py:1268: ScaperWarning: engine_idling event time (8.51) is too great given stretched event duration (2.58) and soundscape duration (10.00), changed to 7.42.\n",
      "  ScaperWarning)\n"
     ]
    },
    {
     "name": "stdout",
     "output_type": "stream",
     "text": [
      "Generating soundscape: 20/200\n"
     ]
    },
    {
     "name": "stderr",
     "output_type": "stream",
     "text": [
      "/Users/anderson675/miniconda3/lib/python3.7/site-packages/scaper/core.py:1172: ScaperWarning: car_horn event duration (1.59) is greater that source duration (1.09), changing to 1.09\n",
      "  ScaperWarning)\n"
     ]
    },
    {
     "name": "stdout",
     "output_type": "stream",
     "text": [
      "Generating soundscape: 21/200\n"
     ]
    },
    {
     "name": "stderr",
     "output_type": "stream",
     "text": [
      "/Users/anderson675/miniconda3/lib/python3.7/site-packages/scaper/core.py:1268: ScaperWarning: jackhammer event time (9.70) is too great given stretched event duration (1.80) and soundscape duration (10.00), changed to 8.20.\n",
      "  ScaperWarning)\n",
      "/Users/anderson675/miniconda3/lib/python3.7/site-packages/scaper/core.py:1172: ScaperWarning: car_horn event duration (1.91) is greater that source duration (0.99), changing to 0.99\n",
      "  ScaperWarning)\n",
      "/Users/anderson675/miniconda3/lib/python3.7/site-packages/scaper/core.py:1172: ScaperWarning: car_horn event duration (1.57) is greater that source duration (0.34), changing to 0.34\n",
      "  ScaperWarning)\n"
     ]
    },
    {
     "name": "stdout",
     "output_type": "stream",
     "text": [
      "Generating soundscape: 22/200\n"
     ]
    },
    {
     "name": "stderr",
     "output_type": "stream",
     "text": [
      "/Users/anderson675/miniconda3/lib/python3.7/site-packages/scaper/core.py:1172: ScaperWarning: gun_shot event duration (2.62) is greater that source duration (0.82), changing to 0.82\n",
      "  ScaperWarning)\n",
      "/Users/anderson675/miniconda3/lib/python3.7/site-packages/scaper/core.py:1268: ScaperWarning: engine_idling event time (9.85) is too great given stretched event duration (1.80) and soundscape duration (10.00), changed to 8.20.\n",
      "  ScaperWarning)\n"
     ]
    },
    {
     "name": "stdout",
     "output_type": "stream",
     "text": [
      "Generating soundscape: 23/200\n"
     ]
    },
    {
     "name": "stderr",
     "output_type": "stream",
     "text": [
      "/Users/anderson675/miniconda3/lib/python3.7/site-packages/scaper/core.py:1268: ScaperWarning: siren event time (9.52) is too great given stretched event duration (0.67) and soundscape duration (10.00), changed to 9.33.\n",
      "  ScaperWarning)\n"
     ]
    },
    {
     "name": "stdout",
     "output_type": "stream",
     "text": [
      "Generating soundscape: 24/200\n",
      "Generating soundscape: 25/200\n"
     ]
    },
    {
     "name": "stderr",
     "output_type": "stream",
     "text": [
      "/Users/anderson675/miniconda3/lib/python3.7/site-packages/scaper/core.py:1172: ScaperWarning: drilling event duration (0.98) is greater that source duration (0.42), changing to 0.42\n",
      "  ScaperWarning)\n",
      "/Users/anderson675/miniconda3/lib/python3.7/site-packages/scaper/core.py:1172: ScaperWarning: gun_shot event duration (3.63) is greater that source duration (1.21), changing to 1.21\n",
      "  ScaperWarning)\n",
      "/Users/anderson675/miniconda3/lib/python3.7/site-packages/scaper/core.py:1172: ScaperWarning: gun_shot event duration (3.76) is greater that source duration (1.14), changing to 1.14\n",
      "  ScaperWarning)\n"
     ]
    },
    {
     "name": "stdout",
     "output_type": "stream",
     "text": [
      "Generating soundscape: 26/200\n"
     ]
    },
    {
     "name": "stderr",
     "output_type": "stream",
     "text": [
      "/Users/anderson675/miniconda3/lib/python3.7/site-packages/scaper/core.py:1172: ScaperWarning: jackhammer event duration (1.69) is greater that source duration (1.35), changing to 1.35\n",
      "  ScaperWarning)\n"
     ]
    },
    {
     "name": "stdout",
     "output_type": "stream",
     "text": [
      "Generating soundscape: 27/200\n"
     ]
    },
    {
     "name": "stderr",
     "output_type": "stream",
     "text": [
      "/Users/anderson675/miniconda3/lib/python3.7/site-packages/scaper/core.py:1268: ScaperWarning: street_music event time (8.00) is too great given stretched event duration (2.75) and soundscape duration (10.00), changed to 7.25.\n",
      "  ScaperWarning)\n",
      "/Users/anderson675/miniconda3/lib/python3.7/site-packages/scaper/core.py:1268: ScaperWarning: air_conditioner event time (7.29) is too great given stretched event duration (2.83) and soundscape duration (10.00), changed to 7.17.\n",
      "  ScaperWarning)\n",
      "/Users/anderson675/miniconda3/lib/python3.7/site-packages/scaper/core.py:1172: ScaperWarning: dog_bark event duration (1.39) is greater that source duration (1.11), changing to 1.11\n",
      "  ScaperWarning)\n",
      "/Users/anderson675/miniconda3/lib/python3.7/site-packages/scaper/core.py:1172: ScaperWarning: car_horn event duration (0.73) is greater that source duration (0.07), changing to 0.07\n",
      "  ScaperWarning)\n"
     ]
    },
    {
     "name": "stdout",
     "output_type": "stream",
     "text": [
      "Generating soundscape: 28/200\n"
     ]
    },
    {
     "name": "stderr",
     "output_type": "stream",
     "text": [
      "/Users/anderson675/miniconda3/lib/python3.7/site-packages/scaper/core.py:1268: ScaperWarning: speech event time (7.02) is too great given stretched event duration (3.43) and soundscape duration (10.00), changed to 6.57.\n",
      "  ScaperWarning)\n"
     ]
    },
    {
     "name": "stdout",
     "output_type": "stream",
     "text": [
      "Generating soundscape: 29/200\n"
     ]
    },
    {
     "name": "stderr",
     "output_type": "stream",
     "text": [
      "/Users/anderson675/miniconda3/lib/python3.7/site-packages/scaper/core.py:1268: ScaperWarning: siren event time (9.31) is too great given stretched event duration (3.51) and soundscape duration (10.00), changed to 6.49.\n",
      "  ScaperWarning)\n",
      "/Users/anderson675/miniconda3/lib/python3.7/site-packages/scaper/core.py:1172: ScaperWarning: gun_shot event duration (1.59) is greater that source duration (0.80), changing to 0.80\n",
      "  ScaperWarning)\n"
     ]
    },
    {
     "name": "stdout",
     "output_type": "stream",
     "text": [
      "Generating soundscape: 30/200\n"
     ]
    },
    {
     "name": "stderr",
     "output_type": "stream",
     "text": [
      "/Users/anderson675/miniconda3/lib/python3.7/site-packages/scaper/core.py:1268: ScaperWarning: engine_idling event time (9.89) is too great given stretched event duration (2.99) and soundscape duration (10.00), changed to 7.01.\n",
      "  ScaperWarning)\n",
      "/Users/anderson675/miniconda3/lib/python3.7/site-packages/scaper/core.py:1268: ScaperWarning: dog_bark event time (9.51) is too great given stretched event duration (1.33) and soundscape duration (10.00), changed to 8.67.\n",
      "  ScaperWarning)\n"
     ]
    },
    {
     "name": "stdout",
     "output_type": "stream",
     "text": [
      "Generating soundscape: 31/200\n",
      "Generating soundscape: 32/200\n"
     ]
    },
    {
     "name": "stderr",
     "output_type": "stream",
     "text": [
      "/Users/anderson675/miniconda3/lib/python3.7/site-packages/scaper/core.py:1268: ScaperWarning: jackhammer event time (8.01) is too great given stretched event duration (4.49) and soundscape duration (10.00), changed to 5.51.\n",
      "  ScaperWarning)\n"
     ]
    },
    {
     "name": "stdout",
     "output_type": "stream",
     "text": [
      "Generating soundscape: 33/200\n"
     ]
    },
    {
     "name": "stderr",
     "output_type": "stream",
     "text": [
      "/Users/anderson675/miniconda3/lib/python3.7/site-packages/scaper/core.py:1268: ScaperWarning: speech event time (9.93) is too great given stretched event duration (2.72) and soundscape duration (10.00), changed to 7.28.\n",
      "  ScaperWarning)\n",
      "/Users/anderson675/miniconda3/lib/python3.7/site-packages/scaper/core.py:1268: ScaperWarning: engine_idling event time (8.46) is too great given stretched event duration (2.86) and soundscape duration (10.00), changed to 7.14.\n",
      "  ScaperWarning)\n",
      "/Users/anderson675/miniconda3/lib/python3.7/site-packages/scaper/core.py:1172: ScaperWarning: gun_shot event duration (2.00) is greater that source duration (1.01), changing to 1.01\n",
      "  ScaperWarning)\n",
      "/Users/anderson675/miniconda3/lib/python3.7/site-packages/scaper/core.py:1268: ScaperWarning: gun_shot event time (9.46) is too great given stretched event duration (1.20) and soundscape duration (10.00), changed to 8.80.\n",
      "  ScaperWarning)\n"
     ]
    },
    {
     "name": "stdout",
     "output_type": "stream",
     "text": [
      "Generating soundscape: 34/200\n"
     ]
    },
    {
     "name": "stderr",
     "output_type": "stream",
     "text": [
      "/Users/anderson675/miniconda3/lib/python3.7/site-packages/scaper/core.py:1172: ScaperWarning: car_horn event duration (1.83) is greater that source duration (0.20), changing to 0.20\n",
      "  ScaperWarning)\n",
      "/Users/anderson675/miniconda3/lib/python3.7/site-packages/scaper/core.py:1268: ScaperWarning: car_horn event time (9.96) is too great given stretched event duration (0.16) and soundscape duration (10.00), changed to 9.84.\n",
      "  ScaperWarning)\n"
     ]
    },
    {
     "name": "stdout",
     "output_type": "stream",
     "text": [
      "Generating soundscape: 35/200\n"
     ]
    },
    {
     "name": "stderr",
     "output_type": "stream",
     "text": [
      "/Users/anderson675/miniconda3/lib/python3.7/site-packages/scaper/core.py:1172: ScaperWarning: gun_shot event duration (3.88) is greater that source duration (2.42), changing to 2.42\n",
      "  ScaperWarning)\n",
      "/Users/anderson675/miniconda3/lib/python3.7/site-packages/scaper/core.py:1268: ScaperWarning: gun_shot event time (9.68) is too great given stretched event duration (2.31) and soundscape duration (10.00), changed to 7.69.\n",
      "  ScaperWarning)\n"
     ]
    },
    {
     "name": "stdout",
     "output_type": "stream",
     "text": [
      "Generating soundscape: 36/200\n"
     ]
    },
    {
     "name": "stderr",
     "output_type": "stream",
     "text": [
      "/Users/anderson675/miniconda3/lib/python3.7/site-packages/scaper/core.py:1268: ScaperWarning: dog_bark event time (7.37) is too great given stretched event duration (4.61) and soundscape duration (10.00), changed to 5.39.\n",
      "  ScaperWarning)\n"
     ]
    },
    {
     "name": "stdout",
     "output_type": "stream",
     "text": [
      "Generating soundscape: 37/200\n"
     ]
    },
    {
     "name": "stderr",
     "output_type": "stream",
     "text": [
      "/Users/anderson675/miniconda3/lib/python3.7/site-packages/scaper/core.py:1268: ScaperWarning: drilling event time (8.04) is too great given stretched event duration (2.66) and soundscape duration (10.00), changed to 7.34.\n",
      "  ScaperWarning)\n"
     ]
    },
    {
     "name": "stdout",
     "output_type": "stream",
     "text": [
      "Generating soundscape: 38/200\n"
     ]
    },
    {
     "name": "stderr",
     "output_type": "stream",
     "text": [
      "/Users/anderson675/miniconda3/lib/python3.7/site-packages/scaper/core.py:1172: ScaperWarning: gun_shot event duration (3.80) is greater that source duration (1.23), changing to 1.23\n",
      "  ScaperWarning)\n"
     ]
    },
    {
     "name": "stdout",
     "output_type": "stream",
     "text": [
      "Generating soundscape: 39/200\n",
      "Generating soundscape: 40/200\n",
      "Generating soundscape: 41/200\n"
     ]
    },
    {
     "name": "stderr",
     "output_type": "stream",
     "text": [
      "/Users/anderson675/miniconda3/lib/python3.7/site-packages/scaper/core.py:1172: ScaperWarning: gun_shot event duration (2.14) is greater that source duration (1.50), changing to 1.50\n",
      "  ScaperWarning)\n",
      "/Users/anderson675/miniconda3/lib/python3.7/site-packages/scaper/core.py:1268: ScaperWarning: gun_shot event time (9.41) is too great given stretched event duration (1.65) and soundscape duration (10.00), changed to 8.35.\n",
      "  ScaperWarning)\n"
     ]
    },
    {
     "name": "stdout",
     "output_type": "stream",
     "text": [
      "Generating soundscape: 42/200\n"
     ]
    },
    {
     "name": "stderr",
     "output_type": "stream",
     "text": [
      "/Users/anderson675/miniconda3/lib/python3.7/site-packages/scaper/core.py:1268: ScaperWarning: air_conditioner event time (9.81) is too great given stretched event duration (2.63) and soundscape duration (10.00), changed to 7.37.\n",
      "  ScaperWarning)\n",
      "/Users/anderson675/miniconda3/lib/python3.7/site-packages/scaper/core.py:1268: ScaperWarning: jackhammer event time (8.45) is too great given stretched event duration (3.04) and soundscape duration (10.00), changed to 6.96.\n",
      "  ScaperWarning)\n"
     ]
    },
    {
     "name": "stdout",
     "output_type": "stream",
     "text": [
      "Generating soundscape: 43/200\n"
     ]
    },
    {
     "name": "stderr",
     "output_type": "stream",
     "text": [
      "/Users/anderson675/miniconda3/lib/python3.7/site-packages/scaper/core.py:1268: ScaperWarning: gun_shot event time (9.68) is too great given stretched event duration (1.63) and soundscape duration (10.00), changed to 8.37.\n",
      "  ScaperWarning)\n"
     ]
    },
    {
     "name": "stdout",
     "output_type": "stream",
     "text": [
      "Generating soundscape: 44/200\n"
     ]
    },
    {
     "name": "stderr",
     "output_type": "stream",
     "text": [
      "/Users/anderson675/miniconda3/lib/python3.7/site-packages/scaper/core.py:1268: ScaperWarning: engine_idling event time (6.67) is too great given stretched event duration (3.69) and soundscape duration (10.00), changed to 6.31.\n",
      "  ScaperWarning)\n"
     ]
    },
    {
     "name": "stdout",
     "output_type": "stream",
     "text": [
      "Generating soundscape: 45/200\n"
     ]
    },
    {
     "name": "stderr",
     "output_type": "stream",
     "text": [
      "/Users/anderson675/miniconda3/lib/python3.7/site-packages/scaper/core.py:1172: ScaperWarning: gun_shot event duration (2.90) is greater that source duration (1.10), changing to 1.10\n",
      "  ScaperWarning)\n",
      "/Users/anderson675/miniconda3/lib/python3.7/site-packages/scaper/core.py:1268: ScaperWarning: jackhammer event time (8.20) is too great given stretched event duration (3.36) and soundscape duration (10.00), changed to 6.64.\n",
      "  ScaperWarning)\n",
      "/Users/anderson675/miniconda3/lib/python3.7/site-packages/scaper/core.py:1268: ScaperWarning: engine_idling event time (7.92) is too great given stretched event duration (2.59) and soundscape duration (10.00), changed to 7.41.\n",
      "  ScaperWarning)\n"
     ]
    },
    {
     "name": "stdout",
     "output_type": "stream",
     "text": [
      "Generating soundscape: 46/200\n"
     ]
    },
    {
     "name": "stderr",
     "output_type": "stream",
     "text": [
      "/Users/anderson675/miniconda3/lib/python3.7/site-packages/scaper/core.py:1172: ScaperWarning: car_horn event duration (3.93) is greater that source duration (2.20), changing to 2.20\n",
      "  ScaperWarning)\n",
      "/Users/anderson675/miniconda3/lib/python3.7/site-packages/scaper/core.py:1268: ScaperWarning: car_horn event time (8.76) is too great given stretched event duration (2.22) and soundscape duration (10.00), changed to 7.78.\n",
      "  ScaperWarning)\n",
      "/Users/anderson675/miniconda3/lib/python3.7/site-packages/scaper/core.py:1268: ScaperWarning: street_music event time (8.26) is too great given stretched event duration (2.03) and soundscape duration (10.00), changed to 7.97.\n",
      "  ScaperWarning)\n"
     ]
    },
    {
     "name": "stdout",
     "output_type": "stream",
     "text": [
      "Generating soundscape: 47/200\n",
      "Generating soundscape: 48/200\n"
     ]
    },
    {
     "name": "stderr",
     "output_type": "stream",
     "text": [
      "/Users/anderson675/miniconda3/lib/python3.7/site-packages/scaper/core.py:1268: ScaperWarning: siren event time (7.50) is too great given stretched event duration (4.55) and soundscape duration (10.00), changed to 5.45.\n",
      "  ScaperWarning)\n",
      "/Users/anderson675/miniconda3/lib/python3.7/site-packages/scaper/core.py:1268: ScaperWarning: engine_idling event time (5.68) is too great given stretched event duration (4.34) and soundscape duration (10.00), changed to 5.66.\n",
      "  ScaperWarning)\n",
      "/Users/anderson675/miniconda3/lib/python3.7/site-packages/scaper/core.py:1268: ScaperWarning: air_conditioner event time (8.29) is too great given stretched event duration (2.59) and soundscape duration (10.00), changed to 7.41.\n",
      "  ScaperWarning)\n",
      "/Users/anderson675/miniconda3/lib/python3.7/site-packages/scaper/core.py:1268: ScaperWarning: jackhammer event time (8.73) is too great given stretched event duration (2.07) and soundscape duration (10.00), changed to 7.93.\n",
      "  ScaperWarning)\n",
      "/Users/anderson675/miniconda3/lib/python3.7/site-packages/scaper/core.py:1268: ScaperWarning: air_conditioner event time (9.90) is too great given stretched event duration (4.36) and soundscape duration (10.00), changed to 5.64.\n",
      "  ScaperWarning)\n"
     ]
    },
    {
     "name": "stdout",
     "output_type": "stream",
     "text": [
      "Generating soundscape: 49/200\n"
     ]
    },
    {
     "name": "stderr",
     "output_type": "stream",
     "text": [
      "/Users/anderson675/miniconda3/lib/python3.7/site-packages/scaper/core.py:1268: ScaperWarning: gun_shot event time (9.49) is too great given stretched event duration (1.55) and soundscape duration (10.00), changed to 8.45.\n",
      "  ScaperWarning)\n"
     ]
    },
    {
     "name": "stdout",
     "output_type": "stream",
     "text": [
      "Generating soundscape: 50/200\n"
     ]
    },
    {
     "name": "stderr",
     "output_type": "stream",
     "text": [
      "/Users/anderson675/miniconda3/lib/python3.7/site-packages/scaper/core.py:1268: ScaperWarning: siren event time (6.87) is too great given stretched event duration (3.19) and soundscape duration (10.00), changed to 6.81.\n",
      "  ScaperWarning)\n",
      "/Users/anderson675/miniconda3/lib/python3.7/site-packages/scaper/core.py:1172: ScaperWarning: gun_shot event duration (2.65) is greater that source duration (1.53), changing to 1.53\n",
      "  ScaperWarning)\n",
      "/Users/anderson675/miniconda3/lib/python3.7/site-packages/scaper/core.py:1268: ScaperWarning: gun_shot event time (8.63) is too great given stretched event duration (1.64) and soundscape duration (10.00), changed to 8.36.\n",
      "  ScaperWarning)\n",
      "/Users/anderson675/miniconda3/lib/python3.7/site-packages/scaper/core.py:1268: ScaperWarning: drilling event time (8.77) is too great given stretched event duration (1.44) and soundscape duration (10.00), changed to 8.56.\n",
      "  ScaperWarning)\n"
     ]
    },
    {
     "name": "stdout",
     "output_type": "stream",
     "text": [
      "Generating soundscape: 51/200\n"
     ]
    },
    {
     "name": "stderr",
     "output_type": "stream",
     "text": [
      "/Users/anderson675/miniconda3/lib/python3.7/site-packages/scaper/core.py:1268: ScaperWarning: jackhammer event time (6.75) is too great given stretched event duration (3.39) and soundscape duration (10.00), changed to 6.61.\n",
      "  ScaperWarning)\n",
      "/Users/anderson675/miniconda3/lib/python3.7/site-packages/scaper/core.py:1268: ScaperWarning: car_horn event time (7.69) is too great given stretched event duration (3.04) and soundscape duration (10.00), changed to 6.96.\n",
      "  ScaperWarning)\n",
      "/Users/anderson675/miniconda3/lib/python3.7/site-packages/scaper/core.py:1172: ScaperWarning: jackhammer event duration (2.46) is greater that source duration (1.44), changing to 1.44\n",
      "  ScaperWarning)\n"
     ]
    },
    {
     "name": "stdout",
     "output_type": "stream",
     "text": [
      "Generating soundscape: 52/200\n"
     ]
    },
    {
     "name": "stderr",
     "output_type": "stream",
     "text": [
      "/Users/anderson675/miniconda3/lib/python3.7/site-packages/scaper/core.py:1268: ScaperWarning: air_conditioner event time (8.07) is too great given stretched event duration (2.04) and soundscape duration (10.00), changed to 7.96.\n",
      "  ScaperWarning)\n",
      "/Users/anderson675/miniconda3/lib/python3.7/site-packages/scaper/core.py:1268: ScaperWarning: siren event time (8.95) is too great given stretched event duration (1.32) and soundscape duration (10.00), changed to 8.68.\n",
      "  ScaperWarning)\n"
     ]
    },
    {
     "name": "stdout",
     "output_type": "stream",
     "text": [
      "Generating soundscape: 53/200\n"
     ]
    },
    {
     "name": "stderr",
     "output_type": "stream",
     "text": [
      "/Users/anderson675/miniconda3/lib/python3.7/site-packages/scaper/core.py:1268: ScaperWarning: dog_bark event time (8.67) is too great given stretched event duration (3.51) and soundscape duration (10.00), changed to 6.49.\n",
      "  ScaperWarning)\n"
     ]
    },
    {
     "name": "stdout",
     "output_type": "stream",
     "text": [
      "Generating soundscape: 54/200\n"
     ]
    },
    {
     "name": "stderr",
     "output_type": "stream",
     "text": [
      "/Users/anderson675/miniconda3/lib/python3.7/site-packages/scaper/core.py:1172: ScaperWarning: car_horn event duration (3.76) is greater that source duration (0.54), changing to 0.54\n",
      "  ScaperWarning)\n",
      "/Users/anderson675/miniconda3/lib/python3.7/site-packages/scaper/core.py:1172: ScaperWarning: dog_bark event duration (1.13) is greater that source duration (0.71), changing to 0.71\n",
      "  ScaperWarning)\n"
     ]
    },
    {
     "name": "stdout",
     "output_type": "stream",
     "text": [
      "Generating soundscape: 55/200\n"
     ]
    },
    {
     "name": "stderr",
     "output_type": "stream",
     "text": [
      "/Users/anderson675/miniconda3/lib/python3.7/site-packages/scaper/core.py:1172: ScaperWarning: car_horn event duration (2.00) is greater that source duration (0.78), changing to 0.78\n",
      "  ScaperWarning)\n",
      "/Users/anderson675/miniconda3/lib/python3.7/site-packages/scaper/core.py:1268: ScaperWarning: air_conditioner event time (7.91) is too great given stretched event duration (3.61) and soundscape duration (10.00), changed to 6.39.\n",
      "  ScaperWarning)\n",
      "/Users/anderson675/miniconda3/lib/python3.7/site-packages/scaper/core.py:1268: ScaperWarning: street_music event time (7.98) is too great given stretched event duration (3.00) and soundscape duration (10.00), changed to 7.00.\n",
      "  ScaperWarning)\n",
      "/Users/anderson675/miniconda3/lib/python3.7/site-packages/scaper/core.py:1172: ScaperWarning: gun_shot event duration (2.17) is greater that source duration (0.17), changing to 0.17\n",
      "  ScaperWarning)\n"
     ]
    },
    {
     "name": "stdout",
     "output_type": "stream",
     "text": [
      "Generating soundscape: 56/200\n",
      "Generating soundscape: 57/200\n"
     ]
    },
    {
     "name": "stderr",
     "output_type": "stream",
     "text": [
      "/Users/anderson675/miniconda3/lib/python3.7/site-packages/scaper/core.py:1268: ScaperWarning: drilling event time (8.46) is too great given stretched event duration (2.35) and soundscape duration (10.00), changed to 7.65.\n",
      "  ScaperWarning)\n",
      "/Users/anderson675/miniconda3/lib/python3.7/site-packages/scaper/core.py:1268: ScaperWarning: siren event time (8.85) is too great given stretched event duration (2.65) and soundscape duration (10.00), changed to 7.35.\n",
      "  ScaperWarning)\n"
     ]
    },
    {
     "name": "stdout",
     "output_type": "stream",
     "text": [
      "Generating soundscape: 58/200\n"
     ]
    },
    {
     "name": "stderr",
     "output_type": "stream",
     "text": [
      "/Users/anderson675/miniconda3/lib/python3.7/site-packages/scaper/core.py:1172: ScaperWarning: car_horn event duration (1.44) is greater that source duration (0.42), changing to 0.42\n",
      "  ScaperWarning)\n",
      "/Users/anderson675/miniconda3/lib/python3.7/site-packages/scaper/core.py:1172: ScaperWarning: car_horn event duration (3.57) is greater that source duration (0.45), changing to 0.45\n",
      "  ScaperWarning)\n",
      "/Users/anderson675/miniconda3/lib/python3.7/site-packages/scaper/core.py:1172: ScaperWarning: gun_shot event duration (0.60) is greater that source duration (0.56), changing to 0.56\n",
      "  ScaperWarning)\n",
      "/Users/anderson675/miniconda3/lib/python3.7/site-packages/scaper/core.py:1172: ScaperWarning: gun_shot event duration (2.69) is greater that source duration (1.41), changing to 1.41\n",
      "  ScaperWarning)\n",
      "/Users/anderson675/miniconda3/lib/python3.7/site-packages/scaper/core.py:1268: ScaperWarning: speech event time (8.73) is too great given stretched event duration (2.43) and soundscape duration (10.00), changed to 7.57.\n",
      "  ScaperWarning)\n"
     ]
    },
    {
     "name": "stdout",
     "output_type": "stream",
     "text": [
      "Generating soundscape: 59/200\n"
     ]
    },
    {
     "name": "stderr",
     "output_type": "stream",
     "text": [
      "/Users/anderson675/miniconda3/lib/python3.7/site-packages/scaper/core.py:1268: ScaperWarning: engine_idling event time (7.76) is too great given stretched event duration (2.97) and soundscape duration (10.00), changed to 7.03.\n",
      "  ScaperWarning)\n"
     ]
    },
    {
     "name": "stdout",
     "output_type": "stream",
     "text": [
      "Generating soundscape: 60/200\n"
     ]
    },
    {
     "name": "stderr",
     "output_type": "stream",
     "text": [
      "/Users/anderson675/miniconda3/lib/python3.7/site-packages/scaper/core.py:1172: ScaperWarning: gun_shot event duration (1.16) is greater that source duration (1.06), changing to 1.06\n",
      "  ScaperWarning)\n",
      "/Users/anderson675/miniconda3/lib/python3.7/site-packages/scaper/core.py:1172: ScaperWarning: dog_bark event duration (3.17) is greater that source duration (1.31), changing to 1.31\n",
      "  ScaperWarning)\n"
     ]
    },
    {
     "name": "stdout",
     "output_type": "stream",
     "text": [
      "Generating soundscape: 61/200\n"
     ]
    },
    {
     "name": "stderr",
     "output_type": "stream",
     "text": [
      "/Users/anderson675/miniconda3/lib/python3.7/site-packages/scaper/core.py:1172: ScaperWarning: gun_shot event duration (3.63) is greater that source duration (1.75), changing to 1.75\n",
      "  ScaperWarning)\n"
     ]
    },
    {
     "name": "stdout",
     "output_type": "stream",
     "text": [
      "Generating soundscape: 62/200\n"
     ]
    },
    {
     "name": "stderr",
     "output_type": "stream",
     "text": [
      "/Users/anderson675/miniconda3/lib/python3.7/site-packages/scaper/core.py:1268: ScaperWarning: street_music event time (7.44) is too great given stretched event duration (2.95) and soundscape duration (10.00), changed to 7.05.\n",
      "  ScaperWarning)\n",
      "/Users/anderson675/miniconda3/lib/python3.7/site-packages/scaper/core.py:1172: ScaperWarning: gun_shot event duration (1.67) is greater that source duration (0.87), changing to 0.87\n",
      "  ScaperWarning)\n"
     ]
    },
    {
     "name": "stdout",
     "output_type": "stream",
     "text": [
      "Generating soundscape: 63/200\n"
     ]
    },
    {
     "name": "stderr",
     "output_type": "stream",
     "text": [
      "/Users/anderson675/miniconda3/lib/python3.7/site-packages/scaper/core.py:1268: ScaperWarning: drilling event time (7.96) is too great given stretched event duration (3.24) and soundscape duration (10.00), changed to 6.76.\n",
      "  ScaperWarning)\n",
      "/Users/anderson675/miniconda3/lib/python3.7/site-packages/scaper/core.py:1268: ScaperWarning: drilling event time (9.11) is too great given stretched event duration (2.22) and soundscape duration (10.00), changed to 7.78.\n",
      "  ScaperWarning)\n"
     ]
    },
    {
     "name": "stdout",
     "output_type": "stream",
     "text": [
      "Generating soundscape: 64/200\n",
      "Generating soundscape: 65/200\n",
      "Generating soundscape: 66/200\n"
     ]
    },
    {
     "name": "stderr",
     "output_type": "stream",
     "text": [
      "/Users/anderson675/miniconda3/lib/python3.7/site-packages/scaper/core.py:1172: ScaperWarning: gun_shot event duration (2.24) is greater that source duration (1.23), changing to 1.23\n",
      "  ScaperWarning)\n",
      "/Users/anderson675/miniconda3/lib/python3.7/site-packages/scaper/core.py:1268: ScaperWarning: air_conditioner event time (9.54) is too great given stretched event duration (2.87) and soundscape duration (10.00), changed to 7.13.\n",
      "  ScaperWarning)\n",
      "/Users/anderson675/miniconda3/lib/python3.7/site-packages/scaper/core.py:1172: ScaperWarning: car_horn event duration (2.37) is greater that source duration (0.37), changing to 0.37\n",
      "  ScaperWarning)\n",
      "/Users/anderson675/miniconda3/lib/python3.7/site-packages/scaper/core.py:1172: ScaperWarning: air_conditioner event duration (2.23) is greater that source duration (2.04), changing to 2.04\n",
      "  ScaperWarning)\n",
      "/Users/anderson675/miniconda3/lib/python3.7/site-packages/scaper/core.py:1268: ScaperWarning: jackhammer event time (6.21) is too great given stretched event duration (4.52) and soundscape duration (10.00), changed to 5.48.\n",
      "  ScaperWarning)\n"
     ]
    },
    {
     "name": "stdout",
     "output_type": "stream",
     "text": [
      "Generating soundscape: 67/200\n"
     ]
    },
    {
     "name": "stderr",
     "output_type": "stream",
     "text": [
      "/Users/anderson675/miniconda3/lib/python3.7/site-packages/scaper/core.py:1268: ScaperWarning: car_horn event time (9.65) is too great given stretched event duration (0.87) and soundscape duration (10.00), changed to 9.13.\n",
      "  ScaperWarning)\n"
     ]
    },
    {
     "name": "stdout",
     "output_type": "stream",
     "text": [
      "Generating soundscape: 68/200\n"
     ]
    },
    {
     "name": "stderr",
     "output_type": "stream",
     "text": [
      "/Users/anderson675/miniconda3/lib/python3.7/site-packages/scaper/core.py:1268: ScaperWarning: jackhammer event time (8.55) is too great given stretched event duration (1.48) and soundscape duration (10.00), changed to 8.52.\n",
      "  ScaperWarning)\n",
      "/Users/anderson675/miniconda3/lib/python3.7/site-packages/scaper/core.py:1172: ScaperWarning: jackhammer event duration (3.98) is greater that source duration (1.17), changing to 1.17\n",
      "  ScaperWarning)\n",
      "/Users/anderson675/miniconda3/lib/python3.7/site-packages/scaper/core.py:1268: ScaperWarning: drilling event time (8.42) is too great given stretched event duration (2.28) and soundscape duration (10.00), changed to 7.72.\n",
      "  ScaperWarning)\n",
      "/Users/anderson675/miniconda3/lib/python3.7/site-packages/scaper/core.py:1172: ScaperWarning: drilling event duration (3.29) is greater that source duration (0.82), changing to 0.82\n",
      "  ScaperWarning)\n"
     ]
    },
    {
     "name": "stdout",
     "output_type": "stream",
     "text": [
      "Generating soundscape: 69/200\n"
     ]
    },
    {
     "name": "stderr",
     "output_type": "stream",
     "text": [
      "/Users/anderson675/miniconda3/lib/python3.7/site-packages/scaper/core.py:1268: ScaperWarning: speech event time (9.14) is too great given stretched event duration (1.14) and soundscape duration (10.00), changed to 8.86.\n",
      "  ScaperWarning)\n",
      "/Users/anderson675/miniconda3/lib/python3.7/site-packages/scaper/core.py:1172: ScaperWarning: gun_shot event duration (1.95) is greater that source duration (1.18), changing to 1.18\n",
      "  ScaperWarning)\n"
     ]
    },
    {
     "name": "stdout",
     "output_type": "stream",
     "text": [
      "Generating soundscape: 70/200\n"
     ]
    },
    {
     "name": "stderr",
     "output_type": "stream",
     "text": [
      "/Users/anderson675/miniconda3/lib/python3.7/site-packages/scaper/core.py:1172: ScaperWarning: gun_shot event duration (2.08) is greater that source duration (1.14), changing to 1.14\n",
      "  ScaperWarning)\n",
      "/Users/anderson675/miniconda3/lib/python3.7/site-packages/scaper/core.py:1268: ScaperWarning: gun_shot event time (9.70) is too great given stretched event duration (0.69) and soundscape duration (10.00), changed to 9.31.\n",
      "  ScaperWarning)\n",
      "/Users/anderson675/miniconda3/lib/python3.7/site-packages/scaper/core.py:1268: ScaperWarning: siren event time (9.60) is too great given stretched event duration (0.79) and soundscape duration (10.00), changed to 9.21.\n",
      "  ScaperWarning)\n"
     ]
    },
    {
     "name": "stdout",
     "output_type": "stream",
     "text": [
      "Generating soundscape: 71/200\n"
     ]
    },
    {
     "name": "stderr",
     "output_type": "stream",
     "text": [
      "/Users/anderson675/miniconda3/lib/python3.7/site-packages/scaper/core.py:1268: ScaperWarning: car_horn event time (9.38) is too great given stretched event duration (1.85) and soundscape duration (10.00), changed to 8.15.\n",
      "  ScaperWarning)\n",
      "/Users/anderson675/miniconda3/lib/python3.7/site-packages/scaper/core.py:1172: ScaperWarning: car_horn event duration (1.06) is greater that source duration (0.85), changing to 0.85\n",
      "  ScaperWarning)\n",
      "/Users/anderson675/miniconda3/lib/python3.7/site-packages/scaper/core.py:1268: ScaperWarning: car_horn event time (9.06) is too great given stretched event duration (0.98) and soundscape duration (10.00), changed to 9.02.\n",
      "  ScaperWarning)\n",
      "/Users/anderson675/miniconda3/lib/python3.7/site-packages/scaper/core.py:1172: ScaperWarning: jackhammer event duration (2.49) is greater that source duration (2.15), changing to 2.15\n",
      "  ScaperWarning)\n"
     ]
    },
    {
     "name": "stdout",
     "output_type": "stream",
     "text": [
      "Generating soundscape: 72/200\n"
     ]
    },
    {
     "name": "stderr",
     "output_type": "stream",
     "text": [
      "/Users/anderson675/miniconda3/lib/python3.7/site-packages/scaper/core.py:1268: ScaperWarning: dog_bark event time (9.71) is too great given stretched event duration (1.66) and soundscape duration (10.00), changed to 8.34.\n",
      "  ScaperWarning)\n",
      "/Users/anderson675/miniconda3/lib/python3.7/site-packages/scaper/core.py:1268: ScaperWarning: air_conditioner event time (9.79) is too great given stretched event duration (2.91) and soundscape duration (10.00), changed to 7.09.\n",
      "  ScaperWarning)\n"
     ]
    },
    {
     "name": "stdout",
     "output_type": "stream",
     "text": [
      "Generating soundscape: 73/200\n"
     ]
    },
    {
     "name": "stderr",
     "output_type": "stream",
     "text": [
      "/Users/anderson675/miniconda3/lib/python3.7/site-packages/scaper/core.py:1268: ScaperWarning: dog_bark event time (9.29) is too great given stretched event duration (3.80) and soundscape duration (10.00), changed to 6.20.\n",
      "  ScaperWarning)\n"
     ]
    },
    {
     "name": "stdout",
     "output_type": "stream",
     "text": [
      "Generating soundscape: 74/200\n"
     ]
    },
    {
     "name": "stderr",
     "output_type": "stream",
     "text": [
      "/Users/anderson675/miniconda3/lib/python3.7/site-packages/scaper/core.py:1172: ScaperWarning: gun_shot event duration (3.02) is greater that source duration (2.25), changing to 2.25\n",
      "  ScaperWarning)\n",
      "/Users/anderson675/miniconda3/lib/python3.7/site-packages/scaper/core.py:1268: ScaperWarning: gun_shot event time (7.75) is too great given stretched event duration (2.50) and soundscape duration (10.00), changed to 7.50.\n",
      "  ScaperWarning)\n",
      "/Users/anderson675/miniconda3/lib/python3.7/site-packages/scaper/core.py:1172: ScaperWarning: jackhammer event duration (2.17) is greater that source duration (0.99), changing to 0.99\n",
      "  ScaperWarning)\n"
     ]
    },
    {
     "name": "stdout",
     "output_type": "stream",
     "text": [
      "Generating soundscape: 75/200\n"
     ]
    },
    {
     "name": "stderr",
     "output_type": "stream",
     "text": [
      "/Users/anderson675/miniconda3/lib/python3.7/site-packages/scaper/core.py:1172: ScaperWarning: car_horn event duration (2.53) is greater that source duration (1.09), changing to 1.09\n",
      "  ScaperWarning)\n"
     ]
    },
    {
     "name": "stdout",
     "output_type": "stream",
     "text": [
      "Generating soundscape: 76/200\n"
     ]
    },
    {
     "name": "stderr",
     "output_type": "stream",
     "text": [
      "/Users/anderson675/miniconda3/lib/python3.7/site-packages/scaper/core.py:1172: ScaperWarning: gun_shot event duration (2.55) is greater that source duration (1.62), changing to 1.62\n",
      "  ScaperWarning)\n",
      "/Users/anderson675/miniconda3/lib/python3.7/site-packages/scaper/core.py:1268: ScaperWarning: gun_shot event time (8.71) is too great given stretched event duration (1.43) and soundscape duration (10.00), changed to 8.57.\n",
      "  ScaperWarning)\n",
      "/Users/anderson675/miniconda3/lib/python3.7/site-packages/scaper/core.py:1172: ScaperWarning: gun_shot event duration (3.14) is greater that source duration (1.01), changing to 1.01\n",
      "  ScaperWarning)\n"
     ]
    },
    {
     "name": "stdout",
     "output_type": "stream",
     "text": [
      "Generating soundscape: 77/200\n"
     ]
    },
    {
     "name": "stderr",
     "output_type": "stream",
     "text": [
      "/Users/anderson675/miniconda3/lib/python3.7/site-packages/scaper/core.py:1268: ScaperWarning: air_conditioner event time (9.27) is too great given stretched event duration (0.99) and soundscape duration (10.00), changed to 9.01.\n",
      "  ScaperWarning)\n",
      "/Users/anderson675/miniconda3/lib/python3.7/site-packages/scaper/core.py:1268: ScaperWarning: street_music event time (8.58) is too great given stretched event duration (1.54) and soundscape duration (10.00), changed to 8.46.\n",
      "  ScaperWarning)\n",
      "/Users/anderson675/miniconda3/lib/python3.7/site-packages/scaper/core.py:1268: ScaperWarning: air_conditioner event time (9.84) is too great given stretched event duration (3.80) and soundscape duration (10.00), changed to 6.20.\n",
      "  ScaperWarning)\n",
      "/Users/anderson675/miniconda3/lib/python3.7/site-packages/scaper/core.py:1268: ScaperWarning: gun_shot event time (9.08) is too great given stretched event duration (0.99) and soundscape duration (10.00), changed to 9.01.\n",
      "  ScaperWarning)\n"
     ]
    },
    {
     "name": "stdout",
     "output_type": "stream",
     "text": [
      "Generating soundscape: 78/200\n"
     ]
    },
    {
     "name": "stderr",
     "output_type": "stream",
     "text": [
      "/Users/anderson675/miniconda3/lib/python3.7/site-packages/scaper/core.py:1172: ScaperWarning: gun_shot event duration (3.86) is greater that source duration (3.18), changing to 3.18\n",
      "  ScaperWarning)\n",
      "/Users/anderson675/miniconda3/lib/python3.7/site-packages/scaper/core.py:1268: ScaperWarning: gun_shot event time (7.51) is too great given stretched event duration (2.94) and soundscape duration (10.00), changed to 7.06.\n",
      "  ScaperWarning)\n",
      "/Users/anderson675/miniconda3/lib/python3.7/site-packages/scaper/core.py:1172: ScaperWarning: dog_bark event duration (3.78) is greater that source duration (2.14), changing to 2.14\n",
      "  ScaperWarning)\n",
      "/Users/anderson675/miniconda3/lib/python3.7/site-packages/scaper/core.py:1172: ScaperWarning: gun_shot event duration (0.72) is greater that source duration (0.58), changing to 0.58\n",
      "  ScaperWarning)\n"
     ]
    },
    {
     "name": "stdout",
     "output_type": "stream",
     "text": [
      "Generating soundscape: 79/200\n"
     ]
    },
    {
     "name": "stderr",
     "output_type": "stream",
     "text": [
      "/Users/anderson675/miniconda3/lib/python3.7/site-packages/scaper/core.py:1172: ScaperWarning: car_horn event duration (1.51) is greater that source duration (0.63), changing to 0.63\n",
      "  ScaperWarning)\n",
      "/Users/anderson675/miniconda3/lib/python3.7/site-packages/scaper/core.py:1172: ScaperWarning: gun_shot event duration (3.88) is greater that source duration (1.23), changing to 1.23\n",
      "  ScaperWarning)\n",
      "/Users/anderson675/miniconda3/lib/python3.7/site-packages/scaper/core.py:1268: ScaperWarning: speech event time (7.14) is too great given stretched event duration (4.15) and soundscape duration (10.00), changed to 5.85.\n",
      "  ScaperWarning)\n"
     ]
    },
    {
     "name": "stdout",
     "output_type": "stream",
     "text": [
      "Generating soundscape: 80/200\n"
     ]
    },
    {
     "name": "stderr",
     "output_type": "stream",
     "text": [
      "/Users/anderson675/miniconda3/lib/python3.7/site-packages/scaper/core.py:1268: ScaperWarning: siren event time (8.42) is too great given stretched event duration (1.95) and soundscape duration (10.00), changed to 8.05.\n",
      "  ScaperWarning)\n",
      "/Users/anderson675/miniconda3/lib/python3.7/site-packages/scaper/core.py:1268: ScaperWarning: engine_idling event time (7.64) is too great given stretched event duration (3.96) and soundscape duration (10.00), changed to 6.04.\n",
      "  ScaperWarning)\n",
      "/Users/anderson675/miniconda3/lib/python3.7/site-packages/scaper/core.py:1268: ScaperWarning: drilling event time (8.08) is too great given stretched event duration (3.36) and soundscape duration (10.00), changed to 6.64.\n",
      "  ScaperWarning)\n"
     ]
    },
    {
     "name": "stdout",
     "output_type": "stream",
     "text": [
      "Generating soundscape: 81/200\n",
      "Generating soundscape: 82/200\n"
     ]
    },
    {
     "name": "stderr",
     "output_type": "stream",
     "text": [
      "/Users/anderson675/miniconda3/lib/python3.7/site-packages/scaper/core.py:1268: ScaperWarning: engine_idling event time (9.83) is too great given stretched event duration (1.24) and soundscape duration (10.00), changed to 8.76.\n",
      "  ScaperWarning)\n",
      "/Users/anderson675/miniconda3/lib/python3.7/site-packages/scaper/core.py:1172: ScaperWarning: gun_shot event duration (1.69) is greater that source duration (1.68), changing to 1.68\n",
      "  ScaperWarning)\n",
      "/Users/anderson675/miniconda3/lib/python3.7/site-packages/scaper/core.py:1268: ScaperWarning: street_music event time (9.16) is too great given stretched event duration (3.03) and soundscape duration (10.00), changed to 6.97.\n",
      "  ScaperWarning)\n"
     ]
    },
    {
     "name": "stdout",
     "output_type": "stream",
     "text": [
      "Generating soundscape: 83/200\n"
     ]
    },
    {
     "name": "stderr",
     "output_type": "stream",
     "text": [
      "/Users/anderson675/miniconda3/lib/python3.7/site-packages/scaper/core.py:1268: ScaperWarning: engine_idling event time (9.70) is too great given stretched event duration (0.56) and soundscape duration (10.00), changed to 9.44.\n",
      "  ScaperWarning)\n",
      "/Users/anderson675/miniconda3/lib/python3.7/site-packages/scaper/core.py:1268: ScaperWarning: siren event time (8.98) is too great given stretched event duration (3.83) and soundscape duration (10.00), changed to 6.17.\n",
      "  ScaperWarning)\n",
      "/Users/anderson675/miniconda3/lib/python3.7/site-packages/scaper/core.py:1268: ScaperWarning: speech event time (9.41) is too great given stretched event duration (0.77) and soundscape duration (10.00), changed to 9.23.\n",
      "  ScaperWarning)\n",
      "/Users/anderson675/miniconda3/lib/python3.7/site-packages/scaper/core.py:1268: ScaperWarning: siren event time (9.90) is too great given stretched event duration (0.94) and soundscape duration (10.00), changed to 9.06.\n",
      "  ScaperWarning)\n"
     ]
    },
    {
     "name": "stdout",
     "output_type": "stream",
     "text": [
      "Generating soundscape: 84/200\n"
     ]
    },
    {
     "name": "stderr",
     "output_type": "stream",
     "text": [
      "/Users/anderson675/miniconda3/lib/python3.7/site-packages/scaper/core.py:1268: ScaperWarning: air_conditioner event time (7.01) is too great given stretched event duration (3.36) and soundscape duration (10.00), changed to 6.64.\n",
      "  ScaperWarning)\n",
      "/Users/anderson675/miniconda3/lib/python3.7/site-packages/scaper/core.py:1268: ScaperWarning: engine_idling event time (8.37) is too great given stretched event duration (2.98) and soundscape duration (10.00), changed to 7.02.\n",
      "  ScaperWarning)\n",
      "/Users/anderson675/miniconda3/lib/python3.7/site-packages/scaper/core.py:1172: ScaperWarning: car_horn event duration (0.56) is greater that source duration (0.49), changing to 0.49\n",
      "  ScaperWarning)\n"
     ]
    },
    {
     "name": "stdout",
     "output_type": "stream",
     "text": [
      "Generating soundscape: 85/200\n"
     ]
    },
    {
     "name": "stderr",
     "output_type": "stream",
     "text": [
      "/Users/anderson675/miniconda3/lib/python3.7/site-packages/scaper/core.py:1268: ScaperWarning: siren event time (9.04) is too great given stretched event duration (4.53) and soundscape duration (10.00), changed to 5.47.\n",
      "  ScaperWarning)\n"
     ]
    },
    {
     "name": "stdout",
     "output_type": "stream",
     "text": [
      "Generating soundscape: 86/200\n"
     ]
    },
    {
     "name": "stderr",
     "output_type": "stream",
     "text": [
      "/Users/anderson675/miniconda3/lib/python3.7/site-packages/scaper/core.py:1172: ScaperWarning: jackhammer event duration (1.45) is greater that source duration (1.23), changing to 1.23\n",
      "  ScaperWarning)\n"
     ]
    },
    {
     "name": "stdout",
     "output_type": "stream",
     "text": [
      "Generating soundscape: 87/200\n"
     ]
    },
    {
     "name": "stderr",
     "output_type": "stream",
     "text": [
      "/Users/anderson675/miniconda3/lib/python3.7/site-packages/scaper/core.py:1172: ScaperWarning: siren event duration (2.65) is greater that source duration (0.93), changing to 0.93\n",
      "  ScaperWarning)\n",
      "/Users/anderson675/miniconda3/lib/python3.7/site-packages/scaper/core.py:1268: ScaperWarning: dog_bark event time (9.58) is too great given stretched event duration (3.44) and soundscape duration (10.00), changed to 6.56.\n",
      "  ScaperWarning)\n"
     ]
    },
    {
     "name": "stdout",
     "output_type": "stream",
     "text": [
      "Generating soundscape: 88/200\n"
     ]
    },
    {
     "name": "stderr",
     "output_type": "stream",
     "text": [
      "/Users/anderson675/miniconda3/lib/python3.7/site-packages/scaper/core.py:1172: ScaperWarning: car_horn event duration (1.34) is greater that source duration (1.34), changing to 1.34\n",
      "  ScaperWarning)\n",
      "/Users/anderson675/miniconda3/lib/python3.7/site-packages/scaper/core.py:1172: ScaperWarning: gun_shot event duration (1.68) is greater that source duration (1.08), changing to 1.08\n",
      "  ScaperWarning)\n",
      "/Users/anderson675/miniconda3/lib/python3.7/site-packages/scaper/core.py:1172: ScaperWarning: gun_shot event duration (3.30) is greater that source duration (0.28), changing to 0.28\n",
      "  ScaperWarning)\n"
     ]
    },
    {
     "name": "stdout",
     "output_type": "stream",
     "text": [
      "Generating soundscape: 89/200\n"
     ]
    },
    {
     "name": "stderr",
     "output_type": "stream",
     "text": [
      "/Users/anderson675/miniconda3/lib/python3.7/site-packages/scaper/core.py:1172: ScaperWarning: gun_shot event duration (3.12) is greater that source duration (2.44), changing to 2.44\n",
      "  ScaperWarning)\n",
      "/Users/anderson675/miniconda3/lib/python3.7/site-packages/scaper/core.py:1268: ScaperWarning: gun_shot event time (9.81) is too great given stretched event duration (2.66) and soundscape duration (10.00), changed to 7.34.\n",
      "  ScaperWarning)\n"
     ]
    },
    {
     "name": "stdout",
     "output_type": "stream",
     "text": [
      "Generating soundscape: 90/200\n",
      "Generating soundscape: 91/200\n"
     ]
    },
    {
     "name": "stderr",
     "output_type": "stream",
     "text": [
      "/Users/anderson675/miniconda3/lib/python3.7/site-packages/scaper/core.py:1268: ScaperWarning: street_music event time (9.75) is too great given stretched event duration (3.24) and soundscape duration (10.00), changed to 6.76.\n",
      "  ScaperWarning)\n",
      "/Users/anderson675/miniconda3/lib/python3.7/site-packages/scaper/core.py:1172: ScaperWarning: gun_shot event duration (3.11) is greater that source duration (1.98), changing to 1.98\n",
      "  ScaperWarning)\n",
      "/Users/anderson675/miniconda3/lib/python3.7/site-packages/scaper/core.py:1268: ScaperWarning: engine_idling event time (9.28) is too great given stretched event duration (2.10) and soundscape duration (10.00), changed to 7.90.\n",
      "  ScaperWarning)\n"
     ]
    },
    {
     "name": "stdout",
     "output_type": "stream",
     "text": [
      "Generating soundscape: 92/200\n"
     ]
    },
    {
     "name": "stderr",
     "output_type": "stream",
     "text": [
      "/Users/anderson675/miniconda3/lib/python3.7/site-packages/scaper/core.py:1172: ScaperWarning: gun_shot event duration (3.95) is greater that source duration (0.80), changing to 0.80\n",
      "  ScaperWarning)\n",
      "/Users/anderson675/miniconda3/lib/python3.7/site-packages/scaper/core.py:1268: ScaperWarning: street_music event time (9.83) is too great given stretched event duration (1.83) and soundscape duration (10.00), changed to 8.17.\n",
      "  ScaperWarning)\n",
      "/Users/anderson675/miniconda3/lib/python3.7/site-packages/scaper/core.py:1172: ScaperWarning: gun_shot event duration (2.56) is greater that source duration (1.20), changing to 1.20\n",
      "  ScaperWarning)\n",
      "/Users/anderson675/miniconda3/lib/python3.7/site-packages/scaper/core.py:1172: ScaperWarning: car_horn event duration (3.00) is greater that source duration (2.36), changing to 2.36\n",
      "  ScaperWarning)\n"
     ]
    },
    {
     "name": "stdout",
     "output_type": "stream",
     "text": [
      "Generating soundscape: 93/200\n"
     ]
    },
    {
     "name": "stderr",
     "output_type": "stream",
     "text": [
      "/Users/anderson675/miniconda3/lib/python3.7/site-packages/scaper/core.py:1268: ScaperWarning: siren event time (9.23) is too great given stretched event duration (2.16) and soundscape duration (10.00), changed to 7.84.\n",
      "  ScaperWarning)\n",
      "/Users/anderson675/miniconda3/lib/python3.7/site-packages/scaper/core.py:1172: ScaperWarning: dog_bark event duration (0.89) is greater that source duration (0.75), changing to 0.75\n",
      "  ScaperWarning)\n"
     ]
    },
    {
     "name": "stdout",
     "output_type": "stream",
     "text": [
      "Generating soundscape: 94/200\n"
     ]
    },
    {
     "name": "stderr",
     "output_type": "stream",
     "text": [
      "/Users/anderson675/miniconda3/lib/python3.7/site-packages/scaper/core.py:1268: ScaperWarning: dog_bark event time (8.06) is too great given stretched event duration (3.05) and soundscape duration (10.00), changed to 6.95.\n",
      "  ScaperWarning)\n",
      "/Users/anderson675/miniconda3/lib/python3.7/site-packages/scaper/core.py:1268: ScaperWarning: car_horn event time (8.01) is too great given stretched event duration (2.03) and soundscape duration (10.00), changed to 7.97.\n",
      "  ScaperWarning)\n",
      "/Users/anderson675/miniconda3/lib/python3.7/site-packages/scaper/core.py:1268: ScaperWarning: drilling event time (7.85) is too great given stretched event duration (2.58) and soundscape duration (10.00), changed to 7.42.\n",
      "  ScaperWarning)\n",
      "/Users/anderson675/miniconda3/lib/python3.7/site-packages/scaper/core.py:1172: ScaperWarning: drilling event duration (3.86) is greater that source duration (0.62), changing to 0.62\n",
      "  ScaperWarning)\n",
      "/Users/anderson675/miniconda3/lib/python3.7/site-packages/scaper/core.py:1172: ScaperWarning: drilling event duration (1.27) is greater that source duration (1.25), changing to 1.25\n",
      "  ScaperWarning)\n"
     ]
    },
    {
     "name": "stdout",
     "output_type": "stream",
     "text": [
      "Generating soundscape: 95/200\n",
      "Generating soundscape: 96/200\n",
      "Generating soundscape: 97/200\n"
     ]
    },
    {
     "name": "stderr",
     "output_type": "stream",
     "text": [
      "/Users/anderson675/miniconda3/lib/python3.7/site-packages/scaper/core.py:1268: ScaperWarning: dog_bark event time (6.88) is too great given stretched event duration (3.91) and soundscape duration (10.00), changed to 6.09.\n",
      "  ScaperWarning)\n"
     ]
    },
    {
     "name": "stdout",
     "output_type": "stream",
     "text": [
      "Generating soundscape: 98/200\n"
     ]
    },
    {
     "name": "stderr",
     "output_type": "stream",
     "text": [
      "/Users/anderson675/miniconda3/lib/python3.7/site-packages/scaper/core.py:1172: ScaperWarning: gun_shot event duration (1.07) is greater that source duration (1.06), changing to 1.06\n",
      "  ScaperWarning)\n",
      "/Users/anderson675/miniconda3/lib/python3.7/site-packages/scaper/core.py:1172: ScaperWarning: jackhammer event duration (2.74) is greater that source duration (0.95), changing to 0.95\n",
      "  ScaperWarning)\n",
      "/Users/anderson675/miniconda3/lib/python3.7/site-packages/scaper/core.py:1268: ScaperWarning: jackhammer event time (9.76) is too great given stretched event duration (0.94) and soundscape duration (10.00), changed to 9.06.\n",
      "  ScaperWarning)\n"
     ]
    },
    {
     "name": "stdout",
     "output_type": "stream",
     "text": [
      "Generating soundscape: 99/200\n"
     ]
    },
    {
     "name": "stderr",
     "output_type": "stream",
     "text": [
      "/Users/anderson675/miniconda3/lib/python3.7/site-packages/scaper/core.py:1268: ScaperWarning: car_horn event time (9.24) is too great given stretched event duration (2.07) and soundscape duration (10.00), changed to 7.93.\n",
      "  ScaperWarning)\n",
      "/Users/anderson675/miniconda3/lib/python3.7/site-packages/scaper/core.py:1268: ScaperWarning: dog_bark event time (8.07) is too great given stretched event duration (1.98) and soundscape duration (10.00), changed to 8.02.\n",
      "  ScaperWarning)\n"
     ]
    },
    {
     "name": "stdout",
     "output_type": "stream",
     "text": [
      "Generating soundscape: 100/200\n"
     ]
    },
    {
     "name": "stderr",
     "output_type": "stream",
     "text": [
      "/Users/anderson675/miniconda3/lib/python3.7/site-packages/scaper/core.py:1268: ScaperWarning: air_conditioner event time (7.18) is too great given stretched event duration (3.82) and soundscape duration (10.00), changed to 6.18.\n",
      "  ScaperWarning)\n",
      "/Users/anderson675/miniconda3/lib/python3.7/site-packages/scaper/core.py:1268: ScaperWarning: drilling event time (7.20) is too great given stretched event duration (4.14) and soundscape duration (10.00), changed to 5.86.\n",
      "  ScaperWarning)\n",
      "/Users/anderson675/miniconda3/lib/python3.7/site-packages/scaper/core.py:1268: ScaperWarning: car_horn event time (9.44) is too great given stretched event duration (2.48) and soundscape duration (10.00), changed to 7.52.\n",
      "  ScaperWarning)\n"
     ]
    },
    {
     "name": "stdout",
     "output_type": "stream",
     "text": [
      "Generating soundscape: 101/200\n"
     ]
    },
    {
     "name": "stderr",
     "output_type": "stream",
     "text": [
      "/Users/anderson675/miniconda3/lib/python3.7/site-packages/scaper/core.py:1268: ScaperWarning: drilling event time (6.56) is too great given stretched event duration (3.66) and soundscape duration (10.00), changed to 6.34.\n",
      "  ScaperWarning)\n",
      "/Users/anderson675/miniconda3/lib/python3.7/site-packages/scaper/core.py:1268: ScaperWarning: jackhammer event time (9.55) is too great given stretched event duration (1.43) and soundscape duration (10.00), changed to 8.57.\n",
      "  ScaperWarning)\n",
      "/Users/anderson675/miniconda3/lib/python3.7/site-packages/scaper/core.py:1172: ScaperWarning: dog_bark event duration (3.56) is greater that source duration (0.96), changing to 0.96\n",
      "  ScaperWarning)\n",
      "/Users/anderson675/miniconda3/lib/python3.7/site-packages/scaper/core.py:1172: ScaperWarning: gun_shot event duration (3.34) is greater that source duration (0.70), changing to 0.70\n",
      "  ScaperWarning)\n"
     ]
    },
    {
     "name": "stdout",
     "output_type": "stream",
     "text": [
      "Generating soundscape: 102/200\n"
     ]
    },
    {
     "name": "stderr",
     "output_type": "stream",
     "text": [
      "/Users/anderson675/miniconda3/lib/python3.7/site-packages/scaper/core.py:1172: ScaperWarning: jackhammer event duration (3.07) is greater that source duration (0.83), changing to 0.83\n",
      "  ScaperWarning)\n"
     ]
    },
    {
     "name": "stdout",
     "output_type": "stream",
     "text": [
      "Generating soundscape: 103/200\n",
      "Generating soundscape: 104/200\n"
     ]
    },
    {
     "name": "stderr",
     "output_type": "stream",
     "text": [
      "/Users/anderson675/miniconda3/lib/python3.7/site-packages/scaper/core.py:1268: ScaperWarning: dog_bark event time (9.54) is too great given stretched event duration (0.79) and soundscape duration (10.00), changed to 9.21.\n",
      "  ScaperWarning)\n"
     ]
    },
    {
     "name": "stdout",
     "output_type": "stream",
     "text": [
      "Generating soundscape: 105/200\n"
     ]
    },
    {
     "name": "stderr",
     "output_type": "stream",
     "text": [
      "/Users/anderson675/miniconda3/lib/python3.7/site-packages/scaper/core.py:1268: ScaperWarning: engine_idling event time (9.81) is too great given stretched event duration (1.99) and soundscape duration (10.00), changed to 8.01.\n",
      "  ScaperWarning)\n"
     ]
    },
    {
     "name": "stdout",
     "output_type": "stream",
     "text": [
      "Generating soundscape: 106/200\n"
     ]
    },
    {
     "name": "stderr",
     "output_type": "stream",
     "text": [
      "/Users/anderson675/miniconda3/lib/python3.7/site-packages/scaper/core.py:1268: ScaperWarning: air_conditioner event time (8.63) is too great given stretched event duration (2.24) and soundscape duration (10.00), changed to 7.76.\n",
      "  ScaperWarning)\n",
      "/Users/anderson675/miniconda3/lib/python3.7/site-packages/scaper/core.py:1172: ScaperWarning: car_horn event duration (2.54) is greater that source duration (0.76), changing to 0.76\n",
      "  ScaperWarning)\n"
     ]
    },
    {
     "name": "stdout",
     "output_type": "stream",
     "text": [
      "Generating soundscape: 107/200\n"
     ]
    },
    {
     "name": "stderr",
     "output_type": "stream",
     "text": [
      "/Users/anderson675/miniconda3/lib/python3.7/site-packages/scaper/core.py:1268: ScaperWarning: speech event time (9.64) is too great given stretched event duration (3.38) and soundscape duration (10.00), changed to 6.62.\n",
      "  ScaperWarning)\n",
      "/Users/anderson675/miniconda3/lib/python3.7/site-packages/scaper/core.py:1268: ScaperWarning: siren event time (9.36) is too great given stretched event duration (2.52) and soundscape duration (10.00), changed to 7.48.\n",
      "  ScaperWarning)\n",
      "/Users/anderson675/miniconda3/lib/python3.7/site-packages/scaper/core.py:1268: ScaperWarning: street_music event time (6.76) is too great given stretched event duration (3.38) and soundscape duration (10.00), changed to 6.62.\n",
      "  ScaperWarning)\n",
      "/Users/anderson675/miniconda3/lib/python3.7/site-packages/scaper/core.py:1268: ScaperWarning: dog_bark event time (9.16) is too great given stretched event duration (4.01) and soundscape duration (10.00), changed to 5.99.\n",
      "  ScaperWarning)\n"
     ]
    },
    {
     "name": "stdout",
     "output_type": "stream",
     "text": [
      "Generating soundscape: 108/200\n"
     ]
    },
    {
     "name": "stderr",
     "output_type": "stream",
     "text": [
      "/Users/anderson675/miniconda3/lib/python3.7/site-packages/scaper/core.py:1268: ScaperWarning: speech event time (8.00) is too great given stretched event duration (2.03) and soundscape duration (10.00), changed to 7.97.\n",
      "  ScaperWarning)\n",
      "/Users/anderson675/miniconda3/lib/python3.7/site-packages/scaper/core.py:1268: ScaperWarning: engine_idling event time (8.03) is too great given stretched event duration (2.96) and soundscape duration (10.00), changed to 7.04.\n",
      "  ScaperWarning)\n",
      "/Users/anderson675/miniconda3/lib/python3.7/site-packages/scaper/core.py:1268: ScaperWarning: engine_idling event time (8.11) is too great given stretched event duration (3.72) and soundscape duration (10.00), changed to 6.28.\n",
      "  ScaperWarning)\n",
      "/Users/anderson675/miniconda3/lib/python3.7/site-packages/scaper/core.py:1172: ScaperWarning: gun_shot event duration (2.61) is greater that source duration (2.31), changing to 2.31\n",
      "  ScaperWarning)\n",
      "/Users/anderson675/miniconda3/lib/python3.7/site-packages/scaper/core.py:1268: ScaperWarning: gun_shot event time (8.41) is too great given stretched event duration (2.30) and soundscape duration (10.00), changed to 7.70.\n",
      "  ScaperWarning)\n"
     ]
    },
    {
     "name": "stdout",
     "output_type": "stream",
     "text": [
      "Generating soundscape: 109/200\n"
     ]
    },
    {
     "name": "stderr",
     "output_type": "stream",
     "text": [
      "/Users/anderson675/miniconda3/lib/python3.7/site-packages/scaper/core.py:1172: ScaperWarning: dog_bark event duration (3.14) is greater that source duration (0.38), changing to 0.38\n",
      "  ScaperWarning)\n",
      "/Users/anderson675/miniconda3/lib/python3.7/site-packages/scaper/core.py:1268: ScaperWarning: street_music event time (8.94) is too great given stretched event duration (1.08) and soundscape duration (10.00), changed to 8.92.\n",
      "  ScaperWarning)\n",
      "/Users/anderson675/miniconda3/lib/python3.7/site-packages/scaper/core.py:1268: ScaperWarning: air_conditioner event time (7.89) is too great given stretched event duration (2.85) and soundscape duration (10.00), changed to 7.15.\n",
      "  ScaperWarning)\n",
      "/Users/anderson675/miniconda3/lib/python3.7/site-packages/scaper/core.py:1268: ScaperWarning: siren event time (9.47) is too great given stretched event duration (2.50) and soundscape duration (10.00), changed to 7.50.\n",
      "  ScaperWarning)\n"
     ]
    },
    {
     "name": "stdout",
     "output_type": "stream",
     "text": [
      "Generating soundscape: 110/200\n"
     ]
    },
    {
     "name": "stderr",
     "output_type": "stream",
     "text": [
      "/Users/anderson675/miniconda3/lib/python3.7/site-packages/scaper/core.py:1268: ScaperWarning: siren event time (7.88) is too great given stretched event duration (3.40) and soundscape duration (10.00), changed to 6.60.\n",
      "  ScaperWarning)\n"
     ]
    },
    {
     "name": "stdout",
     "output_type": "stream",
     "text": [
      "Generating soundscape: 111/200\n"
     ]
    },
    {
     "name": "stderr",
     "output_type": "stream",
     "text": [
      "/Users/anderson675/miniconda3/lib/python3.7/site-packages/scaper/core.py:1268: ScaperWarning: siren event time (9.48) is too great given stretched event duration (3.37) and soundscape duration (10.00), changed to 6.63.\n",
      "  ScaperWarning)\n",
      "/Users/anderson675/miniconda3/lib/python3.7/site-packages/scaper/core.py:1172: ScaperWarning: jackhammer event duration (1.84) is greater that source duration (0.99), changing to 0.99\n",
      "  ScaperWarning)\n"
     ]
    },
    {
     "name": "stdout",
     "output_type": "stream",
     "text": [
      "Generating soundscape: 112/200\n"
     ]
    },
    {
     "name": "stderr",
     "output_type": "stream",
     "text": [
      "/Users/anderson675/miniconda3/lib/python3.7/site-packages/scaper/core.py:1268: ScaperWarning: speech event time (8.77) is too great given stretched event duration (2.82) and soundscape duration (10.00), changed to 7.18.\n",
      "  ScaperWarning)\n",
      "/Users/anderson675/miniconda3/lib/python3.7/site-packages/scaper/core.py:1172: ScaperWarning: siren event duration (1.68) is greater that source duration (0.60), changing to 0.60\n",
      "  ScaperWarning)\n"
     ]
    },
    {
     "name": "stdout",
     "output_type": "stream",
     "text": [
      "Generating soundscape: 113/200\n"
     ]
    },
    {
     "name": "stderr",
     "output_type": "stream",
     "text": [
      "/Users/anderson675/miniconda3/lib/python3.7/site-packages/scaper/core.py:1268: ScaperWarning: speech event time (8.63) is too great given stretched event duration (3.38) and soundscape duration (10.00), changed to 6.62.\n",
      "  ScaperWarning)\n",
      "/Users/anderson675/miniconda3/lib/python3.7/site-packages/scaper/core.py:1268: ScaperWarning: air_conditioner event time (9.99) is too great given stretched event duration (2.09) and soundscape duration (10.00), changed to 7.91.\n",
      "  ScaperWarning)\n",
      "/Users/anderson675/miniconda3/lib/python3.7/site-packages/scaper/core.py:1172: ScaperWarning: dog_bark event duration (0.77) is greater that source duration (0.29), changing to 0.29\n",
      "  ScaperWarning)\n",
      "/Users/anderson675/miniconda3/lib/python3.7/site-packages/scaper/core.py:1172: ScaperWarning: car_horn event duration (1.27) is greater that source duration (0.31), changing to 0.31\n",
      "  ScaperWarning)\n"
     ]
    },
    {
     "name": "stdout",
     "output_type": "stream",
     "text": [
      "Generating soundscape: 114/200\n"
     ]
    },
    {
     "name": "stderr",
     "output_type": "stream",
     "text": [
      "/Users/anderson675/miniconda3/lib/python3.7/site-packages/scaper/core.py:1172: ScaperWarning: dog_bark event duration (0.87) is greater that source duration (0.81), changing to 0.81\n",
      "  ScaperWarning)\n"
     ]
    },
    {
     "name": "stdout",
     "output_type": "stream",
     "text": [
      "Generating soundscape: 115/200\n",
      "Generating soundscape: 116/200\n"
     ]
    },
    {
     "name": "stderr",
     "output_type": "stream",
     "text": [
      "/Users/anderson675/miniconda3/lib/python3.7/site-packages/scaper/core.py:1172: ScaperWarning: car_horn event duration (3.21) is greater that source duration (1.04), changing to 1.04\n",
      "  ScaperWarning)\n",
      "/Users/anderson675/miniconda3/lib/python3.7/site-packages/scaper/core.py:1268: ScaperWarning: speech event time (9.58) is too great given stretched event duration (2.21) and soundscape duration (10.00), changed to 7.79.\n",
      "  ScaperWarning)\n",
      "/Users/anderson675/miniconda3/lib/python3.7/site-packages/scaper/core.py:1268: ScaperWarning: siren event time (8.33) is too great given stretched event duration (2.05) and soundscape duration (10.00), changed to 7.95.\n",
      "  ScaperWarning)\n",
      "/Users/anderson675/miniconda3/lib/python3.7/site-packages/scaper/core.py:1172: ScaperWarning: gun_shot event duration (3.53) is greater that source duration (1.06), changing to 1.06\n",
      "  ScaperWarning)\n"
     ]
    },
    {
     "name": "stdout",
     "output_type": "stream",
     "text": [
      "Generating soundscape: 117/200\n"
     ]
    },
    {
     "name": "stderr",
     "output_type": "stream",
     "text": [
      "/Users/anderson675/miniconda3/lib/python3.7/site-packages/scaper/core.py:1268: ScaperWarning: car_horn event time (9.75) is too great given stretched event duration (1.73) and soundscape duration (10.00), changed to 8.27.\n",
      "  ScaperWarning)\n",
      "/Users/anderson675/miniconda3/lib/python3.7/site-packages/scaper/core.py:1268: ScaperWarning: speech event time (9.74) is too great given stretched event duration (1.55) and soundscape duration (10.00), changed to 8.45.\n",
      "  ScaperWarning)\n",
      "/Users/anderson675/miniconda3/lib/python3.7/site-packages/scaper/core.py:1268: ScaperWarning: engine_idling event time (7.41) is too great given stretched event duration (2.96) and soundscape duration (10.00), changed to 7.04.\n",
      "  ScaperWarning)\n"
     ]
    },
    {
     "name": "stdout",
     "output_type": "stream",
     "text": [
      "Generating soundscape: 118/200\n"
     ]
    },
    {
     "name": "stderr",
     "output_type": "stream",
     "text": [
      "/Users/anderson675/miniconda3/lib/python3.7/site-packages/scaper/core.py:1172: ScaperWarning: car_horn event duration (2.51) is greater that source duration (0.74), changing to 0.74\n",
      "  ScaperWarning)\n",
      "/Users/anderson675/miniconda3/lib/python3.7/site-packages/scaper/core.py:1172: ScaperWarning: drilling event duration (2.68) is greater that source duration (2.11), changing to 2.11\n",
      "  ScaperWarning)\n"
     ]
    },
    {
     "name": "stdout",
     "output_type": "stream",
     "text": [
      "Generating soundscape: 119/200\n"
     ]
    },
    {
     "name": "stderr",
     "output_type": "stream",
     "text": [
      "/Users/anderson675/miniconda3/lib/python3.7/site-packages/scaper/core.py:1172: ScaperWarning: gun_shot event duration (1.76) is greater that source duration (1.33), changing to 1.33\n",
      "  ScaperWarning)\n",
      "/Users/anderson675/miniconda3/lib/python3.7/site-packages/scaper/core.py:1172: ScaperWarning: gun_shot event duration (1.66) is greater that source duration (0.20), changing to 0.20\n",
      "  ScaperWarning)\n",
      "/Users/anderson675/miniconda3/lib/python3.7/site-packages/scaper/core.py:1172: ScaperWarning: drilling event duration (1.75) is greater that source duration (1.43), changing to 1.43\n",
      "  ScaperWarning)\n",
      "/Users/anderson675/miniconda3/lib/python3.7/site-packages/scaper/core.py:1268: ScaperWarning: drilling event time (9.88) is too great given stretched event duration (1.58) and soundscape duration (10.00), changed to 8.42.\n",
      "  ScaperWarning)\n",
      "/Users/anderson675/miniconda3/lib/python3.7/site-packages/scaper/core.py:1172: ScaperWarning: car_horn event duration (2.44) is greater that source duration (1.84), changing to 1.84\n",
      "  ScaperWarning)\n",
      "/Users/anderson675/miniconda3/lib/python3.7/site-packages/scaper/core.py:1268: ScaperWarning: dog_bark event time (9.71) is too great given stretched event duration (1.26) and soundscape duration (10.00), changed to 8.74.\n",
      "  ScaperWarning)\n",
      "/Users/anderson675/miniconda3/lib/python3.7/site-packages/scaper/core.py:1268: ScaperWarning: siren event time (8.26) is too great given stretched event duration (2.47) and soundscape duration (10.00), changed to 7.53.\n",
      "  ScaperWarning)\n"
     ]
    },
    {
     "name": "stdout",
     "output_type": "stream",
     "text": [
      "Generating soundscape: 120/200\n"
     ]
    },
    {
     "name": "stderr",
     "output_type": "stream",
     "text": [
      "/Users/anderson675/miniconda3/lib/python3.7/site-packages/scaper/core.py:1172: ScaperWarning: jackhammer event duration (3.78) is greater that source duration (2.84), changing to 2.84\n",
      "  ScaperWarning)\n",
      "/Users/anderson675/miniconda3/lib/python3.7/site-packages/scaper/core.py:1172: ScaperWarning: car_horn event duration (3.02) is greater that source duration (0.74), changing to 0.74\n",
      "  ScaperWarning)\n",
      "/Users/anderson675/miniconda3/lib/python3.7/site-packages/scaper/core.py:1172: ScaperWarning: gun_shot event duration (2.76) is greater that source duration (2.35), changing to 2.35\n",
      "  ScaperWarning)\n"
     ]
    },
    {
     "name": "stdout",
     "output_type": "stream",
     "text": [
      "Generating soundscape: 121/200\n",
      "Generating soundscape: 122/200\n"
     ]
    },
    {
     "name": "stderr",
     "output_type": "stream",
     "text": [
      "/Users/anderson675/miniconda3/lib/python3.7/site-packages/scaper/core.py:1172: ScaperWarning: gun_shot event duration (2.50) is greater that source duration (1.23), changing to 1.23\n",
      "  ScaperWarning)\n",
      "/Users/anderson675/miniconda3/lib/python3.7/site-packages/scaper/core.py:1268: ScaperWarning: gun_shot event time (9.81) is too great given stretched event duration (1.29) and soundscape duration (10.00), changed to 8.71.\n",
      "  ScaperWarning)\n",
      "/Users/anderson675/miniconda3/lib/python3.7/site-packages/scaper/core.py:1172: ScaperWarning: gun_shot event duration (3.14) is greater that source duration (1.06), changing to 1.06\n",
      "  ScaperWarning)\n",
      "/Users/anderson675/miniconda3/lib/python3.7/site-packages/scaper/core.py:1172: ScaperWarning: drilling event duration (3.75) is greater that source duration (1.99), changing to 1.99\n",
      "  ScaperWarning)\n",
      "/Users/anderson675/miniconda3/lib/python3.7/site-packages/scaper/core.py:1268: ScaperWarning: jackhammer event time (8.55) is too great given stretched event duration (3.55) and soundscape duration (10.00), changed to 6.45.\n",
      "  ScaperWarning)\n",
      "/Users/anderson675/miniconda3/lib/python3.7/site-packages/scaper/core.py:1172: ScaperWarning: gun_shot event duration (1.77) is greater that source duration (1.44), changing to 1.44\n",
      "  ScaperWarning)\n"
     ]
    },
    {
     "name": "stdout",
     "output_type": "stream",
     "text": [
      "Generating soundscape: 123/200\n"
     ]
    },
    {
     "name": "stderr",
     "output_type": "stream",
     "text": [
      "/Users/anderson675/miniconda3/lib/python3.7/site-packages/scaper/core.py:1172: ScaperWarning: gun_shot event duration (1.11) is greater that source duration (1.08), changing to 1.08\n",
      "  ScaperWarning)\n"
     ]
    },
    {
     "name": "stdout",
     "output_type": "stream",
     "text": [
      "Generating soundscape: 124/200\n"
     ]
    },
    {
     "name": "stderr",
     "output_type": "stream",
     "text": [
      "/Users/anderson675/miniconda3/lib/python3.7/site-packages/scaper/core.py:1268: ScaperWarning: engine_idling event time (8.45) is too great given stretched event duration (3.79) and soundscape duration (10.00), changed to 6.21.\n",
      "  ScaperWarning)\n",
      "/Users/anderson675/miniconda3/lib/python3.7/site-packages/scaper/core.py:1172: ScaperWarning: siren event duration (3.07) is greater that source duration (3.02), changing to 3.02\n",
      "  ScaperWarning)\n",
      "/Users/anderson675/miniconda3/lib/python3.7/site-packages/scaper/core.py:1268: ScaperWarning: siren event time (9.54) is too great given stretched event duration (2.51) and soundscape duration (10.00), changed to 7.49.\n",
      "  ScaperWarning)\n"
     ]
    },
    {
     "name": "stdout",
     "output_type": "stream",
     "text": [
      "Generating soundscape: 125/200\n",
      "Generating soundscape: 126/200\n"
     ]
    },
    {
     "name": "stderr",
     "output_type": "stream",
     "text": [
      "/Users/anderson675/miniconda3/lib/python3.7/site-packages/scaper/core.py:1268: ScaperWarning: drilling event time (9.53) is too great given stretched event duration (1.63) and soundscape duration (10.00), changed to 8.37.\n",
      "  ScaperWarning)\n"
     ]
    },
    {
     "name": "stdout",
     "output_type": "stream",
     "text": [
      "Generating soundscape: 127/200\n"
     ]
    },
    {
     "name": "stderr",
     "output_type": "stream",
     "text": [
      "/Users/anderson675/miniconda3/lib/python3.7/site-packages/scaper/core.py:1268: ScaperWarning: car_horn event time (7.67) is too great given stretched event duration (2.43) and soundscape duration (10.00), changed to 7.57.\n",
      "  ScaperWarning)\n"
     ]
    },
    {
     "name": "stdout",
     "output_type": "stream",
     "text": [
      "Generating soundscape: 128/200\n"
     ]
    },
    {
     "name": "stderr",
     "output_type": "stream",
     "text": [
      "/Users/anderson675/miniconda3/lib/python3.7/site-packages/scaper/core.py:1172: ScaperWarning: gun_shot event duration (2.56) is greater that source duration (0.73), changing to 0.73\n",
      "  ScaperWarning)\n",
      "/Users/anderson675/miniconda3/lib/python3.7/site-packages/scaper/core.py:1268: ScaperWarning: car_horn event time (9.23) is too great given stretched event duration (1.52) and soundscape duration (10.00), changed to 8.48.\n",
      "  ScaperWarning)\n",
      "/Users/anderson675/miniconda3/lib/python3.7/site-packages/scaper/core.py:1268: ScaperWarning: speech event time (8.98) is too great given stretched event duration (2.47) and soundscape duration (10.00), changed to 7.53.\n",
      "  ScaperWarning)\n"
     ]
    },
    {
     "name": "stdout",
     "output_type": "stream",
     "text": [
      "Generating soundscape: 129/200\n"
     ]
    },
    {
     "name": "stderr",
     "output_type": "stream",
     "text": [
      "/Users/anderson675/miniconda3/lib/python3.7/site-packages/scaper/core.py:1268: ScaperWarning: siren event time (8.36) is too great given stretched event duration (3.59) and soundscape duration (10.00), changed to 6.41.\n",
      "  ScaperWarning)\n"
     ]
    },
    {
     "name": "stdout",
     "output_type": "stream",
     "text": [
      "Generating soundscape: 130/200\n"
     ]
    },
    {
     "name": "stderr",
     "output_type": "stream",
     "text": [
      "/Users/anderson675/miniconda3/lib/python3.7/site-packages/scaper/core.py:1172: ScaperWarning: gun_shot event duration (2.67) is greater that source duration (0.62), changing to 0.62\n",
      "  ScaperWarning)\n",
      "/Users/anderson675/miniconda3/lib/python3.7/site-packages/scaper/core.py:1268: ScaperWarning: gun_shot event time (9.60) is too great given stretched event duration (0.59) and soundscape duration (10.00), changed to 9.41.\n",
      "  ScaperWarning)\n",
      "/Users/anderson675/miniconda3/lib/python3.7/site-packages/scaper/core.py:1172: ScaperWarning: jackhammer event duration (1.62) is greater that source duration (0.99), changing to 0.99\n",
      "  ScaperWarning)\n",
      "/Users/anderson675/miniconda3/lib/python3.7/site-packages/scaper/core.py:1268: ScaperWarning: siren event time (9.60) is too great given stretched event duration (2.59) and soundscape duration (10.00), changed to 7.41.\n",
      "  ScaperWarning)\n",
      "/Users/anderson675/miniconda3/lib/python3.7/site-packages/scaper/core.py:1172: ScaperWarning: siren event duration (2.58) is greater that source duration (0.75), changing to 0.75\n",
      "  ScaperWarning)\n"
     ]
    },
    {
     "name": "stdout",
     "output_type": "stream",
     "text": [
      "Generating soundscape: 131/200\n",
      "Generating soundscape: 132/200\n"
     ]
    },
    {
     "name": "stderr",
     "output_type": "stream",
     "text": [
      "/Users/anderson675/miniconda3/lib/python3.7/site-packages/scaper/core.py:1268: ScaperWarning: dog_bark event time (7.83) is too great given stretched event duration (3.70) and soundscape duration (10.00), changed to 6.30.\n",
      "  ScaperWarning)\n"
     ]
    },
    {
     "name": "stdout",
     "output_type": "stream",
     "text": [
      "Generating soundscape: 133/200\n",
      "Generating soundscape: 134/200\n"
     ]
    },
    {
     "name": "stderr",
     "output_type": "stream",
     "text": [
      "/Users/anderson675/miniconda3/lib/python3.7/site-packages/scaper/core.py:1172: ScaperWarning: gun_shot event duration (1.04) is greater that source duration (0.65), changing to 0.65\n",
      "  ScaperWarning)\n",
      "/Users/anderson675/miniconda3/lib/python3.7/site-packages/scaper/core.py:1268: ScaperWarning: engine_idling event time (9.26) is too great given stretched event duration (2.06) and soundscape duration (10.00), changed to 7.94.\n",
      "  ScaperWarning)\n"
     ]
    },
    {
     "name": "stdout",
     "output_type": "stream",
     "text": [
      "Generating soundscape: 135/200\n"
     ]
    },
    {
     "name": "stderr",
     "output_type": "stream",
     "text": [
      "/Users/anderson675/miniconda3/lib/python3.7/site-packages/scaper/core.py:1172: ScaperWarning: gun_shot event duration (3.80) is greater that source duration (0.65), changing to 0.65\n",
      "  ScaperWarning)\n",
      "/Users/anderson675/miniconda3/lib/python3.7/site-packages/scaper/core.py:1268: ScaperWarning: siren event time (8.03) is too great given stretched event duration (3.36) and soundscape duration (10.00), changed to 6.64.\n",
      "  ScaperWarning)\n",
      "/Users/anderson675/miniconda3/lib/python3.7/site-packages/scaper/core.py:1172: ScaperWarning: jackhammer event duration (4.00) is greater that source duration (1.19), changing to 1.19\n",
      "  ScaperWarning)\n",
      "/Users/anderson675/miniconda3/lib/python3.7/site-packages/scaper/core.py:1268: ScaperWarning: dog_bark event time (9.44) is too great given stretched event duration (3.77) and soundscape duration (10.00), changed to 6.23.\n",
      "  ScaperWarning)\n",
      "/Users/anderson675/miniconda3/lib/python3.7/site-packages/scaper/core.py:1268: ScaperWarning: jackhammer event time (7.00) is too great given stretched event duration (3.54) and soundscape duration (10.00), changed to 6.46.\n",
      "  ScaperWarning)\n"
     ]
    },
    {
     "name": "stdout",
     "output_type": "stream",
     "text": [
      "Generating soundscape: 136/200\n"
     ]
    },
    {
     "name": "stderr",
     "output_type": "stream",
     "text": [
      "/Users/anderson675/miniconda3/lib/python3.7/site-packages/scaper/core.py:1172: ScaperWarning: gun_shot event duration (1.41) is greater that source duration (0.80), changing to 0.80\n",
      "  ScaperWarning)\n",
      "/Users/anderson675/miniconda3/lib/python3.7/site-packages/scaper/core.py:1268: ScaperWarning: gun_shot event time (9.41) is too great given stretched event duration (0.72) and soundscape duration (10.00), changed to 9.28.\n",
      "  ScaperWarning)\n",
      "/Users/anderson675/miniconda3/lib/python3.7/site-packages/scaper/core.py:1268: ScaperWarning: jackhammer event time (9.33) is too great given stretched event duration (2.49) and soundscape duration (10.00), changed to 7.51.\n",
      "  ScaperWarning)\n",
      "/Users/anderson675/miniconda3/lib/python3.7/site-packages/scaper/core.py:1172: ScaperWarning: drilling event duration (3.12) is greater that source duration (2.14), changing to 2.14\n",
      "  ScaperWarning)\n",
      "/Users/anderson675/miniconda3/lib/python3.7/site-packages/scaper/core.py:1268: ScaperWarning: air_conditioner event time (7.76) is too great given stretched event duration (2.25) and soundscape duration (10.00), changed to 7.75.\n",
      "  ScaperWarning)\n"
     ]
    },
    {
     "name": "stdout",
     "output_type": "stream",
     "text": [
      "Generating soundscape: 137/200\n"
     ]
    },
    {
     "name": "stderr",
     "output_type": "stream",
     "text": [
      "/Users/anderson675/miniconda3/lib/python3.7/site-packages/scaper/core.py:1172: ScaperWarning: car_horn event duration (1.92) is greater that source duration (1.21), changing to 1.21\n",
      "  ScaperWarning)\n"
     ]
    },
    {
     "name": "stdout",
     "output_type": "stream",
     "text": [
      "Generating soundscape: 138/200\n"
     ]
    },
    {
     "name": "stderr",
     "output_type": "stream",
     "text": [
      "/Users/anderson675/miniconda3/lib/python3.7/site-packages/scaper/core.py:1268: ScaperWarning: dog_bark event time (8.89) is too great given stretched event duration (3.26) and soundscape duration (10.00), changed to 6.74.\n",
      "  ScaperWarning)\n",
      "/Users/anderson675/miniconda3/lib/python3.7/site-packages/scaper/core.py:1268: ScaperWarning: air_conditioner event time (8.20) is too great given stretched event duration (2.76) and soundscape duration (10.00), changed to 7.24.\n",
      "  ScaperWarning)\n"
     ]
    },
    {
     "name": "stdout",
     "output_type": "stream",
     "text": [
      "Generating soundscape: 139/200\n"
     ]
    },
    {
     "name": "stderr",
     "output_type": "stream",
     "text": [
      "/Users/anderson675/miniconda3/lib/python3.7/site-packages/scaper/core.py:1268: ScaperWarning: siren event time (8.66) is too great given stretched event duration (4.45) and soundscape duration (10.00), changed to 5.55.\n",
      "  ScaperWarning)\n"
     ]
    },
    {
     "name": "stdout",
     "output_type": "stream",
     "text": [
      "Generating soundscape: 140/200\n"
     ]
    },
    {
     "name": "stderr",
     "output_type": "stream",
     "text": [
      "/Users/anderson675/miniconda3/lib/python3.7/site-packages/scaper/core.py:1268: ScaperWarning: car_horn event time (8.67) is too great given stretched event duration (2.38) and soundscape duration (10.00), changed to 7.62.\n",
      "  ScaperWarning)\n",
      "/Users/anderson675/miniconda3/lib/python3.7/site-packages/scaper/core.py:1268: ScaperWarning: siren event time (9.47) is too great given stretched event duration (0.91) and soundscape duration (10.00), changed to 9.09.\n",
      "  ScaperWarning)\n"
     ]
    },
    {
     "name": "stdout",
     "output_type": "stream",
     "text": [
      "Generating soundscape: 141/200\n",
      "Generating soundscape: 142/200\n"
     ]
    },
    {
     "name": "stderr",
     "output_type": "stream",
     "text": [
      "/Users/anderson675/miniconda3/lib/python3.7/site-packages/scaper/core.py:1268: ScaperWarning: speech event time (7.95) is too great given stretched event duration (2.74) and soundscape duration (10.00), changed to 7.26.\n",
      "  ScaperWarning)\n"
     ]
    },
    {
     "name": "stdout",
     "output_type": "stream",
     "text": [
      "Generating soundscape: 143/200\n",
      "Generating soundscape: 144/200\n"
     ]
    },
    {
     "name": "stderr",
     "output_type": "stream",
     "text": [
      "/Users/anderson675/miniconda3/lib/python3.7/site-packages/scaper/core.py:1268: ScaperWarning: siren event time (7.97) is too great given stretched event duration (2.43) and soundscape duration (10.00), changed to 7.57.\n",
      "  ScaperWarning)\n"
     ]
    },
    {
     "name": "stdout",
     "output_type": "stream",
     "text": [
      "Generating soundscape: 145/200\n"
     ]
    },
    {
     "name": "stderr",
     "output_type": "stream",
     "text": [
      "/Users/anderson675/miniconda3/lib/python3.7/site-packages/scaper/core.py:1268: ScaperWarning: dog_bark event time (9.84) is too great given stretched event duration (2.04) and soundscape duration (10.00), changed to 7.96.\n",
      "  ScaperWarning)\n",
      "/Users/anderson675/miniconda3/lib/python3.7/site-packages/scaper/core.py:1172: ScaperWarning: gun_shot event duration (2.71) is greater that source duration (1.27), changing to 1.27\n",
      "  ScaperWarning)\n",
      "/Users/anderson675/miniconda3/lib/python3.7/site-packages/scaper/core.py:1172: ScaperWarning: car_horn event duration (2.30) is greater that source duration (0.06), changing to 0.06\n",
      "  ScaperWarning)\n"
     ]
    },
    {
     "name": "stdout",
     "output_type": "stream",
     "text": [
      "Generating soundscape: 146/200\n"
     ]
    },
    {
     "name": "stderr",
     "output_type": "stream",
     "text": [
      "/Users/anderson675/miniconda3/lib/python3.7/site-packages/scaper/core.py:1172: ScaperWarning: dog_bark event duration (2.56) is greater that source duration (0.26), changing to 0.26\n",
      "  ScaperWarning)\n"
     ]
    },
    {
     "name": "stdout",
     "output_type": "stream",
     "text": [
      "Generating soundscape: 147/200\n"
     ]
    },
    {
     "name": "stderr",
     "output_type": "stream",
     "text": [
      "/Users/anderson675/miniconda3/lib/python3.7/site-packages/scaper/core.py:1268: ScaperWarning: speech event time (7.52) is too great given stretched event duration (3.88) and soundscape duration (10.00), changed to 6.12.\n",
      "  ScaperWarning)\n",
      "/Users/anderson675/miniconda3/lib/python3.7/site-packages/scaper/core.py:1172: ScaperWarning: dog_bark event duration (1.42) is greater that source duration (0.83), changing to 0.83\n",
      "  ScaperWarning)\n"
     ]
    },
    {
     "name": "stdout",
     "output_type": "stream",
     "text": [
      "Generating soundscape: 148/200\n"
     ]
    },
    {
     "name": "stderr",
     "output_type": "stream",
     "text": [
      "/Users/anderson675/miniconda3/lib/python3.7/site-packages/scaper/core.py:1268: ScaperWarning: jackhammer event time (9.44) is too great given stretched event duration (1.25) and soundscape duration (10.00), changed to 8.75.\n",
      "  ScaperWarning)\n",
      "/Users/anderson675/miniconda3/lib/python3.7/site-packages/scaper/core.py:1172: ScaperWarning: car_horn event duration (2.68) is greater that source duration (0.24), changing to 0.24\n",
      "  ScaperWarning)\n",
      "/Users/anderson675/miniconda3/lib/python3.7/site-packages/scaper/core.py:1172: ScaperWarning: car_horn event duration (2.58) is greater that source duration (0.32), changing to 0.32\n",
      "  ScaperWarning)\n",
      "/Users/anderson675/miniconda3/lib/python3.7/site-packages/scaper/core.py:1268: ScaperWarning: engine_idling event time (9.56) is too great given stretched event duration (0.62) and soundscape duration (10.00), changed to 9.38.\n",
      "  ScaperWarning)\n",
      "/Users/anderson675/miniconda3/lib/python3.7/site-packages/scaper/core.py:1268: ScaperWarning: air_conditioner event time (7.85) is too great given stretched event duration (2.41) and soundscape duration (10.00), changed to 7.59.\n",
      "  ScaperWarning)\n"
     ]
    },
    {
     "name": "stdout",
     "output_type": "stream",
     "text": [
      "Generating soundscape: 149/200\n"
     ]
    },
    {
     "name": "stderr",
     "output_type": "stream",
     "text": [
      "/Users/anderson675/miniconda3/lib/python3.7/site-packages/scaper/core.py:1268: ScaperWarning: speech event time (9.11) is too great given stretched event duration (1.49) and soundscape duration (10.00), changed to 8.51.\n",
      "  ScaperWarning)\n",
      "/Users/anderson675/miniconda3/lib/python3.7/site-packages/scaper/core.py:1172: ScaperWarning: car_horn event duration (2.96) is greater that source duration (0.58), changing to 0.58\n",
      "  ScaperWarning)\n",
      "/Users/anderson675/miniconda3/lib/python3.7/site-packages/scaper/core.py:1268: ScaperWarning: siren event time (7.48) is too great given stretched event duration (2.81) and soundscape duration (10.00), changed to 7.19.\n",
      "  ScaperWarning)\n"
     ]
    },
    {
     "name": "stdout",
     "output_type": "stream",
     "text": [
      "Generating soundscape: 150/200\n"
     ]
    },
    {
     "name": "stderr",
     "output_type": "stream",
     "text": [
      "/Users/anderson675/miniconda3/lib/python3.7/site-packages/scaper/core.py:1172: ScaperWarning: car_horn event duration (2.97) is greater that source duration (0.26), changing to 0.26\n",
      "  ScaperWarning)\n"
     ]
    },
    {
     "name": "stdout",
     "output_type": "stream",
     "text": [
      "Generating soundscape: 151/200\n"
     ]
    },
    {
     "name": "stderr",
     "output_type": "stream",
     "text": [
      "/Users/anderson675/miniconda3/lib/python3.7/site-packages/scaper/core.py:1172: ScaperWarning: car_horn event duration (2.58) is greater that source duration (0.37), changing to 0.37\n",
      "  ScaperWarning)\n"
     ]
    },
    {
     "name": "stdout",
     "output_type": "stream",
     "text": [
      "Generating soundscape: 152/200\n"
     ]
    },
    {
     "name": "stderr",
     "output_type": "stream",
     "text": [
      "/Users/anderson675/miniconda3/lib/python3.7/site-packages/scaper/core.py:1172: ScaperWarning: dog_bark event duration (2.76) is greater that source duration (1.39), changing to 1.39\n",
      "  ScaperWarning)\n",
      "/Users/anderson675/miniconda3/lib/python3.7/site-packages/scaper/core.py:1268: ScaperWarning: dog_bark event time (9.46) is too great given stretched event duration (2.14) and soundscape duration (10.00), changed to 7.86.\n",
      "  ScaperWarning)\n"
     ]
    },
    {
     "name": "stdout",
     "output_type": "stream",
     "text": [
      "Generating soundscape: 153/200\n"
     ]
    },
    {
     "name": "stderr",
     "output_type": "stream",
     "text": [
      "/Users/anderson675/miniconda3/lib/python3.7/site-packages/scaper/core.py:1268: ScaperWarning: drilling event time (7.01) is too great given stretched event duration (3.56) and soundscape duration (10.00), changed to 6.44.\n",
      "  ScaperWarning)\n",
      "/Users/anderson675/miniconda3/lib/python3.7/site-packages/scaper/core.py:1172: ScaperWarning: gun_shot event duration (2.32) is greater that source duration (2.23), changing to 2.23\n",
      "  ScaperWarning)\n",
      "/Users/anderson675/miniconda3/lib/python3.7/site-packages/scaper/core.py:1172: ScaperWarning: car_horn event duration (0.77) is greater that source duration (0.34), changing to 0.34\n",
      "  ScaperWarning)\n"
     ]
    },
    {
     "name": "stdout",
     "output_type": "stream",
     "text": [
      "Generating soundscape: 154/200\n"
     ]
    },
    {
     "name": "stderr",
     "output_type": "stream",
     "text": [
      "/Users/anderson675/miniconda3/lib/python3.7/site-packages/scaper/core.py:1268: ScaperWarning: drilling event time (9.97) is too great given stretched event duration (2.92) and soundscape duration (10.00), changed to 7.08.\n",
      "  ScaperWarning)\n",
      "/Users/anderson675/miniconda3/lib/python3.7/site-packages/scaper/core.py:1172: ScaperWarning: gun_shot event duration (2.77) is greater that source duration (0.66), changing to 0.66\n",
      "  ScaperWarning)\n"
     ]
    },
    {
     "name": "stdout",
     "output_type": "stream",
     "text": [
      "Generating soundscape: 155/200\n"
     ]
    },
    {
     "name": "stderr",
     "output_type": "stream",
     "text": [
      "/Users/anderson675/miniconda3/lib/python3.7/site-packages/scaper/core.py:1268: ScaperWarning: dog_bark event time (9.55) is too great given stretched event duration (4.02) and soundscape duration (10.00), changed to 5.98.\n",
      "  ScaperWarning)\n"
     ]
    },
    {
     "name": "stdout",
     "output_type": "stream",
     "text": [
      "Generating soundscape: 156/200\n"
     ]
    },
    {
     "name": "stderr",
     "output_type": "stream",
     "text": [
      "/Users/anderson675/miniconda3/lib/python3.7/site-packages/scaper/core.py:1268: ScaperWarning: drilling event time (9.57) is too great given stretched event duration (4.21) and soundscape duration (10.00), changed to 5.79.\n",
      "  ScaperWarning)\n",
      "/Users/anderson675/miniconda3/lib/python3.7/site-packages/scaper/core.py:1172: ScaperWarning: car_horn event duration (2.91) is greater that source duration (1.09), changing to 1.09\n",
      "  ScaperWarning)\n",
      "/Users/anderson675/miniconda3/lib/python3.7/site-packages/scaper/core.py:1268: ScaperWarning: car_horn event time (9.68) is too great given stretched event duration (1.21) and soundscape duration (10.00), changed to 8.79.\n",
      "  ScaperWarning)\n",
      "/Users/anderson675/miniconda3/lib/python3.7/site-packages/scaper/core.py:1268: ScaperWarning: air_conditioner event time (9.03) is too great given stretched event duration (2.27) and soundscape duration (10.00), changed to 7.73.\n",
      "  ScaperWarning)\n",
      "/Users/anderson675/miniconda3/lib/python3.7/site-packages/scaper/core.py:1268: ScaperWarning: air_conditioner event time (8.31) is too great given stretched event duration (2.53) and soundscape duration (10.00), changed to 7.47.\n",
      "  ScaperWarning)\n"
     ]
    },
    {
     "name": "stdout",
     "output_type": "stream",
     "text": [
      "Generating soundscape: 157/200\n"
     ]
    },
    {
     "name": "stderr",
     "output_type": "stream",
     "text": [
      "/Users/anderson675/miniconda3/lib/python3.7/site-packages/scaper/core.py:1172: ScaperWarning: car_horn event duration (2.78) is greater that source duration (1.42), changing to 1.42\n",
      "  ScaperWarning)\n",
      "/Users/anderson675/miniconda3/lib/python3.7/site-packages/scaper/core.py:1172: ScaperWarning: drilling event duration (3.05) is greater that source duration (0.87), changing to 0.87\n",
      "  ScaperWarning)\n",
      "/Users/anderson675/miniconda3/lib/python3.7/site-packages/scaper/core.py:1172: ScaperWarning: car_horn event duration (2.46) is greater that source duration (0.30), changing to 0.30\n",
      "  ScaperWarning)\n",
      "/Users/anderson675/miniconda3/lib/python3.7/site-packages/scaper/core.py:1268: ScaperWarning: street_music event time (7.63) is too great given stretched event duration (2.85) and soundscape duration (10.00), changed to 7.15.\n",
      "  ScaperWarning)\n"
     ]
    },
    {
     "name": "stdout",
     "output_type": "stream",
     "text": [
      "Generating soundscape: 158/200\n"
     ]
    },
    {
     "name": "stderr",
     "output_type": "stream",
     "text": [
      "/Users/anderson675/miniconda3/lib/python3.7/site-packages/scaper/core.py:1268: ScaperWarning: engine_idling event time (7.86) is too great given stretched event duration (3.12) and soundscape duration (10.00), changed to 6.88.\n",
      "  ScaperWarning)\n",
      "/Users/anderson675/miniconda3/lib/python3.7/site-packages/scaper/core.py:1268: ScaperWarning: street_music event time (5.74) is too great given stretched event duration (4.31) and soundscape duration (10.00), changed to 5.69.\n",
      "  ScaperWarning)\n",
      "/Users/anderson675/miniconda3/lib/python3.7/site-packages/scaper/core.py:1268: ScaperWarning: car_horn event time (7.41) is too great given stretched event duration (3.87) and soundscape duration (10.00), changed to 6.13.\n",
      "  ScaperWarning)\n",
      "/Users/anderson675/miniconda3/lib/python3.7/site-packages/scaper/core.py:1268: ScaperWarning: street_music event time (9.46) is too great given stretched event duration (2.93) and soundscape duration (10.00), changed to 7.07.\n",
      "  ScaperWarning)\n"
     ]
    },
    {
     "name": "stdout",
     "output_type": "stream",
     "text": [
      "Generating soundscape: 159/200\n",
      "Generating soundscape: 160/200\n",
      "Generating soundscape: 161/200\n"
     ]
    },
    {
     "name": "stderr",
     "output_type": "stream",
     "text": [
      "/Users/anderson675/miniconda3/lib/python3.7/site-packages/scaper/core.py:1172: ScaperWarning: drilling event duration (2.82) is greater that source duration (0.72), changing to 0.72\n",
      "  ScaperWarning)\n",
      "/Users/anderson675/miniconda3/lib/python3.7/site-packages/scaper/core.py:1268: ScaperWarning: speech event time (8.76) is too great given stretched event duration (1.83) and soundscape duration (10.00), changed to 8.17.\n",
      "  ScaperWarning)\n",
      "/Users/anderson675/miniconda3/lib/python3.7/site-packages/scaper/core.py:1172: ScaperWarning: dog_bark event duration (3.91) is greater that source duration (1.99), changing to 1.99\n",
      "  ScaperWarning)\n"
     ]
    },
    {
     "name": "stdout",
     "output_type": "stream",
     "text": [
      "Generating soundscape: 162/200\n",
      "Generating soundscape: 163/200\n"
     ]
    },
    {
     "name": "stderr",
     "output_type": "stream",
     "text": [
      "/Users/anderson675/miniconda3/lib/python3.7/site-packages/scaper/core.py:1268: ScaperWarning: air_conditioner event time (7.97) is too great given stretched event duration (3.45) and soundscape duration (10.00), changed to 6.55.\n",
      "  ScaperWarning)\n"
     ]
    },
    {
     "name": "stdout",
     "output_type": "stream",
     "text": [
      "Generating soundscape: 164/200\n"
     ]
    },
    {
     "name": "stderr",
     "output_type": "stream",
     "text": [
      "/Users/anderson675/miniconda3/lib/python3.7/site-packages/scaper/core.py:1268: ScaperWarning: air_conditioner event time (9.99) is too great given stretched event duration (2.69) and soundscape duration (10.00), changed to 7.31.\n",
      "  ScaperWarning)\n"
     ]
    },
    {
     "name": "stdout",
     "output_type": "stream",
     "text": [
      "Generating soundscape: 165/200\n"
     ]
    },
    {
     "name": "stderr",
     "output_type": "stream",
     "text": [
      "/Users/anderson675/miniconda3/lib/python3.7/site-packages/scaper/core.py:1172: ScaperWarning: dog_bark event duration (2.08) is greater that source duration (0.77), changing to 0.77\n",
      "  ScaperWarning)\n",
      "/Users/anderson675/miniconda3/lib/python3.7/site-packages/scaper/core.py:1268: ScaperWarning: air_conditioner event time (8.11) is too great given stretched event duration (2.59) and soundscape duration (10.00), changed to 7.41.\n",
      "  ScaperWarning)\n",
      "/Users/anderson675/miniconda3/lib/python3.7/site-packages/scaper/core.py:1268: ScaperWarning: siren event time (7.06) is too great given stretched event duration (4.25) and soundscape duration (10.00), changed to 5.75.\n",
      "  ScaperWarning)\n"
     ]
    },
    {
     "name": "stdout",
     "output_type": "stream",
     "text": [
      "Generating soundscape: 166/200\n"
     ]
    },
    {
     "name": "stderr",
     "output_type": "stream",
     "text": [
      "/Users/anderson675/miniconda3/lib/python3.7/site-packages/scaper/core.py:1172: ScaperWarning: drilling event duration (3.96) is greater that source duration (1.95), changing to 1.95\n",
      "  ScaperWarning)\n"
     ]
    },
    {
     "name": "stdout",
     "output_type": "stream",
     "text": [
      "Generating soundscape: 167/200\n"
     ]
    },
    {
     "name": "stderr",
     "output_type": "stream",
     "text": [
      "/Users/anderson675/miniconda3/lib/python3.7/site-packages/scaper/core.py:1268: ScaperWarning: siren event time (9.44) is too great given stretched event duration (2.60) and soundscape duration (10.00), changed to 7.40.\n",
      "  ScaperWarning)\n",
      "/Users/anderson675/miniconda3/lib/python3.7/site-packages/scaper/core.py:1268: ScaperWarning: air_conditioner event time (8.70) is too great given stretched event duration (3.05) and soundscape duration (10.00), changed to 6.95.\n",
      "  ScaperWarning)\n"
     ]
    },
    {
     "name": "stdout",
     "output_type": "stream",
     "text": [
      "Generating soundscape: 168/200\n"
     ]
    },
    {
     "name": "stderr",
     "output_type": "stream",
     "text": [
      "/Users/anderson675/miniconda3/lib/python3.7/site-packages/scaper/core.py:1172: ScaperWarning: jackhammer event duration (2.27) is greater that source duration (2.22), changing to 2.22\n",
      "  ScaperWarning)\n",
      "/Users/anderson675/miniconda3/lib/python3.7/site-packages/scaper/core.py:1268: ScaperWarning: jackhammer event time (9.36) is too great given stretched event duration (1.91) and soundscape duration (10.00), changed to 8.09.\n",
      "  ScaperWarning)\n"
     ]
    },
    {
     "name": "stdout",
     "output_type": "stream",
     "text": [
      "Generating soundscape: 169/200\n"
     ]
    },
    {
     "name": "stderr",
     "output_type": "stream",
     "text": [
      "/Users/anderson675/miniconda3/lib/python3.7/site-packages/scaper/core.py:1172: ScaperWarning: gun_shot event duration (1.41) is greater that source duration (0.58), changing to 0.58\n",
      "  ScaperWarning)\n",
      "/Users/anderson675/miniconda3/lib/python3.7/site-packages/scaper/core.py:1268: ScaperWarning: gun_shot event time (7.74) is too great given stretched event duration (2.46) and soundscape duration (10.00), changed to 7.54.\n",
      "  ScaperWarning)\n",
      "/Users/anderson675/miniconda3/lib/python3.7/site-packages/scaper/core.py:1268: ScaperWarning: jackhammer event time (8.59) is too great given stretched event duration (2.21) and soundscape duration (10.00), changed to 7.79.\n",
      "  ScaperWarning)\n"
     ]
    },
    {
     "name": "stdout",
     "output_type": "stream",
     "text": [
      "Generating soundscape: 170/200\n"
     ]
    },
    {
     "name": "stderr",
     "output_type": "stream",
     "text": [
      "/Users/anderson675/miniconda3/lib/python3.7/site-packages/scaper/core.py:1172: ScaperWarning: gun_shot event duration (2.94) is greater that source duration (2.34), changing to 2.34\n",
      "  ScaperWarning)\n"
     ]
    },
    {
     "name": "stdout",
     "output_type": "stream",
     "text": [
      "Generating soundscape: 171/200\n",
      "Generating soundscape: 172/200\n"
     ]
    },
    {
     "name": "stderr",
     "output_type": "stream",
     "text": [
      "/Users/anderson675/miniconda3/lib/python3.7/site-packages/scaper/core.py:1268: ScaperWarning: air_conditioner event time (9.84) is too great given stretched event duration (3.16) and soundscape duration (10.00), changed to 6.84.\n",
      "  ScaperWarning)\n"
     ]
    },
    {
     "name": "stdout",
     "output_type": "stream",
     "text": [
      "Generating soundscape: 173/200\n"
     ]
    },
    {
     "name": "stderr",
     "output_type": "stream",
     "text": [
      "/Users/anderson675/miniconda3/lib/python3.7/site-packages/scaper/core.py:1172: ScaperWarning: gun_shot event duration (3.84) is greater that source duration (2.03), changing to 2.03\n",
      "  ScaperWarning)\n",
      "/Users/anderson675/miniconda3/lib/python3.7/site-packages/scaper/core.py:1268: ScaperWarning: gun_shot event time (9.53) is too great given stretched event duration (2.22) and soundscape duration (10.00), changed to 7.78.\n",
      "  ScaperWarning)\n",
      "/Users/anderson675/miniconda3/lib/python3.7/site-packages/scaper/core.py:1172: ScaperWarning: dog_bark event duration (2.12) is greater that source duration (1.41), changing to 1.41\n",
      "  ScaperWarning)\n",
      "/Users/anderson675/miniconda3/lib/python3.7/site-packages/scaper/core.py:1172: ScaperWarning: gun_shot event duration (1.01) is greater that source duration (0.62), changing to 0.62\n",
      "  ScaperWarning)\n"
     ]
    },
    {
     "name": "stdout",
     "output_type": "stream",
     "text": [
      "Generating soundscape: 174/200\n"
     ]
    },
    {
     "name": "stderr",
     "output_type": "stream",
     "text": [
      "/Users/anderson675/miniconda3/lib/python3.7/site-packages/scaper/core.py:1172: ScaperWarning: jackhammer event duration (3.82) is greater that source duration (2.06), changing to 2.06\n",
      "  ScaperWarning)\n",
      "/Users/anderson675/miniconda3/lib/python3.7/site-packages/scaper/core.py:1268: ScaperWarning: street_music event time (9.91) is too great given stretched event duration (3.46) and soundscape duration (10.00), changed to 6.54.\n",
      "  ScaperWarning)\n"
     ]
    },
    {
     "name": "stdout",
     "output_type": "stream",
     "text": [
      "Generating soundscape: 175/200\n"
     ]
    },
    {
     "name": "stderr",
     "output_type": "stream",
     "text": [
      "/Users/anderson675/miniconda3/lib/python3.7/site-packages/scaper/core.py:1172: ScaperWarning: gun_shot event duration (2.35) is greater that source duration (0.67), changing to 0.67\n",
      "  ScaperWarning)\n"
     ]
    },
    {
     "name": "stdout",
     "output_type": "stream",
     "text": [
      "Generating soundscape: 176/200\n"
     ]
    },
    {
     "name": "stderr",
     "output_type": "stream",
     "text": [
      "/Users/anderson675/miniconda3/lib/python3.7/site-packages/scaper/core.py:1268: ScaperWarning: jackhammer event time (8.40) is too great given stretched event duration (2.88) and soundscape duration (10.00), changed to 7.12.\n",
      "  ScaperWarning)\n",
      "/Users/anderson675/miniconda3/lib/python3.7/site-packages/scaper/core.py:1172: ScaperWarning: car_horn event duration (2.69) is greater that source duration (0.74), changing to 0.74\n",
      "  ScaperWarning)\n"
     ]
    },
    {
     "name": "stdout",
     "output_type": "stream",
     "text": [
      "Generating soundscape: 177/200\n",
      "Generating soundscape: 178/200\n"
     ]
    },
    {
     "name": "stderr",
     "output_type": "stream",
     "text": [
      "/Users/anderson675/miniconda3/lib/python3.7/site-packages/scaper/core.py:1268: ScaperWarning: speech event time (8.76) is too great given stretched event duration (2.02) and soundscape duration (10.00), changed to 7.98.\n",
      "  ScaperWarning)\n",
      "/Users/anderson675/miniconda3/lib/python3.7/site-packages/scaper/core.py:1268: ScaperWarning: speech event time (6.22) is too great given stretched event duration (4.06) and soundscape duration (10.00), changed to 5.94.\n",
      "  ScaperWarning)\n"
     ]
    },
    {
     "name": "stdout",
     "output_type": "stream",
     "text": [
      "Generating soundscape: 179/200\n"
     ]
    },
    {
     "name": "stderr",
     "output_type": "stream",
     "text": [
      "/Users/anderson675/miniconda3/lib/python3.7/site-packages/scaper/core.py:1172: ScaperWarning: gun_shot event duration (1.32) is greater that source duration (0.61), changing to 0.61\n",
      "  ScaperWarning)\n",
      "/Users/anderson675/miniconda3/lib/python3.7/site-packages/scaper/core.py:1268: ScaperWarning: engine_idling event time (8.00) is too great given stretched event duration (4.12) and soundscape duration (10.00), changed to 5.88.\n",
      "  ScaperWarning)\n",
      "/Users/anderson675/miniconda3/lib/python3.7/site-packages/scaper/core.py:1172: ScaperWarning: dog_bark event duration (1.49) is greater that source duration (0.49), changing to 0.49\n",
      "  ScaperWarning)\n"
     ]
    },
    {
     "name": "stdout",
     "output_type": "stream",
     "text": [
      "Generating soundscape: 180/200\n"
     ]
    },
    {
     "name": "stderr",
     "output_type": "stream",
     "text": [
      "/Users/anderson675/miniconda3/lib/python3.7/site-packages/scaper/core.py:1172: ScaperWarning: gun_shot event duration (3.53) is greater that source duration (0.58), changing to 0.58\n",
      "  ScaperWarning)\n"
     ]
    },
    {
     "name": "stdout",
     "output_type": "stream",
     "text": [
      "Generating soundscape: 181/200\n",
      "Generating soundscape: 182/200\n"
     ]
    },
    {
     "name": "stderr",
     "output_type": "stream",
     "text": [
      "/Users/anderson675/miniconda3/lib/python3.7/site-packages/scaper/core.py:1268: ScaperWarning: air_conditioner event time (7.78) is too great given stretched event duration (2.77) and soundscape duration (10.00), changed to 7.23.\n",
      "  ScaperWarning)\n",
      "/Users/anderson675/miniconda3/lib/python3.7/site-packages/scaper/core.py:1268: ScaperWarning: engine_idling event time (9.84) is too great given stretched event duration (1.09) and soundscape duration (10.00), changed to 8.91.\n",
      "  ScaperWarning)\n"
     ]
    },
    {
     "name": "stdout",
     "output_type": "stream",
     "text": [
      "Generating soundscape: 183/200\n"
     ]
    },
    {
     "name": "stderr",
     "output_type": "stream",
     "text": [
      "/Users/anderson675/miniconda3/lib/python3.7/site-packages/scaper/core.py:1268: ScaperWarning: drilling event time (8.48) is too great given stretched event duration (1.98) and soundscape duration (10.00), changed to 8.02.\n",
      "  ScaperWarning)\n"
     ]
    },
    {
     "name": "stdout",
     "output_type": "stream",
     "text": [
      "Generating soundscape: 184/200\n",
      "Generating soundscape: 185/200\n",
      "Generating soundscape: 186/200\n"
     ]
    },
    {
     "name": "stderr",
     "output_type": "stream",
     "text": [
      "/Users/anderson675/miniconda3/lib/python3.7/site-packages/scaper/core.py:1172: ScaperWarning: gun_shot event duration (1.14) is greater that source duration (0.48), changing to 0.48\n",
      "  ScaperWarning)\n",
      "/Users/anderson675/miniconda3/lib/python3.7/site-packages/scaper/core.py:1172: ScaperWarning: gun_shot event duration (2.57) is greater that source duration (1.14), changing to 1.14\n",
      "  ScaperWarning)\n",
      "/Users/anderson675/miniconda3/lib/python3.7/site-packages/scaper/core.py:1268: ScaperWarning: air_conditioner event time (8.68) is too great given stretched event duration (1.34) and soundscape duration (10.00), changed to 8.66.\n",
      "  ScaperWarning)\n"
     ]
    },
    {
     "name": "stdout",
     "output_type": "stream",
     "text": [
      "Generating soundscape: 187/200\n"
     ]
    },
    {
     "name": "stderr",
     "output_type": "stream",
     "text": [
      "/Users/anderson675/miniconda3/lib/python3.7/site-packages/scaper/core.py:1172: ScaperWarning: gun_shot event duration (3.64) is greater that source duration (1.09), changing to 1.09\n",
      "  ScaperWarning)\n"
     ]
    },
    {
     "name": "stdout",
     "output_type": "stream",
     "text": [
      "Generating soundscape: 188/200\n",
      "Generating soundscape: 189/200\n"
     ]
    },
    {
     "name": "stderr",
     "output_type": "stream",
     "text": [
      "/Users/anderson675/miniconda3/lib/python3.7/site-packages/scaper/core.py:1172: ScaperWarning: car_horn event duration (3.18) is greater that source duration (0.80), changing to 0.80\n",
      "  ScaperWarning)\n",
      "/Users/anderson675/miniconda3/lib/python3.7/site-packages/scaper/core.py:1268: ScaperWarning: dog_bark event time (8.54) is too great given stretched event duration (1.69) and soundscape duration (10.00), changed to 8.31.\n",
      "  ScaperWarning)\n",
      "/Users/anderson675/miniconda3/lib/python3.7/site-packages/scaper/core.py:1172: ScaperWarning: dog_bark event duration (2.54) is greater that source duration (0.76), changing to 0.76\n",
      "  ScaperWarning)\n"
     ]
    },
    {
     "name": "stdout",
     "output_type": "stream",
     "text": [
      "Generating soundscape: 190/200\n"
     ]
    },
    {
     "name": "stderr",
     "output_type": "stream",
     "text": [
      "/Users/anderson675/miniconda3/lib/python3.7/site-packages/scaper/core.py:1268: ScaperWarning: siren event time (8.79) is too great given stretched event duration (3.13) and soundscape duration (10.00), changed to 6.87.\n",
      "  ScaperWarning)\n",
      "/Users/anderson675/miniconda3/lib/python3.7/site-packages/scaper/core.py:1268: ScaperWarning: jackhammer event time (8.60) is too great given stretched event duration (4.13) and soundscape duration (10.00), changed to 5.87.\n",
      "  ScaperWarning)\n",
      "/Users/anderson675/miniconda3/lib/python3.7/site-packages/scaper/core.py:1268: ScaperWarning: air_conditioner event time (8.43) is too great given stretched event duration (3.42) and soundscape duration (10.00), changed to 6.58.\n",
      "  ScaperWarning)\n"
     ]
    },
    {
     "name": "stdout",
     "output_type": "stream",
     "text": [
      "Generating soundscape: 191/200\n"
     ]
    },
    {
     "name": "stderr",
     "output_type": "stream",
     "text": [
      "/Users/anderson675/miniconda3/lib/python3.7/site-packages/scaper/core.py:1172: ScaperWarning: gun_shot event duration (2.24) is greater that source duration (2.12), changing to 2.12\n",
      "  ScaperWarning)\n",
      "/Users/anderson675/miniconda3/lib/python3.7/site-packages/scaper/core.py:1172: ScaperWarning: gun_shot event duration (1.25) is greater that source duration (1.08), changing to 1.08\n",
      "  ScaperWarning)\n",
      "/Users/anderson675/miniconda3/lib/python3.7/site-packages/scaper/core.py:1268: ScaperWarning: siren event time (7.13) is too great given stretched event duration (3.69) and soundscape duration (10.00), changed to 6.31.\n",
      "  ScaperWarning)\n"
     ]
    },
    {
     "name": "stdout",
     "output_type": "stream",
     "text": [
      "Generating soundscape: 192/200\n"
     ]
    },
    {
     "name": "stderr",
     "output_type": "stream",
     "text": [
      "/Users/anderson675/miniconda3/lib/python3.7/site-packages/scaper/core.py:1268: ScaperWarning: drilling event time (8.14) is too great given stretched event duration (2.37) and soundscape duration (10.00), changed to 7.63.\n",
      "  ScaperWarning)\n"
     ]
    },
    {
     "name": "stdout",
     "output_type": "stream",
     "text": [
      "Generating soundscape: 193/200\n"
     ]
    },
    {
     "name": "stderr",
     "output_type": "stream",
     "text": [
      "/Users/anderson675/miniconda3/lib/python3.7/site-packages/scaper/core.py:1172: ScaperWarning: gun_shot event duration (3.57) is greater that source duration (1.68), changing to 1.68\n",
      "  ScaperWarning)\n",
      "/Users/anderson675/miniconda3/lib/python3.7/site-packages/scaper/core.py:1268: ScaperWarning: jackhammer event time (8.14) is too great given stretched event duration (2.94) and soundscape duration (10.00), changed to 7.06.\n",
      "  ScaperWarning)\n"
     ]
    },
    {
     "name": "stdout",
     "output_type": "stream",
     "text": [
      "Generating soundscape: 194/200\n"
     ]
    },
    {
     "name": "stderr",
     "output_type": "stream",
     "text": [
      "/Users/anderson675/miniconda3/lib/python3.7/site-packages/scaper/core.py:1268: ScaperWarning: jackhammer event time (9.19) is too great given stretched event duration (1.30) and soundscape duration (10.00), changed to 8.70.\n",
      "  ScaperWarning)\n"
     ]
    },
    {
     "name": "stdout",
     "output_type": "stream",
     "text": [
      "Generating soundscape: 195/200\n"
     ]
    },
    {
     "name": "stderr",
     "output_type": "stream",
     "text": [
      "/Users/anderson675/miniconda3/lib/python3.7/site-packages/scaper/core.py:1268: ScaperWarning: drilling event time (7.43) is too great given stretched event duration (3.40) and soundscape duration (10.00), changed to 6.60.\n",
      "  ScaperWarning)\n",
      "/Users/anderson675/miniconda3/lib/python3.7/site-packages/scaper/core.py:1172: ScaperWarning: gun_shot event duration (1.67) is greater that source duration (1.08), changing to 1.08\n",
      "  ScaperWarning)\n",
      "/Users/anderson675/miniconda3/lib/python3.7/site-packages/scaper/core.py:1268: ScaperWarning: air_conditioner event time (7.72) is too great given stretched event duration (3.17) and soundscape duration (10.00), changed to 6.83.\n",
      "  ScaperWarning)\n"
     ]
    },
    {
     "name": "stdout",
     "output_type": "stream",
     "text": [
      "Generating soundscape: 196/200\n"
     ]
    },
    {
     "name": "stderr",
     "output_type": "stream",
     "text": [
      "/Users/anderson675/miniconda3/lib/python3.7/site-packages/scaper/core.py:1268: ScaperWarning: siren event time (9.43) is too great given stretched event duration (1.03) and soundscape duration (10.00), changed to 8.97.\n",
      "  ScaperWarning)\n",
      "/Users/anderson675/miniconda3/lib/python3.7/site-packages/scaper/core.py:1172: ScaperWarning: dog_bark event duration (2.30) is greater that source duration (0.63), changing to 0.63\n",
      "  ScaperWarning)\n",
      "/Users/anderson675/miniconda3/lib/python3.7/site-packages/scaper/core.py:1172: ScaperWarning: drilling event duration (3.37) is greater that source duration (1.52), changing to 1.52\n",
      "  ScaperWarning)\n"
     ]
    },
    {
     "name": "stdout",
     "output_type": "stream",
     "text": [
      "Generating soundscape: 197/200\n"
     ]
    },
    {
     "name": "stderr",
     "output_type": "stream",
     "text": [
      "/Users/anderson675/miniconda3/lib/python3.7/site-packages/scaper/core.py:1268: ScaperWarning: air_conditioner event time (9.27) is too great given stretched event duration (1.52) and soundscape duration (10.00), changed to 8.48.\n",
      "  ScaperWarning)\n",
      "/Users/anderson675/miniconda3/lib/python3.7/site-packages/scaper/core.py:1268: ScaperWarning: air_conditioner event time (9.59) is too great given stretched event duration (0.86) and soundscape duration (10.00), changed to 9.14.\n",
      "  ScaperWarning)\n"
     ]
    },
    {
     "name": "stdout",
     "output_type": "stream",
     "text": [
      "Generating soundscape: 198/200\n"
     ]
    },
    {
     "name": "stderr",
     "output_type": "stream",
     "text": [
      "/Users/anderson675/miniconda3/lib/python3.7/site-packages/scaper/core.py:1268: ScaperWarning: air_conditioner event time (9.13) is too great given stretched event duration (1.79) and soundscape duration (10.00), changed to 8.21.\n",
      "  ScaperWarning)\n",
      "/Users/anderson675/miniconda3/lib/python3.7/site-packages/scaper/core.py:1172: ScaperWarning: gun_shot event duration (3.18) is greater that source duration (2.84), changing to 2.84\n",
      "  ScaperWarning)\n",
      "/Users/anderson675/miniconda3/lib/python3.7/site-packages/scaper/core.py:1268: ScaperWarning: gun_shot event time (9.58) is too great given stretched event duration (2.47) and soundscape duration (10.00), changed to 7.53.\n",
      "  ScaperWarning)\n"
     ]
    },
    {
     "name": "stdout",
     "output_type": "stream",
     "text": [
      "Generating soundscape: 199/200\n"
     ]
    },
    {
     "name": "stderr",
     "output_type": "stream",
     "text": [
      "/Users/anderson675/miniconda3/lib/python3.7/site-packages/scaper/core.py:1172: ScaperWarning: gun_shot event duration (3.32) is greater that source duration (2.86), changing to 2.86\n",
      "  ScaperWarning)\n",
      "/Users/anderson675/miniconda3/lib/python3.7/site-packages/scaper/core.py:1172: ScaperWarning: dog_bark event duration (2.16) is greater that source duration (0.95), changing to 0.95\n",
      "  ScaperWarning)\n"
     ]
    },
    {
     "name": "stdout",
     "output_type": "stream",
     "text": [
      "Generating soundscape: 200/200\n"
     ]
    },
    {
     "name": "stderr",
     "output_type": "stream",
     "text": [
      "/Users/anderson675/miniconda3/lib/python3.7/site-packages/scaper/core.py:1268: ScaperWarning: dog_bark event time (9.21) is too great given stretched event duration (1.19) and soundscape duration (10.00), changed to 8.81.\n",
      "  ScaperWarning)\n",
      "/Users/anderson675/miniconda3/lib/python3.7/site-packages/scaper/core.py:1268: ScaperWarning: siren event time (7.49) is too great given stretched event duration (4.59) and soundscape duration (10.00), changed to 5.41.\n",
      "  ScaperWarning)\n",
      "/Users/anderson675/miniconda3/lib/python3.7/site-packages/scaper/core.py:1172: ScaperWarning: gun_shot event duration (3.31) is greater that source duration (1.23), changing to 1.23\n",
      "  ScaperWarning)\n"
     ]
    }
   ],
   "source": [
    "\n",
    "# SCAPER SETTINGS\n",
    "np.random.seed(123)\n",
    "fg_folder = os.getcwd() + '/1_Dataset_Generate/audio/soundbanks/train/foreground/'\n",
    "bg_folder = os.getcwd() + '/1_Dataset_Generate/audio/soundbanks/train/background/'\n",
    "\n",
    "n_soundscapes = 200\n",
    "ref_db = -50\n",
    "duration = 10.0 \n",
    "\n",
    "min_events = 1\n",
    "max_events = 9\n",
    "\n",
    "event_time_dist = 'uniform'\n",
    "event_time_min = 0.0\n",
    "event_time_max = 10.0\n",
    "\n",
    "source_time_dist = 'const'\n",
    "source_time = 0.0\n",
    "\n",
    "event_duration_dist = 'uniform'\n",
    "event_duration_min = 0.5\n",
    "event_duration_max = 4.0\n",
    "\n",
    "snr_dist = 'uniform'\n",
    "snr_min = 6\n",
    "snr_max = 30\n",
    "\n",
    "pitch_dist = 'uniform'\n",
    "pitch_min = -3.0\n",
    "pitch_max = 3.0\n",
    "\n",
    "time_stretch_dist = 'uniform'\n",
    "time_stretch_min = 0.8\n",
    "time_stretch_max = 1.2\n",
    "\n",
    "\n",
    "# FILE SETTINGS\n",
    "outfolder = os.path.join(os.getcwd() + '/1_Dataset_Generate/audio/soundbanks/train/generated/uniform')\n",
    "if not os.path.isdir(outfolder):\n",
    "    os.mkdir(outfolder)\n",
    "    \n",
    "for n in range(n_soundscapes):\n",
    "    \n",
    "    print('Generating soundscape: {:d}/{:d}'.format(n+1, n_soundscapes))\n",
    "    \n",
    "    # create a scaper\n",
    "    sc = scaper.Scaper(duration, fg_folder, bg_folder)\n",
    "    sc.protected_labels = []\n",
    "    sc.ref_db = ref_db\n",
    "    \n",
    "    # add background\n",
    "    sc.add_background(label=('const', 'noise'), \n",
    "                      source_file=('choose', []), \n",
    "                      source_time=('const', 0))\n",
    "\n",
    "    # add random foreground events\n",
    "    n_events = np.random.randint(min_events, max_events+1)\n",
    "    for _ in range(n_events):\n",
    "        sc.add_event(label=('choose', []), \n",
    "                     source_file=('choose', []), \n",
    "                     source_time=(source_time_dist, source_time), \n",
    "                     event_time=(event_time_dist, event_time_min, event_time_max), \n",
    "                     event_duration=(event_duration_dist, event_duration_min, event_duration_max), \n",
    "                     snr=(snr_dist, snr_min, snr_max),\n",
    "                     pitch_shift=(pitch_dist, pitch_min, pitch_max),\n",
    "                     time_stretch=(time_stretch_dist, time_stretch_min, time_stretch_max))\n",
    "    \n",
    "    # generate\n",
    "    audiofile = os.path.join(outfolder, \"soundscape_train_uniform{:d}.wav\".format(n))\n",
    "    jamsfile = os.path.join(outfolder, \"soundscape_train_uniform{:d}.jams\".format(n))\n",
    "    txtfile = os.path.join(outfolder, \"soundscape_train_uniform{:d}.txt\".format(n))\n",
    "    \n",
    "    sc.generate(audiofile, jamsfile,\n",
    "                allow_repeated_label=True,\n",
    "                allow_repeated_source=False,\n",
    "                reverb=0.1,\n",
    "                disable_sox_warnings=True,\n",
    "                no_audio=False,\n",
    "                txt_path=txtfile)"
   ]
  },
  {
   "cell_type": "markdown",
   "metadata": {},
   "source": [
    "# Train-Unimodal"
   ]
  },
  {
   "cell_type": "code",
   "execution_count": 23,
   "metadata": {},
   "outputs": [
    {
     "name": "stdout",
     "output_type": "stream",
     "text": [
      "Generating soundscape: 1/200\n"
     ]
    },
    {
     "name": "stderr",
     "output_type": "stream",
     "text": [
      "/Users/anderson675/miniconda3/lib/python3.7/site-packages/scaper/core.py:1172: ScaperWarning: gun_shot event duration (2.60) is greater that source duration (1.86), changing to 1.86\n",
      "  ScaperWarning)\n",
      "/Users/anderson675/miniconda3/lib/python3.7/site-packages/scaper/core.py:1268: ScaperWarning: drilling event time (6.15) is too great given stretched event duration (4.06) and soundscape duration (10.00), changed to 5.94.\n",
      "  ScaperWarning)\n"
     ]
    },
    {
     "name": "stdout",
     "output_type": "stream",
     "text": [
      "Generating soundscape: 2/200\n"
     ]
    },
    {
     "name": "stderr",
     "output_type": "stream",
     "text": [
      "/Users/anderson675/miniconda3/lib/python3.7/site-packages/scaper/core.py:1172: ScaperWarning: dog_bark event duration (3.18) is greater that source duration (1.73), changing to 1.73\n",
      "  ScaperWarning)\n"
     ]
    },
    {
     "name": "stdout",
     "output_type": "stream",
     "text": [
      "Generating soundscape: 3/200\n"
     ]
    },
    {
     "name": "stderr",
     "output_type": "stream",
     "text": [
      "/Users/anderson675/miniconda3/lib/python3.7/site-packages/scaper/core.py:1268: ScaperWarning: jackhammer event time (6.26) is too great given stretched event duration (4.12) and soundscape duration (10.00), changed to 5.88.\n",
      "  ScaperWarning)\n",
      "/Users/anderson675/miniconda3/lib/python3.7/site-packages/scaper/core.py:1172: ScaperWarning: gun_shot event duration (3.20) is greater that source duration (0.96), changing to 0.96\n",
      "  ScaperWarning)\n"
     ]
    },
    {
     "name": "stdout",
     "output_type": "stream",
     "text": [
      "Generating soundscape: 4/200\n"
     ]
    },
    {
     "name": "stderr",
     "output_type": "stream",
     "text": [
      "/Users/anderson675/miniconda3/lib/python3.7/site-packages/scaper/core.py:1172: ScaperWarning: dog_bark event duration (3.58) is greater that source duration (1.28), changing to 1.28\n",
      "  ScaperWarning)\n"
     ]
    },
    {
     "name": "stdout",
     "output_type": "stream",
     "text": [
      "Generating soundscape: 5/200\n",
      "Generating soundscape: 6/200\n"
     ]
    },
    {
     "name": "stderr",
     "output_type": "stream",
     "text": [
      "/Users/anderson675/miniconda3/lib/python3.7/site-packages/scaper/core.py:1172: ScaperWarning: car_horn event duration (3.91) is greater that source duration (0.55), changing to 0.55\n",
      "  ScaperWarning)\n"
     ]
    },
    {
     "name": "stdout",
     "output_type": "stream",
     "text": [
      "Generating soundscape: 7/200\n"
     ]
    },
    {
     "name": "stderr",
     "output_type": "stream",
     "text": [
      "/Users/anderson675/miniconda3/lib/python3.7/site-packages/scaper/core.py:1172: ScaperWarning: gun_shot event duration (2.50) is greater that source duration (1.41), changing to 1.41\n",
      "  ScaperWarning)\n",
      "/Users/anderson675/miniconda3/lib/python3.7/site-packages/scaper/core.py:1172: ScaperWarning: gun_shot event duration (2.89) is greater that source duration (2.38), changing to 2.38\n",
      "  ScaperWarning)\n",
      "/Users/anderson675/miniconda3/lib/python3.7/site-packages/scaper/core.py:1172: ScaperWarning: car_horn event duration (2.36) is greater that source duration (0.58), changing to 0.58\n",
      "  ScaperWarning)\n"
     ]
    },
    {
     "name": "stdout",
     "output_type": "stream",
     "text": [
      "Generating soundscape: 8/200\n"
     ]
    },
    {
     "name": "stderr",
     "output_type": "stream",
     "text": [
      "/Users/anderson675/miniconda3/lib/python3.7/site-packages/scaper/core.py:1172: ScaperWarning: car_horn event duration (1.26) is greater that source duration (0.60), changing to 0.60\n",
      "  ScaperWarning)\n",
      "/Users/anderson675/miniconda3/lib/python3.7/site-packages/scaper/core.py:1268: ScaperWarning: engine_idling event time (9.09) is too great given stretched event duration (2.15) and soundscape duration (10.00), changed to 7.85.\n",
      "  ScaperWarning)\n",
      "/Users/anderson675/miniconda3/lib/python3.7/site-packages/scaper/core.py:1172: ScaperWarning: car_horn event duration (2.89) is greater that source duration (0.32), changing to 0.32\n",
      "  ScaperWarning)\n"
     ]
    },
    {
     "name": "stdout",
     "output_type": "stream",
     "text": [
      "Generating soundscape: 9/200\n",
      "Generating soundscape: 10/200\n",
      "Generating soundscape: 11/200\n"
     ]
    },
    {
     "name": "stderr",
     "output_type": "stream",
     "text": [
      "/Users/anderson675/miniconda3/lib/python3.7/site-packages/scaper/core.py:1172: ScaperWarning: dog_bark event duration (2.77) is greater that source duration (0.25), changing to 0.25\n",
      "  ScaperWarning)\n"
     ]
    },
    {
     "name": "stdout",
     "output_type": "stream",
     "text": [
      "Generating soundscape: 12/200\n",
      "Generating soundscape: 13/200\n"
     ]
    },
    {
     "name": "stderr",
     "output_type": "stream",
     "text": [
      "/Users/anderson675/miniconda3/lib/python3.7/site-packages/scaper/core.py:1172: ScaperWarning: car_horn event duration (2.55) is greater that source duration (1.04), changing to 1.04\n",
      "  ScaperWarning)\n",
      "/Users/anderson675/miniconda3/lib/python3.7/site-packages/scaper/core.py:1268: ScaperWarning: speech event time (7.41) is too great given stretched event duration (4.03) and soundscape duration (10.00), changed to 5.97.\n",
      "  ScaperWarning)\n",
      "/Users/anderson675/miniconda3/lib/python3.7/site-packages/scaper/core.py:1268: ScaperWarning: drilling event time (7.73) is too great given stretched event duration (2.35) and soundscape duration (10.00), changed to 7.65.\n",
      "  ScaperWarning)\n"
     ]
    },
    {
     "name": "stdout",
     "output_type": "stream",
     "text": [
      "Generating soundscape: 14/200\n"
     ]
    },
    {
     "name": "stderr",
     "output_type": "stream",
     "text": [
      "/Users/anderson675/miniconda3/lib/python3.7/site-packages/scaper/core.py:1172: ScaperWarning: gun_shot event duration (2.73) is greater that source duration (1.19), changing to 1.19\n",
      "  ScaperWarning)\n"
     ]
    },
    {
     "name": "stdout",
     "output_type": "stream",
     "text": [
      "Generating soundscape: 15/200\n"
     ]
    },
    {
     "name": "stderr",
     "output_type": "stream",
     "text": [
      "/Users/anderson675/miniconda3/lib/python3.7/site-packages/scaper/core.py:1172: ScaperWarning: gun_shot event duration (3.04) is greater that source duration (2.34), changing to 2.34\n",
      "  ScaperWarning)\n",
      "/Users/anderson675/miniconda3/lib/python3.7/site-packages/scaper/core.py:1172: ScaperWarning: gun_shot event duration (3.12) is greater that source duration (1.21), changing to 1.21\n",
      "  ScaperWarning)\n",
      "/Users/anderson675/miniconda3/lib/python3.7/site-packages/scaper/core.py:1268: ScaperWarning: air_conditioner event time (7.62) is too great given stretched event duration (3.17) and soundscape duration (10.00), changed to 6.83.\n",
      "  ScaperWarning)\n",
      "/Users/anderson675/miniconda3/lib/python3.7/site-packages/scaper/core.py:1172: ScaperWarning: gun_shot event duration (3.30) is greater that source duration (1.87), changing to 1.87\n",
      "  ScaperWarning)\n",
      "/Users/anderson675/miniconda3/lib/python3.7/site-packages/scaper/core.py:1268: ScaperWarning: jackhammer event time (7.08) is too great given stretched event duration (3.60) and soundscape duration (10.00), changed to 6.40.\n",
      "  ScaperWarning)\n"
     ]
    },
    {
     "name": "stdout",
     "output_type": "stream",
     "text": [
      "Generating soundscape: 16/200\n"
     ]
    },
    {
     "name": "stderr",
     "output_type": "stream",
     "text": [
      "/Users/anderson675/miniconda3/lib/python3.7/site-packages/scaper/core.py:1172: ScaperWarning: jackhammer event duration (2.36) is greater that source duration (2.23), changing to 2.23\n",
      "  ScaperWarning)\n",
      "/Users/anderson675/miniconda3/lib/python3.7/site-packages/scaper/core.py:1268: ScaperWarning: jackhammer event time (9.60) is too great given stretched event duration (2.47) and soundscape duration (10.00), changed to 7.53.\n",
      "  ScaperWarning)\n",
      "/Users/anderson675/miniconda3/lib/python3.7/site-packages/scaper/core.py:1172: ScaperWarning: car_horn event duration (1.36) is greater that source duration (0.20), changing to 0.20\n",
      "  ScaperWarning)\n"
     ]
    },
    {
     "name": "stdout",
     "output_type": "stream",
     "text": [
      "Generating soundscape: 17/200\n"
     ]
    },
    {
     "name": "stderr",
     "output_type": "stream",
     "text": [
      "/Users/anderson675/miniconda3/lib/python3.7/site-packages/scaper/core.py:1268: ScaperWarning: car_horn event time (7.26) is too great given stretched event duration (3.69) and soundscape duration (10.00), changed to 6.31.\n",
      "  ScaperWarning)\n",
      "/Users/anderson675/miniconda3/lib/python3.7/site-packages/scaper/core.py:1172: ScaperWarning: gun_shot event duration (3.88) is greater that source duration (2.39), changing to 2.39\n",
      "  ScaperWarning)\n"
     ]
    },
    {
     "name": "stdout",
     "output_type": "stream",
     "text": [
      "Generating soundscape: 18/200\n"
     ]
    },
    {
     "name": "stderr",
     "output_type": "stream",
     "text": [
      "/Users/anderson675/miniconda3/lib/python3.7/site-packages/scaper/core.py:1268: ScaperWarning: street_music event time (6.79) is too great given stretched event duration (3.30) and soundscape duration (10.00), changed to 6.70.\n",
      "  ScaperWarning)\n",
      "/Users/anderson675/miniconda3/lib/python3.7/site-packages/scaper/core.py:1172: ScaperWarning: gun_shot event duration (2.89) is greater that source duration (1.68), changing to 1.68\n",
      "  ScaperWarning)\n"
     ]
    },
    {
     "name": "stdout",
     "output_type": "stream",
     "text": [
      "Generating soundscape: 19/200\n",
      "Generating soundscape: 20/200\n"
     ]
    },
    {
     "name": "stderr",
     "output_type": "stream",
     "text": [
      "/Users/anderson675/miniconda3/lib/python3.7/site-packages/scaper/core.py:1172: ScaperWarning: car_horn event duration (3.72) is greater that source duration (0.30), changing to 0.30\n",
      "  ScaperWarning)\n"
     ]
    },
    {
     "name": "stdout",
     "output_type": "stream",
     "text": [
      "Generating soundscape: 21/200\n"
     ]
    },
    {
     "name": "stderr",
     "output_type": "stream",
     "text": [
      "/Users/anderson675/miniconda3/lib/python3.7/site-packages/scaper/core.py:1268: ScaperWarning: engine_idling event time (9.01) is too great given stretched event duration (2.27) and soundscape duration (10.00), changed to 7.73.\n",
      "  ScaperWarning)\n"
     ]
    },
    {
     "name": "stdout",
     "output_type": "stream",
     "text": [
      "Generating soundscape: 22/200\n"
     ]
    },
    {
     "name": "stderr",
     "output_type": "stream",
     "text": [
      "/Users/anderson675/miniconda3/lib/python3.7/site-packages/scaper/core.py:1172: ScaperWarning: gun_shot event duration (3.18) is greater that source duration (0.32), changing to 0.32\n",
      "  ScaperWarning)\n"
     ]
    },
    {
     "name": "stdout",
     "output_type": "stream",
     "text": [
      "Generating soundscape: 23/200\n"
     ]
    },
    {
     "name": "stderr",
     "output_type": "stream",
     "text": [
      "/Users/anderson675/miniconda3/lib/python3.7/site-packages/scaper/core.py:1268: ScaperWarning: jackhammer event time (9.17) is too great given stretched event duration (2.20) and soundscape duration (10.00), changed to 7.80.\n",
      "  ScaperWarning)\n"
     ]
    },
    {
     "name": "stdout",
     "output_type": "stream",
     "text": [
      "Generating soundscape: 24/200\n"
     ]
    },
    {
     "name": "stderr",
     "output_type": "stream",
     "text": [
      "/Users/anderson675/miniconda3/lib/python3.7/site-packages/scaper/core.py:1172: ScaperWarning: drilling event duration (1.71) is greater that source duration (1.67), changing to 1.67\n",
      "  ScaperWarning)\n",
      "/Users/anderson675/miniconda3/lib/python3.7/site-packages/scaper/core.py:1172: ScaperWarning: drilling event duration (1.94) is greater that source duration (0.61), changing to 0.61\n",
      "  ScaperWarning)\n"
     ]
    },
    {
     "name": "stdout",
     "output_type": "stream",
     "text": [
      "Generating soundscape: 25/200\n"
     ]
    },
    {
     "name": "stderr",
     "output_type": "stream",
     "text": [
      "/Users/anderson675/miniconda3/lib/python3.7/site-packages/scaper/core.py:1172: ScaperWarning: car_horn event duration (3.85) is greater that source duration (2.55), changing to 2.55\n",
      "  ScaperWarning)\n",
      "/Users/anderson675/miniconda3/lib/python3.7/site-packages/scaper/core.py:1268: ScaperWarning: dog_bark event time (6.71) is too great given stretched event duration (3.70) and soundscape duration (10.00), changed to 6.30.\n",
      "  ScaperWarning)\n"
     ]
    },
    {
     "name": "stdout",
     "output_type": "stream",
     "text": [
      "Generating soundscape: 26/200\n"
     ]
    },
    {
     "name": "stderr",
     "output_type": "stream",
     "text": [
      "/Users/anderson675/miniconda3/lib/python3.7/site-packages/scaper/core.py:1268: ScaperWarning: siren event time (9.42) is too great given stretched event duration (2.16) and soundscape duration (10.00), changed to 7.84.\n",
      "  ScaperWarning)\n",
      "/Users/anderson675/miniconda3/lib/python3.7/site-packages/scaper/core.py:1172: ScaperWarning: gun_shot event duration (1.24) is greater that source duration (0.82), changing to 0.82\n",
      "  ScaperWarning)\n",
      "/Users/anderson675/miniconda3/lib/python3.7/site-packages/scaper/core.py:1172: ScaperWarning: drilling event duration (2.58) is greater that source duration (1.95), changing to 1.95\n",
      "  ScaperWarning)\n"
     ]
    },
    {
     "name": "stdout",
     "output_type": "stream",
     "text": [
      "Generating soundscape: 27/200\n",
      "Generating soundscape: 28/200\n"
     ]
    },
    {
     "name": "stderr",
     "output_type": "stream",
     "text": [
      "/Users/anderson675/miniconda3/lib/python3.7/site-packages/scaper/core.py:1268: ScaperWarning: speech event time (7.84) is too great given stretched event duration (3.04) and soundscape duration (10.00), changed to 6.96.\n",
      "  ScaperWarning)\n"
     ]
    },
    {
     "name": "stdout",
     "output_type": "stream",
     "text": [
      "Generating soundscape: 29/200\n"
     ]
    },
    {
     "name": "stderr",
     "output_type": "stream",
     "text": [
      "/Users/anderson675/miniconda3/lib/python3.7/site-packages/scaper/core.py:1172: ScaperWarning: gun_shot event duration (1.92) is greater that source duration (1.23), changing to 1.23\n",
      "  ScaperWarning)\n",
      "/Users/anderson675/miniconda3/lib/python3.7/site-packages/scaper/core.py:1172: ScaperWarning: gun_shot event duration (2.06) is greater that source duration (1.96), changing to 1.96\n",
      "  ScaperWarning)\n"
     ]
    },
    {
     "name": "stdout",
     "output_type": "stream",
     "text": [
      "Generating soundscape: 30/200\n"
     ]
    },
    {
     "name": "stderr",
     "output_type": "stream",
     "text": [
      "/Users/anderson675/miniconda3/lib/python3.7/site-packages/scaper/core.py:1172: ScaperWarning: car_horn event duration (1.79) is greater that source duration (0.55), changing to 0.55\n",
      "  ScaperWarning)\n",
      "/Users/anderson675/miniconda3/lib/python3.7/site-packages/scaper/core.py:1172: ScaperWarning: gun_shot event duration (3.72) is greater that source duration (1.81), changing to 1.81\n",
      "  ScaperWarning)\n",
      "/Users/anderson675/miniconda3/lib/python3.7/site-packages/scaper/core.py:1172: ScaperWarning: drilling event duration (1.51) is greater that source duration (0.74), changing to 0.74\n",
      "  ScaperWarning)\n"
     ]
    },
    {
     "name": "stdout",
     "output_type": "stream",
     "text": [
      "Generating soundscape: 31/200\n"
     ]
    },
    {
     "name": "stderr",
     "output_type": "stream",
     "text": [
      "/Users/anderson675/miniconda3/lib/python3.7/site-packages/scaper/core.py:1172: ScaperWarning: gun_shot event duration (3.51) is greater that source duration (1.49), changing to 1.49\n",
      "  ScaperWarning)\n",
      "/Users/anderson675/miniconda3/lib/python3.7/site-packages/scaper/core.py:1172: ScaperWarning: drilling event duration (2.46) is greater that source duration (0.97), changing to 0.97\n",
      "  ScaperWarning)\n"
     ]
    },
    {
     "name": "stdout",
     "output_type": "stream",
     "text": [
      "Generating soundscape: 32/200\n",
      "Generating soundscape: 33/200\n",
      "Generating soundscape: 34/200\n"
     ]
    },
    {
     "name": "stderr",
     "output_type": "stream",
     "text": [
      "/Users/anderson675/miniconda3/lib/python3.7/site-packages/scaper/core.py:1268: ScaperWarning: street_music event time (8.50) is too great given stretched event duration (2.72) and soundscape duration (10.00), changed to 7.28.\n",
      "  ScaperWarning)\n",
      "/Users/anderson675/miniconda3/lib/python3.7/site-packages/scaper/core.py:1172: ScaperWarning: car_horn event duration (1.84) is greater that source duration (0.54), changing to 0.54\n",
      "  ScaperWarning)\n",
      "/Users/anderson675/miniconda3/lib/python3.7/site-packages/scaper/core.py:1172: ScaperWarning: gun_shot event duration (3.85) is greater that source duration (2.02), changing to 2.02\n",
      "  ScaperWarning)\n"
     ]
    },
    {
     "name": "stdout",
     "output_type": "stream",
     "text": [
      "Generating soundscape: 35/200\n",
      "Generating soundscape: 36/200\n",
      "Generating soundscape: 37/200\n"
     ]
    },
    {
     "name": "stderr",
     "output_type": "stream",
     "text": [
      "/Users/anderson675/miniconda3/lib/python3.7/site-packages/scaper/core.py:1172: ScaperWarning: drilling event duration (3.86) is greater that source duration (3.34), changing to 3.34\n",
      "  ScaperWarning)\n"
     ]
    },
    {
     "name": "stdout",
     "output_type": "stream",
     "text": [
      "Generating soundscape: 38/200\n"
     ]
    },
    {
     "name": "stderr",
     "output_type": "stream",
     "text": [
      "/Users/anderson675/miniconda3/lib/python3.7/site-packages/scaper/core.py:1268: ScaperWarning: jackhammer event time (9.24) is too great given stretched event duration (2.49) and soundscape duration (10.00), changed to 7.51.\n",
      "  ScaperWarning)\n",
      "/Users/anderson675/miniconda3/lib/python3.7/site-packages/scaper/core.py:1172: ScaperWarning: gun_shot event duration (2.65) is greater that source duration (1.88), changing to 1.88\n",
      "  ScaperWarning)\n"
     ]
    },
    {
     "name": "stdout",
     "output_type": "stream",
     "text": [
      "Generating soundscape: 39/200\n",
      "Generating soundscape: 40/200\n",
      "Generating soundscape: 41/200\n"
     ]
    },
    {
     "name": "stderr",
     "output_type": "stream",
     "text": [
      "/Users/anderson675/miniconda3/lib/python3.7/site-packages/scaper/core.py:1172: ScaperWarning: drilling event duration (3.84) is greater that source duration (1.52), changing to 1.52\n",
      "  ScaperWarning)\n"
     ]
    },
    {
     "name": "stdout",
     "output_type": "stream",
     "text": [
      "Generating soundscape: 42/200\n"
     ]
    },
    {
     "name": "stderr",
     "output_type": "stream",
     "text": [
      "/Users/anderson675/miniconda3/lib/python3.7/site-packages/scaper/core.py:1172: ScaperWarning: drilling event duration (1.95) is greater that source duration (1.15), changing to 1.15\n",
      "  ScaperWarning)\n",
      "/Users/anderson675/miniconda3/lib/python3.7/site-packages/scaper/core.py:1172: ScaperWarning: gun_shot event duration (1.35) is greater that source duration (0.63), changing to 0.63\n",
      "  ScaperWarning)\n"
     ]
    },
    {
     "name": "stdout",
     "output_type": "stream",
     "text": [
      "Generating soundscape: 43/200\n",
      "Generating soundscape: 44/200\n",
      "Generating soundscape: 45/200\n"
     ]
    },
    {
     "name": "stderr",
     "output_type": "stream",
     "text": [
      "/Users/anderson675/miniconda3/lib/python3.7/site-packages/scaper/core.py:1268: ScaperWarning: speech event time (8.13) is too great given stretched event duration (3.53) and soundscape duration (10.00), changed to 6.47.\n",
      "  ScaperWarning)\n",
      "/Users/anderson675/miniconda3/lib/python3.7/site-packages/scaper/core.py:1268: ScaperWarning: drilling event time (7.66) is too great given stretched event duration (2.48) and soundscape duration (10.00), changed to 7.52.\n",
      "  ScaperWarning)\n"
     ]
    },
    {
     "name": "stdout",
     "output_type": "stream",
     "text": [
      "Generating soundscape: 46/200\n"
     ]
    },
    {
     "name": "stderr",
     "output_type": "stream",
     "text": [
      "/Users/anderson675/miniconda3/lib/python3.7/site-packages/scaper/core.py:1172: ScaperWarning: jackhammer event duration (2.26) is greater that source duration (1.42), changing to 1.42\n",
      "  ScaperWarning)\n",
      "/Users/anderson675/miniconda3/lib/python3.7/site-packages/scaper/core.py:1172: ScaperWarning: dog_bark event duration (2.78) is greater that source duration (0.52), changing to 0.52\n",
      "  ScaperWarning)\n",
      "/Users/anderson675/miniconda3/lib/python3.7/site-packages/scaper/core.py:1172: ScaperWarning: gun_shot event duration (3.46) is greater that source duration (1.42), changing to 1.42\n",
      "  ScaperWarning)\n",
      "/Users/anderson675/miniconda3/lib/python3.7/site-packages/scaper/core.py:1172: ScaperWarning: gun_shot event duration (3.68) is greater that source duration (2.38), changing to 2.38\n",
      "  ScaperWarning)\n",
      "/Users/anderson675/miniconda3/lib/python3.7/site-packages/scaper/core.py:1172: ScaperWarning: dog_bark event duration (3.06) is greater that source duration (1.01), changing to 1.01\n",
      "  ScaperWarning)\n",
      "/Users/anderson675/miniconda3/lib/python3.7/site-packages/scaper/core.py:1172: ScaperWarning: gun_shot event duration (3.55) is greater that source duration (1.08), changing to 1.08\n",
      "  ScaperWarning)\n"
     ]
    },
    {
     "name": "stdout",
     "output_type": "stream",
     "text": [
      "Generating soundscape: 47/200\n"
     ]
    },
    {
     "name": "stderr",
     "output_type": "stream",
     "text": [
      "/Users/anderson675/miniconda3/lib/python3.7/site-packages/scaper/core.py:1172: ScaperWarning: gun_shot event duration (3.09) is greater that source duration (2.61), changing to 2.61\n",
      "  ScaperWarning)\n"
     ]
    },
    {
     "name": "stdout",
     "output_type": "stream",
     "text": [
      "Generating soundscape: 48/200\n"
     ]
    },
    {
     "name": "stderr",
     "output_type": "stream",
     "text": [
      "/Users/anderson675/miniconda3/lib/python3.7/site-packages/scaper/core.py:1172: ScaperWarning: drilling event duration (2.20) is greater that source duration (0.83), changing to 0.83\n",
      "  ScaperWarning)\n",
      "/Users/anderson675/miniconda3/lib/python3.7/site-packages/scaper/core.py:1172: ScaperWarning: dog_bark event duration (1.56) is greater that source duration (1.08), changing to 1.08\n",
      "  ScaperWarning)\n",
      "/Users/anderson675/miniconda3/lib/python3.7/site-packages/scaper/core.py:1172: ScaperWarning: jackhammer event duration (3.50) is greater that source duration (2.60), changing to 2.60\n",
      "  ScaperWarning)\n",
      "/Users/anderson675/miniconda3/lib/python3.7/site-packages/scaper/core.py:1268: ScaperWarning: street_music event time (6.50) is too great given stretched event duration (3.89) and soundscape duration (10.00), changed to 6.11.\n",
      "  ScaperWarning)\n"
     ]
    },
    {
     "name": "stdout",
     "output_type": "stream",
     "text": [
      "Generating soundscape: 49/200\n"
     ]
    },
    {
     "name": "stderr",
     "output_type": "stream",
     "text": [
      "/Users/anderson675/miniconda3/lib/python3.7/site-packages/scaper/core.py:1172: ScaperWarning: dog_bark event duration (3.90) is greater that source duration (0.35), changing to 0.35\n",
      "  ScaperWarning)\n",
      "/Users/anderson675/miniconda3/lib/python3.7/site-packages/scaper/core.py:1172: ScaperWarning: dog_bark event duration (3.96) is greater that source duration (1.61), changing to 1.61\n",
      "  ScaperWarning)\n"
     ]
    },
    {
     "name": "stdout",
     "output_type": "stream",
     "text": [
      "Generating soundscape: 50/200\n"
     ]
    },
    {
     "name": "stderr",
     "output_type": "stream",
     "text": [
      "/Users/anderson675/miniconda3/lib/python3.7/site-packages/scaper/core.py:1268: ScaperWarning: speech event time (8.02) is too great given stretched event duration (4.02) and soundscape duration (10.00), changed to 5.98.\n",
      "  ScaperWarning)\n"
     ]
    },
    {
     "name": "stdout",
     "output_type": "stream",
     "text": [
      "Generating soundscape: 51/200\n"
     ]
    },
    {
     "name": "stderr",
     "output_type": "stream",
     "text": [
      "/Users/anderson675/miniconda3/lib/python3.7/site-packages/scaper/core.py:1172: ScaperWarning: gun_shot event duration (2.88) is greater that source duration (1.42), changing to 1.42\n",
      "  ScaperWarning)\n"
     ]
    },
    {
     "name": "stdout",
     "output_type": "stream",
     "text": [
      "Generating soundscape: 52/200\n"
     ]
    },
    {
     "name": "stderr",
     "output_type": "stream",
     "text": [
      "/Users/anderson675/miniconda3/lib/python3.7/site-packages/scaper/core.py:1172: ScaperWarning: dog_bark event duration (1.81) is greater that source duration (1.44), changing to 1.44\n",
      "  ScaperWarning)\n"
     ]
    },
    {
     "name": "stdout",
     "output_type": "stream",
     "text": [
      "Generating soundscape: 53/200\n"
     ]
    },
    {
     "name": "stderr",
     "output_type": "stream",
     "text": [
      "/Users/anderson675/miniconda3/lib/python3.7/site-packages/scaper/core.py:1172: ScaperWarning: gun_shot event duration (3.44) is greater that source duration (0.18), changing to 0.18\n",
      "  ScaperWarning)\n"
     ]
    },
    {
     "name": "stdout",
     "output_type": "stream",
     "text": [
      "Generating soundscape: 54/200\n"
     ]
    },
    {
     "name": "stderr",
     "output_type": "stream",
     "text": [
      "/Users/anderson675/miniconda3/lib/python3.7/site-packages/scaper/core.py:1172: ScaperWarning: jackhammer event duration (1.96) is greater that source duration (1.44), changing to 1.44\n",
      "  ScaperWarning)\n"
     ]
    },
    {
     "name": "stdout",
     "output_type": "stream",
     "text": [
      "Generating soundscape: 55/200\n"
     ]
    },
    {
     "name": "stderr",
     "output_type": "stream",
     "text": [
      "/Users/anderson675/miniconda3/lib/python3.7/site-packages/scaper/core.py:1268: ScaperWarning: siren event time (8.16) is too great given stretched event duration (2.01) and soundscape duration (10.00), changed to 7.99.\n",
      "  ScaperWarning)\n",
      "/Users/anderson675/miniconda3/lib/python3.7/site-packages/scaper/core.py:1172: ScaperWarning: car_horn event duration (3.39) is greater that source duration (0.37), changing to 0.37\n",
      "  ScaperWarning)\n",
      "/Users/anderson675/miniconda3/lib/python3.7/site-packages/scaper/core.py:1172: ScaperWarning: dog_bark event duration (2.68) is greater that source duration (0.46), changing to 0.46\n",
      "  ScaperWarning)\n"
     ]
    },
    {
     "name": "stdout",
     "output_type": "stream",
     "text": [
      "Generating soundscape: 56/200\n"
     ]
    },
    {
     "name": "stderr",
     "output_type": "stream",
     "text": [
      "/Users/anderson675/miniconda3/lib/python3.7/site-packages/scaper/core.py:1268: ScaperWarning: engine_idling event time (7.10) is too great given stretched event duration (3.09) and soundscape duration (10.00), changed to 6.91.\n",
      "  ScaperWarning)\n",
      "/Users/anderson675/miniconda3/lib/python3.7/site-packages/scaper/core.py:1172: ScaperWarning: gun_shot event duration (2.65) is greater that source duration (2.46), changing to 2.46\n",
      "  ScaperWarning)\n",
      "/Users/anderson675/miniconda3/lib/python3.7/site-packages/scaper/core.py:1172: ScaperWarning: engine_idling event duration (2.01) is greater that source duration (1.03), changing to 1.03\n",
      "  ScaperWarning)\n"
     ]
    },
    {
     "name": "stdout",
     "output_type": "stream",
     "text": [
      "Generating soundscape: 57/200\n"
     ]
    },
    {
     "name": "stderr",
     "output_type": "stream",
     "text": [
      "/Users/anderson675/miniconda3/lib/python3.7/site-packages/scaper/core.py:1268: ScaperWarning: air_conditioner event time (7.64) is too great given stretched event duration (3.06) and soundscape duration (10.00), changed to 6.94.\n",
      "  ScaperWarning)\n",
      "/Users/anderson675/miniconda3/lib/python3.7/site-packages/scaper/core.py:1172: ScaperWarning: gun_shot event duration (0.65) is greater that source duration (0.20), changing to 0.20\n",
      "  ScaperWarning)\n"
     ]
    },
    {
     "name": "stdout",
     "output_type": "stream",
     "text": [
      "Generating soundscape: 58/200\n"
     ]
    },
    {
     "name": "stderr",
     "output_type": "stream",
     "text": [
      "/Users/anderson675/miniconda3/lib/python3.7/site-packages/scaper/core.py:1268: ScaperWarning: drilling event time (7.33) is too great given stretched event duration (3.21) and soundscape duration (10.00), changed to 6.79.\n",
      "  ScaperWarning)\n",
      "/Users/anderson675/miniconda3/lib/python3.7/site-packages/scaper/core.py:1172: ScaperWarning: car_horn event duration (1.51) is greater that source duration (1.09), changing to 1.09\n",
      "  ScaperWarning)\n"
     ]
    },
    {
     "name": "stdout",
     "output_type": "stream",
     "text": [
      "Generating soundscape: 59/200\n"
     ]
    },
    {
     "name": "stderr",
     "output_type": "stream",
     "text": [
      "/Users/anderson675/miniconda3/lib/python3.7/site-packages/scaper/core.py:1172: ScaperWarning: gun_shot event duration (2.67) is greater that source duration (2.51), changing to 2.51\n",
      "  ScaperWarning)\n"
     ]
    },
    {
     "name": "stdout",
     "output_type": "stream",
     "text": [
      "Generating soundscape: 60/200\n"
     ]
    },
    {
     "name": "stderr",
     "output_type": "stream",
     "text": [
      "/Users/anderson675/miniconda3/lib/python3.7/site-packages/scaper/core.py:1268: ScaperWarning: dog_bark event time (6.28) is too great given stretched event duration (4.13) and soundscape duration (10.00), changed to 5.87.\n",
      "  ScaperWarning)\n"
     ]
    },
    {
     "name": "stdout",
     "output_type": "stream",
     "text": [
      "Generating soundscape: 61/200\n"
     ]
    },
    {
     "name": "stderr",
     "output_type": "stream",
     "text": [
      "/Users/anderson675/miniconda3/lib/python3.7/site-packages/scaper/core.py:1172: ScaperWarning: car_horn event duration (0.86) is greater that source duration (0.50), changing to 0.50\n",
      "  ScaperWarning)\n",
      "/Users/anderson675/miniconda3/lib/python3.7/site-packages/scaper/core.py:1268: ScaperWarning: car_horn event time (8.91) is too great given stretched event duration (4.39) and soundscape duration (10.00), changed to 5.61.\n",
      "  ScaperWarning)\n"
     ]
    },
    {
     "name": "stdout",
     "output_type": "stream",
     "text": [
      "Generating soundscape: 62/200\n"
     ]
    },
    {
     "name": "stderr",
     "output_type": "stream",
     "text": [
      "/Users/anderson675/miniconda3/lib/python3.7/site-packages/scaper/core.py:1172: ScaperWarning: jackhammer event duration (2.63) is greater that source duration (1.29), changing to 1.29\n",
      "  ScaperWarning)\n"
     ]
    },
    {
     "name": "stdout",
     "output_type": "stream",
     "text": [
      "Generating soundscape: 63/200\n",
      "Generating soundscape: 64/200\n"
     ]
    },
    {
     "name": "stderr",
     "output_type": "stream",
     "text": [
      "/Users/anderson675/miniconda3/lib/python3.7/site-packages/scaper/core.py:1172: ScaperWarning: car_horn event duration (3.85) is greater that source duration (0.20), changing to 0.20\n",
      "  ScaperWarning)\n",
      "/Users/anderson675/miniconda3/lib/python3.7/site-packages/scaper/core.py:1172: ScaperWarning: drilling event duration (2.12) is greater that source duration (1.58), changing to 1.58\n",
      "  ScaperWarning)\n"
     ]
    },
    {
     "name": "stdout",
     "output_type": "stream",
     "text": [
      "Generating soundscape: 65/200\n",
      "Generating soundscape: 66/200\n"
     ]
    },
    {
     "name": "stderr",
     "output_type": "stream",
     "text": [
      "/Users/anderson675/miniconda3/lib/python3.7/site-packages/scaper/core.py:1172: ScaperWarning: dog_bark event duration (2.38) is greater that source duration (1.77), changing to 1.77\n",
      "  ScaperWarning)\n"
     ]
    },
    {
     "name": "stdout",
     "output_type": "stream",
     "text": [
      "Generating soundscape: 67/200\n"
     ]
    },
    {
     "name": "stderr",
     "output_type": "stream",
     "text": [
      "/Users/anderson675/miniconda3/lib/python3.7/site-packages/scaper/core.py:1172: ScaperWarning: jackhammer event duration (1.66) is greater that source duration (1.07), changing to 1.07\n",
      "  ScaperWarning)\n",
      "/Users/anderson675/miniconda3/lib/python3.7/site-packages/scaper/core.py:1172: ScaperWarning: dog_bark event duration (2.80) is greater that source duration (0.52), changing to 0.52\n",
      "  ScaperWarning)\n",
      "/Users/anderson675/miniconda3/lib/python3.7/site-packages/scaper/core.py:1172: ScaperWarning: dog_bark event duration (1.52) is greater that source duration (1.01), changing to 1.01\n",
      "  ScaperWarning)\n",
      "/Users/anderson675/miniconda3/lib/python3.7/site-packages/scaper/core.py:1268: ScaperWarning: speech event time (7.62) is too great given stretched event duration (3.78) and soundscape duration (10.00), changed to 6.22.\n",
      "  ScaperWarning)\n",
      "/Users/anderson675/miniconda3/lib/python3.7/site-packages/scaper/core.py:1172: ScaperWarning: car_horn event duration (1.27) is greater that source duration (0.20), changing to 0.20\n",
      "  ScaperWarning)\n"
     ]
    },
    {
     "name": "stdout",
     "output_type": "stream",
     "text": [
      "Generating soundscape: 68/200\n"
     ]
    },
    {
     "name": "stderr",
     "output_type": "stream",
     "text": [
      "/Users/anderson675/miniconda3/lib/python3.7/site-packages/scaper/core.py:1172: ScaperWarning: gun_shot event duration (0.65) is greater that source duration (0.58), changing to 0.58\n",
      "  ScaperWarning)\n"
     ]
    },
    {
     "name": "stdout",
     "output_type": "stream",
     "text": [
      "Generating soundscape: 69/200\n"
     ]
    },
    {
     "name": "stderr",
     "output_type": "stream",
     "text": [
      "/Users/anderson675/miniconda3/lib/python3.7/site-packages/scaper/core.py:1172: ScaperWarning: drilling event duration (2.43) is greater that source duration (0.48), changing to 0.48\n",
      "  ScaperWarning)\n"
     ]
    },
    {
     "name": "stdout",
     "output_type": "stream",
     "text": [
      "Generating soundscape: 70/200\n"
     ]
    },
    {
     "name": "stderr",
     "output_type": "stream",
     "text": [
      "/Users/anderson675/miniconda3/lib/python3.7/site-packages/scaper/core.py:1268: ScaperWarning: drilling event time (7.81) is too great given stretched event duration (2.54) and soundscape duration (10.00), changed to 7.46.\n",
      "  ScaperWarning)\n",
      "/Users/anderson675/miniconda3/lib/python3.7/site-packages/scaper/core.py:1268: ScaperWarning: jackhammer event time (7.81) is too great given stretched event duration (4.01) and soundscape duration (10.00), changed to 5.99.\n",
      "  ScaperWarning)\n"
     ]
    },
    {
     "name": "stdout",
     "output_type": "stream",
     "text": [
      "Generating soundscape: 71/200\n"
     ]
    },
    {
     "name": "stderr",
     "output_type": "stream",
     "text": [
      "/Users/anderson675/miniconda3/lib/python3.7/site-packages/scaper/core.py:1268: ScaperWarning: dog_bark event time (6.70) is too great given stretched event duration (3.55) and soundscape duration (10.00), changed to 6.45.\n",
      "  ScaperWarning)\n"
     ]
    },
    {
     "name": "stdout",
     "output_type": "stream",
     "text": [
      "Generating soundscape: 72/200\n"
     ]
    },
    {
     "name": "stderr",
     "output_type": "stream",
     "text": [
      "/Users/anderson675/miniconda3/lib/python3.7/site-packages/scaper/core.py:1268: ScaperWarning: street_music event time (9.16) is too great given stretched event duration (4.26) and soundscape duration (10.00), changed to 5.74.\n",
      "  ScaperWarning)\n"
     ]
    },
    {
     "name": "stdout",
     "output_type": "stream",
     "text": [
      "Generating soundscape: 73/200\n"
     ]
    },
    {
     "name": "stderr",
     "output_type": "stream",
     "text": [
      "/Users/anderson675/miniconda3/lib/python3.7/site-packages/scaper/core.py:1172: ScaperWarning: gun_shot event duration (2.88) is greater that source duration (1.18), changing to 1.18\n",
      "  ScaperWarning)\n",
      "/Users/anderson675/miniconda3/lib/python3.7/site-packages/scaper/core.py:1172: ScaperWarning: drilling event duration (3.08) is greater that source duration (0.94), changing to 0.94\n",
      "  ScaperWarning)\n"
     ]
    },
    {
     "name": "stdout",
     "output_type": "stream",
     "text": [
      "Generating soundscape: 74/200\n"
     ]
    },
    {
     "name": "stderr",
     "output_type": "stream",
     "text": [
      "/Users/anderson675/miniconda3/lib/python3.7/site-packages/scaper/core.py:1268: ScaperWarning: air_conditioner event time (7.37) is too great given stretched event duration (3.92) and soundscape duration (10.00), changed to 6.08.\n",
      "  ScaperWarning)\n"
     ]
    },
    {
     "name": "stdout",
     "output_type": "stream",
     "text": [
      "Generating soundscape: 75/200\n"
     ]
    },
    {
     "name": "stderr",
     "output_type": "stream",
     "text": [
      "/Users/anderson675/miniconda3/lib/python3.7/site-packages/scaper/core.py:1172: ScaperWarning: gun_shot event duration (3.32) is greater that source duration (0.60), changing to 0.60\n",
      "  ScaperWarning)\n"
     ]
    },
    {
     "name": "stdout",
     "output_type": "stream",
     "text": [
      "Generating soundscape: 76/200\n"
     ]
    },
    {
     "name": "stderr",
     "output_type": "stream",
     "text": [
      "/Users/anderson675/miniconda3/lib/python3.7/site-packages/scaper/core.py:1268: ScaperWarning: engine_idling event time (7.72) is too great given stretched event duration (3.69) and soundscape duration (10.00), changed to 6.31.\n",
      "  ScaperWarning)\n"
     ]
    },
    {
     "name": "stdout",
     "output_type": "stream",
     "text": [
      "Generating soundscape: 77/200\n"
     ]
    },
    {
     "name": "stderr",
     "output_type": "stream",
     "text": [
      "/Users/anderson675/miniconda3/lib/python3.7/site-packages/scaper/core.py:1268: ScaperWarning: drilling event time (9.21) is too great given stretched event duration (2.58) and soundscape duration (10.00), changed to 7.42.\n",
      "  ScaperWarning)\n"
     ]
    },
    {
     "name": "stdout",
     "output_type": "stream",
     "text": [
      "Generating soundscape: 78/200\n"
     ]
    },
    {
     "name": "stderr",
     "output_type": "stream",
     "text": [
      "/Users/anderson675/miniconda3/lib/python3.7/site-packages/scaper/core.py:1172: ScaperWarning: car_horn event duration (1.30) is greater that source duration (0.44), changing to 0.44\n",
      "  ScaperWarning)\n"
     ]
    },
    {
     "name": "stdout",
     "output_type": "stream",
     "text": [
      "Generating soundscape: 79/200\n",
      "Generating soundscape: 80/200\n"
     ]
    },
    {
     "name": "stderr",
     "output_type": "stream",
     "text": [
      "/Users/anderson675/miniconda3/lib/python3.7/site-packages/scaper/core.py:1172: ScaperWarning: gun_shot event duration (3.27) is greater that source duration (1.19), changing to 1.19\n",
      "  ScaperWarning)\n",
      "/Users/anderson675/miniconda3/lib/python3.7/site-packages/scaper/core.py:1172: ScaperWarning: drilling event duration (0.92) is greater that source duration (0.50), changing to 0.50\n",
      "  ScaperWarning)\n",
      "/Users/anderson675/miniconda3/lib/python3.7/site-packages/scaper/core.py:1172: ScaperWarning: gun_shot event duration (3.93) is greater that source duration (2.86), changing to 2.86\n",
      "  ScaperWarning)\n"
     ]
    },
    {
     "name": "stdout",
     "output_type": "stream",
     "text": [
      "Generating soundscape: 81/200\n"
     ]
    },
    {
     "name": "stderr",
     "output_type": "stream",
     "text": [
      "/Users/anderson675/miniconda3/lib/python3.7/site-packages/scaper/core.py:1268: ScaperWarning: engine_idling event time (6.06) is too great given stretched event duration (4.56) and soundscape duration (10.00), changed to 5.44.\n",
      "  ScaperWarning)\n"
     ]
    },
    {
     "name": "stdout",
     "output_type": "stream",
     "text": [
      "Generating soundscape: 82/200\n"
     ]
    },
    {
     "name": "stderr",
     "output_type": "stream",
     "text": [
      "/Users/anderson675/miniconda3/lib/python3.7/site-packages/scaper/core.py:1268: ScaperWarning: drilling event time (9.89) is too great given stretched event duration (1.01) and soundscape duration (10.00), changed to 8.99.\n",
      "  ScaperWarning)\n"
     ]
    },
    {
     "name": "stdout",
     "output_type": "stream",
     "text": [
      "Generating soundscape: 83/200\n",
      "Generating soundscape: 84/200\n"
     ]
    },
    {
     "name": "stderr",
     "output_type": "stream",
     "text": [
      "/Users/anderson675/miniconda3/lib/python3.7/site-packages/scaper/core.py:1268: ScaperWarning: speech event time (7.68) is too great given stretched event duration (2.80) and soundscape duration (10.00), changed to 7.20.\n",
      "  ScaperWarning)\n",
      "/Users/anderson675/miniconda3/lib/python3.7/site-packages/scaper/core.py:1172: ScaperWarning: jackhammer event duration (2.71) is greater that source duration (1.55), changing to 1.55\n",
      "  ScaperWarning)\n",
      "/Users/anderson675/miniconda3/lib/python3.7/site-packages/scaper/core.py:1268: ScaperWarning: siren event time (8.31) is too great given stretched event duration (3.37) and soundscape duration (10.00), changed to 6.63.\n",
      "  ScaperWarning)\n",
      "/Users/anderson675/miniconda3/lib/python3.7/site-packages/scaper/core.py:1172: ScaperWarning: drilling event duration (2.42) is greater that source duration (1.15), changing to 1.15\n",
      "  ScaperWarning)\n"
     ]
    },
    {
     "name": "stdout",
     "output_type": "stream",
     "text": [
      "Generating soundscape: 85/200\n"
     ]
    },
    {
     "name": "stderr",
     "output_type": "stream",
     "text": [
      "/Users/anderson675/miniconda3/lib/python3.7/site-packages/scaper/core.py:1268: ScaperWarning: jackhammer event time (7.54) is too great given stretched event duration (3.37) and soundscape duration (10.00), changed to 6.63.\n",
      "  ScaperWarning)\n"
     ]
    },
    {
     "name": "stdout",
     "output_type": "stream",
     "text": [
      "Generating soundscape: 86/200\n",
      "Generating soundscape: 87/200\n"
     ]
    },
    {
     "name": "stderr",
     "output_type": "stream",
     "text": [
      "/Users/anderson675/miniconda3/lib/python3.7/site-packages/scaper/core.py:1172: ScaperWarning: jackhammer event duration (1.70) is greater that source duration (1.25), changing to 1.25\n",
      "  ScaperWarning)\n",
      "/Users/anderson675/miniconda3/lib/python3.7/site-packages/scaper/core.py:1172: ScaperWarning: jackhammer event duration (1.61) is greater that source duration (0.95), changing to 0.95\n",
      "  ScaperWarning)\n"
     ]
    },
    {
     "name": "stdout",
     "output_type": "stream",
     "text": [
      "Generating soundscape: 88/200\n",
      "Generating soundscape: 89/200\n",
      "Generating soundscape: 90/200\n"
     ]
    },
    {
     "name": "stderr",
     "output_type": "stream",
     "text": [
      "/Users/anderson675/miniconda3/lib/python3.7/site-packages/scaper/core.py:1172: ScaperWarning: gun_shot event duration (1.44) is greater that source duration (0.94), changing to 0.94\n",
      "  ScaperWarning)\n"
     ]
    },
    {
     "name": "stdout",
     "output_type": "stream",
     "text": [
      "Generating soundscape: 91/200\n"
     ]
    },
    {
     "name": "stderr",
     "output_type": "stream",
     "text": [
      "/Users/anderson675/miniconda3/lib/python3.7/site-packages/scaper/core.py:1172: ScaperWarning: gun_shot event duration (1.69) is greater that source duration (0.57), changing to 0.57\n",
      "  ScaperWarning)\n",
      "/Users/anderson675/miniconda3/lib/python3.7/site-packages/scaper/core.py:1172: ScaperWarning: dog_bark event duration (1.30) is greater that source duration (0.81), changing to 0.81\n",
      "  ScaperWarning)\n"
     ]
    },
    {
     "name": "stdout",
     "output_type": "stream",
     "text": [
      "Generating soundscape: 92/200\n"
     ]
    },
    {
     "name": "stderr",
     "output_type": "stream",
     "text": [
      "/Users/anderson675/miniconda3/lib/python3.7/site-packages/scaper/core.py:1172: ScaperWarning: car_horn event duration (3.96) is greater that source duration (1.46), changing to 1.46\n",
      "  ScaperWarning)\n"
     ]
    },
    {
     "name": "stdout",
     "output_type": "stream",
     "text": [
      "Generating soundscape: 93/200\n",
      "Generating soundscape: 94/200\n"
     ]
    },
    {
     "name": "stderr",
     "output_type": "stream",
     "text": [
      "/Users/anderson675/miniconda3/lib/python3.7/site-packages/scaper/core.py:1172: ScaperWarning: car_horn event duration (1.19) is greater that source duration (0.47), changing to 0.47\n",
      "  ScaperWarning)\n"
     ]
    },
    {
     "name": "stdout",
     "output_type": "stream",
     "text": [
      "Generating soundscape: 95/200\n"
     ]
    },
    {
     "name": "stderr",
     "output_type": "stream",
     "text": [
      "/Users/anderson675/miniconda3/lib/python3.7/site-packages/scaper/core.py:1268: ScaperWarning: engine_idling event time (8.31) is too great given stretched event duration (2.81) and soundscape duration (10.00), changed to 7.19.\n",
      "  ScaperWarning)\n",
      "/Users/anderson675/miniconda3/lib/python3.7/site-packages/scaper/core.py:1268: ScaperWarning: street_music event time (8.30) is too great given stretched event duration (3.09) and soundscape duration (10.00), changed to 6.91.\n",
      "  ScaperWarning)\n"
     ]
    },
    {
     "name": "stdout",
     "output_type": "stream",
     "text": [
      "Generating soundscape: 96/200\n"
     ]
    },
    {
     "name": "stderr",
     "output_type": "stream",
     "text": [
      "/Users/anderson675/miniconda3/lib/python3.7/site-packages/scaper/core.py:1172: ScaperWarning: gun_shot event duration (3.04) is greater that source duration (0.70), changing to 0.70\n",
      "  ScaperWarning)\n"
     ]
    },
    {
     "name": "stdout",
     "output_type": "stream",
     "text": [
      "Generating soundscape: 97/200\n"
     ]
    },
    {
     "name": "stderr",
     "output_type": "stream",
     "text": [
      "/Users/anderson675/miniconda3/lib/python3.7/site-packages/scaper/core.py:1172: ScaperWarning: gun_shot event duration (2.99) is greater that source duration (0.87), changing to 0.87\n",
      "  ScaperWarning)\n",
      "/Users/anderson675/miniconda3/lib/python3.7/site-packages/scaper/core.py:1172: ScaperWarning: car_horn event duration (3.25) is greater that source duration (0.06), changing to 0.06\n",
      "  ScaperWarning)\n",
      "/Users/anderson675/miniconda3/lib/python3.7/site-packages/scaper/core.py:1172: ScaperWarning: gun_shot event duration (3.20) is greater that source duration (0.20), changing to 0.20\n",
      "  ScaperWarning)\n"
     ]
    },
    {
     "name": "stdout",
     "output_type": "stream",
     "text": [
      "Generating soundscape: 98/200\n",
      "Generating soundscape: 99/200\n"
     ]
    },
    {
     "name": "stderr",
     "output_type": "stream",
     "text": [
      "/Users/anderson675/miniconda3/lib/python3.7/site-packages/scaper/core.py:1172: ScaperWarning: gun_shot event duration (2.39) is greater that source duration (0.58), changing to 0.58\n",
      "  ScaperWarning)\n"
     ]
    },
    {
     "name": "stdout",
     "output_type": "stream",
     "text": [
      "Generating soundscape: 100/200\n",
      "Generating soundscape: 101/200\n"
     ]
    },
    {
     "name": "stderr",
     "output_type": "stream",
     "text": [
      "/Users/anderson675/miniconda3/lib/python3.7/site-packages/scaper/core.py:1172: ScaperWarning: car_horn event duration (3.87) is greater that source duration (1.21), changing to 1.21\n",
      "  ScaperWarning)\n"
     ]
    },
    {
     "name": "stdout",
     "output_type": "stream",
     "text": [
      "Generating soundscape: 102/200\n"
     ]
    },
    {
     "name": "stderr",
     "output_type": "stream",
     "text": [
      "/Users/anderson675/miniconda3/lib/python3.7/site-packages/scaper/core.py:1172: ScaperWarning: gun_shot event duration (2.78) is greater that source duration (1.44), changing to 1.44\n",
      "  ScaperWarning)\n",
      "/Users/anderson675/miniconda3/lib/python3.7/site-packages/scaper/core.py:1172: ScaperWarning: gun_shot event duration (2.23) is greater that source duration (1.33), changing to 1.33\n",
      "  ScaperWarning)\n",
      "/Users/anderson675/miniconda3/lib/python3.7/site-packages/scaper/core.py:1172: ScaperWarning: gun_shot event duration (1.86) is greater that source duration (0.66), changing to 0.66\n",
      "  ScaperWarning)\n"
     ]
    },
    {
     "name": "stdout",
     "output_type": "stream",
     "text": [
      "Generating soundscape: 103/200\n",
      "Generating soundscape: 104/200\n",
      "Generating soundscape: 105/200\n"
     ]
    },
    {
     "name": "stderr",
     "output_type": "stream",
     "text": [
      "/Users/anderson675/miniconda3/lib/python3.7/site-packages/scaper/core.py:1172: ScaperWarning: drilling event duration (3.12) is greater that source duration (1.33), changing to 1.33\n",
      "  ScaperWarning)\n",
      "/Users/anderson675/miniconda3/lib/python3.7/site-packages/scaper/core.py:1172: ScaperWarning: gun_shot event duration (1.93) is greater that source duration (1.28), changing to 1.28\n",
      "  ScaperWarning)\n",
      "/Users/anderson675/miniconda3/lib/python3.7/site-packages/scaper/core.py:1172: ScaperWarning: gun_shot event duration (3.58) is greater that source duration (1.83), changing to 1.83\n",
      "  ScaperWarning)\n"
     ]
    },
    {
     "name": "stdout",
     "output_type": "stream",
     "text": [
      "Generating soundscape: 106/200\n"
     ]
    },
    {
     "name": "stderr",
     "output_type": "stream",
     "text": [
      "/Users/anderson675/miniconda3/lib/python3.7/site-packages/scaper/core.py:1268: ScaperWarning: car_horn event time (7.27) is too great given stretched event duration (3.21) and soundscape duration (10.00), changed to 6.79.\n",
      "  ScaperWarning)\n"
     ]
    },
    {
     "name": "stdout",
     "output_type": "stream",
     "text": [
      "Generating soundscape: 107/200\n",
      "Generating soundscape: 108/200\n"
     ]
    },
    {
     "name": "stderr",
     "output_type": "stream",
     "text": [
      "/Users/anderson675/miniconda3/lib/python3.7/site-packages/scaper/core.py:1268: ScaperWarning: drilling event time (6.48) is too great given stretched event duration (3.76) and soundscape duration (10.00), changed to 6.24.\n",
      "  ScaperWarning)\n",
      "/Users/anderson675/miniconda3/lib/python3.7/site-packages/scaper/core.py:1268: ScaperWarning: dog_bark event time (6.40) is too great given stretched event duration (4.61) and soundscape duration (10.00), changed to 5.39.\n",
      "  ScaperWarning)\n"
     ]
    },
    {
     "name": "stdout",
     "output_type": "stream",
     "text": [
      "Generating soundscape: 109/200\n"
     ]
    },
    {
     "name": "stderr",
     "output_type": "stream",
     "text": [
      "/Users/anderson675/miniconda3/lib/python3.7/site-packages/scaper/core.py:1172: ScaperWarning: dog_bark event duration (1.32) is greater that source duration (0.46), changing to 0.46\n",
      "  ScaperWarning)\n",
      "/Users/anderson675/miniconda3/lib/python3.7/site-packages/scaper/core.py:1172: ScaperWarning: gun_shot event duration (3.51) is greater that source duration (2.68), changing to 2.68\n",
      "  ScaperWarning)\n",
      "/Users/anderson675/miniconda3/lib/python3.7/site-packages/scaper/core.py:1268: ScaperWarning: gun_shot event time (8.54) is too great given stretched event duration (3.03) and soundscape duration (10.00), changed to 6.97.\n",
      "  ScaperWarning)\n"
     ]
    },
    {
     "name": "stdout",
     "output_type": "stream",
     "text": [
      "Generating soundscape: 110/200\n"
     ]
    },
    {
     "name": "stderr",
     "output_type": "stream",
     "text": [
      "/Users/anderson675/miniconda3/lib/python3.7/site-packages/scaper/core.py:1268: ScaperWarning: car_horn event time (9.18) is too great given stretched event duration (4.35) and soundscape duration (10.00), changed to 5.65.\n",
      "  ScaperWarning)\n"
     ]
    },
    {
     "name": "stdout",
     "output_type": "stream",
     "text": [
      "Generating soundscape: 111/200\n",
      "Generating soundscape: 112/200\n"
     ]
    },
    {
     "name": "stderr",
     "output_type": "stream",
     "text": [
      "/Users/anderson675/miniconda3/lib/python3.7/site-packages/scaper/core.py:1172: ScaperWarning: gun_shot event duration (3.51) is greater that source duration (1.50), changing to 1.50\n",
      "  ScaperWarning)\n"
     ]
    },
    {
     "name": "stdout",
     "output_type": "stream",
     "text": [
      "Generating soundscape: 113/200\n"
     ]
    },
    {
     "name": "stderr",
     "output_type": "stream",
     "text": [
      "/Users/anderson675/miniconda3/lib/python3.7/site-packages/scaper/core.py:1172: ScaperWarning: gun_shot event duration (2.69) is greater that source duration (1.23), changing to 1.23\n",
      "  ScaperWarning)\n"
     ]
    },
    {
     "name": "stdout",
     "output_type": "stream",
     "text": [
      "Generating soundscape: 114/200\n"
     ]
    },
    {
     "name": "stderr",
     "output_type": "stream",
     "text": [
      "/Users/anderson675/miniconda3/lib/python3.7/site-packages/scaper/core.py:1268: ScaperWarning: jackhammer event time (9.86) is too great given stretched event duration (0.63) and soundscape duration (10.00), changed to 9.37.\n",
      "  ScaperWarning)\n"
     ]
    },
    {
     "name": "stdout",
     "output_type": "stream",
     "text": [
      "Generating soundscape: 115/200\n"
     ]
    },
    {
     "name": "stderr",
     "output_type": "stream",
     "text": [
      "/Users/anderson675/miniconda3/lib/python3.7/site-packages/scaper/core.py:1172: ScaperWarning: gun_shot event duration (3.10) is greater that source duration (1.09), changing to 1.09\n",
      "  ScaperWarning)\n",
      "/Users/anderson675/miniconda3/lib/python3.7/site-packages/scaper/core.py:1172: ScaperWarning: drilling event duration (3.76) is greater that source duration (0.69), changing to 0.69\n",
      "  ScaperWarning)\n",
      "/Users/anderson675/miniconda3/lib/python3.7/site-packages/scaper/core.py:1268: ScaperWarning: dog_bark event time (9.03) is too great given stretched event duration (1.35) and soundscape duration (10.00), changed to 8.65.\n",
      "  ScaperWarning)\n"
     ]
    },
    {
     "name": "stdout",
     "output_type": "stream",
     "text": [
      "Generating soundscape: 116/200\n",
      "Generating soundscape: 117/200\n"
     ]
    },
    {
     "name": "stderr",
     "output_type": "stream",
     "text": [
      "/Users/anderson675/miniconda3/lib/python3.7/site-packages/scaper/core.py:1268: ScaperWarning: speech event time (8.54) is too great given stretched event duration (2.62) and soundscape duration (10.00), changed to 7.38.\n",
      "  ScaperWarning)\n",
      "/Users/anderson675/miniconda3/lib/python3.7/site-packages/scaper/core.py:1172: ScaperWarning: gun_shot event duration (2.22) is greater that source duration (0.61), changing to 0.61\n",
      "  ScaperWarning)\n"
     ]
    },
    {
     "name": "stdout",
     "output_type": "stream",
     "text": [
      "Generating soundscape: 118/200\n",
      "Generating soundscape: 119/200\n"
     ]
    },
    {
     "name": "stderr",
     "output_type": "stream",
     "text": [
      "/Users/anderson675/miniconda3/lib/python3.7/site-packages/scaper/core.py:1172: ScaperWarning: dog_bark event duration (2.62) is greater that source duration (1.46), changing to 1.46\n",
      "  ScaperWarning)\n",
      "/Users/anderson675/miniconda3/lib/python3.7/site-packages/scaper/core.py:1172: ScaperWarning: dog_bark event duration (2.65) is greater that source duration (2.14), changing to 2.14\n",
      "  ScaperWarning)\n"
     ]
    },
    {
     "name": "stdout",
     "output_type": "stream",
     "text": [
      "Generating soundscape: 120/200\n"
     ]
    },
    {
     "name": "stderr",
     "output_type": "stream",
     "text": [
      "/Users/anderson675/miniconda3/lib/python3.7/site-packages/scaper/core.py:1172: ScaperWarning: drilling event duration (3.82) is greater that source duration (1.28), changing to 1.28\n",
      "  ScaperWarning)\n",
      "/Users/anderson675/miniconda3/lib/python3.7/site-packages/scaper/core.py:1268: ScaperWarning: dog_bark event time (7.08) is too great given stretched event duration (2.95) and soundscape duration (10.00), changed to 7.05.\n",
      "  ScaperWarning)\n"
     ]
    },
    {
     "name": "stdout",
     "output_type": "stream",
     "text": [
      "Generating soundscape: 121/200\n"
     ]
    },
    {
     "name": "stderr",
     "output_type": "stream",
     "text": [
      "/Users/anderson675/miniconda3/lib/python3.7/site-packages/scaper/core.py:1172: ScaperWarning: gun_shot event duration (3.59) is greater that source duration (2.53), changing to 2.53\n",
      "  ScaperWarning)\n",
      "/Users/anderson675/miniconda3/lib/python3.7/site-packages/scaper/core.py:1172: ScaperWarning: jackhammer event duration (3.25) is greater that source duration (1.35), changing to 1.35\n",
      "  ScaperWarning)\n"
     ]
    },
    {
     "name": "stdout",
     "output_type": "stream",
     "text": [
      "Generating soundscape: 122/200\n"
     ]
    },
    {
     "name": "stderr",
     "output_type": "stream",
     "text": [
      "/Users/anderson675/miniconda3/lib/python3.7/site-packages/scaper/core.py:1172: ScaperWarning: dog_bark event duration (0.68) is greater that source duration (0.63), changing to 0.63\n",
      "  ScaperWarning)\n",
      "/Users/anderson675/miniconda3/lib/python3.7/site-packages/scaper/core.py:1268: ScaperWarning: dog_bark event time (9.62) is too great given stretched event duration (0.70) and soundscape duration (10.00), changed to 9.30.\n",
      "  ScaperWarning)\n",
      "/Users/anderson675/miniconda3/lib/python3.7/site-packages/scaper/core.py:1172: ScaperWarning: gun_shot event duration (1.95) is greater that source duration (0.63), changing to 0.63\n",
      "  ScaperWarning)\n",
      "/Users/anderson675/miniconda3/lib/python3.7/site-packages/scaper/core.py:1268: ScaperWarning: drilling event time (7.02) is too great given stretched event duration (3.66) and soundscape duration (10.00), changed to 6.34.\n",
      "  ScaperWarning)\n",
      "/Users/anderson675/miniconda3/lib/python3.7/site-packages/scaper/core.py:1172: ScaperWarning: gun_shot event duration (3.96) is greater that source duration (0.94), changing to 0.94\n",
      "  ScaperWarning)\n"
     ]
    },
    {
     "name": "stdout",
     "output_type": "stream",
     "text": [
      "Generating soundscape: 123/200\n"
     ]
    },
    {
     "name": "stderr",
     "output_type": "stream",
     "text": [
      "/Users/anderson675/miniconda3/lib/python3.7/site-packages/scaper/core.py:1172: ScaperWarning: gun_shot event duration (2.36) is greater that source duration (1.89), changing to 1.89\n",
      "  ScaperWarning)\n"
     ]
    },
    {
     "name": "stdout",
     "output_type": "stream",
     "text": [
      "Generating soundscape: 124/200\n"
     ]
    },
    {
     "name": "stderr",
     "output_type": "stream",
     "text": [
      "/Users/anderson675/miniconda3/lib/python3.7/site-packages/scaper/core.py:1172: ScaperWarning: drilling event duration (3.96) is greater that source duration (0.97), changing to 0.97\n",
      "  ScaperWarning)\n",
      "/Users/anderson675/miniconda3/lib/python3.7/site-packages/scaper/core.py:1172: ScaperWarning: car_horn event duration (3.67) is greater that source duration (0.99), changing to 0.99\n",
      "  ScaperWarning)\n"
     ]
    },
    {
     "name": "stdout",
     "output_type": "stream",
     "text": [
      "Generating soundscape: 125/200\n"
     ]
    },
    {
     "name": "stderr",
     "output_type": "stream",
     "text": [
      "/Users/anderson675/miniconda3/lib/python3.7/site-packages/scaper/core.py:1268: ScaperWarning: street_music event time (6.92) is too great given stretched event duration (3.61) and soundscape duration (10.00), changed to 6.39.\n",
      "  ScaperWarning)\n"
     ]
    },
    {
     "name": "stdout",
     "output_type": "stream",
     "text": [
      "Generating soundscape: 126/200\n"
     ]
    },
    {
     "name": "stderr",
     "output_type": "stream",
     "text": [
      "/Users/anderson675/miniconda3/lib/python3.7/site-packages/scaper/core.py:1172: ScaperWarning: gun_shot event duration (3.82) is greater that source duration (1.33), changing to 1.33\n",
      "  ScaperWarning)\n",
      "/Users/anderson675/miniconda3/lib/python3.7/site-packages/scaper/core.py:1172: ScaperWarning: gun_shot event duration (3.53) is greater that source duration (1.17), changing to 1.17\n",
      "  ScaperWarning)\n"
     ]
    },
    {
     "name": "stdout",
     "output_type": "stream",
     "text": [
      "Generating soundscape: 127/200\n"
     ]
    },
    {
     "name": "stderr",
     "output_type": "stream",
     "text": [
      "/Users/anderson675/miniconda3/lib/python3.7/site-packages/scaper/core.py:1172: ScaperWarning: jackhammer event duration (3.50) is greater that source duration (1.41), changing to 1.41\n",
      "  ScaperWarning)\n",
      "/Users/anderson675/miniconda3/lib/python3.7/site-packages/scaper/core.py:1172: ScaperWarning: drilling event duration (1.92) is greater that source duration (1.33), changing to 1.33\n",
      "  ScaperWarning)\n",
      "/Users/anderson675/miniconda3/lib/python3.7/site-packages/scaper/core.py:1268: ScaperWarning: drilling event time (7.30) is too great given stretched event duration (3.53) and soundscape duration (10.00), changed to 6.47.\n",
      "  ScaperWarning)\n",
      "/Users/anderson675/miniconda3/lib/python3.7/site-packages/scaper/core.py:1172: ScaperWarning: gun_shot event duration (1.70) is greater that source duration (1.09), changing to 1.09\n",
      "  ScaperWarning)\n",
      "/Users/anderson675/miniconda3/lib/python3.7/site-packages/scaper/core.py:1268: ScaperWarning: air_conditioner event time (6.98) is too great given stretched event duration (3.48) and soundscape duration (10.00), changed to 6.52.\n",
      "  ScaperWarning)\n"
     ]
    },
    {
     "name": "stdout",
     "output_type": "stream",
     "text": [
      "Generating soundscape: 128/200\n",
      "Generating soundscape: 129/200\n",
      "Generating soundscape: 130/200\n",
      "Generating soundscape: 131/200\n"
     ]
    },
    {
     "name": "stderr",
     "output_type": "stream",
     "text": [
      "/Users/anderson675/miniconda3/lib/python3.7/site-packages/scaper/core.py:1172: ScaperWarning: dog_bark event duration (2.40) is greater that source duration (1.04), changing to 1.04\n",
      "  ScaperWarning)\n",
      "/Users/anderson675/miniconda3/lib/python3.7/site-packages/scaper/core.py:1172: ScaperWarning: dog_bark event duration (2.45) is greater that source duration (1.80), changing to 1.80\n",
      "  ScaperWarning)\n",
      "/Users/anderson675/miniconda3/lib/python3.7/site-packages/scaper/core.py:1172: ScaperWarning: dog_bark event duration (2.14) is greater that source duration (1.16), changing to 1.16\n",
      "  ScaperWarning)\n",
      "/Users/anderson675/miniconda3/lib/python3.7/site-packages/scaper/core.py:1268: ScaperWarning: street_music event time (9.31) is too great given stretched event duration (1.08) and soundscape duration (10.00), changed to 8.92.\n",
      "  ScaperWarning)\n"
     ]
    },
    {
     "name": "stdout",
     "output_type": "stream",
     "text": [
      "Generating soundscape: 132/200\n"
     ]
    },
    {
     "name": "stderr",
     "output_type": "stream",
     "text": [
      "/Users/anderson675/miniconda3/lib/python3.7/site-packages/scaper/core.py:1172: ScaperWarning: dog_bark event duration (3.99) is greater that source duration (1.68), changing to 1.68\n",
      "  ScaperWarning)\n"
     ]
    },
    {
     "name": "stdout",
     "output_type": "stream",
     "text": [
      "Generating soundscape: 133/200\n",
      "Generating soundscape: 134/200\n"
     ]
    },
    {
     "name": "stderr",
     "output_type": "stream",
     "text": [
      "/Users/anderson675/miniconda3/lib/python3.7/site-packages/scaper/core.py:1172: ScaperWarning: dog_bark event duration (0.89) is greater that source duration (0.52), changing to 0.52\n",
      "  ScaperWarning)\n"
     ]
    },
    {
     "name": "stdout",
     "output_type": "stream",
     "text": [
      "Generating soundscape: 135/200\n"
     ]
    },
    {
     "name": "stderr",
     "output_type": "stream",
     "text": [
      "/Users/anderson675/miniconda3/lib/python3.7/site-packages/scaper/core.py:1172: ScaperWarning: car_horn event duration (1.13) is greater that source duration (1.04), changing to 1.04\n",
      "  ScaperWarning)\n",
      "/Users/anderson675/miniconda3/lib/python3.7/site-packages/scaper/core.py:1268: ScaperWarning: speech event time (8.14) is too great given stretched event duration (3.90) and soundscape duration (10.00), changed to 6.10.\n",
      "  ScaperWarning)\n"
     ]
    },
    {
     "name": "stdout",
     "output_type": "stream",
     "text": [
      "Generating soundscape: 136/200\n"
     ]
    },
    {
     "name": "stderr",
     "output_type": "stream",
     "text": [
      "/Users/anderson675/miniconda3/lib/python3.7/site-packages/scaper/core.py:1268: ScaperWarning: siren event time (8.40) is too great given stretched event duration (3.61) and soundscape duration (10.00), changed to 6.39.\n",
      "  ScaperWarning)\n"
     ]
    },
    {
     "name": "stdout",
     "output_type": "stream",
     "text": [
      "Generating soundscape: 137/200\n"
     ]
    },
    {
     "name": "stderr",
     "output_type": "stream",
     "text": [
      "/Users/anderson675/miniconda3/lib/python3.7/site-packages/scaper/core.py:1172: ScaperWarning: gun_shot event duration (0.98) is greater that source duration (0.60), changing to 0.60\n",
      "  ScaperWarning)\n"
     ]
    },
    {
     "name": "stdout",
     "output_type": "stream",
     "text": [
      "Generating soundscape: 138/200\n"
     ]
    },
    {
     "name": "stderr",
     "output_type": "stream",
     "text": [
      "/Users/anderson675/miniconda3/lib/python3.7/site-packages/scaper/core.py:1172: ScaperWarning: gun_shot event duration (2.83) is greater that source duration (1.23), changing to 1.23\n",
      "  ScaperWarning)\n"
     ]
    },
    {
     "name": "stdout",
     "output_type": "stream",
     "text": [
      "Generating soundscape: 139/200\n"
     ]
    },
    {
     "name": "stderr",
     "output_type": "stream",
     "text": [
      "/Users/anderson675/miniconda3/lib/python3.7/site-packages/scaper/core.py:1172: ScaperWarning: gun_shot event duration (3.77) is greater that source duration (1.33), changing to 1.33\n",
      "  ScaperWarning)\n",
      "/Users/anderson675/miniconda3/lib/python3.7/site-packages/scaper/core.py:1172: ScaperWarning: gun_shot event duration (2.04) is greater that source duration (0.50), changing to 0.50\n",
      "  ScaperWarning)\n"
     ]
    },
    {
     "name": "stdout",
     "output_type": "stream",
     "text": [
      "Generating soundscape: 140/200\n"
     ]
    },
    {
     "name": "stderr",
     "output_type": "stream",
     "text": [
      "/Users/anderson675/miniconda3/lib/python3.7/site-packages/scaper/core.py:1172: ScaperWarning: gun_shot event duration (3.50) is greater that source duration (3.18), changing to 3.18\n",
      "  ScaperWarning)\n",
      "/Users/anderson675/miniconda3/lib/python3.7/site-packages/scaper/core.py:1268: ScaperWarning: gun_shot event time (7.60) is too great given stretched event duration (2.57) and soundscape duration (10.00), changed to 7.43.\n",
      "  ScaperWarning)\n"
     ]
    },
    {
     "name": "stdout",
     "output_type": "stream",
     "text": [
      "Generating soundscape: 141/200\n"
     ]
    },
    {
     "name": "stderr",
     "output_type": "stream",
     "text": [
      "/Users/anderson675/miniconda3/lib/python3.7/site-packages/scaper/core.py:1268: ScaperWarning: car_horn event time (8.52) is too great given stretched event duration (3.55) and soundscape duration (10.00), changed to 6.45.\n",
      "  ScaperWarning)\n"
     ]
    },
    {
     "name": "stdout",
     "output_type": "stream",
     "text": [
      "Generating soundscape: 142/200\n"
     ]
    },
    {
     "name": "stderr",
     "output_type": "stream",
     "text": [
      "/Users/anderson675/miniconda3/lib/python3.7/site-packages/scaper/core.py:1172: ScaperWarning: car_horn event duration (2.15) is greater that source duration (0.55), changing to 0.55\n",
      "  ScaperWarning)\n",
      "/Users/anderson675/miniconda3/lib/python3.7/site-packages/scaper/core.py:1172: ScaperWarning: siren event duration (2.24) is greater that source duration (0.56), changing to 0.56\n",
      "  ScaperWarning)\n"
     ]
    },
    {
     "name": "stdout",
     "output_type": "stream",
     "text": [
      "Generating soundscape: 143/200\n"
     ]
    },
    {
     "name": "stderr",
     "output_type": "stream",
     "text": [
      "/Users/anderson675/miniconda3/lib/python3.7/site-packages/scaper/core.py:1268: ScaperWarning: speech event time (8.79) is too great given stretched event duration (1.64) and soundscape duration (10.00), changed to 8.36.\n",
      "  ScaperWarning)\n"
     ]
    },
    {
     "name": "stdout",
     "output_type": "stream",
     "text": [
      "Generating soundscape: 144/200\n"
     ]
    },
    {
     "name": "stderr",
     "output_type": "stream",
     "text": [
      "/Users/anderson675/miniconda3/lib/python3.7/site-packages/scaper/core.py:1172: ScaperWarning: car_horn event duration (3.34) is greater that source duration (1.84), changing to 1.84\n",
      "  ScaperWarning)\n",
      "/Users/anderson675/miniconda3/lib/python3.7/site-packages/scaper/core.py:1268: ScaperWarning: air_conditioner event time (7.72) is too great given stretched event duration (4.05) and soundscape duration (10.00), changed to 5.95.\n",
      "  ScaperWarning)\n",
      "/Users/anderson675/miniconda3/lib/python3.7/site-packages/scaper/core.py:1268: ScaperWarning: street_music event time (8.04) is too great given stretched event duration (4.26) and soundscape duration (10.00), changed to 5.74.\n",
      "  ScaperWarning)\n",
      "/Users/anderson675/miniconda3/lib/python3.7/site-packages/scaper/core.py:1172: ScaperWarning: drilling event duration (1.98) is greater that source duration (0.58), changing to 0.58\n",
      "  ScaperWarning)\n"
     ]
    },
    {
     "name": "stdout",
     "output_type": "stream",
     "text": [
      "Generating soundscape: 145/200\n"
     ]
    },
    {
     "name": "stderr",
     "output_type": "stream",
     "text": [
      "/Users/anderson675/miniconda3/lib/python3.7/site-packages/scaper/core.py:1268: ScaperWarning: jackhammer event time (8.37) is too great given stretched event duration (3.73) and soundscape duration (10.00), changed to 6.27.\n",
      "  ScaperWarning)\n"
     ]
    },
    {
     "name": "stdout",
     "output_type": "stream",
     "text": [
      "Generating soundscape: 146/200\n",
      "Generating soundscape: 147/200\n"
     ]
    },
    {
     "name": "stderr",
     "output_type": "stream",
     "text": [
      "/Users/anderson675/miniconda3/lib/python3.7/site-packages/scaper/core.py:1172: ScaperWarning: gun_shot event duration (3.24) is greater that source duration (1.50), changing to 1.50\n",
      "  ScaperWarning)\n",
      "/Users/anderson675/miniconda3/lib/python3.7/site-packages/scaper/core.py:1268: ScaperWarning: gun_shot event time (8.88) is too great given stretched event duration (1.28) and soundscape duration (10.00), changed to 8.72.\n",
      "  ScaperWarning)\n",
      "/Users/anderson675/miniconda3/lib/python3.7/site-packages/scaper/core.py:1172: ScaperWarning: gun_shot event duration (3.40) is greater that source duration (2.84), changing to 2.84\n",
      "  ScaperWarning)\n"
     ]
    },
    {
     "name": "stdout",
     "output_type": "stream",
     "text": [
      "Generating soundscape: 148/200\n",
      "Generating soundscape: 149/200\n",
      "Generating soundscape: 150/200\n",
      "Generating soundscape: 151/200\n"
     ]
    },
    {
     "name": "stderr",
     "output_type": "stream",
     "text": [
      "/Users/anderson675/miniconda3/lib/python3.7/site-packages/scaper/core.py:1172: ScaperWarning: drilling event duration (3.32) is greater that source duration (1.25), changing to 1.25\n",
      "  ScaperWarning)\n",
      "/Users/anderson675/miniconda3/lib/python3.7/site-packages/scaper/core.py:1268: ScaperWarning: jackhammer event time (7.40) is too great given stretched event duration (2.98) and soundscape duration (10.00), changed to 7.02.\n",
      "  ScaperWarning)\n"
     ]
    },
    {
     "name": "stdout",
     "output_type": "stream",
     "text": [
      "Generating soundscape: 152/200\n"
     ]
    },
    {
     "name": "stderr",
     "output_type": "stream",
     "text": [
      "/Users/anderson675/miniconda3/lib/python3.7/site-packages/scaper/core.py:1268: ScaperWarning: car_horn event time (7.59) is too great given stretched event duration (3.49) and soundscape duration (10.00), changed to 6.51.\n",
      "  ScaperWarning)\n",
      "/Users/anderson675/miniconda3/lib/python3.7/site-packages/scaper/core.py:1268: ScaperWarning: siren event time (7.64) is too great given stretched event duration (2.51) and soundscape duration (10.00), changed to 7.49.\n",
      "  ScaperWarning)\n"
     ]
    },
    {
     "name": "stdout",
     "output_type": "stream",
     "text": [
      "Generating soundscape: 153/200\n"
     ]
    },
    {
     "name": "stderr",
     "output_type": "stream",
     "text": [
      "/Users/anderson675/miniconda3/lib/python3.7/site-packages/scaper/core.py:1172: ScaperWarning: drilling event duration (2.86) is greater that source duration (0.69), changing to 0.69\n",
      "  ScaperWarning)\n",
      "/Users/anderson675/miniconda3/lib/python3.7/site-packages/scaper/core.py:1268: ScaperWarning: drilling event time (9.54) is too great given stretched event duration (0.80) and soundscape duration (10.00), changed to 9.20.\n",
      "  ScaperWarning)\n",
      "/Users/anderson675/miniconda3/lib/python3.7/site-packages/scaper/core.py:1268: ScaperWarning: street_music event time (7.14) is too great given stretched event duration (3.34) and soundscape duration (10.00), changed to 6.66.\n",
      "  ScaperWarning)\n",
      "/Users/anderson675/miniconda3/lib/python3.7/site-packages/scaper/core.py:1268: ScaperWarning: speech event time (8.96) is too great given stretched event duration (4.40) and soundscape duration (10.00), changed to 5.60.\n",
      "  ScaperWarning)\n"
     ]
    },
    {
     "name": "stdout",
     "output_type": "stream",
     "text": [
      "Generating soundscape: 154/200\n",
      "Generating soundscape: 155/200\n"
     ]
    },
    {
     "name": "stderr",
     "output_type": "stream",
     "text": [
      "/Users/anderson675/miniconda3/lib/python3.7/site-packages/scaper/core.py:1172: ScaperWarning: gun_shot event duration (2.07) is greater that source duration (1.83), changing to 1.83\n",
      "  ScaperWarning)\n",
      "/Users/anderson675/miniconda3/lib/python3.7/site-packages/scaper/core.py:1172: ScaperWarning: gun_shot event duration (2.27) is greater that source duration (1.16), changing to 1.16\n",
      "  ScaperWarning)\n",
      "/Users/anderson675/miniconda3/lib/python3.7/site-packages/scaper/core.py:1268: ScaperWarning: engine_idling event time (8.54) is too great given stretched event duration (2.02) and soundscape duration (10.00), changed to 7.98.\n",
      "  ScaperWarning)\n"
     ]
    },
    {
     "name": "stdout",
     "output_type": "stream",
     "text": [
      "Generating soundscape: 156/200\n",
      "Generating soundscape: 157/200\n"
     ]
    },
    {
     "name": "stderr",
     "output_type": "stream",
     "text": [
      "/Users/anderson675/miniconda3/lib/python3.7/site-packages/scaper/core.py:1268: ScaperWarning: jackhammer event time (7.45) is too great given stretched event duration (4.10) and soundscape duration (10.00), changed to 5.90.\n",
      "  ScaperWarning)\n",
      "/Users/anderson675/miniconda3/lib/python3.7/site-packages/scaper/core.py:1172: ScaperWarning: gun_shot event duration (2.44) is greater that source duration (1.14), changing to 1.14\n",
      "  ScaperWarning)\n"
     ]
    },
    {
     "name": "stdout",
     "output_type": "stream",
     "text": [
      "Generating soundscape: 158/200\n",
      "Generating soundscape: 159/200\n",
      "Generating soundscape: 160/200\n"
     ]
    },
    {
     "name": "stderr",
     "output_type": "stream",
     "text": [
      "/Users/anderson675/miniconda3/lib/python3.7/site-packages/scaper/core.py:1172: ScaperWarning: gun_shot event duration (2.83) is greater that source duration (0.87), changing to 0.87\n",
      "  ScaperWarning)\n"
     ]
    },
    {
     "name": "stdout",
     "output_type": "stream",
     "text": [
      "Generating soundscape: 161/200\n"
     ]
    },
    {
     "name": "stderr",
     "output_type": "stream",
     "text": [
      "/Users/anderson675/miniconda3/lib/python3.7/site-packages/scaper/core.py:1268: ScaperWarning: drilling event time (7.50) is too great given stretched event duration (3.33) and soundscape duration (10.00), changed to 6.67.\n",
      "  ScaperWarning)\n",
      "/Users/anderson675/miniconda3/lib/python3.7/site-packages/scaper/core.py:1172: ScaperWarning: gun_shot event duration (2.76) is greater that source duration (2.20), changing to 2.20\n",
      "  ScaperWarning)\n",
      "/Users/anderson675/miniconda3/lib/python3.7/site-packages/scaper/core.py:1172: ScaperWarning: gun_shot event duration (3.00) is greater that source duration (0.48), changing to 0.48\n",
      "  ScaperWarning)\n",
      "/Users/anderson675/miniconda3/lib/python3.7/site-packages/scaper/core.py:1268: ScaperWarning: dog_bark event time (7.81) is too great given stretched event duration (3.15) and soundscape duration (10.00), changed to 6.85.\n",
      "  ScaperWarning)\n",
      "/Users/anderson675/miniconda3/lib/python3.7/site-packages/scaper/core.py:1172: ScaperWarning: dog_bark event duration (2.32) is greater that source duration (0.94), changing to 0.94\n",
      "  ScaperWarning)\n"
     ]
    },
    {
     "name": "stdout",
     "output_type": "stream",
     "text": [
      "Generating soundscape: 162/200\n"
     ]
    },
    {
     "name": "stderr",
     "output_type": "stream",
     "text": [
      "/Users/anderson675/miniconda3/lib/python3.7/site-packages/scaper/core.py:1172: ScaperWarning: gun_shot event duration (1.92) is greater that source duration (1.09), changing to 1.09\n",
      "  ScaperWarning)\n",
      "/Users/anderson675/miniconda3/lib/python3.7/site-packages/scaper/core.py:1172: ScaperWarning: gun_shot event duration (3.36) is greater that source duration (0.66), changing to 0.66\n",
      "  ScaperWarning)\n"
     ]
    },
    {
     "name": "stdout",
     "output_type": "stream",
     "text": [
      "Generating soundscape: 163/200\n"
     ]
    },
    {
     "name": "stderr",
     "output_type": "stream",
     "text": [
      "/Users/anderson675/miniconda3/lib/python3.7/site-packages/scaper/core.py:1172: ScaperWarning: drilling event duration (2.94) is greater that source duration (1.14), changing to 1.14\n",
      "  ScaperWarning)\n"
     ]
    },
    {
     "name": "stdout",
     "output_type": "stream",
     "text": [
      "Generating soundscape: 164/200\n"
     ]
    },
    {
     "name": "stderr",
     "output_type": "stream",
     "text": [
      "/Users/anderson675/miniconda3/lib/python3.7/site-packages/scaper/core.py:1172: ScaperWarning: car_horn event duration (3.90) is greater that source duration (0.44), changing to 0.44\n",
      "  ScaperWarning)\n"
     ]
    },
    {
     "name": "stdout",
     "output_type": "stream",
     "text": [
      "Generating soundscape: 165/200\n",
      "Generating soundscape: 166/200\n",
      "Generating soundscape: 167/200\n"
     ]
    },
    {
     "name": "stderr",
     "output_type": "stream",
     "text": [
      "/Users/anderson675/miniconda3/lib/python3.7/site-packages/scaper/core.py:1172: ScaperWarning: dog_bark event duration (1.41) is greater that source duration (1.03), changing to 1.03\n",
      "  ScaperWarning)\n",
      "/Users/anderson675/miniconda3/lib/python3.7/site-packages/scaper/core.py:1172: ScaperWarning: car_horn event duration (1.82) is greater that source duration (0.37), changing to 0.37\n",
      "  ScaperWarning)\n"
     ]
    },
    {
     "name": "stdout",
     "output_type": "stream",
     "text": [
      "Generating soundscape: 168/200\n"
     ]
    },
    {
     "name": "stderr",
     "output_type": "stream",
     "text": [
      "/Users/anderson675/miniconda3/lib/python3.7/site-packages/scaper/core.py:1172: ScaperWarning: jackhammer event duration (1.92) is greater that source duration (0.87), changing to 0.87\n",
      "  ScaperWarning)\n"
     ]
    },
    {
     "name": "stdout",
     "output_type": "stream",
     "text": [
      "Generating soundscape: 169/200\n"
     ]
    },
    {
     "name": "stderr",
     "output_type": "stream",
     "text": [
      "/Users/anderson675/miniconda3/lib/python3.7/site-packages/scaper/core.py:1172: ScaperWarning: gun_shot event duration (3.44) is greater that source duration (2.06), changing to 2.06\n",
      "  ScaperWarning)\n"
     ]
    },
    {
     "name": "stdout",
     "output_type": "stream",
     "text": [
      "Generating soundscape: 170/200\n"
     ]
    },
    {
     "name": "stderr",
     "output_type": "stream",
     "text": [
      "/Users/anderson675/miniconda3/lib/python3.7/site-packages/scaper/core.py:1172: ScaperWarning: dog_bark event duration (3.07) is greater that source duration (1.13), changing to 1.13\n",
      "  ScaperWarning)\n"
     ]
    },
    {
     "name": "stdout",
     "output_type": "stream",
     "text": [
      "Generating soundscape: 171/200\n",
      "Generating soundscape: 172/200\n"
     ]
    },
    {
     "name": "stderr",
     "output_type": "stream",
     "text": [
      "/Users/anderson675/miniconda3/lib/python3.7/site-packages/scaper/core.py:1172: ScaperWarning: gun_shot event duration (2.77) is greater that source duration (1.97), changing to 1.97\n",
      "  ScaperWarning)\n",
      "/Users/anderson675/miniconda3/lib/python3.7/site-packages/scaper/core.py:1268: ScaperWarning: jackhammer event time (9.07) is too great given stretched event duration (2.69) and soundscape duration (10.00), changed to 7.31.\n",
      "  ScaperWarning)\n",
      "/Users/anderson675/miniconda3/lib/python3.7/site-packages/scaper/core.py:1268: ScaperWarning: gun_shot event time (9.41) is too great given stretched event duration (3.59) and soundscape duration (10.00), changed to 6.41.\n",
      "  ScaperWarning)\n"
     ]
    },
    {
     "name": "stdout",
     "output_type": "stream",
     "text": [
      "Generating soundscape: 173/200\n",
      "Generating soundscape: 174/200\n"
     ]
    },
    {
     "name": "stderr",
     "output_type": "stream",
     "text": [
      "/Users/anderson675/miniconda3/lib/python3.7/site-packages/scaper/core.py:1172: ScaperWarning: car_horn event duration (3.86) is greater that source duration (0.35), changing to 0.35\n",
      "  ScaperWarning)\n"
     ]
    },
    {
     "name": "stdout",
     "output_type": "stream",
     "text": [
      "Generating soundscape: 175/200\n"
     ]
    },
    {
     "name": "stderr",
     "output_type": "stream",
     "text": [
      "/Users/anderson675/miniconda3/lib/python3.7/site-packages/scaper/core.py:1172: ScaperWarning: gun_shot event duration (2.52) is greater that source duration (2.12), changing to 2.12\n",
      "  ScaperWarning)\n"
     ]
    },
    {
     "name": "stdout",
     "output_type": "stream",
     "text": [
      "Generating soundscape: 176/200\n"
     ]
    },
    {
     "name": "stderr",
     "output_type": "stream",
     "text": [
      "/Users/anderson675/miniconda3/lib/python3.7/site-packages/scaper/core.py:1268: ScaperWarning: drilling event time (6.73) is too great given stretched event duration (3.83) and soundscape duration (10.00), changed to 6.17.\n",
      "  ScaperWarning)\n"
     ]
    },
    {
     "name": "stdout",
     "output_type": "stream",
     "text": [
      "Generating soundscape: 177/200\n"
     ]
    },
    {
     "name": "stderr",
     "output_type": "stream",
     "text": [
      "/Users/anderson675/miniconda3/lib/python3.7/site-packages/scaper/core.py:1172: ScaperWarning: dog_bark event duration (1.72) is greater that source duration (0.49), changing to 0.49\n",
      "  ScaperWarning)\n",
      "/Users/anderson675/miniconda3/lib/python3.7/site-packages/scaper/core.py:1172: ScaperWarning: car_horn event duration (2.64) is greater that source duration (1.42), changing to 1.42\n",
      "  ScaperWarning)\n"
     ]
    },
    {
     "name": "stdout",
     "output_type": "stream",
     "text": [
      "Generating soundscape: 178/200\n"
     ]
    },
    {
     "name": "stderr",
     "output_type": "stream",
     "text": [
      "/Users/anderson675/miniconda3/lib/python3.7/site-packages/scaper/core.py:1172: ScaperWarning: car_horn event duration (2.30) is greater that source duration (0.35), changing to 0.35\n",
      "  ScaperWarning)\n"
     ]
    },
    {
     "name": "stdout",
     "output_type": "stream",
     "text": [
      "Generating soundscape: 179/200\n"
     ]
    },
    {
     "name": "stderr",
     "output_type": "stream",
     "text": [
      "/Users/anderson675/miniconda3/lib/python3.7/site-packages/scaper/core.py:1172: ScaperWarning: car_horn event duration (2.65) is greater that source duration (2.11), changing to 2.11\n",
      "  ScaperWarning)\n"
     ]
    },
    {
     "name": "stdout",
     "output_type": "stream",
     "text": [
      "Generating soundscape: 180/200\n"
     ]
    },
    {
     "name": "stderr",
     "output_type": "stream",
     "text": [
      "/Users/anderson675/miniconda3/lib/python3.7/site-packages/scaper/core.py:1172: ScaperWarning: car_horn event duration (2.33) is greater that source duration (1.98), changing to 1.98\n",
      "  ScaperWarning)\n"
     ]
    },
    {
     "name": "stdout",
     "output_type": "stream",
     "text": [
      "Generating soundscape: 181/200\n"
     ]
    },
    {
     "name": "stderr",
     "output_type": "stream",
     "text": [
      "/Users/anderson675/miniconda3/lib/python3.7/site-packages/scaper/core.py:1172: ScaperWarning: gun_shot event duration (2.53) is greater that source duration (1.56), changing to 1.56\n",
      "  ScaperWarning)\n",
      "/Users/anderson675/miniconda3/lib/python3.7/site-packages/scaper/core.py:1268: ScaperWarning: engine_idling event time (7.69) is too great given stretched event duration (3.55) and soundscape duration (10.00), changed to 6.45.\n",
      "  ScaperWarning)\n",
      "/Users/anderson675/miniconda3/lib/python3.7/site-packages/scaper/core.py:1172: ScaperWarning: gun_shot event duration (3.61) is greater that source duration (1.33), changing to 1.33\n",
      "  ScaperWarning)\n"
     ]
    },
    {
     "name": "stdout",
     "output_type": "stream",
     "text": [
      "Generating soundscape: 182/200\n"
     ]
    },
    {
     "name": "stderr",
     "output_type": "stream",
     "text": [
      "/Users/anderson675/miniconda3/lib/python3.7/site-packages/scaper/core.py:1268: ScaperWarning: jackhammer event time (9.37) is too great given stretched event duration (3.23) and soundscape duration (10.00), changed to 6.77.\n",
      "  ScaperWarning)\n",
      "/Users/anderson675/miniconda3/lib/python3.7/site-packages/scaper/core.py:1268: ScaperWarning: air_conditioner event time (6.57) is too great given stretched event duration (4.41) and soundscape duration (10.00), changed to 5.59.\n",
      "  ScaperWarning)\n"
     ]
    },
    {
     "name": "stdout",
     "output_type": "stream",
     "text": [
      "Generating soundscape: 183/200\n"
     ]
    },
    {
     "name": "stderr",
     "output_type": "stream",
     "text": [
      "/Users/anderson675/miniconda3/lib/python3.7/site-packages/scaper/core.py:1172: ScaperWarning: dog_bark event duration (2.15) is greater that source duration (1.61), changing to 1.61\n",
      "  ScaperWarning)\n",
      "/Users/anderson675/miniconda3/lib/python3.7/site-packages/scaper/core.py:1172: ScaperWarning: gun_shot event duration (2.03) is greater that source duration (1.33), changing to 1.33\n",
      "  ScaperWarning)\n"
     ]
    },
    {
     "name": "stdout",
     "output_type": "stream",
     "text": [
      "Generating soundscape: 184/200\n"
     ]
    },
    {
     "name": "stderr",
     "output_type": "stream",
     "text": [
      "/Users/anderson675/miniconda3/lib/python3.7/site-packages/scaper/core.py:1172: ScaperWarning: dog_bark event duration (2.46) is greater that source duration (1.01), changing to 1.01\n",
      "  ScaperWarning)\n",
      "/Users/anderson675/miniconda3/lib/python3.7/site-packages/scaper/core.py:1172: ScaperWarning: gun_shot event duration (3.06) is greater that source duration (1.93), changing to 1.93\n",
      "  ScaperWarning)\n"
     ]
    },
    {
     "name": "stdout",
     "output_type": "stream",
     "text": [
      "Generating soundscape: 185/200\n",
      "Generating soundscape: 186/200\n"
     ]
    },
    {
     "name": "stderr",
     "output_type": "stream",
     "text": [
      "/Users/anderson675/miniconda3/lib/python3.7/site-packages/scaper/core.py:1268: ScaperWarning: air_conditioner event time (9.28) is too great given stretched event duration (3.75) and soundscape duration (10.00), changed to 6.25.\n",
      "  ScaperWarning)\n",
      "/Users/anderson675/miniconda3/lib/python3.7/site-packages/scaper/core.py:1172: ScaperWarning: gun_shot event duration (3.69) is greater that source duration (1.41), changing to 1.41\n",
      "  ScaperWarning)\n"
     ]
    },
    {
     "name": "stdout",
     "output_type": "stream",
     "text": [
      "Generating soundscape: 187/200\n",
      "Generating soundscape: 188/200\n"
     ]
    },
    {
     "name": "stderr",
     "output_type": "stream",
     "text": [
      "/Users/anderson675/miniconda3/lib/python3.7/site-packages/scaper/core.py:1172: ScaperWarning: jackhammer event duration (2.71) is greater that source duration (2.30), changing to 2.30\n",
      "  ScaperWarning)\n"
     ]
    },
    {
     "name": "stdout",
     "output_type": "stream",
     "text": [
      "Generating soundscape: 189/200\n"
     ]
    },
    {
     "name": "stderr",
     "output_type": "stream",
     "text": [
      "/Users/anderson675/miniconda3/lib/python3.7/site-packages/scaper/core.py:1172: ScaperWarning: drilling event duration (2.97) is greater that source duration (0.51), changing to 0.51\n",
      "  ScaperWarning)\n",
      "/Users/anderson675/miniconda3/lib/python3.7/site-packages/scaper/core.py:1172: ScaperWarning: car_horn event duration (0.67) is greater that source duration (0.58), changing to 0.58\n",
      "  ScaperWarning)\n",
      "/Users/anderson675/miniconda3/lib/python3.7/site-packages/scaper/core.py:1172: ScaperWarning: gun_shot event duration (2.58) is greater that source duration (1.21), changing to 1.21\n",
      "  ScaperWarning)\n"
     ]
    },
    {
     "name": "stdout",
     "output_type": "stream",
     "text": [
      "Generating soundscape: 190/200\n"
     ]
    },
    {
     "name": "stderr",
     "output_type": "stream",
     "text": [
      "/Users/anderson675/miniconda3/lib/python3.7/site-packages/scaper/core.py:1172: ScaperWarning: car_horn event duration (1.97) is greater that source duration (0.25), changing to 0.25\n",
      "  ScaperWarning)\n",
      "/Users/anderson675/miniconda3/lib/python3.7/site-packages/scaper/core.py:1172: ScaperWarning: gun_shot event duration (2.88) is greater that source duration (1.21), changing to 1.21\n",
      "  ScaperWarning)\n",
      "/Users/anderson675/miniconda3/lib/python3.7/site-packages/scaper/core.py:1172: ScaperWarning: gun_shot event duration (2.83) is greater that source duration (1.14), changing to 1.14\n",
      "  ScaperWarning)\n",
      "/Users/anderson675/miniconda3/lib/python3.7/site-packages/scaper/core.py:1172: ScaperWarning: gun_shot event duration (2.51) is greater that source duration (1.20), changing to 1.20\n",
      "  ScaperWarning)\n"
     ]
    },
    {
     "name": "stdout",
     "output_type": "stream",
     "text": [
      "Generating soundscape: 191/200\n"
     ]
    },
    {
     "name": "stderr",
     "output_type": "stream",
     "text": [
      "/Users/anderson675/miniconda3/lib/python3.7/site-packages/scaper/core.py:1172: ScaperWarning: gun_shot event duration (2.36) is greater that source duration (1.82), changing to 1.82\n",
      "  ScaperWarning)\n"
     ]
    },
    {
     "name": "stdout",
     "output_type": "stream",
     "text": [
      "Generating soundscape: 192/200\n"
     ]
    },
    {
     "name": "stderr",
     "output_type": "stream",
     "text": [
      "/Users/anderson675/miniconda3/lib/python3.7/site-packages/scaper/core.py:1172: ScaperWarning: drilling event duration (3.27) is greater that source duration (0.88), changing to 0.88\n",
      "  ScaperWarning)\n"
     ]
    },
    {
     "name": "stdout",
     "output_type": "stream",
     "text": [
      "Generating soundscape: 193/200\n",
      "Generating soundscape: 194/200\n"
     ]
    },
    {
     "name": "stderr",
     "output_type": "stream",
     "text": [
      "/Users/anderson675/miniconda3/lib/python3.7/site-packages/scaper/core.py:1268: ScaperWarning: speech event time (7.84) is too great given stretched event duration (2.74) and soundscape duration (10.00), changed to 7.26.\n",
      "  ScaperWarning)\n",
      "/Users/anderson675/miniconda3/lib/python3.7/site-packages/scaper/core.py:1172: ScaperWarning: gun_shot event duration (2.05) is greater that source duration (1.16), changing to 1.16\n",
      "  ScaperWarning)\n",
      "/Users/anderson675/miniconda3/lib/python3.7/site-packages/scaper/core.py:1268: ScaperWarning: gun_shot event time (8.73) is too great given stretched event duration (1.38) and soundscape duration (10.00), changed to 8.62.\n",
      "  ScaperWarning)\n"
     ]
    },
    {
     "name": "stdout",
     "output_type": "stream",
     "text": [
      "Generating soundscape: 195/200\n"
     ]
    },
    {
     "name": "stderr",
     "output_type": "stream",
     "text": [
      "/Users/anderson675/miniconda3/lib/python3.7/site-packages/scaper/core.py:1268: ScaperWarning: air_conditioner event time (7.50) is too great given stretched event duration (3.07) and soundscape duration (10.00), changed to 6.93.\n",
      "  ScaperWarning)\n",
      "/Users/anderson675/miniconda3/lib/python3.7/site-packages/scaper/core.py:1268: ScaperWarning: street_music event time (9.35) is too great given stretched event duration (2.27) and soundscape duration (10.00), changed to 7.73.\n",
      "  ScaperWarning)\n"
     ]
    },
    {
     "name": "stdout",
     "output_type": "stream",
     "text": [
      "Generating soundscape: 196/200\n"
     ]
    },
    {
     "name": "stderr",
     "output_type": "stream",
     "text": [
      "/Users/anderson675/miniconda3/lib/python3.7/site-packages/scaper/core.py:1268: ScaperWarning: air_conditioner event time (7.70) is too great given stretched event duration (2.95) and soundscape duration (10.00), changed to 7.05.\n",
      "  ScaperWarning)\n",
      "/Users/anderson675/miniconda3/lib/python3.7/site-packages/scaper/core.py:1172: ScaperWarning: drilling event duration (3.24) is greater that source duration (1.95), changing to 1.95\n",
      "  ScaperWarning)\n",
      "/Users/anderson675/miniconda3/lib/python3.7/site-packages/scaper/core.py:1172: ScaperWarning: car_horn event duration (3.34) is greater that source duration (0.32), changing to 0.32\n",
      "  ScaperWarning)\n"
     ]
    },
    {
     "name": "stdout",
     "output_type": "stream",
     "text": [
      "Generating soundscape: 197/200\n"
     ]
    },
    {
     "name": "stderr",
     "output_type": "stream",
     "text": [
      "/Users/anderson675/miniconda3/lib/python3.7/site-packages/scaper/core.py:1172: ScaperWarning: car_horn event duration (3.95) is greater that source duration (0.69), changing to 0.69\n",
      "  ScaperWarning)\n",
      "/Users/anderson675/miniconda3/lib/python3.7/site-packages/scaper/core.py:1172: ScaperWarning: gun_shot event duration (3.50) is greater that source duration (1.96), changing to 1.96\n",
      "  ScaperWarning)\n"
     ]
    },
    {
     "name": "stdout",
     "output_type": "stream",
     "text": [
      "Generating soundscape: 198/200\n"
     ]
    },
    {
     "name": "stderr",
     "output_type": "stream",
     "text": [
      "/Users/anderson675/miniconda3/lib/python3.7/site-packages/scaper/core.py:1268: ScaperWarning: street_music event time (6.59) is too great given stretched event duration (4.37) and soundscape duration (10.00), changed to 5.63.\n",
      "  ScaperWarning)\n",
      "/Users/anderson675/miniconda3/lib/python3.7/site-packages/scaper/core.py:1172: ScaperWarning: drilling event duration (1.01) is greater that source duration (0.94), changing to 0.94\n",
      "  ScaperWarning)\n",
      "/Users/anderson675/miniconda3/lib/python3.7/site-packages/scaper/core.py:1172: ScaperWarning: gun_shot event duration (1.73) is greater that source duration (0.27), changing to 0.27\n",
      "  ScaperWarning)\n"
     ]
    },
    {
     "name": "stdout",
     "output_type": "stream",
     "text": [
      "Generating soundscape: 199/200\n",
      "Generating soundscape: 200/200\n"
     ]
    },
    {
     "name": "stderr",
     "output_type": "stream",
     "text": [
      "/Users/anderson675/miniconda3/lib/python3.7/site-packages/scaper/core.py:1172: ScaperWarning: dog_bark event duration (1.01) is greater that source duration (0.23), changing to 0.23\n",
      "  ScaperWarning)\n",
      "/Users/anderson675/miniconda3/lib/python3.7/site-packages/scaper/core.py:1172: ScaperWarning: gun_shot event duration (3.29) is greater that source duration (1.16), changing to 1.16\n",
      "  ScaperWarning)\n",
      "/Users/anderson675/miniconda3/lib/python3.7/site-packages/scaper/core.py:1172: ScaperWarning: drilling event duration (2.86) is greater that source duration (0.69), changing to 0.69\n",
      "  ScaperWarning)\n"
     ]
    }
   ],
   "source": [
    "# SCAPER SETTINGS\n",
    "np.random.seed(123)\n",
    "fg_folder = os.getcwd() + '/1_Dataset_Generate/audio/soundbanks/train/foreground/'\n",
    "bg_folder = os.getcwd() + '/1_Dataset_Generate/audio/soundbanks/train/background/'\n",
    "\n",
    "n_soundscapes = 200\n",
    "ref_db = -50\n",
    "duration = 10.0 \n",
    "\n",
    "min_events = 1\n",
    "max_events = 9\n",
    "\n",
    "event_time_dist = 'truncnorm'\n",
    "event_time_mean = 5.0\n",
    "event_time_std = 2.0\n",
    "event_time_min = 0.0\n",
    "event_time_max = 10.0\n",
    "\n",
    "source_time_dist = 'const'\n",
    "source_time = 0.0\n",
    "\n",
    "event_duration_dist = 'uniform'\n",
    "event_duration_min = 0.5\n",
    "event_duration_max = 4.0\n",
    "\n",
    "snr_dist = 'uniform'\n",
    "snr_min = 6\n",
    "snr_max = 30\n",
    "\n",
    "pitch_dist = 'uniform'\n",
    "pitch_min = -3.0\n",
    "pitch_max = 3.0\n",
    "\n",
    "time_stretch_dist = 'uniform'\n",
    "time_stretch_min = 0.8\n",
    "time_stretch_max = 1.2\n",
    "\n",
    "\n",
    "# FILE SETTINGS\n",
    "outfolder = os.path.join(os.getcwd() + '/1_Dataset_Generate/audio/soundbanks/train/generated/unimodal')\n",
    "if not os.path.isdir(outfolder):\n",
    "    os.mkdir(outfolder)\n",
    "    \n",
    "\n",
    "for n in range(n_soundscapes):\n",
    "    \n",
    "    print('Generating soundscape: {:d}/{:d}'.format(n+1, n_soundscapes))\n",
    "    \n",
    "    # create a scaper\n",
    "    sc = scaper.Scaper(duration, fg_folder, bg_folder)\n",
    "    sc.protected_labels = []\n",
    "    sc.ref_db = ref_db\n",
    "    \n",
    "    # add background\n",
    "    sc.add_background(label=('const', 'noise'), \n",
    "                      source_file=('choose', []), \n",
    "                      source_time=('const', 0))\n",
    "\n",
    "    # add random foreground events\n",
    "    n_events = np.random.randint(min_events, max_events+1)\n",
    "    for _ in range(n_events):\n",
    "        sc.add_event(label=('choose', []), \n",
    "                     source_file=('choose', []), \n",
    "                     source_time=(source_time_dist, source_time), \n",
    "                     event_time=(event_time_dist, event_time_mean, event_time_std, event_time_min, event_time_max), \n",
    "                     event_duration=(event_duration_dist, event_duration_min, event_duration_max), \n",
    "                     snr=(snr_dist, snr_min, snr_max),\n",
    "                     pitch_shift=(pitch_dist, pitch_min, pitch_max),\n",
    "                     time_stretch=(time_stretch_dist, time_stretch_min, time_stretch_max))\n",
    "    \n",
    "    # generate\n",
    "    audiofile = os.path.join(outfolder, \"soundscape_train_unimodal{:d}.wav\".format(n))\n",
    "    jamsfile = os.path.join(outfolder, \"soundscape_train_unimodal{:d}.jams\".format(n))\n",
    "    txtfile = os.path.join(outfolder, \"soundscape_train_unimodal{:d}.txt\".format(n))\n",
    "    \n",
    "    sc.generate(audiofile, jamsfile,\n",
    "                allow_repeated_label=True,\n",
    "                allow_repeated_source=False,\n",
    "                reverb=0.1,\n",
    "                disable_sox_warnings=True,\n",
    "                no_audio=False,\n",
    "                txt_path=txtfile)"
   ]
  },
  {
   "cell_type": "code",
   "execution_count": null,
   "metadata": {},
   "outputs": [],
   "source": []
  },
  {
   "cell_type": "code",
   "execution_count": null,
   "metadata": {},
   "outputs": [],
   "source": []
  },
  {
   "cell_type": "markdown",
   "metadata": {},
   "source": [
    "# =============Validate================\n",
    "# Validate-Bimodal\n"
   ]
  },
  {
   "cell_type": "code",
   "execution_count": 24,
   "metadata": {},
   "outputs": [
    {
     "name": "stdout",
     "output_type": "stream",
     "text": [
      "Generating soundscape: 1/66\n",
      "Generating soundscape: 2/66\n",
      "Generating soundscape: 3/66\n",
      "Generating soundscape: 4/66\n",
      "Generating soundscape: 5/66\n"
     ]
    },
    {
     "name": "stderr",
     "output_type": "stream",
     "text": [
      "/Users/anderson675/miniconda3/lib/python3.7/site-packages/scaper/core.py:1172: ScaperWarning: gun_shot event duration (2.66) is greater that source duration (2.19), changing to 2.19\n",
      "  ScaperWarning)\n",
      "/Users/anderson675/miniconda3/lib/python3.7/site-packages/scaper/core.py:1268: ScaperWarning: siren event time (6.50) is too great given stretched event duration (3.94) and soundscape duration (10.00), changed to 6.06.\n",
      "  ScaperWarning)\n",
      "/Users/anderson675/miniconda3/lib/python3.7/site-packages/scaper/core.py:1268: ScaperWarning: car_horn event time (6.80) is too great given stretched event duration (3.73) and soundscape duration (10.00), changed to 6.27.\n",
      "  ScaperWarning)\n"
     ]
    },
    {
     "name": "stdout",
     "output_type": "stream",
     "text": [
      "Generating soundscape: 6/66\n"
     ]
    },
    {
     "name": "stderr",
     "output_type": "stream",
     "text": [
      "/Users/anderson675/miniconda3/lib/python3.7/site-packages/scaper/core.py:1172: ScaperWarning: car_horn event duration (2.70) is greater that source duration (1.75), changing to 1.75\n",
      "  ScaperWarning)\n"
     ]
    },
    {
     "name": "stdout",
     "output_type": "stream",
     "text": [
      "Generating soundscape: 7/66\n",
      "Generating soundscape: 8/66\n"
     ]
    },
    {
     "name": "stderr",
     "output_type": "stream",
     "text": [
      "/Users/anderson675/miniconda3/lib/python3.7/site-packages/scaper/core.py:1172: ScaperWarning: jackhammer event duration (2.73) is greater that source duration (1.67), changing to 1.67\n",
      "  ScaperWarning)\n"
     ]
    },
    {
     "name": "stdout",
     "output_type": "stream",
     "text": [
      "Generating soundscape: 9/66\n"
     ]
    },
    {
     "name": "stderr",
     "output_type": "stream",
     "text": [
      "/Users/anderson675/miniconda3/lib/python3.7/site-packages/scaper/core.py:1268: ScaperWarning: jackhammer event time (8.55) is too great given stretched event duration (3.10) and soundscape duration (10.00), changed to 6.90.\n",
      "  ScaperWarning)\n",
      "/Users/anderson675/miniconda3/lib/python3.7/site-packages/scaper/core.py:1172: ScaperWarning: car_horn event duration (1.66) is greater that source duration (0.32), changing to 0.32\n",
      "  ScaperWarning)\n",
      "/Users/anderson675/miniconda3/lib/python3.7/site-packages/scaper/core.py:1268: ScaperWarning: speech event time (8.92) is too great given stretched event duration (2.25) and soundscape duration (10.00), changed to 7.75.\n",
      "  ScaperWarning)\n"
     ]
    },
    {
     "name": "stdout",
     "output_type": "stream",
     "text": [
      "Generating soundscape: 10/66\n"
     ]
    },
    {
     "name": "stderr",
     "output_type": "stream",
     "text": [
      "/Users/anderson675/miniconda3/lib/python3.7/site-packages/scaper/core.py:1268: ScaperWarning: street_music event time (9.92) is too great given stretched event duration (0.93) and soundscape duration (10.00), changed to 9.07.\n",
      "  ScaperWarning)\n",
      "/Users/anderson675/miniconda3/lib/python3.7/site-packages/scaper/core.py:1172: ScaperWarning: gun_shot event duration (2.82) is greater that source duration (1.85), changing to 1.85\n",
      "  ScaperWarning)\n"
     ]
    },
    {
     "name": "stdout",
     "output_type": "stream",
     "text": [
      "Generating soundscape: 11/66\n"
     ]
    },
    {
     "name": "stderr",
     "output_type": "stream",
     "text": [
      "/Users/anderson675/miniconda3/lib/python3.7/site-packages/scaper/core.py:1268: ScaperWarning: siren event time (9.19) is too great given stretched event duration (4.35) and soundscape duration (10.00), changed to 5.65.\n",
      "  ScaperWarning)\n",
      "/Users/anderson675/miniconda3/lib/python3.7/site-packages/scaper/core.py:1268: ScaperWarning: street_music event time (8.58) is too great given stretched event duration (2.76) and soundscape duration (10.00), changed to 7.24.\n",
      "  ScaperWarning)\n",
      "/Users/anderson675/miniconda3/lib/python3.7/site-packages/scaper/core.py:1268: ScaperWarning: air_conditioner event time (6.14) is too great given stretched event duration (4.12) and soundscape duration (10.00), changed to 5.88.\n",
      "  ScaperWarning)\n",
      "/Users/anderson675/miniconda3/lib/python3.7/site-packages/scaper/core.py:1268: ScaperWarning: air_conditioner event time (6.35) is too great given stretched event duration (3.67) and soundscape duration (10.00), changed to 6.33.\n",
      "  ScaperWarning)\n",
      "/Users/anderson675/miniconda3/lib/python3.7/site-packages/scaper/core.py:1268: ScaperWarning: siren event time (7.81) is too great given stretched event duration (2.85) and soundscape duration (10.00), changed to 7.15.\n",
      "  ScaperWarning)\n",
      "/Users/anderson675/miniconda3/lib/python3.7/site-packages/scaper/core.py:1268: ScaperWarning: siren event time (9.93) is too great given stretched event duration (3.84) and soundscape duration (10.00), changed to 6.16.\n",
      "  ScaperWarning)\n"
     ]
    },
    {
     "name": "stdout",
     "output_type": "stream",
     "text": [
      "Generating soundscape: 12/66\n"
     ]
    },
    {
     "name": "stderr",
     "output_type": "stream",
     "text": [
      "/Users/anderson675/miniconda3/lib/python3.7/site-packages/scaper/core.py:1172: ScaperWarning: gun_shot event duration (2.04) is greater that source duration (0.98), changing to 0.98\n",
      "  ScaperWarning)\n"
     ]
    },
    {
     "name": "stdout",
     "output_type": "stream",
     "text": [
      "Generating soundscape: 13/66\n"
     ]
    },
    {
     "name": "stderr",
     "output_type": "stream",
     "text": [
      "/Users/anderson675/miniconda3/lib/python3.7/site-packages/scaper/core.py:1172: ScaperWarning: gun_shot event duration (3.91) is greater that source duration (1.60), changing to 1.60\n",
      "  ScaperWarning)\n",
      "/Users/anderson675/miniconda3/lib/python3.7/site-packages/scaper/core.py:1268: ScaperWarning: gun_shot event time (8.61) is too great given stretched event duration (1.87) and soundscape duration (10.00), changed to 8.13.\n",
      "  ScaperWarning)\n",
      "/Users/anderson675/miniconda3/lib/python3.7/site-packages/scaper/core.py:1172: ScaperWarning: gun_shot event duration (3.70) is greater that source duration (1.95), changing to 1.95\n",
      "  ScaperWarning)\n"
     ]
    },
    {
     "name": "stdout",
     "output_type": "stream",
     "text": [
      "Generating soundscape: 14/66\n"
     ]
    },
    {
     "name": "stderr",
     "output_type": "stream",
     "text": [
      "/Users/anderson675/miniconda3/lib/python3.7/site-packages/scaper/core.py:1172: ScaperWarning: car_horn event duration (2.84) is greater that source duration (0.45), changing to 0.45\n",
      "  ScaperWarning)\n",
      "/Users/anderson675/miniconda3/lib/python3.7/site-packages/scaper/core.py:1268: ScaperWarning: air_conditioner event time (9.15) is too great given stretched event duration (3.00) and soundscape duration (10.00), changed to 7.00.\n",
      "  ScaperWarning)\n",
      "/Users/anderson675/miniconda3/lib/python3.7/site-packages/scaper/core.py:1172: ScaperWarning: drilling event duration (3.83) is greater that source duration (1.44), changing to 1.44\n",
      "  ScaperWarning)\n"
     ]
    },
    {
     "name": "stdout",
     "output_type": "stream",
     "text": [
      "Generating soundscape: 15/66\n"
     ]
    },
    {
     "name": "stderr",
     "output_type": "stream",
     "text": [
      "/Users/anderson675/miniconda3/lib/python3.7/site-packages/scaper/core.py:1172: ScaperWarning: car_horn event duration (0.53) is greater that source duration (0.45), changing to 0.45\n",
      "  ScaperWarning)\n"
     ]
    },
    {
     "name": "stdout",
     "output_type": "stream",
     "text": [
      "Generating soundscape: 16/66\n"
     ]
    },
    {
     "name": "stderr",
     "output_type": "stream",
     "text": [
      "/Users/anderson675/miniconda3/lib/python3.7/site-packages/scaper/core.py:1268: ScaperWarning: street_music event time (8.89) is too great given stretched event duration (3.56) and soundscape duration (10.00), changed to 6.44.\n",
      "  ScaperWarning)\n",
      "/Users/anderson675/miniconda3/lib/python3.7/site-packages/scaper/core.py:1172: ScaperWarning: engine_idling event duration (3.61) is greater that source duration (1.04), changing to 1.04\n",
      "  ScaperWarning)\n"
     ]
    },
    {
     "name": "stdout",
     "output_type": "stream",
     "text": [
      "Generating soundscape: 17/66\n",
      "Generating soundscape: 18/66\n"
     ]
    },
    {
     "name": "stderr",
     "output_type": "stream",
     "text": [
      "/Users/anderson675/miniconda3/lib/python3.7/site-packages/scaper/core.py:1172: ScaperWarning: gun_shot event duration (3.19) is greater that source duration (1.44), changing to 1.44\n",
      "  ScaperWarning)\n"
     ]
    },
    {
     "name": "stdout",
     "output_type": "stream",
     "text": [
      "Generating soundscape: 19/66\n"
     ]
    },
    {
     "name": "stderr",
     "output_type": "stream",
     "text": [
      "/Users/anderson675/miniconda3/lib/python3.7/site-packages/scaper/core.py:1268: ScaperWarning: jackhammer event time (5.76) is too great given stretched event duration (4.41) and soundscape duration (10.00), changed to 5.59.\n",
      "  ScaperWarning)\n",
      "/Users/anderson675/miniconda3/lib/python3.7/site-packages/scaper/core.py:1172: ScaperWarning: car_horn event duration (3.77) is greater that source duration (0.57), changing to 0.57\n",
      "  ScaperWarning)\n"
     ]
    },
    {
     "name": "stdout",
     "output_type": "stream",
     "text": [
      "Generating soundscape: 20/66\n"
     ]
    },
    {
     "name": "stderr",
     "output_type": "stream",
     "text": [
      "/Users/anderson675/miniconda3/lib/python3.7/site-packages/scaper/core.py:1268: ScaperWarning: drilling event time (8.42) is too great given stretched event duration (2.57) and soundscape duration (10.00), changed to 7.43.\n",
      "  ScaperWarning)\n",
      "/Users/anderson675/miniconda3/lib/python3.7/site-packages/scaper/core.py:1268: ScaperWarning: dog_bark event time (9.21) is too great given stretched event duration (4.30) and soundscape duration (10.00), changed to 5.70.\n",
      "  ScaperWarning)\n",
      "/Users/anderson675/miniconda3/lib/python3.7/site-packages/scaper/core.py:1172: ScaperWarning: jackhammer event duration (3.42) is greater that source duration (1.63), changing to 1.63\n",
      "  ScaperWarning)\n",
      "/Users/anderson675/miniconda3/lib/python3.7/site-packages/scaper/core.py:1268: ScaperWarning: engine_idling event time (8.06) is too great given stretched event duration (2.35) and soundscape duration (10.00), changed to 7.65.\n",
      "  ScaperWarning)\n",
      "/Users/anderson675/miniconda3/lib/python3.7/site-packages/scaper/core.py:1172: ScaperWarning: gun_shot event duration (3.15) is greater that source duration (0.54), changing to 0.54\n",
      "  ScaperWarning)\n"
     ]
    },
    {
     "name": "stdout",
     "output_type": "stream",
     "text": [
      "Generating soundscape: 21/66\n"
     ]
    },
    {
     "name": "stderr",
     "output_type": "stream",
     "text": [
      "/Users/anderson675/miniconda3/lib/python3.7/site-packages/scaper/core.py:1268: ScaperWarning: street_music event time (6.76) is too great given stretched event duration (3.25) and soundscape duration (10.00), changed to 6.75.\n",
      "  ScaperWarning)\n",
      "/Users/anderson675/miniconda3/lib/python3.7/site-packages/scaper/core.py:1172: ScaperWarning: car_horn event duration (2.58) is greater that source duration (1.11), changing to 1.11\n",
      "  ScaperWarning)\n",
      "/Users/anderson675/miniconda3/lib/python3.7/site-packages/scaper/core.py:1172: ScaperWarning: dog_bark event duration (3.62) is greater that source duration (2.06), changing to 2.06\n",
      "  ScaperWarning)\n"
     ]
    },
    {
     "name": "stdout",
     "output_type": "stream",
     "text": [
      "Generating soundscape: 22/66\n"
     ]
    },
    {
     "name": "stderr",
     "output_type": "stream",
     "text": [
      "/Users/anderson675/miniconda3/lib/python3.7/site-packages/scaper/core.py:1172: ScaperWarning: dog_bark event duration (1.72) is greater that source duration (1.43), changing to 1.43\n",
      "  ScaperWarning)\n"
     ]
    },
    {
     "name": "stdout",
     "output_type": "stream",
     "text": [
      "Generating soundscape: 23/66\n",
      "Generating soundscape: 24/66\n"
     ]
    },
    {
     "name": "stderr",
     "output_type": "stream",
     "text": [
      "/Users/anderson675/miniconda3/lib/python3.7/site-packages/scaper/core.py:1268: ScaperWarning: siren event time (9.94) is too great given stretched event duration (3.39) and soundscape duration (10.00), changed to 6.61.\n",
      "  ScaperWarning)\n",
      "/Users/anderson675/miniconda3/lib/python3.7/site-packages/scaper/core.py:1268: ScaperWarning: street_music event time (7.79) is too great given stretched event duration (3.12) and soundscape duration (10.00), changed to 6.88.\n",
      "  ScaperWarning)\n",
      "/Users/anderson675/miniconda3/lib/python3.7/site-packages/scaper/core.py:1268: ScaperWarning: street_music event time (7.60) is too great given stretched event duration (2.56) and soundscape duration (10.00), changed to 7.44.\n",
      "  ScaperWarning)\n",
      "/Users/anderson675/miniconda3/lib/python3.7/site-packages/scaper/core.py:1268: ScaperWarning: drilling event time (8.28) is too great given stretched event duration (3.66) and soundscape duration (10.00), changed to 6.34.\n",
      "  ScaperWarning)\n"
     ]
    },
    {
     "name": "stdout",
     "output_type": "stream",
     "text": [
      "Generating soundscape: 25/66\n"
     ]
    },
    {
     "name": "stderr",
     "output_type": "stream",
     "text": [
      "/Users/anderson675/miniconda3/lib/python3.7/site-packages/scaper/core.py:1268: ScaperWarning: street_music event time (7.69) is too great given stretched event duration (2.58) and soundscape duration (10.00), changed to 7.42.\n",
      "  ScaperWarning)\n"
     ]
    },
    {
     "name": "stdout",
     "output_type": "stream",
     "text": [
      "Generating soundscape: 26/66\n"
     ]
    },
    {
     "name": "stderr",
     "output_type": "stream",
     "text": [
      "/Users/anderson675/miniconda3/lib/python3.7/site-packages/scaper/core.py:1268: ScaperWarning: speech event time (7.00) is too great given stretched event duration (3.04) and soundscape duration (10.00), changed to 6.96.\n",
      "  ScaperWarning)\n",
      "/Users/anderson675/miniconda3/lib/python3.7/site-packages/scaper/core.py:1172: ScaperWarning: car_horn event duration (3.37) is greater that source duration (0.83), changing to 0.83\n",
      "  ScaperWarning)\n"
     ]
    },
    {
     "name": "stdout",
     "output_type": "stream",
     "text": [
      "Generating soundscape: 27/66\n",
      "Generating soundscape: 28/66\n"
     ]
    },
    {
     "name": "stderr",
     "output_type": "stream",
     "text": [
      "/Users/anderson675/miniconda3/lib/python3.7/site-packages/scaper/core.py:1268: ScaperWarning: drilling event time (8.37) is too great given stretched event duration (1.83) and soundscape duration (10.00), changed to 8.17.\n",
      "  ScaperWarning)\n"
     ]
    },
    {
     "name": "stdout",
     "output_type": "stream",
     "text": [
      "Generating soundscape: 29/66\n"
     ]
    },
    {
     "name": "stderr",
     "output_type": "stream",
     "text": [
      "/Users/anderson675/miniconda3/lib/python3.7/site-packages/scaper/core.py:1172: ScaperWarning: dog_bark event duration (2.00) is greater that source duration (0.97), changing to 0.97\n",
      "  ScaperWarning)\n",
      "/Users/anderson675/miniconda3/lib/python3.7/site-packages/scaper/core.py:1172: ScaperWarning: gun_shot event duration (3.26) is greater that source duration (0.95), changing to 0.95\n",
      "  ScaperWarning)\n",
      "/Users/anderson675/miniconda3/lib/python3.7/site-packages/scaper/core.py:1172: ScaperWarning: gun_shot event duration (2.00) is greater that source duration (1.74), changing to 1.74\n",
      "  ScaperWarning)\n"
     ]
    },
    {
     "name": "stdout",
     "output_type": "stream",
     "text": [
      "Generating soundscape: 30/66\n",
      "Generating soundscape: 31/66\n",
      "Generating soundscape: 32/66\n"
     ]
    },
    {
     "name": "stderr",
     "output_type": "stream",
     "text": [
      "/Users/anderson675/miniconda3/lib/python3.7/site-packages/scaper/core.py:1172: ScaperWarning: car_horn event duration (3.73) is greater that source duration (2.59), changing to 2.59\n",
      "  ScaperWarning)\n",
      "/Users/anderson675/miniconda3/lib/python3.7/site-packages/scaper/core.py:1172: ScaperWarning: dog_bark event duration (2.29) is greater that source duration (1.41), changing to 1.41\n",
      "  ScaperWarning)\n",
      "/Users/anderson675/miniconda3/lib/python3.7/site-packages/scaper/core.py:1268: ScaperWarning: dog_bark event time (9.79) is too great given stretched event duration (1.58) and soundscape duration (10.00), changed to 8.42.\n",
      "  ScaperWarning)\n",
      "/Users/anderson675/miniconda3/lib/python3.7/site-packages/scaper/core.py:1172: ScaperWarning: car_horn event duration (2.80) is greater that source duration (2.53), changing to 2.53\n",
      "  ScaperWarning)\n"
     ]
    },
    {
     "name": "stdout",
     "output_type": "stream",
     "text": [
      "Generating soundscape: 33/66\n"
     ]
    },
    {
     "name": "stderr",
     "output_type": "stream",
     "text": [
      "/Users/anderson675/miniconda3/lib/python3.7/site-packages/scaper/core.py:1268: ScaperWarning: siren event time (6.99) is too great given stretched event duration (3.03) and soundscape duration (10.00), changed to 6.97.\n",
      "  ScaperWarning)\n",
      "/Users/anderson675/miniconda3/lib/python3.7/site-packages/scaper/core.py:1268: ScaperWarning: air_conditioner event time (7.29) is too great given stretched event duration (2.90) and soundscape duration (10.00), changed to 7.10.\n",
      "  ScaperWarning)\n"
     ]
    },
    {
     "name": "stdout",
     "output_type": "stream",
     "text": [
      "Generating soundscape: 34/66\n"
     ]
    },
    {
     "name": "stderr",
     "output_type": "stream",
     "text": [
      "/Users/anderson675/miniconda3/lib/python3.7/site-packages/scaper/core.py:1268: ScaperWarning: speech event time (7.84) is too great given stretched event duration (2.23) and soundscape duration (10.00), changed to 7.77.\n",
      "  ScaperWarning)\n",
      "/Users/anderson675/miniconda3/lib/python3.7/site-packages/scaper/core.py:1172: ScaperWarning: car_horn event duration (3.27) is greater that source duration (0.32), changing to 0.32\n",
      "  ScaperWarning)\n",
      "/Users/anderson675/miniconda3/lib/python3.7/site-packages/scaper/core.py:1268: ScaperWarning: drilling event time (8.79) is too great given stretched event duration (1.38) and soundscape duration (10.00), changed to 8.62.\n",
      "  ScaperWarning)\n",
      "/Users/anderson675/miniconda3/lib/python3.7/site-packages/scaper/core.py:1268: ScaperWarning: street_music event time (9.23) is too great given stretched event duration (2.21) and soundscape duration (10.00), changed to 7.79.\n",
      "  ScaperWarning)\n"
     ]
    },
    {
     "name": "stdout",
     "output_type": "stream",
     "text": [
      "Generating soundscape: 35/66\n"
     ]
    },
    {
     "name": "stderr",
     "output_type": "stream",
     "text": [
      "/Users/anderson675/miniconda3/lib/python3.7/site-packages/scaper/core.py:1268: ScaperWarning: drilling event time (7.29) is too great given stretched event duration (3.53) and soundscape duration (10.00), changed to 6.47.\n",
      "  ScaperWarning)\n",
      "/Users/anderson675/miniconda3/lib/python3.7/site-packages/scaper/core.py:1268: ScaperWarning: street_music event time (7.90) is too great given stretched event duration (4.39) and soundscape duration (10.00), changed to 5.61.\n",
      "  ScaperWarning)\n",
      "/Users/anderson675/miniconda3/lib/python3.7/site-packages/scaper/core.py:1172: ScaperWarning: gun_shot event duration (2.62) is greater that source duration (1.63), changing to 1.63\n",
      "  ScaperWarning)\n",
      "/Users/anderson675/miniconda3/lib/python3.7/site-packages/scaper/core.py:1172: ScaperWarning: car_horn event duration (3.62) is greater that source duration (1.50), changing to 1.50\n",
      "  ScaperWarning)\n",
      "/Users/anderson675/miniconda3/lib/python3.7/site-packages/scaper/core.py:1172: ScaperWarning: jackhammer event duration (3.62) is greater that source duration (3.05), changing to 3.05\n",
      "  ScaperWarning)\n",
      "/Users/anderson675/miniconda3/lib/python3.7/site-packages/scaper/core.py:1172: ScaperWarning: car_horn event duration (3.67) is greater that source duration (0.77), changing to 0.77\n",
      "  ScaperWarning)\n",
      "/Users/anderson675/miniconda3/lib/python3.7/site-packages/scaper/core.py:1172: ScaperWarning: gun_shot event duration (2.15) is greater that source duration (0.43), changing to 0.43\n",
      "  ScaperWarning)\n"
     ]
    },
    {
     "name": "stdout",
     "output_type": "stream",
     "text": [
      "Generating soundscape: 36/66\n"
     ]
    },
    {
     "name": "stderr",
     "output_type": "stream",
     "text": [
      "/Users/anderson675/miniconda3/lib/python3.7/site-packages/scaper/core.py:1172: ScaperWarning: dog_bark event duration (1.12) is greater that source duration (1.00), changing to 1.00\n",
      "  ScaperWarning)\n",
      "/Users/anderson675/miniconda3/lib/python3.7/site-packages/scaper/core.py:1268: ScaperWarning: siren event time (7.45) is too great given stretched event duration (4.12) and soundscape duration (10.00), changed to 5.88.\n",
      "  ScaperWarning)\n"
     ]
    },
    {
     "name": "stdout",
     "output_type": "stream",
     "text": [
      "Generating soundscape: 37/66\n"
     ]
    },
    {
     "name": "stderr",
     "output_type": "stream",
     "text": [
      "/Users/anderson675/miniconda3/lib/python3.7/site-packages/scaper/core.py:1172: ScaperWarning: dog_bark event duration (1.11) is greater that source duration (0.51), changing to 0.51\n",
      "  ScaperWarning)\n",
      "/Users/anderson675/miniconda3/lib/python3.7/site-packages/scaper/core.py:1268: ScaperWarning: engine_idling event time (7.34) is too great given stretched event duration (3.11) and soundscape duration (10.00), changed to 6.89.\n",
      "  ScaperWarning)\n"
     ]
    },
    {
     "name": "stdout",
     "output_type": "stream",
     "text": [
      "Generating soundscape: 38/66\n",
      "Generating soundscape: 39/66\n"
     ]
    },
    {
     "name": "stderr",
     "output_type": "stream",
     "text": [
      "/Users/anderson675/miniconda3/lib/python3.7/site-packages/scaper/core.py:1268: ScaperWarning: speech event time (7.53) is too great given stretched event duration (2.59) and soundscape duration (10.00), changed to 7.41.\n",
      "  ScaperWarning)\n",
      "/Users/anderson675/miniconda3/lib/python3.7/site-packages/scaper/core.py:1268: ScaperWarning: jackhammer event time (8.93) is too great given stretched event duration (3.43) and soundscape duration (10.00), changed to 6.57.\n",
      "  ScaperWarning)\n"
     ]
    },
    {
     "name": "stdout",
     "output_type": "stream",
     "text": [
      "Generating soundscape: 40/66\n"
     ]
    },
    {
     "name": "stderr",
     "output_type": "stream",
     "text": [
      "/Users/anderson675/miniconda3/lib/python3.7/site-packages/scaper/core.py:1172: ScaperWarning: gun_shot event duration (1.11) is greater that source duration (0.44), changing to 0.44\n",
      "  ScaperWarning)\n",
      "/Users/anderson675/miniconda3/lib/python3.7/site-packages/scaper/core.py:1172: ScaperWarning: car_horn event duration (1.16) is greater that source duration (0.77), changing to 0.77\n",
      "  ScaperWarning)\n"
     ]
    },
    {
     "name": "stdout",
     "output_type": "stream",
     "text": [
      "Generating soundscape: 41/66\n"
     ]
    },
    {
     "name": "stderr",
     "output_type": "stream",
     "text": [
      "/Users/anderson675/miniconda3/lib/python3.7/site-packages/scaper/core.py:1172: ScaperWarning: gun_shot event duration (2.57) is greater that source duration (2.55), changing to 2.55\n",
      "  ScaperWarning)\n",
      "/Users/anderson675/miniconda3/lib/python3.7/site-packages/scaper/core.py:1172: ScaperWarning: car_horn event duration (3.84) is greater that source duration (0.87), changing to 0.87\n",
      "  ScaperWarning)\n",
      "/Users/anderson675/miniconda3/lib/python3.7/site-packages/scaper/core.py:1268: ScaperWarning: speech event time (7.03) is too great given stretched event duration (3.18) and soundscape duration (10.00), changed to 6.82.\n",
      "  ScaperWarning)\n"
     ]
    },
    {
     "name": "stdout",
     "output_type": "stream",
     "text": [
      "Generating soundscape: 42/66\n"
     ]
    },
    {
     "name": "stderr",
     "output_type": "stream",
     "text": [
      "/Users/anderson675/miniconda3/lib/python3.7/site-packages/scaper/core.py:1268: ScaperWarning: speech event time (8.03) is too great given stretched event duration (2.18) and soundscape duration (10.00), changed to 7.82.\n",
      "  ScaperWarning)\n",
      "/Users/anderson675/miniconda3/lib/python3.7/site-packages/scaper/core.py:1172: ScaperWarning: drilling event duration (3.70) is greater that source duration (2.06), changing to 2.06\n",
      "  ScaperWarning)\n"
     ]
    },
    {
     "name": "stdout",
     "output_type": "stream",
     "text": [
      "Generating soundscape: 43/66\n"
     ]
    },
    {
     "name": "stderr",
     "output_type": "stream",
     "text": [
      "/Users/anderson675/miniconda3/lib/python3.7/site-packages/scaper/core.py:1172: ScaperWarning: gun_shot event duration (2.54) is greater that source duration (0.43), changing to 0.43\n",
      "  ScaperWarning)\n"
     ]
    },
    {
     "name": "stdout",
     "output_type": "stream",
     "text": [
      "Generating soundscape: 44/66\n",
      "Generating soundscape: 45/66\n"
     ]
    },
    {
     "name": "stderr",
     "output_type": "stream",
     "text": [
      "/Users/anderson675/miniconda3/lib/python3.7/site-packages/scaper/core.py:1172: ScaperWarning: car_horn event duration (3.34) is greater that source duration (1.75), changing to 1.75\n",
      "  ScaperWarning)\n",
      "/Users/anderson675/miniconda3/lib/python3.7/site-packages/scaper/core.py:1172: ScaperWarning: gun_shot event duration (2.34) is greater that source duration (0.26), changing to 0.26\n",
      "  ScaperWarning)\n",
      "/Users/anderson675/miniconda3/lib/python3.7/site-packages/scaper/core.py:1172: ScaperWarning: car_horn event duration (3.53) is greater that source duration (0.10), changing to 0.10\n",
      "  ScaperWarning)\n"
     ]
    },
    {
     "name": "stdout",
     "output_type": "stream",
     "text": [
      "Generating soundscape: 46/66\n"
     ]
    },
    {
     "name": "stderr",
     "output_type": "stream",
     "text": [
      "/Users/anderson675/miniconda3/lib/python3.7/site-packages/scaper/core.py:1172: ScaperWarning: dog_bark event duration (2.88) is greater that source duration (1.44), changing to 1.44\n",
      "  ScaperWarning)\n"
     ]
    },
    {
     "name": "stdout",
     "output_type": "stream",
     "text": [
      "Generating soundscape: 47/66\n"
     ]
    },
    {
     "name": "stderr",
     "output_type": "stream",
     "text": [
      "/Users/anderson675/miniconda3/lib/python3.7/site-packages/scaper/core.py:1172: ScaperWarning: gun_shot event duration (2.70) is greater that source duration (0.29), changing to 0.29\n",
      "  ScaperWarning)\n"
     ]
    },
    {
     "name": "stdout",
     "output_type": "stream",
     "text": [
      "Generating soundscape: 48/66\n"
     ]
    },
    {
     "name": "stderr",
     "output_type": "stream",
     "text": [
      "/Users/anderson675/miniconda3/lib/python3.7/site-packages/scaper/core.py:1268: ScaperWarning: engine_idling event time (5.82) is too great given stretched event duration (4.18) and soundscape duration (10.00), changed to 5.82.\n",
      "  ScaperWarning)\n",
      "/Users/anderson675/miniconda3/lib/python3.7/site-packages/scaper/core.py:1172: ScaperWarning: car_horn event duration (1.17) is greater that source duration (0.10), changing to 0.10\n",
      "  ScaperWarning)\n",
      "/Users/anderson675/miniconda3/lib/python3.7/site-packages/scaper/core.py:1268: ScaperWarning: air_conditioner event time (6.88) is too great given stretched event duration (3.29) and soundscape duration (10.00), changed to 6.71.\n",
      "  ScaperWarning)\n",
      "/Users/anderson675/miniconda3/lib/python3.7/site-packages/scaper/core.py:1268: ScaperWarning: jackhammer event time (9.83) is too great given stretched event duration (1.65) and soundscape duration (10.00), changed to 8.35.\n",
      "  ScaperWarning)\n"
     ]
    },
    {
     "name": "stdout",
     "output_type": "stream",
     "text": [
      "Generating soundscape: 49/66\n"
     ]
    },
    {
     "name": "stderr",
     "output_type": "stream",
     "text": [
      "/Users/anderson675/miniconda3/lib/python3.7/site-packages/scaper/core.py:1172: ScaperWarning: gun_shot event duration (2.57) is greater that source duration (0.29), changing to 0.29\n",
      "  ScaperWarning)\n",
      "/Users/anderson675/miniconda3/lib/python3.7/site-packages/scaper/core.py:1268: ScaperWarning: siren event time (8.89) is too great given stretched event duration (1.38) and soundscape duration (10.00), changed to 8.62.\n",
      "  ScaperWarning)\n"
     ]
    },
    {
     "name": "stdout",
     "output_type": "stream",
     "text": [
      "Generating soundscape: 50/66\n"
     ]
    },
    {
     "name": "stderr",
     "output_type": "stream",
     "text": [
      "/Users/anderson675/miniconda3/lib/python3.7/site-packages/scaper/core.py:1172: ScaperWarning: gun_shot event duration (2.89) is greater that source duration (0.97), changing to 0.97\n",
      "  ScaperWarning)\n",
      "/Users/anderson675/miniconda3/lib/python3.7/site-packages/scaper/core.py:1172: ScaperWarning: dog_bark event duration (1.60) is greater that source duration (0.18), changing to 0.18\n",
      "  ScaperWarning)\n",
      "/Users/anderson675/miniconda3/lib/python3.7/site-packages/scaper/core.py:1268: ScaperWarning: engine_idling event time (9.84) is too great given stretched event duration (1.61) and soundscape duration (10.00), changed to 8.39.\n",
      "  ScaperWarning)\n",
      "/Users/anderson675/miniconda3/lib/python3.7/site-packages/scaper/core.py:1268: ScaperWarning: speech event time (6.78) is too great given stretched event duration (3.64) and soundscape duration (10.00), changed to 6.36.\n",
      "  ScaperWarning)\n",
      "/Users/anderson675/miniconda3/lib/python3.7/site-packages/scaper/core.py:1268: ScaperWarning: jackhammer event time (7.33) is too great given stretched event duration (3.10) and soundscape duration (10.00), changed to 6.90.\n",
      "  ScaperWarning)\n"
     ]
    },
    {
     "name": "stdout",
     "output_type": "stream",
     "text": [
      "Generating soundscape: 51/66\n"
     ]
    },
    {
     "name": "stderr",
     "output_type": "stream",
     "text": [
      "/Users/anderson675/miniconda3/lib/python3.7/site-packages/scaper/core.py:1268: ScaperWarning: engine_idling event time (8.45) is too great given stretched event duration (2.26) and soundscape duration (10.00), changed to 7.74.\n",
      "  ScaperWarning)\n",
      "/Users/anderson675/miniconda3/lib/python3.7/site-packages/scaper/core.py:1172: ScaperWarning: gun_shot event duration (2.27) is greater that source duration (1.28), changing to 1.28\n",
      "  ScaperWarning)\n"
     ]
    },
    {
     "name": "stdout",
     "output_type": "stream",
     "text": [
      "Generating soundscape: 52/66\n",
      "Generating soundscape: 53/66\n",
      "Generating soundscape: 54/66\n"
     ]
    },
    {
     "name": "stderr",
     "output_type": "stream",
     "text": [
      "/Users/anderson675/miniconda3/lib/python3.7/site-packages/scaper/core.py:1268: ScaperWarning: siren event time (7.52) is too great given stretched event duration (2.72) and soundscape duration (10.00), changed to 7.28.\n",
      "  ScaperWarning)\n",
      "/Users/anderson675/miniconda3/lib/python3.7/site-packages/scaper/core.py:1268: ScaperWarning: siren event time (8.10) is too great given stretched event duration (2.73) and soundscape duration (10.00), changed to 7.27.\n",
      "  ScaperWarning)\n"
     ]
    },
    {
     "name": "stdout",
     "output_type": "stream",
     "text": [
      "Generating soundscape: 55/66\n"
     ]
    },
    {
     "name": "stderr",
     "output_type": "stream",
     "text": [
      "/Users/anderson675/miniconda3/lib/python3.7/site-packages/scaper/core.py:1172: ScaperWarning: gun_shot event duration (3.72) is greater that source duration (0.97), changing to 0.97\n",
      "  ScaperWarning)\n",
      "/Users/anderson675/miniconda3/lib/python3.7/site-packages/scaper/core.py:1268: ScaperWarning: jackhammer event time (9.49) is too great given stretched event duration (1.41) and soundscape duration (10.00), changed to 8.59.\n",
      "  ScaperWarning)\n"
     ]
    },
    {
     "name": "stdout",
     "output_type": "stream",
     "text": [
      "Generating soundscape: 56/66\n"
     ]
    },
    {
     "name": "stderr",
     "output_type": "stream",
     "text": [
      "/Users/anderson675/miniconda3/lib/python3.7/site-packages/scaper/core.py:1172: ScaperWarning: dog_bark event duration (3.01) is greater that source duration (0.92), changing to 0.92\n",
      "  ScaperWarning)\n",
      "/Users/anderson675/miniconda3/lib/python3.7/site-packages/scaper/core.py:1172: ScaperWarning: car_horn event duration (3.29) is greater that source duration (0.58), changing to 0.58\n",
      "  ScaperWarning)\n",
      "/Users/anderson675/miniconda3/lib/python3.7/site-packages/scaper/core.py:1268: ScaperWarning: dog_bark event time (5.73) is too great given stretched event duration (4.27) and soundscape duration (10.00), changed to 5.73.\n",
      "  ScaperWarning)\n"
     ]
    },
    {
     "name": "stdout",
     "output_type": "stream",
     "text": [
      "Generating soundscape: 57/66\n"
     ]
    },
    {
     "name": "stderr",
     "output_type": "stream",
     "text": [
      "/Users/anderson675/miniconda3/lib/python3.7/site-packages/scaper/core.py:1268: ScaperWarning: dog_bark event time (7.44) is too great given stretched event duration (3.62) and soundscape duration (10.00), changed to 6.38.\n",
      "  ScaperWarning)\n",
      "/Users/anderson675/miniconda3/lib/python3.7/site-packages/scaper/core.py:1268: ScaperWarning: siren event time (8.22) is too great given stretched event duration (3.36) and soundscape duration (10.00), changed to 6.64.\n",
      "  ScaperWarning)\n"
     ]
    },
    {
     "name": "stdout",
     "output_type": "stream",
     "text": [
      "Generating soundscape: 58/66\n",
      "Generating soundscape: 59/66\n"
     ]
    },
    {
     "name": "stderr",
     "output_type": "stream",
     "text": [
      "/Users/anderson675/miniconda3/lib/python3.7/site-packages/scaper/core.py:1268: ScaperWarning: siren event time (8.02) is too great given stretched event duration (3.48) and soundscape duration (10.00), changed to 6.52.\n",
      "  ScaperWarning)\n",
      "/Users/anderson675/miniconda3/lib/python3.7/site-packages/scaper/core.py:1172: ScaperWarning: dog_bark event duration (2.55) is greater that source duration (2.18), changing to 2.18\n",
      "  ScaperWarning)\n",
      "/Users/anderson675/miniconda3/lib/python3.7/site-packages/scaper/core.py:1172: ScaperWarning: drilling event duration (2.50) is greater that source duration (1.75), changing to 1.75\n",
      "  ScaperWarning)\n",
      "/Users/anderson675/miniconda3/lib/python3.7/site-packages/scaper/core.py:1172: ScaperWarning: dog_bark event duration (1.11) is greater that source duration (0.48), changing to 0.48\n",
      "  ScaperWarning)\n"
     ]
    },
    {
     "name": "stdout",
     "output_type": "stream",
     "text": [
      "Generating soundscape: 60/66\n",
      "Generating soundscape: 61/66\n"
     ]
    },
    {
     "name": "stderr",
     "output_type": "stream",
     "text": [
      "/Users/anderson675/miniconda3/lib/python3.7/site-packages/scaper/core.py:1268: ScaperWarning: car_horn event time (8.74) is too great given stretched event duration (2.52) and soundscape duration (10.00), changed to 7.48.\n",
      "  ScaperWarning)\n"
     ]
    },
    {
     "name": "stdout",
     "output_type": "stream",
     "text": [
      "Generating soundscape: 62/66\n",
      "Generating soundscape: 63/66\n"
     ]
    },
    {
     "name": "stderr",
     "output_type": "stream",
     "text": [
      "/Users/anderson675/miniconda3/lib/python3.7/site-packages/scaper/core.py:1268: ScaperWarning: speech event time (8.31) is too great given stretched event duration (3.52) and soundscape duration (10.00), changed to 6.48.\n",
      "  ScaperWarning)\n"
     ]
    },
    {
     "name": "stdout",
     "output_type": "stream",
     "text": [
      "Generating soundscape: 64/66\n",
      "Generating soundscape: 65/66\n"
     ]
    },
    {
     "name": "stderr",
     "output_type": "stream",
     "text": [
      "/Users/anderson675/miniconda3/lib/python3.7/site-packages/scaper/core.py:1172: ScaperWarning: drilling event duration (3.24) is greater that source duration (1.64), changing to 1.64\n",
      "  ScaperWarning)\n",
      "/Users/anderson675/miniconda3/lib/python3.7/site-packages/scaper/core.py:1268: ScaperWarning: gun_shot event time (6.99) is too great given stretched event duration (3.83) and soundscape duration (10.00), changed to 6.17.\n",
      "  ScaperWarning)\n"
     ]
    },
    {
     "name": "stdout",
     "output_type": "stream",
     "text": [
      "Generating soundscape: 66/66\n"
     ]
    },
    {
     "name": "stderr",
     "output_type": "stream",
     "text": [
      "/Users/anderson675/miniconda3/lib/python3.7/site-packages/scaper/core.py:1268: ScaperWarning: air_conditioner event time (8.75) is too great given stretched event duration (1.35) and soundscape duration (10.00), changed to 8.65.\n",
      "  ScaperWarning)\n"
     ]
    }
   ],
   "source": [
    "# SCAPER SETTINGS\n",
    "np.random.seed(123)\n",
    "fg_folder = os.getcwd() + '/1_Dataset_Generate/audio/soundbanks/validate/foreground/'\n",
    "bg_folder = os.getcwd() + '/1_Dataset_Generate/audio/soundbanks/validate/background/'\n",
    "\n",
    "n_soundscapes = 66\n",
    "ref_db = -50\n",
    "duration = 10.0 \n",
    "\n",
    "min_events = 1\n",
    "max_events = 9\n",
    "\n",
    "event_time_dist = 'truncnorm'\n",
    "event_time_mean1 = 3.0\n",
    "event_time_mean2 = 7.0\n",
    "event_time_std = 2.0\n",
    "event_time_min = 0.0\n",
    "event_time_max = 10.0\n",
    "\n",
    "source_time_dist = 'const'\n",
    "source_time = 0.0\n",
    "\n",
    "event_duration_dist = 'uniform'\n",
    "event_duration_min = 0.5\n",
    "event_duration_max = 4.0\n",
    "\n",
    "snr_dist = 'uniform'\n",
    "snr_min = 6\n",
    "snr_max = 30\n",
    "\n",
    "pitch_dist = 'uniform'\n",
    "pitch_min = -3.0\n",
    "pitch_max = 3.0\n",
    "\n",
    "time_stretch_dist = 'uniform'\n",
    "time_stretch_min = 0.8\n",
    "time_stretch_max = 1.2\n",
    "\n",
    "\n",
    "# FILE SETTINGS\n",
    "outfolder = os.path.join(os.getcwd() + '/1_Dataset_Generate/audio/soundbanks/validate/generated/bimodal')\n",
    "if not os.path.isdir(outfolder):\n",
    "    os.mkdir(outfolder)\n",
    "    \n",
    "for n in range(n_soundscapes):\n",
    "    \n",
    "    print('Generating soundscape: {:d}/{:d}'.format(n+1, n_soundscapes))\n",
    "    \n",
    "    # create a scaper\n",
    "    sc = scaper.Scaper(duration, fg_folder, bg_folder)\n",
    "    sc.protected_labels = []\n",
    "    sc.ref_db = ref_db\n",
    "    \n",
    "    # add background\n",
    "    sc.add_background(label=('const', 'noise'), \n",
    "                      source_file=('choose', []), \n",
    "                      source_time=('const', 0))\n",
    "\n",
    "    # add random foreground events\n",
    "    n_events = np.random.randint(min_events, max_events+1)\n",
    "    for _ in range(n_events):\n",
    "        \n",
    "        coin = np.random.randint(0, 2)\n",
    "        if coin==0:\n",
    "            mu = event_time_mean1\n",
    "        else:\n",
    "            mu = event_time_mean2\n",
    "            \n",
    "        sc.add_event(label=('choose', []), \n",
    "                     source_file=('choose', []), \n",
    "                     source_time=(source_time_dist, source_time), \n",
    "                     event_time=(event_time_dist, mu, event_time_std, event_time_min, event_time_max), \n",
    "                     event_duration=(event_duration_dist, event_duration_min, event_duration_max), \n",
    "                     snr=(snr_dist, snr_min, snr_max),\n",
    "                     pitch_shift=(pitch_dist, pitch_min, pitch_max),\n",
    "                     time_stretch=(time_stretch_dist, time_stretch_min, time_stretch_max))\n",
    "    \n",
    "    # generate\n",
    "    audiofile = os.path.join(outfolder, \"soundscape_validate_bimodal{:d}.wav\".format(n))\n",
    "    jamsfile = os.path.join(outfolder, \"soundscape_validate_bimodal{:d}.jams\".format(n))\n",
    "    txtfile = os.path.join(outfolder, \"soundscape_validate_bimodal{:d}.txt\".format(n))\n",
    "    \n",
    "    sc.generate(audiofile, jamsfile,\n",
    "                allow_repeated_label=True,\n",
    "                allow_repeated_source=False,\n",
    "                reverb=0.1,\n",
    "                disable_sox_warnings=True,\n",
    "                no_audio=False,\n",
    "                txt_path=txtfile)"
   ]
  },
  {
   "cell_type": "markdown",
   "metadata": {},
   "source": [
    "# Validate-Uniform"
   ]
  },
  {
   "cell_type": "code",
   "execution_count": 25,
   "metadata": {},
   "outputs": [
    {
     "name": "stdout",
     "output_type": "stream",
     "text": [
      "Generating soundscape: 1/66\n"
     ]
    },
    {
     "name": "stderr",
     "output_type": "stream",
     "text": [
      "/Users/anderson675/miniconda3/lib/python3.7/site-packages/scaper/core.py:1268: ScaperWarning: drilling event time (7.55) is too great given stretched event duration (3.17) and soundscape duration (10.00), changed to 6.83.\n",
      "  ScaperWarning)\n"
     ]
    },
    {
     "name": "stdout",
     "output_type": "stream",
     "text": [
      "Generating soundscape: 2/66\n"
     ]
    },
    {
     "name": "stderr",
     "output_type": "stream",
     "text": [
      "/Users/anderson675/miniconda3/lib/python3.7/site-packages/scaper/core.py:1268: ScaperWarning: jackhammer event time (8.66) is too great given stretched event duration (2.62) and soundscape duration (10.00), changed to 7.38.\n",
      "  ScaperWarning)\n"
     ]
    },
    {
     "name": "stdout",
     "output_type": "stream",
     "text": [
      "Generating soundscape: 3/66\n",
      "Generating soundscape: 4/66\n"
     ]
    },
    {
     "name": "stderr",
     "output_type": "stream",
     "text": [
      "/Users/anderson675/miniconda3/lib/python3.7/site-packages/scaper/core.py:1172: ScaperWarning: dog_bark event duration (3.13) is greater that source duration (1.44), changing to 1.44\n",
      "  ScaperWarning)\n"
     ]
    },
    {
     "name": "stdout",
     "output_type": "stream",
     "text": [
      "Generating soundscape: 5/66\n"
     ]
    },
    {
     "name": "stderr",
     "output_type": "stream",
     "text": [
      "/Users/anderson675/miniconda3/lib/python3.7/site-packages/scaper/core.py:1268: ScaperWarning: drilling event time (9.64) is too great given stretched event duration (1.93) and soundscape duration (10.00), changed to 8.07.\n",
      "  ScaperWarning)\n",
      "/Users/anderson675/miniconda3/lib/python3.7/site-packages/scaper/core.py:1172: ScaperWarning: car_horn event duration (3.89) is greater that source duration (0.27), changing to 0.27\n",
      "  ScaperWarning)\n",
      "/Users/anderson675/miniconda3/lib/python3.7/site-packages/scaper/core.py:1172: ScaperWarning: car_horn event duration (1.54) is greater that source duration (0.61), changing to 0.61\n",
      "  ScaperWarning)\n",
      "/Users/anderson675/miniconda3/lib/python3.7/site-packages/scaper/core.py:1268: ScaperWarning: car_horn event time (9.74) is too great given stretched event duration (0.62) and soundscape duration (10.00), changed to 9.38.\n",
      "  ScaperWarning)\n"
     ]
    },
    {
     "name": "stdout",
     "output_type": "stream",
     "text": [
      "Generating soundscape: 6/66\n"
     ]
    },
    {
     "name": "stderr",
     "output_type": "stream",
     "text": [
      "/Users/anderson675/miniconda3/lib/python3.7/site-packages/scaper/core.py:1268: ScaperWarning: dog_bark event time (8.81) is too great given stretched event duration (2.97) and soundscape duration (10.00), changed to 7.03.\n",
      "  ScaperWarning)\n",
      "/Users/anderson675/miniconda3/lib/python3.7/site-packages/scaper/core.py:1172: ScaperWarning: gun_shot event duration (3.86) is greater that source duration (3.02), changing to 3.02\n",
      "  ScaperWarning)\n",
      "/Users/anderson675/miniconda3/lib/python3.7/site-packages/scaper/core.py:1172: ScaperWarning: gun_shot event duration (1.88) is greater that source duration (0.30), changing to 0.30\n",
      "  ScaperWarning)\n",
      "/Users/anderson675/miniconda3/lib/python3.7/site-packages/scaper/core.py:1268: ScaperWarning: jackhammer event time (9.36) is too great given stretched event duration (2.96) and soundscape duration (10.00), changed to 7.04.\n",
      "  ScaperWarning)\n",
      "/Users/anderson675/miniconda3/lib/python3.7/site-packages/scaper/core.py:1268: ScaperWarning: speech event time (9.25) is too great given stretched event duration (2.58) and soundscape duration (10.00), changed to 7.42.\n",
      "  ScaperWarning)\n",
      "/Users/anderson675/miniconda3/lib/python3.7/site-packages/scaper/core.py:1268: ScaperWarning: jackhammer event time (9.99) is too great given stretched event duration (0.69) and soundscape duration (10.00), changed to 9.31.\n",
      "  ScaperWarning)\n"
     ]
    },
    {
     "name": "stdout",
     "output_type": "stream",
     "text": [
      "Generating soundscape: 7/66\n",
      "Generating soundscape: 8/66\n"
     ]
    },
    {
     "name": "stderr",
     "output_type": "stream",
     "text": [
      "/Users/anderson675/miniconda3/lib/python3.7/site-packages/scaper/core.py:1268: ScaperWarning: siren event time (9.39) is too great given stretched event duration (2.94) and soundscape duration (10.00), changed to 7.06.\n",
      "  ScaperWarning)\n"
     ]
    },
    {
     "name": "stdout",
     "output_type": "stream",
     "text": [
      "Generating soundscape: 9/66\n",
      "Generating soundscape: 10/66\n"
     ]
    },
    {
     "name": "stderr",
     "output_type": "stream",
     "text": [
      "/Users/anderson675/miniconda3/lib/python3.7/site-packages/scaper/core.py:1172: ScaperWarning: gun_shot event duration (1.51) is greater that source duration (1.24), changing to 1.24\n",
      "  ScaperWarning)\n",
      "/Users/anderson675/miniconda3/lib/python3.7/site-packages/scaper/core.py:1268: ScaperWarning: gun_shot event time (8.97) is too great given stretched event duration (1.07) and soundscape duration (10.00), changed to 8.93.\n",
      "  ScaperWarning)\n"
     ]
    },
    {
     "name": "stdout",
     "output_type": "stream",
     "text": [
      "Generating soundscape: 11/66\n"
     ]
    },
    {
     "name": "stderr",
     "output_type": "stream",
     "text": [
      "/Users/anderson675/miniconda3/lib/python3.7/site-packages/scaper/core.py:1268: ScaperWarning: drilling event time (8.41) is too great given stretched event duration (3.32) and soundscape duration (10.00), changed to 6.68.\n",
      "  ScaperWarning)\n"
     ]
    },
    {
     "name": "stdout",
     "output_type": "stream",
     "text": [
      "Generating soundscape: 12/66\n"
     ]
    },
    {
     "name": "stderr",
     "output_type": "stream",
     "text": [
      "/Users/anderson675/miniconda3/lib/python3.7/site-packages/scaper/core.py:1268: ScaperWarning: siren event time (8.15) is too great given stretched event duration (3.08) and soundscape duration (10.00), changed to 6.92.\n",
      "  ScaperWarning)\n",
      "/Users/anderson675/miniconda3/lib/python3.7/site-packages/scaper/core.py:1268: ScaperWarning: dog_bark event time (8.67) is too great given stretched event duration (4.25) and soundscape duration (10.00), changed to 5.75.\n",
      "  ScaperWarning)\n",
      "/Users/anderson675/miniconda3/lib/python3.7/site-packages/scaper/core.py:1172: ScaperWarning: gun_shot event duration (3.05) is greater that source duration (1.60), changing to 1.60\n",
      "  ScaperWarning)\n"
     ]
    },
    {
     "name": "stdout",
     "output_type": "stream",
     "text": [
      "Generating soundscape: 13/66\n"
     ]
    },
    {
     "name": "stderr",
     "output_type": "stream",
     "text": [
      "/Users/anderson675/miniconda3/lib/python3.7/site-packages/scaper/core.py:1172: ScaperWarning: gun_shot event duration (1.84) is greater that source duration (1.24), changing to 1.24\n",
      "  ScaperWarning)\n",
      "/Users/anderson675/miniconda3/lib/python3.7/site-packages/scaper/core.py:1172: ScaperWarning: gun_shot event duration (2.87) is greater that source duration (1.74), changing to 1.74\n",
      "  ScaperWarning)\n"
     ]
    },
    {
     "name": "stdout",
     "output_type": "stream",
     "text": [
      "Generating soundscape: 14/66\n"
     ]
    },
    {
     "name": "stderr",
     "output_type": "stream",
     "text": [
      "/Users/anderson675/miniconda3/lib/python3.7/site-packages/scaper/core.py:1172: ScaperWarning: drilling event duration (1.58) is greater that source duration (1.56), changing to 1.56\n",
      "  ScaperWarning)\n"
     ]
    },
    {
     "name": "stdout",
     "output_type": "stream",
     "text": [
      "Generating soundscape: 15/66\n"
     ]
    },
    {
     "name": "stderr",
     "output_type": "stream",
     "text": [
      "/Users/anderson675/miniconda3/lib/python3.7/site-packages/scaper/core.py:1172: ScaperWarning: car_horn event duration (0.72) is greater that source duration (0.61), changing to 0.61\n",
      "  ScaperWarning)\n"
     ]
    },
    {
     "name": "stdout",
     "output_type": "stream",
     "text": [
      "Generating soundscape: 16/66\n"
     ]
    },
    {
     "name": "stderr",
     "output_type": "stream",
     "text": [
      "/Users/anderson675/miniconda3/lib/python3.7/site-packages/scaper/core.py:1268: ScaperWarning: dog_bark event time (9.80) is too great given stretched event duration (2.48) and soundscape duration (10.00), changed to 7.52.\n",
      "  ScaperWarning)\n",
      "/Users/anderson675/miniconda3/lib/python3.7/site-packages/scaper/core.py:1172: ScaperWarning: gun_shot event duration (2.44) is greater that source duration (0.91), changing to 0.91\n",
      "  ScaperWarning)\n",
      "/Users/anderson675/miniconda3/lib/python3.7/site-packages/scaper/core.py:1268: ScaperWarning: car_horn event time (7.78) is too great given stretched event duration (3.97) and soundscape duration (10.00), changed to 6.03.\n",
      "  ScaperWarning)\n"
     ]
    },
    {
     "name": "stdout",
     "output_type": "stream",
     "text": [
      "Generating soundscape: 17/66\n",
      "Generating soundscape: 18/66\n"
     ]
    },
    {
     "name": "stderr",
     "output_type": "stream",
     "text": [
      "/Users/anderson675/miniconda3/lib/python3.7/site-packages/scaper/core.py:1172: ScaperWarning: car_horn event duration (1.10) is greater that source duration (0.87), changing to 0.87\n",
      "  ScaperWarning)\n",
      "/Users/anderson675/miniconda3/lib/python3.7/site-packages/scaper/core.py:1268: ScaperWarning: street_music event time (8.32) is too great given stretched event duration (1.95) and soundscape duration (10.00), changed to 8.05.\n",
      "  ScaperWarning)\n"
     ]
    },
    {
     "name": "stdout",
     "output_type": "stream",
     "text": [
      "Generating soundscape: 19/66\n"
     ]
    },
    {
     "name": "stderr",
     "output_type": "stream",
     "text": [
      "/Users/anderson675/miniconda3/lib/python3.7/site-packages/scaper/core.py:1172: ScaperWarning: gun_shot event duration (1.30) is greater that source duration (0.31), changing to 0.31\n",
      "  ScaperWarning)\n"
     ]
    },
    {
     "name": "stdout",
     "output_type": "stream",
     "text": [
      "Generating soundscape: 20/66\n",
      "Generating soundscape: 21/66\n"
     ]
    },
    {
     "name": "stderr",
     "output_type": "stream",
     "text": [
      "/Users/anderson675/miniconda3/lib/python3.7/site-packages/scaper/core.py:1268: ScaperWarning: siren event time (8.78) is too great given stretched event duration (1.42) and soundscape duration (10.00), changed to 8.58.\n",
      "  ScaperWarning)\n",
      "/Users/anderson675/miniconda3/lib/python3.7/site-packages/scaper/core.py:1172: ScaperWarning: dog_bark event duration (1.50) is greater that source duration (0.54), changing to 0.54\n",
      "  ScaperWarning)\n",
      "/Users/anderson675/miniconda3/lib/python3.7/site-packages/scaper/core.py:1172: ScaperWarning: dog_bark event duration (3.26) is greater that source duration (3.22), changing to 3.22\n",
      "  ScaperWarning)\n"
     ]
    },
    {
     "name": "stdout",
     "output_type": "stream",
     "text": [
      "Generating soundscape: 22/66\n"
     ]
    },
    {
     "name": "stderr",
     "output_type": "stream",
     "text": [
      "/Users/anderson675/miniconda3/lib/python3.7/site-packages/scaper/core.py:1268: ScaperWarning: engine_idling event time (7.16) is too great given stretched event duration (3.48) and soundscape duration (10.00), changed to 6.52.\n",
      "  ScaperWarning)\n",
      "/Users/anderson675/miniconda3/lib/python3.7/site-packages/scaper/core.py:1172: ScaperWarning: gun_shot event duration (1.70) is greater that source duration (0.98), changing to 0.98\n",
      "  ScaperWarning)\n",
      "/Users/anderson675/miniconda3/lib/python3.7/site-packages/scaper/core.py:1172: ScaperWarning: gun_shot event duration (1.61) is greater that source duration (1.47), changing to 1.47\n",
      "  ScaperWarning)\n",
      "/Users/anderson675/miniconda3/lib/python3.7/site-packages/scaper/core.py:1172: ScaperWarning: drilling event duration (3.49) is greater that source duration (3.04), changing to 3.04\n",
      "  ScaperWarning)\n"
     ]
    },
    {
     "name": "stdout",
     "output_type": "stream",
     "text": [
      "Generating soundscape: 23/66\n",
      "Generating soundscape: 24/66\n"
     ]
    },
    {
     "name": "stderr",
     "output_type": "stream",
     "text": [
      "/Users/anderson675/miniconda3/lib/python3.7/site-packages/scaper/core.py:1172: ScaperWarning: car_horn event duration (3.51) is greater that source duration (0.64), changing to 0.64\n",
      "  ScaperWarning)\n",
      "/Users/anderson675/miniconda3/lib/python3.7/site-packages/scaper/core.py:1172: ScaperWarning: car_horn event duration (3.90) is greater that source duration (0.44), changing to 0.44\n",
      "  ScaperWarning)\n"
     ]
    },
    {
     "name": "stdout",
     "output_type": "stream",
     "text": [
      "Generating soundscape: 25/66\n"
     ]
    },
    {
     "name": "stderr",
     "output_type": "stream",
     "text": [
      "/Users/anderson675/miniconda3/lib/python3.7/site-packages/scaper/core.py:1172: ScaperWarning: dog_bark event duration (3.91) is greater that source duration (3.22), changing to 3.22\n",
      "  ScaperWarning)\n",
      "/Users/anderson675/miniconda3/lib/python3.7/site-packages/scaper/core.py:1172: ScaperWarning: gun_shot event duration (3.99) is greater that source duration (1.74), changing to 1.74\n",
      "  ScaperWarning)\n",
      "/Users/anderson675/miniconda3/lib/python3.7/site-packages/scaper/core.py:1172: ScaperWarning: gun_shot event duration (3.27) is greater that source duration (2.19), changing to 2.19\n",
      "  ScaperWarning)\n",
      "/Users/anderson675/miniconda3/lib/python3.7/site-packages/scaper/core.py:1172: ScaperWarning: dog_bark event duration (3.68) is greater that source duration (1.36), changing to 1.36\n",
      "  ScaperWarning)\n",
      "/Users/anderson675/miniconda3/lib/python3.7/site-packages/scaper/core.py:1172: ScaperWarning: drilling event duration (2.76) is greater that source duration (1.44), changing to 1.44\n",
      "  ScaperWarning)\n"
     ]
    },
    {
     "name": "stdout",
     "output_type": "stream",
     "text": [
      "Generating soundscape: 26/66\n",
      "Generating soundscape: 27/66\n"
     ]
    },
    {
     "name": "stderr",
     "output_type": "stream",
     "text": [
      "/Users/anderson675/miniconda3/lib/python3.7/site-packages/scaper/core.py:1172: ScaperWarning: dog_bark event duration (2.93) is greater that source duration (1.36), changing to 1.36\n",
      "  ScaperWarning)\n",
      "/Users/anderson675/miniconda3/lib/python3.7/site-packages/scaper/core.py:1172: ScaperWarning: gun_shot event duration (3.49) is greater that source duration (0.80), changing to 0.80\n",
      "  ScaperWarning)\n"
     ]
    },
    {
     "name": "stdout",
     "output_type": "stream",
     "text": [
      "Generating soundscape: 28/66\n",
      "Generating soundscape: 29/66\n"
     ]
    },
    {
     "name": "stderr",
     "output_type": "stream",
     "text": [
      "/Users/anderson675/miniconda3/lib/python3.7/site-packages/scaper/core.py:1172: ScaperWarning: gun_shot event duration (2.61) is greater that source duration (1.74), changing to 1.74\n",
      "  ScaperWarning)\n"
     ]
    },
    {
     "name": "stdout",
     "output_type": "stream",
     "text": [
      "Generating soundscape: 30/66\n"
     ]
    },
    {
     "name": "stderr",
     "output_type": "stream",
     "text": [
      "/Users/anderson675/miniconda3/lib/python3.7/site-packages/scaper/core.py:1172: ScaperWarning: car_horn event duration (3.29) is greater that source duration (0.27), changing to 0.27\n",
      "  ScaperWarning)\n",
      "/Users/anderson675/miniconda3/lib/python3.7/site-packages/scaper/core.py:1268: ScaperWarning: dog_bark event time (8.61) is too great given stretched event duration (1.93) and soundscape duration (10.00), changed to 8.07.\n",
      "  ScaperWarning)\n",
      "/Users/anderson675/miniconda3/lib/python3.7/site-packages/scaper/core.py:1172: ScaperWarning: jackhammer event duration (3.46) is greater that source duration (3.35), changing to 3.35\n",
      "  ScaperWarning)\n"
     ]
    },
    {
     "name": "stdout",
     "output_type": "stream",
     "text": [
      "Generating soundscape: 31/66\n"
     ]
    },
    {
     "name": "stderr",
     "output_type": "stream",
     "text": [
      "/Users/anderson675/miniconda3/lib/python3.7/site-packages/scaper/core.py:1268: ScaperWarning: siren event time (8.13) is too great given stretched event duration (3.35) and soundscape duration (10.00), changed to 6.65.\n",
      "  ScaperWarning)\n",
      "/Users/anderson675/miniconda3/lib/python3.7/site-packages/scaper/core.py:1172: ScaperWarning: car_horn event duration (2.53) is greater that source duration (1.50), changing to 1.50\n",
      "  ScaperWarning)\n",
      "/Users/anderson675/miniconda3/lib/python3.7/site-packages/scaper/core.py:1268: ScaperWarning: car_horn event time (8.63) is too great given stretched event duration (1.41) and soundscape duration (10.00), changed to 8.59.\n",
      "  ScaperWarning)\n"
     ]
    },
    {
     "name": "stdout",
     "output_type": "stream",
     "text": [
      "Generating soundscape: 32/66\n"
     ]
    },
    {
     "name": "stderr",
     "output_type": "stream",
     "text": [
      "/Users/anderson675/miniconda3/lib/python3.7/site-packages/scaper/core.py:1172: ScaperWarning: car_horn event duration (2.21) is greater that source duration (2.14), changing to 2.14\n",
      "  ScaperWarning)\n",
      "/Users/anderson675/miniconda3/lib/python3.7/site-packages/scaper/core.py:1268: ScaperWarning: siren event time (8.02) is too great given stretched event duration (2.02) and soundscape duration (10.00), changed to 7.98.\n",
      "  ScaperWarning)\n",
      "/Users/anderson675/miniconda3/lib/python3.7/site-packages/scaper/core.py:1172: ScaperWarning: drilling event duration (3.05) is greater that source duration (0.92), changing to 0.92\n",
      "  ScaperWarning)\n"
     ]
    },
    {
     "name": "stdout",
     "output_type": "stream",
     "text": [
      "Generating soundscape: 33/66\n"
     ]
    },
    {
     "name": "stderr",
     "output_type": "stream",
     "text": [
      "/Users/anderson675/miniconda3/lib/python3.7/site-packages/scaper/core.py:1268: ScaperWarning: engine_idling event time (9.39) is too great given stretched event duration (3.80) and soundscape duration (10.00), changed to 6.20.\n",
      "  ScaperWarning)\n",
      "/Users/anderson675/miniconda3/lib/python3.7/site-packages/scaper/core.py:1172: ScaperWarning: jackhammer event duration (2.33) is greater that source duration (1.71), changing to 1.71\n",
      "  ScaperWarning)\n",
      "/Users/anderson675/miniconda3/lib/python3.7/site-packages/scaper/core.py:1268: ScaperWarning: dog_bark event time (9.33) is too great given stretched event duration (2.88) and soundscape duration (10.00), changed to 7.12.\n",
      "  ScaperWarning)\n",
      "/Users/anderson675/miniconda3/lib/python3.7/site-packages/scaper/core.py:1268: ScaperWarning: air_conditioner event time (6.51) is too great given stretched event duration (3.81) and soundscape duration (10.00), changed to 6.19.\n",
      "  ScaperWarning)\n",
      "/Users/anderson675/miniconda3/lib/python3.7/site-packages/scaper/core.py:1172: ScaperWarning: gun_shot event duration (1.31) is greater that source duration (0.50), changing to 0.50\n",
      "  ScaperWarning)\n",
      "/Users/anderson675/miniconda3/lib/python3.7/site-packages/scaper/core.py:1268: ScaperWarning: gun_shot event time (9.80) is too great given stretched event duration (0.53) and soundscape duration (10.00), changed to 9.47.\n",
      "  ScaperWarning)\n"
     ]
    },
    {
     "name": "stdout",
     "output_type": "stream",
     "text": [
      "Generating soundscape: 34/66\n"
     ]
    },
    {
     "name": "stderr",
     "output_type": "stream",
     "text": [
      "/Users/anderson675/miniconda3/lib/python3.7/site-packages/scaper/core.py:1172: ScaperWarning: dog_bark event duration (1.99) is greater that source duration (0.62), changing to 0.62\n",
      "  ScaperWarning)\n"
     ]
    },
    {
     "name": "stdout",
     "output_type": "stream",
     "text": [
      "Generating soundscape: 35/66\n",
      "Generating soundscape: 36/66\n"
     ]
    },
    {
     "name": "stderr",
     "output_type": "stream",
     "text": [
      "/Users/anderson675/miniconda3/lib/python3.7/site-packages/scaper/core.py:1268: ScaperWarning: car_horn event time (8.28) is too great given stretched event duration (2.28) and soundscape duration (10.00), changed to 7.72.\n",
      "  ScaperWarning)\n",
      "/Users/anderson675/miniconda3/lib/python3.7/site-packages/scaper/core.py:1268: ScaperWarning: siren event time (9.76) is too great given stretched event duration (0.83) and soundscape duration (10.00), changed to 9.17.\n",
      "  ScaperWarning)\n",
      "/Users/anderson675/miniconda3/lib/python3.7/site-packages/scaper/core.py:1268: ScaperWarning: siren event time (8.16) is too great given stretched event duration (3.96) and soundscape duration (10.00), changed to 6.04.\n",
      "  ScaperWarning)\n",
      "/Users/anderson675/miniconda3/lib/python3.7/site-packages/scaper/core.py:1172: ScaperWarning: dog_bark event duration (3.27) is greater that source duration (2.18), changing to 2.18\n",
      "  ScaperWarning)\n"
     ]
    },
    {
     "name": "stdout",
     "output_type": "stream",
     "text": [
      "Generating soundscape: 37/66\n"
     ]
    },
    {
     "name": "stderr",
     "output_type": "stream",
     "text": [
      "/Users/anderson675/miniconda3/lib/python3.7/site-packages/scaper/core.py:1172: ScaperWarning: car_horn event duration (3.54) is greater that source duration (1.67), changing to 1.67\n",
      "  ScaperWarning)\n"
     ]
    },
    {
     "name": "stdout",
     "output_type": "stream",
     "text": [
      "Generating soundscape: 38/66\n"
     ]
    },
    {
     "name": "stderr",
     "output_type": "stream",
     "text": [
      "/Users/anderson675/miniconda3/lib/python3.7/site-packages/scaper/core.py:1172: ScaperWarning: gun_shot event duration (3.82) is greater that source duration (1.90), changing to 1.90\n",
      "  ScaperWarning)\n",
      "/Users/anderson675/miniconda3/lib/python3.7/site-packages/scaper/core.py:1172: ScaperWarning: gun_shot event duration (4.00) is greater that source duration (0.43), changing to 0.43\n",
      "  ScaperWarning)\n",
      "/Users/anderson675/miniconda3/lib/python3.7/site-packages/scaper/core.py:1268: ScaperWarning: engine_idling event time (7.10) is too great given stretched event duration (4.50) and soundscape duration (10.00), changed to 5.50.\n",
      "  ScaperWarning)\n"
     ]
    },
    {
     "name": "stdout",
     "output_type": "stream",
     "text": [
      "Generating soundscape: 39/66\n"
     ]
    },
    {
     "name": "stderr",
     "output_type": "stream",
     "text": [
      "/Users/anderson675/miniconda3/lib/python3.7/site-packages/scaper/core.py:1172: ScaperWarning: gun_shot event duration (3.82) is greater that source duration (0.30), changing to 0.30\n",
      "  ScaperWarning)\n"
     ]
    },
    {
     "name": "stdout",
     "output_type": "stream",
     "text": [
      "Generating soundscape: 40/66\n"
     ]
    },
    {
     "name": "stderr",
     "output_type": "stream",
     "text": [
      "/Users/anderson675/miniconda3/lib/python3.7/site-packages/scaper/core.py:1268: ScaperWarning: street_music event time (9.34) is too great given stretched event duration (2.21) and soundscape duration (10.00), changed to 7.79.\n",
      "  ScaperWarning)\n",
      "/Users/anderson675/miniconda3/lib/python3.7/site-packages/scaper/core.py:1268: ScaperWarning: engine_idling event time (8.20) is too great given stretched event duration (1.86) and soundscape duration (10.00), changed to 8.14.\n",
      "  ScaperWarning)\n",
      "/Users/anderson675/miniconda3/lib/python3.7/site-packages/scaper/core.py:1268: ScaperWarning: engine_idling event time (6.86) is too great given stretched event duration (3.55) and soundscape duration (10.00), changed to 6.45.\n",
      "  ScaperWarning)\n"
     ]
    },
    {
     "name": "stdout",
     "output_type": "stream",
     "text": [
      "Generating soundscape: 41/66\n"
     ]
    },
    {
     "name": "stderr",
     "output_type": "stream",
     "text": [
      "/Users/anderson675/miniconda3/lib/python3.7/site-packages/scaper/core.py:1268: ScaperWarning: gun_shot event time (7.46) is too great given stretched event duration (2.95) and soundscape duration (10.00), changed to 7.05.\n",
      "  ScaperWarning)\n",
      "/Users/anderson675/miniconda3/lib/python3.7/site-packages/scaper/core.py:1268: ScaperWarning: siren event time (7.77) is too great given stretched event duration (2.31) and soundscape duration (10.00), changed to 7.69.\n",
      "  ScaperWarning)\n",
      "/Users/anderson675/miniconda3/lib/python3.7/site-packages/scaper/core.py:1268: ScaperWarning: engine_idling event time (9.17) is too great given stretched event duration (2.51) and soundscape duration (10.00), changed to 7.49.\n",
      "  ScaperWarning)\n",
      "/Users/anderson675/miniconda3/lib/python3.7/site-packages/scaper/core.py:1172: ScaperWarning: gun_shot event duration (3.43) is greater that source duration (1.85), changing to 1.85\n",
      "  ScaperWarning)\n"
     ]
    },
    {
     "name": "stdout",
     "output_type": "stream",
     "text": [
      "Generating soundscape: 42/66\n"
     ]
    },
    {
     "name": "stderr",
     "output_type": "stream",
     "text": [
      "/Users/anderson675/miniconda3/lib/python3.7/site-packages/scaper/core.py:1268: ScaperWarning: dog_bark event time (7.27) is too great given stretched event duration (3.87) and soundscape duration (10.00), changed to 6.13.\n",
      "  ScaperWarning)\n"
     ]
    },
    {
     "name": "stdout",
     "output_type": "stream",
     "text": [
      "Generating soundscape: 43/66\n"
     ]
    },
    {
     "name": "stderr",
     "output_type": "stream",
     "text": [
      "/Users/anderson675/miniconda3/lib/python3.7/site-packages/scaper/core.py:1268: ScaperWarning: car_horn event time (9.17) is too great given stretched event duration (2.72) and soundscape duration (10.00), changed to 7.28.\n",
      "  ScaperWarning)\n",
      "/Users/anderson675/miniconda3/lib/python3.7/site-packages/scaper/core.py:1268: ScaperWarning: jackhammer event time (9.22) is too great given stretched event duration (4.47) and soundscape duration (10.00), changed to 5.53.\n",
      "  ScaperWarning)\n"
     ]
    },
    {
     "name": "stdout",
     "output_type": "stream",
     "text": [
      "Generating soundscape: 44/66\n"
     ]
    },
    {
     "name": "stderr",
     "output_type": "stream",
     "text": [
      "/Users/anderson675/miniconda3/lib/python3.7/site-packages/scaper/core.py:1172: ScaperWarning: dog_bark event duration (2.09) is greater that source duration (2.04), changing to 2.04\n",
      "  ScaperWarning)\n",
      "/Users/anderson675/miniconda3/lib/python3.7/site-packages/scaper/core.py:1172: ScaperWarning: dog_bark event duration (3.98) is greater that source duration (2.53), changing to 2.53\n",
      "  ScaperWarning)\n",
      "/Users/anderson675/miniconda3/lib/python3.7/site-packages/scaper/core.py:1172: ScaperWarning: gun_shot event duration (2.45) is greater that source duration (1.47), changing to 1.47\n",
      "  ScaperWarning)\n",
      "/Users/anderson675/miniconda3/lib/python3.7/site-packages/scaper/core.py:1172: ScaperWarning: dog_bark event duration (3.40) is greater that source duration (0.55), changing to 0.55\n",
      "  ScaperWarning)\n"
     ]
    },
    {
     "name": "stdout",
     "output_type": "stream",
     "text": [
      "Generating soundscape: 45/66\n"
     ]
    },
    {
     "name": "stderr",
     "output_type": "stream",
     "text": [
      "/Users/anderson675/miniconda3/lib/python3.7/site-packages/scaper/core.py:1172: ScaperWarning: gun_shot event duration (1.42) is greater that source duration (0.43), changing to 0.43\n",
      "  ScaperWarning)\n"
     ]
    },
    {
     "name": "stdout",
     "output_type": "stream",
     "text": [
      "Generating soundscape: 46/66\n"
     ]
    },
    {
     "name": "stderr",
     "output_type": "stream",
     "text": [
      "/Users/anderson675/miniconda3/lib/python3.7/site-packages/scaper/core.py:1172: ScaperWarning: car_horn event duration (1.12) is greater that source duration (0.85), changing to 0.85\n",
      "  ScaperWarning)\n"
     ]
    },
    {
     "name": "stdout",
     "output_type": "stream",
     "text": [
      "Generating soundscape: 47/66\n",
      "Generating soundscape: 48/66\n"
     ]
    },
    {
     "name": "stderr",
     "output_type": "stream",
     "text": [
      "/Users/anderson675/miniconda3/lib/python3.7/site-packages/scaper/core.py:1172: ScaperWarning: jackhammer event duration (3.89) is greater that source duration (2.91), changing to 2.91\n",
      "  ScaperWarning)\n",
      "/Users/anderson675/miniconda3/lib/python3.7/site-packages/scaper/core.py:1268: ScaperWarning: speech event time (9.83) is too great given stretched event duration (2.53) and soundscape duration (10.00), changed to 7.47.\n",
      "  ScaperWarning)\n",
      "/Users/anderson675/miniconda3/lib/python3.7/site-packages/scaper/core.py:1268: ScaperWarning: speech event time (7.84) is too great given stretched event duration (2.21) and soundscape duration (10.00), changed to 7.79.\n",
      "  ScaperWarning)\n"
     ]
    },
    {
     "name": "stdout",
     "output_type": "stream",
     "text": [
      "Generating soundscape: 49/66\n"
     ]
    },
    {
     "name": "stderr",
     "output_type": "stream",
     "text": [
      "/Users/anderson675/miniconda3/lib/python3.7/site-packages/scaper/core.py:1172: ScaperWarning: dog_bark event duration (3.30) is greater that source duration (2.09), changing to 2.09\n",
      "  ScaperWarning)\n",
      "/Users/anderson675/miniconda3/lib/python3.7/site-packages/scaper/core.py:1268: ScaperWarning: gun_shot event time (9.49) is too great given stretched event duration (0.90) and soundscape duration (10.00), changed to 9.10.\n",
      "  ScaperWarning)\n"
     ]
    },
    {
     "name": "stdout",
     "output_type": "stream",
     "text": [
      "Generating soundscape: 50/66\n"
     ]
    },
    {
     "name": "stderr",
     "output_type": "stream",
     "text": [
      "/Users/anderson675/miniconda3/lib/python3.7/site-packages/scaper/core.py:1268: ScaperWarning: air_conditioner event time (9.97) is too great given stretched event duration (2.28) and soundscape duration (10.00), changed to 7.72.\n",
      "  ScaperWarning)\n",
      "/Users/anderson675/miniconda3/lib/python3.7/site-packages/scaper/core.py:1172: ScaperWarning: car_horn event duration (3.84) is greater that source duration (1.16), changing to 1.16\n",
      "  ScaperWarning)\n",
      "/Users/anderson675/miniconda3/lib/python3.7/site-packages/scaper/core.py:1268: ScaperWarning: siren event time (8.26) is too great given stretched event duration (1.76) and soundscape duration (10.00), changed to 8.24.\n",
      "  ScaperWarning)\n",
      "/Users/anderson675/miniconda3/lib/python3.7/site-packages/scaper/core.py:1172: ScaperWarning: car_horn event duration (2.34) is greater that source duration (0.64), changing to 0.64\n",
      "  ScaperWarning)\n",
      "/Users/anderson675/miniconda3/lib/python3.7/site-packages/scaper/core.py:1268: ScaperWarning: dog_bark event time (7.60) is too great given stretched event duration (2.83) and soundscape duration (10.00), changed to 7.17.\n",
      "  ScaperWarning)\n"
     ]
    },
    {
     "name": "stdout",
     "output_type": "stream",
     "text": [
      "Generating soundscape: 51/66\n"
     ]
    },
    {
     "name": "stderr",
     "output_type": "stream",
     "text": [
      "/Users/anderson675/miniconda3/lib/python3.7/site-packages/scaper/core.py:1172: ScaperWarning: car_horn event duration (3.00) is greater that source duration (0.87), changing to 0.87\n",
      "  ScaperWarning)\n",
      "/Users/anderson675/miniconda3/lib/python3.7/site-packages/scaper/core.py:1172: ScaperWarning: gun_shot event duration (2.96) is greater that source duration (1.60), changing to 1.60\n",
      "  ScaperWarning)\n",
      "/Users/anderson675/miniconda3/lib/python3.7/site-packages/scaper/core.py:1172: ScaperWarning: gun_shot event duration (3.29) is greater that source duration (0.91), changing to 0.91\n",
      "  ScaperWarning)\n"
     ]
    },
    {
     "name": "stdout",
     "output_type": "stream",
     "text": [
      "Generating soundscape: 52/66\n"
     ]
    },
    {
     "name": "stderr",
     "output_type": "stream",
     "text": [
      "/Users/anderson675/miniconda3/lib/python3.7/site-packages/scaper/core.py:1268: ScaperWarning: engine_idling event time (7.97) is too great given stretched event duration (3.43) and soundscape duration (10.00), changed to 6.57.\n",
      "  ScaperWarning)\n",
      "/Users/anderson675/miniconda3/lib/python3.7/site-packages/scaper/core.py:1172: ScaperWarning: car_horn event duration (3.56) is greater that source duration (0.45), changing to 0.45\n",
      "  ScaperWarning)\n",
      "/Users/anderson675/miniconda3/lib/python3.7/site-packages/scaper/core.py:1172: ScaperWarning: gun_shot event duration (2.48) is greater that source duration (0.79), changing to 0.79\n",
      "  ScaperWarning)\n"
     ]
    },
    {
     "name": "stdout",
     "output_type": "stream",
     "text": [
      "Generating soundscape: 53/66\n"
     ]
    },
    {
     "name": "stderr",
     "output_type": "stream",
     "text": [
      "/Users/anderson675/miniconda3/lib/python3.7/site-packages/scaper/core.py:1268: ScaperWarning: speech event time (9.22) is too great given stretched event duration (3.20) and soundscape duration (10.00), changed to 6.80.\n",
      "  ScaperWarning)\n",
      "/Users/anderson675/miniconda3/lib/python3.7/site-packages/scaper/core.py:1268: ScaperWarning: drilling event time (7.22) is too great given stretched event duration (3.07) and soundscape duration (10.00), changed to 6.93.\n",
      "  ScaperWarning)\n"
     ]
    },
    {
     "name": "stdout",
     "output_type": "stream",
     "text": [
      "Generating soundscape: 54/66\n"
     ]
    },
    {
     "name": "stderr",
     "output_type": "stream",
     "text": [
      "/Users/anderson675/miniconda3/lib/python3.7/site-packages/scaper/core.py:1172: ScaperWarning: gun_shot event duration (2.46) is greater that source duration (0.30), changing to 0.30\n",
      "  ScaperWarning)\n"
     ]
    },
    {
     "name": "stdout",
     "output_type": "stream",
     "text": [
      "Generating soundscape: 55/66\n"
     ]
    },
    {
     "name": "stderr",
     "output_type": "stream",
     "text": [
      "/Users/anderson675/miniconda3/lib/python3.7/site-packages/scaper/core.py:1172: ScaperWarning: drilling event duration (3.38) is greater that source duration (2.97), changing to 2.97\n",
      "  ScaperWarning)\n",
      "/Users/anderson675/miniconda3/lib/python3.7/site-packages/scaper/core.py:1268: ScaperWarning: drilling event time (6.76) is too great given stretched event duration (3.47) and soundscape duration (10.00), changed to 6.53.\n",
      "  ScaperWarning)\n",
      "/Users/anderson675/miniconda3/lib/python3.7/site-packages/scaper/core.py:1172: ScaperWarning: jackhammer event duration (3.87) is greater that source duration (0.70), changing to 0.70\n",
      "  ScaperWarning)\n",
      "/Users/anderson675/miniconda3/lib/python3.7/site-packages/scaper/core.py:1268: ScaperWarning: speech event time (8.42) is too great given stretched event duration (2.57) and soundscape duration (10.00), changed to 7.43.\n",
      "  ScaperWarning)\n",
      "/Users/anderson675/miniconda3/lib/python3.7/site-packages/scaper/core.py:1172: ScaperWarning: car_horn event duration (1.30) is greater that source duration (0.46), changing to 0.46\n",
      "  ScaperWarning)\n"
     ]
    },
    {
     "name": "stdout",
     "output_type": "stream",
     "text": [
      "Generating soundscape: 56/66\n"
     ]
    },
    {
     "name": "stderr",
     "output_type": "stream",
     "text": [
      "/Users/anderson675/miniconda3/lib/python3.7/site-packages/scaper/core.py:1172: ScaperWarning: car_horn event duration (2.87) is greater that source duration (0.83), changing to 0.83\n",
      "  ScaperWarning)\n",
      "/Users/anderson675/miniconda3/lib/python3.7/site-packages/scaper/core.py:1172: ScaperWarning: gun_shot event duration (0.89) is greater that source duration (0.79), changing to 0.79\n",
      "  ScaperWarning)\n"
     ]
    },
    {
     "name": "stdout",
     "output_type": "stream",
     "text": [
      "Generating soundscape: 57/66\n"
     ]
    },
    {
     "name": "stderr",
     "output_type": "stream",
     "text": [
      "/Users/anderson675/miniconda3/lib/python3.7/site-packages/scaper/core.py:1268: ScaperWarning: engine_idling event time (6.62) is too great given stretched event duration (3.81) and soundscape duration (10.00), changed to 6.19.\n",
      "  ScaperWarning)\n"
     ]
    },
    {
     "name": "stdout",
     "output_type": "stream",
     "text": [
      "Generating soundscape: 58/66\n"
     ]
    },
    {
     "name": "stderr",
     "output_type": "stream",
     "text": [
      "/Users/anderson675/miniconda3/lib/python3.7/site-packages/scaper/core.py:1172: ScaperWarning: gun_shot event duration (2.54) is greater that source duration (0.53), changing to 0.53\n",
      "  ScaperWarning)\n",
      "/Users/anderson675/miniconda3/lib/python3.7/site-packages/scaper/core.py:1268: ScaperWarning: gun_shot event time (9.62) is too great given stretched event duration (0.63) and soundscape duration (10.00), changed to 9.37.\n",
      "  ScaperWarning)\n",
      "/Users/anderson675/miniconda3/lib/python3.7/site-packages/scaper/core.py:1268: ScaperWarning: dog_bark event time (9.74) is too great given stretched event duration (3.25) and soundscape duration (10.00), changed to 6.75.\n",
      "  ScaperWarning)\n"
     ]
    },
    {
     "name": "stdout",
     "output_type": "stream",
     "text": [
      "Generating soundscape: 59/66\n",
      "Generating soundscape: 60/66\n"
     ]
    },
    {
     "name": "stderr",
     "output_type": "stream",
     "text": [
      "/Users/anderson675/miniconda3/lib/python3.7/site-packages/scaper/core.py:1268: ScaperWarning: dog_bark event time (8.36) is too great given stretched event duration (3.09) and soundscape duration (10.00), changed to 6.91.\n",
      "  ScaperWarning)\n",
      "/Users/anderson675/miniconda3/lib/python3.7/site-packages/scaper/core.py:1172: ScaperWarning: car_horn event duration (3.24) is greater that source duration (0.45), changing to 0.45\n",
      "  ScaperWarning)\n"
     ]
    },
    {
     "name": "stdout",
     "output_type": "stream",
     "text": [
      "Generating soundscape: 61/66\n",
      "Generating soundscape: 62/66\n"
     ]
    },
    {
     "name": "stderr",
     "output_type": "stream",
     "text": [
      "/Users/anderson675/miniconda3/lib/python3.7/site-packages/scaper/core.py:1172: ScaperWarning: dog_bark event duration (3.40) is greater that source duration (3.19), changing to 3.19\n",
      "  ScaperWarning)\n"
     ]
    },
    {
     "name": "stdout",
     "output_type": "stream",
     "text": [
      "Generating soundscape: 63/66\n",
      "Generating soundscape: 64/66\n"
     ]
    },
    {
     "name": "stderr",
     "output_type": "stream",
     "text": [
      "/Users/anderson675/miniconda3/lib/python3.7/site-packages/scaper/core.py:1172: ScaperWarning: siren event duration (2.10) is greater that source duration (0.28), changing to 0.28\n",
      "  ScaperWarning)\n"
     ]
    },
    {
     "name": "stdout",
     "output_type": "stream",
     "text": [
      "Generating soundscape: 65/66\n"
     ]
    },
    {
     "name": "stderr",
     "output_type": "stream",
     "text": [
      "/Users/anderson675/miniconda3/lib/python3.7/site-packages/scaper/core.py:1268: ScaperWarning: speech event time (9.70) is too great given stretched event duration (2.74) and soundscape duration (10.00), changed to 7.26.\n",
      "  ScaperWarning)\n"
     ]
    },
    {
     "name": "stdout",
     "output_type": "stream",
     "text": [
      "Generating soundscape: 66/66\n"
     ]
    },
    {
     "name": "stderr",
     "output_type": "stream",
     "text": [
      "/Users/anderson675/miniconda3/lib/python3.7/site-packages/scaper/core.py:1172: ScaperWarning: gun_shot event duration (2.69) is greater that source duration (2.19), changing to 2.19\n",
      "  ScaperWarning)\n",
      "/Users/anderson675/miniconda3/lib/python3.7/site-packages/scaper/core.py:1268: ScaperWarning: dog_bark event time (6.47) is too great given stretched event duration (3.90) and soundscape duration (10.00), changed to 6.10.\n",
      "  ScaperWarning)\n",
      "/Users/anderson675/miniconda3/lib/python3.7/site-packages/scaper/core.py:1172: ScaperWarning: gun_shot event duration (3.89) is greater that source duration (1.15), changing to 1.15\n",
      "  ScaperWarning)\n",
      "/Users/anderson675/miniconda3/lib/python3.7/site-packages/scaper/core.py:1268: ScaperWarning: street_music event time (8.83) is too great given stretched event duration (1.40) and soundscape duration (10.00), changed to 8.60.\n",
      "  ScaperWarning)\n",
      "/Users/anderson675/miniconda3/lib/python3.7/site-packages/scaper/core.py:1172: ScaperWarning: gun_shot event duration (3.56) is greater that source duration (2.56), changing to 2.56\n",
      "  ScaperWarning)\n"
     ]
    }
   ],
   "source": [
    "\n",
    "# SCAPER SETTINGS\n",
    "np.random.seed(123)\n",
    "fg_folder = os.getcwd() + '/1_Dataset_Generate/audio/soundbanks/validate/foreground/'\n",
    "bg_folder = os.getcwd() + '/1_Dataset_Generate/audio/soundbanks/validate/background/'\n",
    "\n",
    "n_soundscapes = 66\n",
    "ref_db = -50\n",
    "duration = 10.0 \n",
    "\n",
    "min_events = 1\n",
    "max_events = 9\n",
    "\n",
    "event_time_dist = 'uniform'\n",
    "event_time_min = 0.0\n",
    "event_time_max = 10.0\n",
    "\n",
    "source_time_dist = 'const'\n",
    "source_time = 0.0\n",
    "\n",
    "event_duration_dist = 'uniform'\n",
    "event_duration_min = 0.5\n",
    "event_duration_max = 4.0\n",
    "\n",
    "snr_dist = 'uniform'\n",
    "snr_min = 6\n",
    "snr_max = 30\n",
    "\n",
    "pitch_dist = 'uniform'\n",
    "pitch_min = -3.0\n",
    "pitch_max = 3.0\n",
    "\n",
    "time_stretch_dist = 'uniform'\n",
    "time_stretch_min = 0.8\n",
    "time_stretch_max = 1.2\n",
    "\n",
    "\n",
    "# FILE SETTINGS\n",
    "outfolder = os.path.join(os.getcwd() + '/1_Dataset_Generate/audio/soundbanks/validate/generated/uniform')\n",
    "if not os.path.isdir(outfolder):\n",
    "    os.mkdir(outfolder)\n",
    "    \n",
    "for n in range(n_soundscapes):\n",
    "    \n",
    "    print('Generating soundscape: {:d}/{:d}'.format(n+1, n_soundscapes))\n",
    "    \n",
    "    # create a scaper\n",
    "    sc = scaper.Scaper(duration, fg_folder, bg_folder)\n",
    "    sc.protected_labels = []\n",
    "    sc.ref_db = ref_db\n",
    "    \n",
    "    # add background\n",
    "    sc.add_background(label=('const', 'noise'), \n",
    "                      source_file=('choose', []), \n",
    "                      source_time=('const', 0))\n",
    "\n",
    "    # add random foreground events\n",
    "    n_events = np.random.randint(min_events, max_events+1)\n",
    "    for _ in range(n_events):\n",
    "        sc.add_event(label=('choose', []), \n",
    "                     source_file=('choose', []), \n",
    "                     source_time=(source_time_dist, source_time), \n",
    "                     event_time=(event_time_dist, event_time_min, event_time_max), \n",
    "                     event_duration=(event_duration_dist, event_duration_min, event_duration_max), \n",
    "                     snr=(snr_dist, snr_min, snr_max),\n",
    "                     pitch_shift=(pitch_dist, pitch_min, pitch_max),\n",
    "                     time_stretch=(time_stretch_dist, time_stretch_min, time_stretch_max))\n",
    "    \n",
    "    # generate\n",
    "    audiofile = os.path.join(outfolder, \"soundscape_train_uniform{:d}.wav\".format(n))\n",
    "    jamsfile = os.path.join(outfolder, \"soundscape_train_uniform{:d}.jams\".format(n))\n",
    "    txtfile = os.path.join(outfolder, \"soundscape_train_uniform{:d}.txt\".format(n))\n",
    "    \n",
    "    sc.generate(audiofile, jamsfile,\n",
    "                allow_repeated_label=True,\n",
    "                allow_repeated_source=False,\n",
    "                reverb=0.1,\n",
    "                disable_sox_warnings=True,\n",
    "                no_audio=False,\n",
    "                txt_path=txtfile)"
   ]
  },
  {
   "cell_type": "markdown",
   "metadata": {},
   "source": [
    "# Validate-Unimodal"
   ]
  },
  {
   "cell_type": "code",
   "execution_count": 26,
   "metadata": {},
   "outputs": [
    {
     "name": "stdout",
     "output_type": "stream",
     "text": [
      "Generating soundscape: 1/66\n",
      "Generating soundscape: 2/66\n"
     ]
    },
    {
     "name": "stderr",
     "output_type": "stream",
     "text": [
      "/Users/anderson675/miniconda3/lib/python3.7/site-packages/scaper/core.py:1172: ScaperWarning: gun_shot event duration (1.49) is greater that source duration (1.44), changing to 1.44\n",
      "  ScaperWarning)\n",
      "/Users/anderson675/miniconda3/lib/python3.7/site-packages/scaper/core.py:1172: ScaperWarning: car_horn event duration (1.22) is greater that source duration (0.45), changing to 0.45\n",
      "  ScaperWarning)\n"
     ]
    },
    {
     "name": "stdout",
     "output_type": "stream",
     "text": [
      "Generating soundscape: 3/66\n"
     ]
    },
    {
     "name": "stderr",
     "output_type": "stream",
     "text": [
      "/Users/anderson675/miniconda3/lib/python3.7/site-packages/scaper/core.py:1172: ScaperWarning: gun_shot event duration (1.67) is greater that source duration (0.77), changing to 0.77\n",
      "  ScaperWarning)\n"
     ]
    },
    {
     "name": "stdout",
     "output_type": "stream",
     "text": [
      "Generating soundscape: 4/66\n"
     ]
    },
    {
     "name": "stderr",
     "output_type": "stream",
     "text": [
      "/Users/anderson675/miniconda3/lib/python3.7/site-packages/scaper/core.py:1172: ScaperWarning: dog_bark event duration (2.22) is greater that source duration (0.80), changing to 0.80\n",
      "  ScaperWarning)\n"
     ]
    },
    {
     "name": "stdout",
     "output_type": "stream",
     "text": [
      "Generating soundscape: 5/66\n"
     ]
    },
    {
     "name": "stderr",
     "output_type": "stream",
     "text": [
      "/Users/anderson675/miniconda3/lib/python3.7/site-packages/scaper/core.py:1172: ScaperWarning: gun_shot event duration (2.74) is greater that source duration (1.85), changing to 1.85\n",
      "  ScaperWarning)\n"
     ]
    },
    {
     "name": "stdout",
     "output_type": "stream",
     "text": [
      "Generating soundscape: 6/66\n"
     ]
    },
    {
     "name": "stderr",
     "output_type": "stream",
     "text": [
      "/Users/anderson675/miniconda3/lib/python3.7/site-packages/scaper/core.py:1172: ScaperWarning: jackhammer event duration (2.95) is greater that source duration (1.26), changing to 1.26\n",
      "  ScaperWarning)\n"
     ]
    },
    {
     "name": "stdout",
     "output_type": "stream",
     "text": [
      "Generating soundscape: 7/66\n"
     ]
    },
    {
     "name": "stderr",
     "output_type": "stream",
     "text": [
      "/Users/anderson675/miniconda3/lib/python3.7/site-packages/scaper/core.py:1172: ScaperWarning: gun_shot event duration (3.83) is greater that source duration (2.55), changing to 2.55\n",
      "  ScaperWarning)\n",
      "/Users/anderson675/miniconda3/lib/python3.7/site-packages/scaper/core.py:1172: ScaperWarning: dog_bark event duration (3.21) is greater that source duration (0.36), changing to 0.36\n",
      "  ScaperWarning)\n"
     ]
    },
    {
     "name": "stdout",
     "output_type": "stream",
     "text": [
      "Generating soundscape: 8/66\n"
     ]
    },
    {
     "name": "stderr",
     "output_type": "stream",
     "text": [
      "/Users/anderson675/miniconda3/lib/python3.7/site-packages/scaper/core.py:1172: ScaperWarning: siren event duration (3.54) is greater that source duration (0.26), changing to 0.26\n",
      "  ScaperWarning)\n"
     ]
    },
    {
     "name": "stdout",
     "output_type": "stream",
     "text": [
      "Generating soundscape: 9/66\n"
     ]
    },
    {
     "name": "stderr",
     "output_type": "stream",
     "text": [
      "/Users/anderson675/miniconda3/lib/python3.7/site-packages/scaper/core.py:1172: ScaperWarning: gun_shot event duration (2.88) is greater that source duration (0.98), changing to 0.98\n",
      "  ScaperWarning)\n"
     ]
    },
    {
     "name": "stdout",
     "output_type": "stream",
     "text": [
      "Generating soundscape: 10/66\n"
     ]
    },
    {
     "name": "stderr",
     "output_type": "stream",
     "text": [
      "/Users/anderson675/miniconda3/lib/python3.7/site-packages/scaper/core.py:1172: ScaperWarning: gun_shot event duration (0.92) is greater that source duration (0.34), changing to 0.34\n",
      "  ScaperWarning)\n"
     ]
    },
    {
     "name": "stdout",
     "output_type": "stream",
     "text": [
      "Generating soundscape: 11/66\n",
      "Generating soundscape: 12/66\n"
     ]
    },
    {
     "name": "stderr",
     "output_type": "stream",
     "text": [
      "/Users/anderson675/miniconda3/lib/python3.7/site-packages/scaper/core.py:1172: ScaperWarning: gun_shot event duration (0.54) is greater that source duration (0.26), changing to 0.26\n",
      "  ScaperWarning)\n"
     ]
    },
    {
     "name": "stdout",
     "output_type": "stream",
     "text": [
      "Generating soundscape: 13/66\n"
     ]
    },
    {
     "name": "stderr",
     "output_type": "stream",
     "text": [
      "/Users/anderson675/miniconda3/lib/python3.7/site-packages/scaper/core.py:1172: ScaperWarning: car_horn event duration (0.75) is greater that source duration (0.64), changing to 0.64\n",
      "  ScaperWarning)\n",
      "/Users/anderson675/miniconda3/lib/python3.7/site-packages/scaper/core.py:1172: ScaperWarning: gun_shot event duration (1.76) is greater that source duration (1.70), changing to 1.70\n",
      "  ScaperWarning)\n",
      "/Users/anderson675/miniconda3/lib/python3.7/site-packages/scaper/core.py:1268: ScaperWarning: siren event time (7.73) is too great given stretched event duration (2.47) and soundscape duration (10.00), changed to 7.53.\n",
      "  ScaperWarning)\n"
     ]
    },
    {
     "name": "stdout",
     "output_type": "stream",
     "text": [
      "Generating soundscape: 14/66\n",
      "Generating soundscape: 15/66\n"
     ]
    },
    {
     "name": "stderr",
     "output_type": "stream",
     "text": [
      "/Users/anderson675/miniconda3/lib/python3.7/site-packages/scaper/core.py:1172: ScaperWarning: gun_shot event duration (3.71) is greater that source duration (1.74), changing to 1.74\n",
      "  ScaperWarning)\n",
      "/Users/anderson675/miniconda3/lib/python3.7/site-packages/scaper/core.py:1172: ScaperWarning: car_horn event duration (2.86) is greater that source duration (2.14), changing to 2.14\n",
      "  ScaperWarning)\n",
      "/Users/anderson675/miniconda3/lib/python3.7/site-packages/scaper/core.py:1268: ScaperWarning: street_music event time (7.62) is too great given stretched event duration (3.81) and soundscape duration (10.00), changed to 6.19.\n",
      "  ScaperWarning)\n",
      "/Users/anderson675/miniconda3/lib/python3.7/site-packages/scaper/core.py:1172: ScaperWarning: car_horn event duration (3.32) is greater that source duration (0.32), changing to 0.32\n",
      "  ScaperWarning)\n",
      "/Users/anderson675/miniconda3/lib/python3.7/site-packages/scaper/core.py:1172: ScaperWarning: gun_shot event duration (1.49) is greater that source duration (1.22), changing to 1.22\n",
      "  ScaperWarning)\n"
     ]
    },
    {
     "name": "stdout",
     "output_type": "stream",
     "text": [
      "Generating soundscape: 16/66\n"
     ]
    },
    {
     "name": "stderr",
     "output_type": "stream",
     "text": [
      "/Users/anderson675/miniconda3/lib/python3.7/site-packages/scaper/core.py:1268: ScaperWarning: drilling event time (9.60) is too great given stretched event duration (3.78) and soundscape duration (10.00), changed to 6.22.\n",
      "  ScaperWarning)\n"
     ]
    },
    {
     "name": "stdout",
     "output_type": "stream",
     "text": [
      "Generating soundscape: 17/66\n"
     ]
    },
    {
     "name": "stderr",
     "output_type": "stream",
     "text": [
      "/Users/anderson675/miniconda3/lib/python3.7/site-packages/scaper/core.py:1172: ScaperWarning: car_horn event duration (1.82) is greater that source duration (0.10), changing to 0.10\n",
      "  ScaperWarning)\n"
     ]
    },
    {
     "name": "stdout",
     "output_type": "stream",
     "text": [
      "Generating soundscape: 18/66\n"
     ]
    },
    {
     "name": "stderr",
     "output_type": "stream",
     "text": [
      "/Users/anderson675/miniconda3/lib/python3.7/site-packages/scaper/core.py:1172: ScaperWarning: dog_bark event duration (3.65) is greater that source duration (2.53), changing to 2.53\n",
      "  ScaperWarning)\n"
     ]
    },
    {
     "name": "stdout",
     "output_type": "stream",
     "text": [
      "Generating soundscape: 19/66\n"
     ]
    },
    {
     "name": "stderr",
     "output_type": "stream",
     "text": [
      "/Users/anderson675/miniconda3/lib/python3.7/site-packages/scaper/core.py:1172: ScaperWarning: dog_bark event duration (1.96) is greater that source duration (0.62), changing to 0.62\n",
      "  ScaperWarning)\n"
     ]
    },
    {
     "name": "stdout",
     "output_type": "stream",
     "text": [
      "Generating soundscape: 20/66\n"
     ]
    },
    {
     "name": "stderr",
     "output_type": "stream",
     "text": [
      "/Users/anderson675/miniconda3/lib/python3.7/site-packages/scaper/core.py:1172: ScaperWarning: car_horn event duration (2.88) is greater that source duration (0.87), changing to 0.87\n",
      "  ScaperWarning)\n"
     ]
    },
    {
     "name": "stdout",
     "output_type": "stream",
     "text": [
      "Generating soundscape: 21/66\n"
     ]
    },
    {
     "name": "stderr",
     "output_type": "stream",
     "text": [
      "/Users/anderson675/miniconda3/lib/python3.7/site-packages/scaper/core.py:1268: ScaperWarning: dog_bark event time (7.53) is too great given stretched event duration (4.67) and soundscape duration (10.00), changed to 5.33.\n",
      "  ScaperWarning)\n",
      "/Users/anderson675/miniconda3/lib/python3.7/site-packages/scaper/core.py:1268: ScaperWarning: drilling event time (9.01) is too great given stretched event duration (1.94) and soundscape duration (10.00), changed to 8.06.\n",
      "  ScaperWarning)\n"
     ]
    },
    {
     "name": "stdout",
     "output_type": "stream",
     "text": [
      "Generating soundscape: 22/66\n",
      "Generating soundscape: 23/66\n"
     ]
    },
    {
     "name": "stderr",
     "output_type": "stream",
     "text": [
      "/Users/anderson675/miniconda3/lib/python3.7/site-packages/scaper/core.py:1268: ScaperWarning: dog_bark event time (9.17) is too great given stretched event duration (2.83) and soundscape duration (10.00), changed to 7.17.\n",
      "  ScaperWarning)\n",
      "/Users/anderson675/miniconda3/lib/python3.7/site-packages/scaper/core.py:1172: ScaperWarning: car_horn event duration (2.03) is greater that source duration (0.64), changing to 0.64\n",
      "  ScaperWarning)\n"
     ]
    },
    {
     "name": "stdout",
     "output_type": "stream",
     "text": [
      "Generating soundscape: 24/66\n"
     ]
    },
    {
     "name": "stderr",
     "output_type": "stream",
     "text": [
      "/Users/anderson675/miniconda3/lib/python3.7/site-packages/scaper/core.py:1172: ScaperWarning: gun_shot event duration (2.37) is greater that source duration (1.02), changing to 1.02\n",
      "  ScaperWarning)\n"
     ]
    },
    {
     "name": "stdout",
     "output_type": "stream",
     "text": [
      "Generating soundscape: 25/66\n",
      "Generating soundscape: 26/66\n"
     ]
    },
    {
     "name": "stderr",
     "output_type": "stream",
     "text": [
      "/Users/anderson675/miniconda3/lib/python3.7/site-packages/scaper/core.py:1268: ScaperWarning: siren event time (9.42) is too great given stretched event duration (1.60) and soundscape duration (10.00), changed to 8.40.\n",
      "  ScaperWarning)\n"
     ]
    },
    {
     "name": "stdout",
     "output_type": "stream",
     "text": [
      "Generating soundscape: 27/66\n"
     ]
    },
    {
     "name": "stderr",
     "output_type": "stream",
     "text": [
      "/Users/anderson675/miniconda3/lib/python3.7/site-packages/scaper/core.py:1172: ScaperWarning: gun_shot event duration (3.46) is greater that source duration (1.85), changing to 1.85\n",
      "  ScaperWarning)\n"
     ]
    },
    {
     "name": "stdout",
     "output_type": "stream",
     "text": [
      "Generating soundscape: 28/66\n"
     ]
    },
    {
     "name": "stderr",
     "output_type": "stream",
     "text": [
      "/Users/anderson675/miniconda3/lib/python3.7/site-packages/scaper/core.py:1268: ScaperWarning: dog_bark event time (7.84) is too great given stretched event duration (3.58) and soundscape duration (10.00), changed to 6.42.\n",
      "  ScaperWarning)\n",
      "/Users/anderson675/miniconda3/lib/python3.7/site-packages/scaper/core.py:1172: ScaperWarning: jackhammer event duration (2.31) is greater that source duration (0.87), changing to 0.87\n",
      "  ScaperWarning)\n"
     ]
    },
    {
     "name": "stdout",
     "output_type": "stream",
     "text": [
      "Generating soundscape: 29/66\n"
     ]
    },
    {
     "name": "stderr",
     "output_type": "stream",
     "text": [
      "/Users/anderson675/miniconda3/lib/python3.7/site-packages/scaper/core.py:1172: ScaperWarning: gun_shot event duration (2.85) is greater that source duration (1.83), changing to 1.83\n",
      "  ScaperWarning)\n",
      "/Users/anderson675/miniconda3/lib/python3.7/site-packages/scaper/core.py:1172: ScaperWarning: car_horn event duration (2.42) is greater that source duration (0.30), changing to 0.30\n",
      "  ScaperWarning)\n",
      "/Users/anderson675/miniconda3/lib/python3.7/site-packages/scaper/core.py:1172: ScaperWarning: siren event duration (2.80) is greater that source duration (2.17), changing to 2.17\n",
      "  ScaperWarning)\n"
     ]
    },
    {
     "name": "stdout",
     "output_type": "stream",
     "text": [
      "Generating soundscape: 30/66\n"
     ]
    },
    {
     "name": "stderr",
     "output_type": "stream",
     "text": [
      "/Users/anderson675/miniconda3/lib/python3.7/site-packages/scaper/core.py:1172: ScaperWarning: gun_shot event duration (2.92) is greater that source duration (0.77), changing to 0.77\n",
      "  ScaperWarning)\n"
     ]
    },
    {
     "name": "stdout",
     "output_type": "stream",
     "text": [
      "Generating soundscape: 31/66\n"
     ]
    },
    {
     "name": "stderr",
     "output_type": "stream",
     "text": [
      "/Users/anderson675/miniconda3/lib/python3.7/site-packages/scaper/core.py:1172: ScaperWarning: siren event duration (2.78) is greater that source duration (0.26), changing to 0.26\n",
      "  ScaperWarning)\n"
     ]
    },
    {
     "name": "stdout",
     "output_type": "stream",
     "text": [
      "Generating soundscape: 32/66\n"
     ]
    },
    {
     "name": "stderr",
     "output_type": "stream",
     "text": [
      "/Users/anderson675/miniconda3/lib/python3.7/site-packages/scaper/core.py:1268: ScaperWarning: car_horn event time (6.90) is too great given stretched event duration (3.40) and soundscape duration (10.00), changed to 6.60.\n",
      "  ScaperWarning)\n"
     ]
    },
    {
     "name": "stdout",
     "output_type": "stream",
     "text": [
      "Generating soundscape: 33/66\n",
      "Generating soundscape: 34/66\n"
     ]
    },
    {
     "name": "stderr",
     "output_type": "stream",
     "text": [
      "/Users/anderson675/miniconda3/lib/python3.7/site-packages/scaper/core.py:1268: ScaperWarning: air_conditioner event time (8.50) is too great given stretched event duration (2.25) and soundscape duration (10.00), changed to 7.75.\n",
      "  ScaperWarning)\n",
      "/Users/anderson675/miniconda3/lib/python3.7/site-packages/scaper/core.py:1172: ScaperWarning: drilling event duration (2.85) is greater that source duration (2.43), changing to 2.43\n",
      "  ScaperWarning)\n",
      "/Users/anderson675/miniconda3/lib/python3.7/site-packages/scaper/core.py:1268: ScaperWarning: air_conditioner event time (7.75) is too great given stretched event duration (2.54) and soundscape duration (10.00), changed to 7.46.\n",
      "  ScaperWarning)\n"
     ]
    },
    {
     "name": "stdout",
     "output_type": "stream",
     "text": [
      "Generating soundscape: 35/66\n",
      "Generating soundscape: 36/66\n",
      "Generating soundscape: 37/66\n"
     ]
    },
    {
     "name": "stderr",
     "output_type": "stream",
     "text": [
      "/Users/anderson675/miniconda3/lib/python3.7/site-packages/scaper/core.py:1172: ScaperWarning: gun_shot event duration (3.04) is greater that source duration (0.53), changing to 0.53\n",
      "  ScaperWarning)\n"
     ]
    },
    {
     "name": "stdout",
     "output_type": "stream",
     "text": [
      "Generating soundscape: 38/66\n"
     ]
    },
    {
     "name": "stderr",
     "output_type": "stream",
     "text": [
      "/Users/anderson675/miniconda3/lib/python3.7/site-packages/scaper/core.py:1268: ScaperWarning: engine_idling event time (9.24) is too great given stretched event duration (1.06) and soundscape duration (10.00), changed to 8.94.\n",
      "  ScaperWarning)\n",
      "/Users/anderson675/miniconda3/lib/python3.7/site-packages/scaper/core.py:1268: ScaperWarning: speech event time (7.70) is too great given stretched event duration (3.18) and soundscape duration (10.00), changed to 6.82.\n",
      "  ScaperWarning)\n",
      "/Users/anderson675/miniconda3/lib/python3.7/site-packages/scaper/core.py:1268: ScaperWarning: air_conditioner event time (7.72) is too great given stretched event duration (2.96) and soundscape duration (10.00), changed to 7.04.\n",
      "  ScaperWarning)\n"
     ]
    },
    {
     "name": "stdout",
     "output_type": "stream",
     "text": [
      "Generating soundscape: 39/66\n"
     ]
    },
    {
     "name": "stderr",
     "output_type": "stream",
     "text": [
      "/Users/anderson675/miniconda3/lib/python3.7/site-packages/scaper/core.py:1172: ScaperWarning: car_horn event duration (2.71) is greater that source duration (2.14), changing to 2.14\n",
      "  ScaperWarning)\n"
     ]
    },
    {
     "name": "stdout",
     "output_type": "stream",
     "text": [
      "Generating soundscape: 40/66\n"
     ]
    },
    {
     "name": "stderr",
     "output_type": "stream",
     "text": [
      "/Users/anderson675/miniconda3/lib/python3.7/site-packages/scaper/core.py:1172: ScaperWarning: jackhammer event duration (3.62) is greater that source duration (1.53), changing to 1.53\n",
      "  ScaperWarning)\n",
      "/Users/anderson675/miniconda3/lib/python3.7/site-packages/scaper/core.py:1172: ScaperWarning: car_horn event duration (2.02) is greater that source duration (0.83), changing to 0.83\n",
      "  ScaperWarning)\n"
     ]
    },
    {
     "name": "stdout",
     "output_type": "stream",
     "text": [
      "Generating soundscape: 41/66\n"
     ]
    },
    {
     "name": "stderr",
     "output_type": "stream",
     "text": [
      "/Users/anderson675/miniconda3/lib/python3.7/site-packages/scaper/core.py:1172: ScaperWarning: gun_shot event duration (3.10) is greater that source duration (1.74), changing to 1.74\n",
      "  ScaperWarning)\n",
      "/Users/anderson675/miniconda3/lib/python3.7/site-packages/scaper/core.py:1172: ScaperWarning: car_horn event duration (1.73) is greater that source duration (0.83), changing to 0.83\n",
      "  ScaperWarning)\n"
     ]
    },
    {
     "name": "stdout",
     "output_type": "stream",
     "text": [
      "Generating soundscape: 42/66\n",
      "Generating soundscape: 43/66\n",
      "Generating soundscape: 44/66\n",
      "Generating soundscape: 45/66\n"
     ]
    },
    {
     "name": "stderr",
     "output_type": "stream",
     "text": [
      "/Users/anderson675/miniconda3/lib/python3.7/site-packages/scaper/core.py:1172: ScaperWarning: car_horn event duration (2.58) is greater that source duration (2.18), changing to 2.18\n",
      "  ScaperWarning)\n"
     ]
    },
    {
     "name": "stdout",
     "output_type": "stream",
     "text": [
      "Generating soundscape: 46/66\n"
     ]
    },
    {
     "name": "stderr",
     "output_type": "stream",
     "text": [
      "/Users/anderson675/miniconda3/lib/python3.7/site-packages/scaper/core.py:1172: ScaperWarning: dog_bark event duration (2.24) is greater that source duration (0.80), changing to 0.80\n",
      "  ScaperWarning)\n"
     ]
    },
    {
     "name": "stdout",
     "output_type": "stream",
     "text": [
      "Generating soundscape: 47/66\n"
     ]
    },
    {
     "name": "stderr",
     "output_type": "stream",
     "text": [
      "/Users/anderson675/miniconda3/lib/python3.7/site-packages/scaper/core.py:1172: ScaperWarning: gun_shot event duration (3.13) is greater that source duration (2.26), changing to 2.26\n",
      "  ScaperWarning)\n"
     ]
    },
    {
     "name": "stdout",
     "output_type": "stream",
     "text": [
      "Generating soundscape: 48/66\n",
      "Generating soundscape: 49/66\n"
     ]
    },
    {
     "name": "stderr",
     "output_type": "stream",
     "text": [
      "/Users/anderson675/miniconda3/lib/python3.7/site-packages/scaper/core.py:1268: ScaperWarning: engine_idling event time (6.82) is too great given stretched event duration (3.53) and soundscape duration (10.00), changed to 6.47.\n",
      "  ScaperWarning)\n",
      "/Users/anderson675/miniconda3/lib/python3.7/site-packages/scaper/core.py:1172: ScaperWarning: gun_shot event duration (3.17) is greater that source duration (0.29), changing to 0.29\n",
      "  ScaperWarning)\n"
     ]
    },
    {
     "name": "stdout",
     "output_type": "stream",
     "text": [
      "Generating soundscape: 50/66\n"
     ]
    },
    {
     "name": "stderr",
     "output_type": "stream",
     "text": [
      "/Users/anderson675/miniconda3/lib/python3.7/site-packages/scaper/core.py:1172: ScaperWarning: drilling event duration (3.28) is greater that source duration (1.99), changing to 1.99\n",
      "  ScaperWarning)\n",
      "/Users/anderson675/miniconda3/lib/python3.7/site-packages/scaper/core.py:1268: ScaperWarning: drilling event time (7.87) is too great given stretched event duration (2.22) and soundscape duration (10.00), changed to 7.78.\n",
      "  ScaperWarning)\n",
      "/Users/anderson675/miniconda3/lib/python3.7/site-packages/scaper/core.py:1172: ScaperWarning: gun_shot event duration (2.27) is greater that source duration (1.90), changing to 1.90\n",
      "  ScaperWarning)\n"
     ]
    },
    {
     "name": "stdout",
     "output_type": "stream",
     "text": [
      "Generating soundscape: 51/66\n",
      "Generating soundscape: 52/66\n",
      "Generating soundscape: 53/66\n",
      "Generating soundscape: 54/66\n"
     ]
    },
    {
     "name": "stderr",
     "output_type": "stream",
     "text": [
      "/Users/anderson675/miniconda3/lib/python3.7/site-packages/scaper/core.py:1172: ScaperWarning: gun_shot event duration (2.10) is greater that source duration (0.54), changing to 0.54\n",
      "  ScaperWarning)\n",
      "/Users/anderson675/miniconda3/lib/python3.7/site-packages/scaper/core.py:1172: ScaperWarning: dog_bark event duration (2.35) is greater that source duration (1.41), changing to 1.41\n",
      "  ScaperWarning)\n",
      "/Users/anderson675/miniconda3/lib/python3.7/site-packages/scaper/core.py:1172: ScaperWarning: jackhammer event duration (2.30) is greater that source duration (1.90), changing to 1.90\n",
      "  ScaperWarning)\n"
     ]
    },
    {
     "name": "stdout",
     "output_type": "stream",
     "text": [
      "Generating soundscape: 55/66\n"
     ]
    },
    {
     "name": "stderr",
     "output_type": "stream",
     "text": [
      "/Users/anderson675/miniconda3/lib/python3.7/site-packages/scaper/core.py:1268: ScaperWarning: siren event time (8.16) is too great given stretched event duration (2.40) and soundscape duration (10.00), changed to 7.60.\n",
      "  ScaperWarning)\n",
      "/Users/anderson675/miniconda3/lib/python3.7/site-packages/scaper/core.py:1172: ScaperWarning: car_horn event duration (3.02) is greater that source duration (2.59), changing to 2.59\n",
      "  ScaperWarning)\n"
     ]
    },
    {
     "name": "stdout",
     "output_type": "stream",
     "text": [
      "Generating soundscape: 56/66\n"
     ]
    },
    {
     "name": "stderr",
     "output_type": "stream",
     "text": [
      "/Users/anderson675/miniconda3/lib/python3.7/site-packages/scaper/core.py:1172: ScaperWarning: siren event duration (1.00) is greater that source duration (0.36), changing to 0.36\n",
      "  ScaperWarning)\n",
      "/Users/anderson675/miniconda3/lib/python3.7/site-packages/scaper/core.py:1268: ScaperWarning: street_music event time (7.74) is too great given stretched event duration (3.12) and soundscape duration (10.00), changed to 6.88.\n",
      "  ScaperWarning)\n",
      "/Users/anderson675/miniconda3/lib/python3.7/site-packages/scaper/core.py:1268: ScaperWarning: speech event time (7.55) is too great given stretched event duration (3.89) and soundscape duration (10.00), changed to 6.11.\n",
      "  ScaperWarning)\n",
      "/Users/anderson675/miniconda3/lib/python3.7/site-packages/scaper/core.py:1172: ScaperWarning: dog_bark event duration (1.72) is greater that source duration (1.00), changing to 1.00\n",
      "  ScaperWarning)\n"
     ]
    },
    {
     "name": "stdout",
     "output_type": "stream",
     "text": [
      "Generating soundscape: 57/66\n"
     ]
    },
    {
     "name": "stderr",
     "output_type": "stream",
     "text": [
      "/Users/anderson675/miniconda3/lib/python3.7/site-packages/scaper/core.py:1172: ScaperWarning: gun_shot event duration (2.72) is greater that source duration (0.63), changing to 0.63\n",
      "  ScaperWarning)\n",
      "/Users/anderson675/miniconda3/lib/python3.7/site-packages/scaper/core.py:1172: ScaperWarning: jackhammer event duration (2.24) is greater that source duration (1.63), changing to 1.63\n",
      "  ScaperWarning)\n",
      "/Users/anderson675/miniconda3/lib/python3.7/site-packages/scaper/core.py:1172: ScaperWarning: dog_bark event duration (2.50) is greater that source duration (0.80), changing to 0.80\n",
      "  ScaperWarning)\n",
      "/Users/anderson675/miniconda3/lib/python3.7/site-packages/scaper/core.py:1172: ScaperWarning: car_horn event duration (2.80) is greater that source duration (0.45), changing to 0.45\n",
      "  ScaperWarning)\n"
     ]
    },
    {
     "name": "stdout",
     "output_type": "stream",
     "text": [
      "Generating soundscape: 58/66\n"
     ]
    },
    {
     "name": "stderr",
     "output_type": "stream",
     "text": [
      "/Users/anderson675/miniconda3/lib/python3.7/site-packages/scaper/core.py:1268: ScaperWarning: speech event time (6.82) is too great given stretched event duration (3.72) and soundscape duration (10.00), changed to 6.28.\n",
      "  ScaperWarning)\n",
      "/Users/anderson675/miniconda3/lib/python3.7/site-packages/scaper/core.py:1268: ScaperWarning: speech event time (8.36) is too great given stretched event duration (2.78) and soundscape duration (10.00), changed to 7.22.\n",
      "  ScaperWarning)\n"
     ]
    },
    {
     "name": "stdout",
     "output_type": "stream",
     "text": [
      "Generating soundscape: 59/66\n"
     ]
    },
    {
     "name": "stderr",
     "output_type": "stream",
     "text": [
      "/Users/anderson675/miniconda3/lib/python3.7/site-packages/scaper/core.py:1172: ScaperWarning: car_horn event duration (3.74) is greater that source duration (0.77), changing to 0.77\n",
      "  ScaperWarning)\n"
     ]
    },
    {
     "name": "stdout",
     "output_type": "stream",
     "text": [
      "Generating soundscape: 60/66\n"
     ]
    },
    {
     "name": "stderr",
     "output_type": "stream",
     "text": [
      "/Users/anderson675/miniconda3/lib/python3.7/site-packages/scaper/core.py:1172: ScaperWarning: car_horn event duration (3.75) is greater that source duration (1.16), changing to 1.16\n",
      "  ScaperWarning)\n",
      "/Users/anderson675/miniconda3/lib/python3.7/site-packages/scaper/core.py:1172: ScaperWarning: car_horn event duration (3.00) is greater that source duration (2.53), changing to 2.53\n",
      "  ScaperWarning)\n"
     ]
    },
    {
     "name": "stdout",
     "output_type": "stream",
     "text": [
      "Generating soundscape: 61/66\n"
     ]
    },
    {
     "name": "stderr",
     "output_type": "stream",
     "text": [
      "/Users/anderson675/miniconda3/lib/python3.7/site-packages/scaper/core.py:1172: ScaperWarning: gun_shot event duration (1.88) is greater that source duration (0.51), changing to 0.51\n",
      "  ScaperWarning)\n"
     ]
    },
    {
     "name": "stdout",
     "output_type": "stream",
     "text": [
      "Generating soundscape: 62/66\n",
      "Generating soundscape: 63/66\n"
     ]
    },
    {
     "name": "stderr",
     "output_type": "stream",
     "text": [
      "/Users/anderson675/miniconda3/lib/python3.7/site-packages/scaper/core.py:1172: ScaperWarning: car_horn event duration (3.06) is greater that source duration (0.58), changing to 0.58\n",
      "  ScaperWarning)\n",
      "/Users/anderson675/miniconda3/lib/python3.7/site-packages/scaper/core.py:1172: ScaperWarning: gun_shot event duration (2.76) is greater that source duration (1.60), changing to 1.60\n",
      "  ScaperWarning)\n"
     ]
    },
    {
     "name": "stdout",
     "output_type": "stream",
     "text": [
      "Generating soundscape: 64/66\n",
      "Generating soundscape: 65/66\n",
      "Generating soundscape: 66/66\n"
     ]
    },
    {
     "name": "stderr",
     "output_type": "stream",
     "text": [
      "/Users/anderson675/miniconda3/lib/python3.7/site-packages/scaper/core.py:1172: ScaperWarning: gun_shot event duration (3.01) is greater that source duration (1.70), changing to 1.70\n",
      "  ScaperWarning)\n",
      "/Users/anderson675/miniconda3/lib/python3.7/site-packages/scaper/core.py:1172: ScaperWarning: car_horn event duration (2.63) is greater that source duration (1.16), changing to 1.16\n",
      "  ScaperWarning)\n",
      "/Users/anderson675/miniconda3/lib/python3.7/site-packages/scaper/core.py:1172: ScaperWarning: car_horn event duration (3.18) is greater that source duration (0.46), changing to 0.46\n",
      "  ScaperWarning)\n"
     ]
    }
   ],
   "source": [
    "# SCAPER SETTINGS\n",
    "np.random.seed(123)\n",
    "fg_folder = os.getcwd() + '/1_Dataset_Generate/audio/soundbanks/validate/foreground/'\n",
    "bg_folder = os.getcwd() + '/1_Dataset_Generate/audio/soundbanks/validate/background/'\n",
    "\n",
    "n_soundscapes = 66\n",
    "ref_db = -50\n",
    "duration = 10.0 \n",
    "\n",
    "min_events = 1\n",
    "max_events = 9\n",
    "\n",
    "event_time_dist = 'truncnorm'\n",
    "event_time_mean = 5.0\n",
    "event_time_std = 2.0\n",
    "event_time_min = 0.0\n",
    "event_time_max = 10.0\n",
    "\n",
    "source_time_dist = 'const'\n",
    "source_time = 0.0\n",
    "\n",
    "event_duration_dist = 'uniform'\n",
    "event_duration_min = 0.5\n",
    "event_duration_max = 4.0\n",
    "\n",
    "snr_dist = 'uniform'\n",
    "snr_min = 6\n",
    "snr_max = 30\n",
    "\n",
    "pitch_dist = 'uniform'\n",
    "pitch_min = -3.0\n",
    "pitch_max = 3.0\n",
    "\n",
    "time_stretch_dist = 'uniform'\n",
    "time_stretch_min = 0.8\n",
    "time_stretch_max = 1.2\n",
    "\n",
    "\n",
    "# FILE SETTINGS\n",
    "outfolder = os.path.join(os.getcwd() + '/1_Dataset_Generate/audio/soundbanks/validate/generated/unimodal')\n",
    "if not os.path.isdir(outfolder):\n",
    "    os.mkdir(outfolder)\n",
    "\n",
    "for n in range(n_soundscapes):\n",
    "    \n",
    "    print('Generating soundscape: {:d}/{:d}'.format(n+1, n_soundscapes))\n",
    "    \n",
    "    # create a scaper\n",
    "    sc = scaper.Scaper(duration, fg_folder, bg_folder)\n",
    "    sc.protected_labels = []\n",
    "    sc.ref_db = ref_db\n",
    "    \n",
    "    # add background\n",
    "    sc.add_background(label=('const', 'noise'), \n",
    "                      source_file=('choose', []), \n",
    "                      source_time=('const', 0))\n",
    "\n",
    "    # add random foreground events\n",
    "    n_events = np.random.randint(min_events, max_events+1)\n",
    "    for _ in range(n_events):\n",
    "        sc.add_event(label=('choose', []), \n",
    "                     source_file=('choose', []), \n",
    "                     source_time=(source_time_dist, source_time), \n",
    "                     event_time=(event_time_dist, event_time_mean, event_time_std, event_time_min, event_time_max), \n",
    "                     event_duration=(event_duration_dist, event_duration_min, event_duration_max), \n",
    "                     snr=(snr_dist, snr_min, snr_max),\n",
    "                     pitch_shift=(pitch_dist, pitch_min, pitch_max),\n",
    "                     time_stretch=(time_stretch_dist, time_stretch_min, time_stretch_max))\n",
    "    \n",
    "    # generate\n",
    "    audiofile = os.path.join(outfolder, \"soundscape_validate_unimodal{:d}.wav\".format(n))\n",
    "    jamsfile = os.path.join(outfolder, \"soundscape_validate_unimodal{:d}.jams\".format(n))\n",
    "    txtfile = os.path.join(outfolder, \"soundscape_validate_unimodal{:d}.txt\".format(n))\n",
    "    \n",
    "    sc.generate(audiofile, jamsfile,\n",
    "                allow_repeated_label=True,\n",
    "                allow_repeated_source=False,\n",
    "                reverb=0.1,\n",
    "                disable_sox_warnings=True,\n",
    "                no_audio=False,\n",
    "                txt_path=txtfile)"
   ]
  },
  {
   "cell_type": "markdown",
   "metadata": {},
   "source": [
    "# =============Test================\n",
    "# Test-Bimodal"
   ]
  },
  {
   "cell_type": "code",
   "execution_count": 27,
   "metadata": {},
   "outputs": [
    {
     "name": "stdout",
     "output_type": "stream",
     "text": [
      "Generating soundscape: 1/66\n",
      "Generating soundscape: 2/66\n"
     ]
    },
    {
     "name": "stderr",
     "output_type": "stream",
     "text": [
      "/Users/anderson675/miniconda3/lib/python3.7/site-packages/scaper/core.py:1172: ScaperWarning: car_horn event duration (0.94) is greater that source duration (0.86), changing to 0.86\n",
      "  ScaperWarning)\n"
     ]
    },
    {
     "name": "stdout",
     "output_type": "stream",
     "text": [
      "Generating soundscape: 3/66\n",
      "Generating soundscape: 4/66\n",
      "Generating soundscape: 5/66\n"
     ]
    },
    {
     "name": "stderr",
     "output_type": "stream",
     "text": [
      "/Users/anderson675/miniconda3/lib/python3.7/site-packages/scaper/core.py:1172: ScaperWarning: car_horn event duration (2.58) is greater that source duration (0.21), changing to 0.21\n",
      "  ScaperWarning)\n"
     ]
    },
    {
     "name": "stdout",
     "output_type": "stream",
     "text": [
      "Generating soundscape: 6/66\n"
     ]
    },
    {
     "name": "stderr",
     "output_type": "stream",
     "text": [
      "/Users/anderson675/miniconda3/lib/python3.7/site-packages/scaper/core.py:1268: ScaperWarning: engine_idling event time (7.76) is too great given stretched event duration (2.83) and soundscape duration (10.00), changed to 7.17.\n",
      "  ScaperWarning)\n"
     ]
    },
    {
     "name": "stdout",
     "output_type": "stream",
     "text": [
      "Generating soundscape: 7/66\n"
     ]
    },
    {
     "name": "stderr",
     "output_type": "stream",
     "text": [
      "/Users/anderson675/miniconda3/lib/python3.7/site-packages/scaper/core.py:1172: ScaperWarning: car_horn event duration (3.80) is greater that source duration (0.28), changing to 0.28\n",
      "  ScaperWarning)\n"
     ]
    },
    {
     "name": "stdout",
     "output_type": "stream",
     "text": [
      "Generating soundscape: 8/66\n"
     ]
    },
    {
     "name": "stderr",
     "output_type": "stream",
     "text": [
      "/Users/anderson675/miniconda3/lib/python3.7/site-packages/scaper/core.py:1268: ScaperWarning: dog_bark event time (8.31) is too great given stretched event duration (3.21) and soundscape duration (10.00), changed to 6.79.\n",
      "  ScaperWarning)\n"
     ]
    },
    {
     "name": "stdout",
     "output_type": "stream",
     "text": [
      "Generating soundscape: 9/66\n"
     ]
    },
    {
     "name": "stderr",
     "output_type": "stream",
     "text": [
      "/Users/anderson675/miniconda3/lib/python3.7/site-packages/scaper/core.py:1172: ScaperWarning: siren event duration (2.26) is greater that source duration (1.10), changing to 1.10\n",
      "  ScaperWarning)\n",
      "/Users/anderson675/miniconda3/lib/python3.7/site-packages/scaper/core.py:1172: ScaperWarning: jackhammer event duration (2.64) is greater that source duration (1.98), changing to 1.98\n",
      "  ScaperWarning)\n",
      "/Users/anderson675/miniconda3/lib/python3.7/site-packages/scaper/core.py:1268: ScaperWarning: dog_bark event time (8.92) is too great given stretched event duration (1.81) and soundscape duration (10.00), changed to 8.19.\n",
      "  ScaperWarning)\n"
     ]
    },
    {
     "name": "stdout",
     "output_type": "stream",
     "text": [
      "Generating soundscape: 10/66\n"
     ]
    },
    {
     "name": "stderr",
     "output_type": "stream",
     "text": [
      "/Users/anderson675/miniconda3/lib/python3.7/site-packages/scaper/core.py:1268: ScaperWarning: gun_shot event time (9.92) is too great given stretched event duration (1.09) and soundscape duration (10.00), changed to 8.91.\n",
      "  ScaperWarning)\n",
      "/Users/anderson675/miniconda3/lib/python3.7/site-packages/scaper/core.py:1172: ScaperWarning: car_horn event duration (0.66) is greater that source duration (0.33), changing to 0.33\n",
      "  ScaperWarning)\n"
     ]
    },
    {
     "name": "stdout",
     "output_type": "stream",
     "text": [
      "Generating soundscape: 11/66\n"
     ]
    },
    {
     "name": "stderr",
     "output_type": "stream",
     "text": [
      "/Users/anderson675/miniconda3/lib/python3.7/site-packages/scaper/core.py:1268: ScaperWarning: drilling event time (6.14) is too great given stretched event duration (4.52) and soundscape duration (10.00), changed to 5.48.\n",
      "  ScaperWarning)\n",
      "/Users/anderson675/miniconda3/lib/python3.7/site-packages/scaper/core.py:1268: ScaperWarning: speech event time (5.86) is too great given stretched event duration (4.16) and soundscape duration (10.00), changed to 5.84.\n",
      "  ScaperWarning)\n",
      "/Users/anderson675/miniconda3/lib/python3.7/site-packages/scaper/core.py:1268: ScaperWarning: jackhammer event time (9.93) is too great given stretched event duration (3.72) and soundscape duration (10.00), changed to 6.28.\n",
      "  ScaperWarning)\n",
      "/Users/anderson675/miniconda3/lib/python3.7/site-packages/scaper/core.py:1172: ScaperWarning: gun_shot event duration (2.89) is greater that source duration (1.50), changing to 1.50\n",
      "  ScaperWarning)\n"
     ]
    },
    {
     "name": "stdout",
     "output_type": "stream",
     "text": [
      "Generating soundscape: 12/66\n"
     ]
    },
    {
     "name": "stderr",
     "output_type": "stream",
     "text": [
      "/Users/anderson675/miniconda3/lib/python3.7/site-packages/scaper/core.py:1172: ScaperWarning: drilling event duration (2.15) is greater that source duration (1.02), changing to 1.02\n",
      "  ScaperWarning)\n"
     ]
    },
    {
     "name": "stdout",
     "output_type": "stream",
     "text": [
      "Generating soundscape: 13/66\n"
     ]
    },
    {
     "name": "stderr",
     "output_type": "stream",
     "text": [
      "/Users/anderson675/miniconda3/lib/python3.7/site-packages/scaper/core.py:1172: ScaperWarning: car_horn event duration (2.82) is greater that source duration (0.85), changing to 0.85\n",
      "  ScaperWarning)\n",
      "/Users/anderson675/miniconda3/lib/python3.7/site-packages/scaper/core.py:1172: ScaperWarning: gun_shot event duration (2.04) is greater that source duration (1.81), changing to 1.81\n",
      "  ScaperWarning)\n"
     ]
    },
    {
     "name": "stdout",
     "output_type": "stream",
     "text": [
      "Generating soundscape: 14/66\n"
     ]
    },
    {
     "name": "stderr",
     "output_type": "stream",
     "text": [
      "/Users/anderson675/miniconda3/lib/python3.7/site-packages/scaper/core.py:1268: ScaperWarning: drilling event time (9.15) is too great given stretched event duration (1.37) and soundscape duration (10.00), changed to 8.63.\n",
      "  ScaperWarning)\n",
      "/Users/anderson675/miniconda3/lib/python3.7/site-packages/scaper/core.py:1172: ScaperWarning: gun_shot event duration (3.54) is greater that source duration (1.55), changing to 1.55\n",
      "  ScaperWarning)\n"
     ]
    },
    {
     "name": "stdout",
     "output_type": "stream",
     "text": [
      "Generating soundscape: 15/66\n"
     ]
    },
    {
     "name": "stderr",
     "output_type": "stream",
     "text": [
      "/Users/anderson675/miniconda3/lib/python3.7/site-packages/scaper/core.py:1172: ScaperWarning: gun_shot event duration (3.43) is greater that source duration (1.40), changing to 1.40\n",
      "  ScaperWarning)\n"
     ]
    },
    {
     "name": "stdout",
     "output_type": "stream",
     "text": [
      "Generating soundscape: 16/66\n"
     ]
    },
    {
     "name": "stderr",
     "output_type": "stream",
     "text": [
      "/Users/anderson675/miniconda3/lib/python3.7/site-packages/scaper/core.py:1268: ScaperWarning: dog_bark event time (8.89) is too great given stretched event duration (3.83) and soundscape duration (10.00), changed to 6.17.\n",
      "  ScaperWarning)\n"
     ]
    },
    {
     "name": "stdout",
     "output_type": "stream",
     "text": [
      "Generating soundscape: 17/66\n",
      "Generating soundscape: 18/66\n",
      "Generating soundscape: 19/66\n",
      "Generating soundscape: 20/66\n"
     ]
    },
    {
     "name": "stderr",
     "output_type": "stream",
     "text": [
      "/Users/anderson675/miniconda3/lib/python3.7/site-packages/scaper/core.py:1268: ScaperWarning: drilling event time (8.42) is too great given stretched event duration (2.52) and soundscape duration (10.00), changed to 7.48.\n",
      "  ScaperWarning)\n",
      "/Users/anderson675/miniconda3/lib/python3.7/site-packages/scaper/core.py:1268: ScaperWarning: engine_idling event time (9.21) is too great given stretched event duration (3.94) and soundscape duration (10.00), changed to 6.06.\n",
      "  ScaperWarning)\n",
      "/Users/anderson675/miniconda3/lib/python3.7/site-packages/scaper/core.py:1268: ScaperWarning: drilling event time (8.05) is too great given stretched event duration (2.15) and soundscape duration (10.00), changed to 7.85.\n",
      "  ScaperWarning)\n",
      "/Users/anderson675/miniconda3/lib/python3.7/site-packages/scaper/core.py:1172: ScaperWarning: car_horn event duration (0.86) is greater that source duration (0.36), changing to 0.36\n",
      "  ScaperWarning)\n"
     ]
    },
    {
     "name": "stdout",
     "output_type": "stream",
     "text": [
      "Generating soundscape: 21/66\n"
     ]
    },
    {
     "name": "stderr",
     "output_type": "stream",
     "text": [
      "/Users/anderson675/miniconda3/lib/python3.7/site-packages/scaper/core.py:1172: ScaperWarning: car_horn event duration (3.41) is greater that source duration (1.21), changing to 1.21\n",
      "  ScaperWarning)\n",
      "/Users/anderson675/miniconda3/lib/python3.7/site-packages/scaper/core.py:1172: ScaperWarning: dog_bark event duration (1.67) is greater that source duration (0.25), changing to 0.25\n",
      "  ScaperWarning)\n"
     ]
    },
    {
     "name": "stdout",
     "output_type": "stream",
     "text": [
      "Generating soundscape: 22/66\n"
     ]
    },
    {
     "name": "stderr",
     "output_type": "stream",
     "text": [
      "/Users/anderson675/miniconda3/lib/python3.7/site-packages/scaper/core.py:1172: ScaperWarning: car_horn event duration (2.58) is greater that source duration (2.05), changing to 2.05\n",
      "  ScaperWarning)\n"
     ]
    },
    {
     "name": "stdout",
     "output_type": "stream",
     "text": [
      "Generating soundscape: 23/66\n"
     ]
    },
    {
     "name": "stderr",
     "output_type": "stream",
     "text": [
      "/Users/anderson675/miniconda3/lib/python3.7/site-packages/scaper/core.py:1172: ScaperWarning: drilling event duration (2.30) is greater that source duration (0.61), changing to 0.61\n",
      "  ScaperWarning)\n",
      "/Users/anderson675/miniconda3/lib/python3.7/site-packages/scaper/core.py:1172: ScaperWarning: gun_shot event duration (1.42) is greater that source duration (1.26), changing to 1.26\n",
      "  ScaperWarning)\n"
     ]
    },
    {
     "name": "stdout",
     "output_type": "stream",
     "text": [
      "Generating soundscape: 24/66\n"
     ]
    },
    {
     "name": "stderr",
     "output_type": "stream",
     "text": [
      "/Users/anderson675/miniconda3/lib/python3.7/site-packages/scaper/core.py:1172: ScaperWarning: car_horn event duration (3.84) is greater that source duration (0.99), changing to 0.99\n",
      "  ScaperWarning)\n",
      "/Users/anderson675/miniconda3/lib/python3.7/site-packages/scaper/core.py:1268: ScaperWarning: engine_idling event time (9.94) is too great given stretched event duration (2.83) and soundscape duration (10.00), changed to 7.17.\n",
      "  ScaperWarning)\n",
      "/Users/anderson675/miniconda3/lib/python3.7/site-packages/scaper/core.py:1268: ScaperWarning: engine_idling event time (7.79) is too great given stretched event duration (4.42) and soundscape duration (10.00), changed to 5.58.\n",
      "  ScaperWarning)\n"
     ]
    },
    {
     "name": "stdout",
     "output_type": "stream",
     "text": [
      "Generating soundscape: 25/66\n"
     ]
    },
    {
     "name": "stderr",
     "output_type": "stream",
     "text": [
      "/Users/anderson675/miniconda3/lib/python3.7/site-packages/scaper/core.py:1172: ScaperWarning: gun_shot event duration (3.90) is greater that source duration (0.92), changing to 0.92\n",
      "  ScaperWarning)\n"
     ]
    },
    {
     "name": "stdout",
     "output_type": "stream",
     "text": [
      "Generating soundscape: 26/66\n"
     ]
    },
    {
     "name": "stderr",
     "output_type": "stream",
     "text": [
      "/Users/anderson675/miniconda3/lib/python3.7/site-packages/scaper/core.py:1172: ScaperWarning: gun_shot event duration (3.02) is greater that source duration (1.96), changing to 1.96\n",
      "  ScaperWarning)\n",
      "/Users/anderson675/miniconda3/lib/python3.7/site-packages/scaper/core.py:1268: ScaperWarning: car_horn event time (6.97) is too great given stretched event duration (3.27) and soundscape duration (10.00), changed to 6.73.\n",
      "  ScaperWarning)\n"
     ]
    },
    {
     "name": "stdout",
     "output_type": "stream",
     "text": [
      "Generating soundscape: 27/66\n",
      "Generating soundscape: 28/66\n"
     ]
    },
    {
     "name": "stderr",
     "output_type": "stream",
     "text": [
      "/Users/anderson675/miniconda3/lib/python3.7/site-packages/scaper/core.py:1172: ScaperWarning: dog_bark event duration (2.24) is greater that source duration (0.76), changing to 0.76\n",
      "  ScaperWarning)\n",
      "/Users/anderson675/miniconda3/lib/python3.7/site-packages/scaper/core.py:1268: ScaperWarning: gun_shot event time (8.37) is too great given stretched event duration (1.66) and soundscape duration (10.00), changed to 8.34.\n",
      "  ScaperWarning)\n"
     ]
    },
    {
     "name": "stdout",
     "output_type": "stream",
     "text": [
      "Generating soundscape: 29/66\n"
     ]
    },
    {
     "name": "stderr",
     "output_type": "stream",
     "text": [
      "/Users/anderson675/miniconda3/lib/python3.7/site-packages/scaper/core.py:1172: ScaperWarning: drilling event duration (2.27) is greater that source duration (1.36), changing to 1.36\n",
      "  ScaperWarning)\n",
      "/Users/anderson675/miniconda3/lib/python3.7/site-packages/scaper/core.py:1172: ScaperWarning: gun_shot event duration (3.98) is greater that source duration (1.55), changing to 1.55\n",
      "  ScaperWarning)\n",
      "/Users/anderson675/miniconda3/lib/python3.7/site-packages/scaper/core.py:1172: ScaperWarning: car_horn event duration (2.42) is greater that source duration (1.74), changing to 1.74\n",
      "  ScaperWarning)\n"
     ]
    },
    {
     "name": "stdout",
     "output_type": "stream",
     "text": [
      "Generating soundscape: 30/66\n",
      "Generating soundscape: 31/66\n"
     ]
    },
    {
     "name": "stderr",
     "output_type": "stream",
     "text": [
      "/Users/anderson675/miniconda3/lib/python3.7/site-packages/scaper/core.py:1172: ScaperWarning: car_horn event duration (0.99) is greater that source duration (0.99), changing to 0.99\n",
      "  ScaperWarning)\n"
     ]
    },
    {
     "name": "stdout",
     "output_type": "stream",
     "text": [
      "Generating soundscape: 32/66\n"
     ]
    },
    {
     "name": "stderr",
     "output_type": "stream",
     "text": [
      "/Users/anderson675/miniconda3/lib/python3.7/site-packages/scaper/core.py:1172: ScaperWarning: dog_bark event duration (2.89) is greater that source duration (0.39), changing to 0.39\n",
      "  ScaperWarning)\n",
      "/Users/anderson675/miniconda3/lib/python3.7/site-packages/scaper/core.py:1172: ScaperWarning: car_horn event duration (2.72) is greater that source duration (0.48), changing to 0.48\n",
      "  ScaperWarning)\n",
      "/Users/anderson675/miniconda3/lib/python3.7/site-packages/scaper/core.py:1268: ScaperWarning: drilling event time (9.79) is too great given stretched event duration (0.98) and soundscape duration (10.00), changed to 9.02.\n",
      "  ScaperWarning)\n",
      "/Users/anderson675/miniconda3/lib/python3.7/site-packages/scaper/core.py:1172: ScaperWarning: dog_bark event duration (1.87) is greater that source duration (0.76), changing to 0.76\n",
      "  ScaperWarning)\n"
     ]
    },
    {
     "name": "stdout",
     "output_type": "stream",
     "text": [
      "Generating soundscape: 33/66\n"
     ]
    },
    {
     "name": "stderr",
     "output_type": "stream",
     "text": [
      "/Users/anderson675/miniconda3/lib/python3.7/site-packages/scaper/core.py:1172: ScaperWarning: gun_shot event duration (3.08) is greater that source duration (1.17), changing to 1.17\n",
      "  ScaperWarning)\n"
     ]
    },
    {
     "name": "stdout",
     "output_type": "stream",
     "text": [
      "Generating soundscape: 34/66\n"
     ]
    },
    {
     "name": "stderr",
     "output_type": "stream",
     "text": [
      "/Users/anderson675/miniconda3/lib/python3.7/site-packages/scaper/core.py:1172: ScaperWarning: drilling event duration (3.11) is greater that source duration (2.49), changing to 2.49\n",
      "  ScaperWarning)\n",
      "/Users/anderson675/miniconda3/lib/python3.7/site-packages/scaper/core.py:1268: ScaperWarning: jackhammer event time (7.84) is too great given stretched event duration (2.77) and soundscape duration (10.00), changed to 7.23.\n",
      "  ScaperWarning)\n",
      "/Users/anderson675/miniconda3/lib/python3.7/site-packages/scaper/core.py:1268: ScaperWarning: siren event time (9.50) is too great given stretched event duration (1.43) and soundscape duration (10.00), changed to 8.57.\n",
      "  ScaperWarning)\n",
      "/Users/anderson675/miniconda3/lib/python3.7/site-packages/scaper/core.py:1268: ScaperWarning: jackhammer event time (8.79) is too great given stretched event duration (2.09) and soundscape duration (10.00), changed to 7.91.\n",
      "  ScaperWarning)\n",
      "/Users/anderson675/miniconda3/lib/python3.7/site-packages/scaper/core.py:1268: ScaperWarning: engine_idling event time (9.23) is too great given stretched event duration (2.08) and soundscape duration (10.00), changed to 7.92.\n",
      "  ScaperWarning)\n"
     ]
    },
    {
     "name": "stdout",
     "output_type": "stream",
     "text": [
      "Generating soundscape: 35/66\n",
      "Generating soundscape: 36/66\n"
     ]
    },
    {
     "name": "stderr",
     "output_type": "stream",
     "text": [
      "/Users/anderson675/miniconda3/lib/python3.7/site-packages/scaper/core.py:1172: ScaperWarning: car_horn event duration (2.51) is greater that source duration (0.39), changing to 0.39\n",
      "  ScaperWarning)\n",
      "/Users/anderson675/miniconda3/lib/python3.7/site-packages/scaper/core.py:1268: ScaperWarning: engine_idling event time (7.45) is too great given stretched event duration (4.24) and soundscape duration (10.00), changed to 5.76.\n",
      "  ScaperWarning)\n"
     ]
    },
    {
     "name": "stdout",
     "output_type": "stream",
     "text": [
      "Generating soundscape: 37/66\n"
     ]
    },
    {
     "name": "stderr",
     "output_type": "stream",
     "text": [
      "/Users/anderson675/miniconda3/lib/python3.7/site-packages/scaper/core.py:1172: ScaperWarning: gun_shot event duration (2.76) is greater that source duration (2.22), changing to 2.22\n",
      "  ScaperWarning)\n",
      "/Users/anderson675/miniconda3/lib/python3.7/site-packages/scaper/core.py:1268: ScaperWarning: engine_idling event time (8.68) is too great given stretched event duration (1.81) and soundscape duration (10.00), changed to 8.19.\n",
      "  ScaperWarning)\n",
      "/Users/anderson675/miniconda3/lib/python3.7/site-packages/scaper/core.py:1172: ScaperWarning: gun_shot event duration (2.12) is greater that source duration (0.50), changing to 0.50\n",
      "  ScaperWarning)\n",
      "/Users/anderson675/miniconda3/lib/python3.7/site-packages/scaper/core.py:1268: ScaperWarning: siren event time (9.15) is too great given stretched event duration (2.38) and soundscape duration (10.00), changed to 7.62.\n",
      "  ScaperWarning)\n",
      "/Users/anderson675/miniconda3/lib/python3.7/site-packages/scaper/core.py:1268: ScaperWarning: siren event time (7.34) is too great given stretched event duration (3.39) and soundscape duration (10.00), changed to 6.61.\n",
      "  ScaperWarning)\n"
     ]
    },
    {
     "name": "stdout",
     "output_type": "stream",
     "text": [
      "Generating soundscape: 38/66\n",
      "Generating soundscape: 39/66\n"
     ]
    },
    {
     "name": "stderr",
     "output_type": "stream",
     "text": [
      "/Users/anderson675/miniconda3/lib/python3.7/site-packages/scaper/core.py:1172: ScaperWarning: dog_bark event duration (2.21) is greater that source duration (0.70), changing to 0.70\n",
      "  ScaperWarning)\n",
      "/Users/anderson675/miniconda3/lib/python3.7/site-packages/scaper/core.py:1268: ScaperWarning: engine_idling event time (8.93) is too great given stretched event duration (2.50) and soundscape duration (10.00), changed to 7.50.\n",
      "  ScaperWarning)\n"
     ]
    },
    {
     "name": "stdout",
     "output_type": "stream",
     "text": [
      "Generating soundscape: 40/66\n"
     ]
    },
    {
     "name": "stderr",
     "output_type": "stream",
     "text": [
      "/Users/anderson675/miniconda3/lib/python3.7/site-packages/scaper/core.py:1172: ScaperWarning: car_horn event duration (1.02) is greater that source duration (0.35), changing to 0.35\n",
      "  ScaperWarning)\n",
      "/Users/anderson675/miniconda3/lib/python3.7/site-packages/scaper/core.py:1172: ScaperWarning: gun_shot event duration (3.61) is greater that source duration (1.15), changing to 1.15\n",
      "  ScaperWarning)\n",
      "/Users/anderson675/miniconda3/lib/python3.7/site-packages/scaper/core.py:1172: ScaperWarning: car_horn event duration (2.30) is greater that source duration (1.62), changing to 1.62\n",
      "  ScaperWarning)\n",
      "/Users/anderson675/miniconda3/lib/python3.7/site-packages/scaper/core.py:1172: ScaperWarning: dog_bark event duration (2.04) is greater that source duration (0.58), changing to 0.58\n",
      "  ScaperWarning)\n",
      "/Users/anderson675/miniconda3/lib/python3.7/site-packages/scaper/core.py:1172: ScaperWarning: drilling event duration (3.17) is greater that source duration (1.36), changing to 1.36\n",
      "  ScaperWarning)\n"
     ]
    },
    {
     "name": "stdout",
     "output_type": "stream",
     "text": [
      "Generating soundscape: 41/66\n"
     ]
    },
    {
     "name": "stderr",
     "output_type": "stream",
     "text": [
      "/Users/anderson675/miniconda3/lib/python3.7/site-packages/scaper/core.py:1172: ScaperWarning: gun_shot event duration (3.61) is greater that source duration (2.13), changing to 2.13\n",
      "  ScaperWarning)\n",
      "/Users/anderson675/miniconda3/lib/python3.7/site-packages/scaper/core.py:1172: ScaperWarning: dog_bark event duration (2.48) is greater that source duration (1.15), changing to 1.15\n",
      "  ScaperWarning)\n",
      "/Users/anderson675/miniconda3/lib/python3.7/site-packages/scaper/core.py:1172: ScaperWarning: car_horn event duration (1.70) is greater that source duration (0.86), changing to 0.86\n",
      "  ScaperWarning)\n"
     ]
    },
    {
     "name": "stdout",
     "output_type": "stream",
     "text": [
      "Generating soundscape: 42/66\n"
     ]
    },
    {
     "name": "stderr",
     "output_type": "stream",
     "text": [
      "/Users/anderson675/miniconda3/lib/python3.7/site-packages/scaper/core.py:1268: ScaperWarning: air_conditioner event time (8.03) is too great given stretched event duration (2.50) and soundscape duration (10.00), changed to 7.50.\n",
      "  ScaperWarning)\n",
      "/Users/anderson675/miniconda3/lib/python3.7/site-packages/scaper/core.py:1172: ScaperWarning: gun_shot event duration (2.89) is greater that source duration (0.94), changing to 0.94\n",
      "  ScaperWarning)\n"
     ]
    },
    {
     "name": "stdout",
     "output_type": "stream",
     "text": [
      "Generating soundscape: 43/66\n",
      "Generating soundscape: 44/66\n"
     ]
    },
    {
     "name": "stderr",
     "output_type": "stream",
     "text": [
      "/Users/anderson675/miniconda3/lib/python3.7/site-packages/scaper/core.py:1268: ScaperWarning: siren event time (7.66) is too great given stretched event duration (3.66) and soundscape duration (10.00), changed to 6.34.\n",
      "  ScaperWarning)\n"
     ]
    },
    {
     "name": "stdout",
     "output_type": "stream",
     "text": [
      "Generating soundscape: 45/66\n"
     ]
    },
    {
     "name": "stderr",
     "output_type": "stream",
     "text": [
      "/Users/anderson675/miniconda3/lib/python3.7/site-packages/scaper/core.py:1268: ScaperWarning: dog_bark event time (8.61) is too great given stretched event duration (3.08) and soundscape duration (10.00), changed to 6.92.\n",
      "  ScaperWarning)\n"
     ]
    },
    {
     "name": "stdout",
     "output_type": "stream",
     "text": [
      "Generating soundscape: 46/66\n",
      "Generating soundscape: 47/66\n"
     ]
    },
    {
     "name": "stderr",
     "output_type": "stream",
     "text": [
      "/Users/anderson675/miniconda3/lib/python3.7/site-packages/scaper/core.py:1268: ScaperWarning: speech event time (6.33) is too great given stretched event duration (4.05) and soundscape duration (10.00), changed to 5.95.\n",
      "  ScaperWarning)\n",
      "/Users/anderson675/miniconda3/lib/python3.7/site-packages/scaper/core.py:1268: ScaperWarning: jackhammer event time (8.36) is too great given stretched event duration (1.94) and soundscape duration (10.00), changed to 8.06.\n",
      "  ScaperWarning)\n"
     ]
    },
    {
     "name": "stdout",
     "output_type": "stream",
     "text": [
      "Generating soundscape: 48/66\n"
     ]
    },
    {
     "name": "stderr",
     "output_type": "stream",
     "text": [
      "/Users/anderson675/miniconda3/lib/python3.7/site-packages/scaper/core.py:1172: ScaperWarning: drilling event duration (2.49) is greater that source duration (1.57), changing to 1.57\n",
      "  ScaperWarning)\n",
      "/Users/anderson675/miniconda3/lib/python3.7/site-packages/scaper/core.py:1268: ScaperWarning: drilling event time (6.36) is too great given stretched event duration (3.67) and soundscape duration (10.00), changed to 6.33.\n",
      "  ScaperWarning)\n",
      "/Users/anderson675/miniconda3/lib/python3.7/site-packages/scaper/core.py:1172: ScaperWarning: drilling event duration (2.78) is greater that source duration (1.80), changing to 1.80\n",
      "  ScaperWarning)\n",
      "/Users/anderson675/miniconda3/lib/python3.7/site-packages/scaper/core.py:1268: ScaperWarning: drilling event time (9.83) is too great given stretched event duration (1.70) and soundscape duration (10.00), changed to 8.30.\n",
      "  ScaperWarning)\n"
     ]
    },
    {
     "name": "stdout",
     "output_type": "stream",
     "text": [
      "Generating soundscape: 49/66\n"
     ]
    },
    {
     "name": "stderr",
     "output_type": "stream",
     "text": [
      "/Users/anderson675/miniconda3/lib/python3.7/site-packages/scaper/core.py:1268: ScaperWarning: air_conditioner event time (6.70) is too great given stretched event duration (3.67) and soundscape duration (10.00), changed to 6.33.\n",
      "  ScaperWarning)\n",
      "/Users/anderson675/miniconda3/lib/python3.7/site-packages/scaper/core.py:1268: ScaperWarning: jackhammer event time (8.89) is too great given stretched event duration (1.78) and soundscape duration (10.00), changed to 8.22.\n",
      "  ScaperWarning)\n"
     ]
    },
    {
     "name": "stdout",
     "output_type": "stream",
     "text": [
      "Generating soundscape: 50/66\n"
     ]
    },
    {
     "name": "stderr",
     "output_type": "stream",
     "text": [
      "/Users/anderson675/miniconda3/lib/python3.7/site-packages/scaper/core.py:1268: ScaperWarning: engine_idling event time (8.08) is too great given stretched event duration (3.03) and soundscape duration (10.00), changed to 6.97.\n",
      "  ScaperWarning)\n",
      "/Users/anderson675/miniconda3/lib/python3.7/site-packages/scaper/core.py:1172: ScaperWarning: car_horn event duration (2.88) is greater that source duration (1.05), changing to 1.05\n",
      "  ScaperWarning)\n",
      "/Users/anderson675/miniconda3/lib/python3.7/site-packages/scaper/core.py:1268: ScaperWarning: air_conditioner event time (9.84) is too great given stretched event duration (2.27) and soundscape duration (10.00), changed to 7.73.\n",
      "  ScaperWarning)\n",
      "/Users/anderson675/miniconda3/lib/python3.7/site-packages/scaper/core.py:1268: ScaperWarning: siren event time (6.78) is too great given stretched event duration (3.29) and soundscape duration (10.00), changed to 6.71.\n",
      "  ScaperWarning)\n"
     ]
    },
    {
     "name": "stdout",
     "output_type": "stream",
     "text": [
      "Generating soundscape: 51/66\n"
     ]
    },
    {
     "name": "stderr",
     "output_type": "stream",
     "text": [
      "/Users/anderson675/miniconda3/lib/python3.7/site-packages/scaper/core.py:1172: ScaperWarning: gun_shot event duration (2.41) is greater that source duration (1.37), changing to 1.37\n",
      "  ScaperWarning)\n",
      "/Users/anderson675/miniconda3/lib/python3.7/site-packages/scaper/core.py:1268: ScaperWarning: street_music event time (8.45) is too great given stretched event duration (1.94) and soundscape duration (10.00), changed to 8.06.\n",
      "  ScaperWarning)\n"
     ]
    },
    {
     "name": "stdout",
     "output_type": "stream",
     "text": [
      "Generating soundscape: 52/66\n"
     ]
    },
    {
     "name": "stderr",
     "output_type": "stream",
     "text": [
      "/Users/anderson675/miniconda3/lib/python3.7/site-packages/scaper/core.py:1172: ScaperWarning: dog_bark event duration (3.91) is greater that source duration (0.55), changing to 0.55\n",
      "  ScaperWarning)\n",
      "/Users/anderson675/miniconda3/lib/python3.7/site-packages/scaper/core.py:1268: ScaperWarning: car_horn event time (7.36) is too great given stretched event duration (4.44) and soundscape duration (10.00), changed to 5.56.\n",
      "  ScaperWarning)\n"
     ]
    },
    {
     "name": "stdout",
     "output_type": "stream",
     "text": [
      "Generating soundscape: 53/66\n",
      "Generating soundscape: 54/66\n",
      "Generating soundscape: 55/66\n"
     ]
    },
    {
     "name": "stderr",
     "output_type": "stream",
     "text": [
      "/Users/anderson675/miniconda3/lib/python3.7/site-packages/scaper/core.py:1172: ScaperWarning: car_horn event duration (3.31) is greater that source duration (1.04), changing to 1.04\n",
      "  ScaperWarning)\n",
      "/Users/anderson675/miniconda3/lib/python3.7/site-packages/scaper/core.py:1268: ScaperWarning: gun_shot event time (9.49) is too great given stretched event duration (1.16) and soundscape duration (10.00), changed to 8.84.\n",
      "  ScaperWarning)\n"
     ]
    },
    {
     "name": "stdout",
     "output_type": "stream",
     "text": [
      "Generating soundscape: 56/66\n"
     ]
    },
    {
     "name": "stderr",
     "output_type": "stream",
     "text": [
      "/Users/anderson675/miniconda3/lib/python3.7/site-packages/scaper/core.py:1172: ScaperWarning: dog_bark event duration (1.58) is greater that source duration (1.09), changing to 1.09\n",
      "  ScaperWarning)\n",
      "/Users/anderson675/miniconda3/lib/python3.7/site-packages/scaper/core.py:1172: ScaperWarning: car_horn event duration (2.71) is greater that source duration (0.65), changing to 0.65\n",
      "  ScaperWarning)\n"
     ]
    },
    {
     "name": "stdout",
     "output_type": "stream",
     "text": [
      "Generating soundscape: 57/66\n"
     ]
    },
    {
     "name": "stderr",
     "output_type": "stream",
     "text": [
      "/Users/anderson675/miniconda3/lib/python3.7/site-packages/scaper/core.py:1268: ScaperWarning: engine_idling event time (8.00) is too great given stretched event duration (4.16) and soundscape duration (10.00), changed to 5.84.\n",
      "  ScaperWarning)\n",
      "/Users/anderson675/miniconda3/lib/python3.7/site-packages/scaper/core.py:1268: ScaperWarning: air_conditioner event time (7.44) is too great given stretched event duration (3.20) and soundscape duration (10.00), changed to 6.80.\n",
      "  ScaperWarning)\n",
      "/Users/anderson675/miniconda3/lib/python3.7/site-packages/scaper/core.py:1268: ScaperWarning: dog_bark event time (8.18) is too great given stretched event duration (3.75) and soundscape duration (10.00), changed to 6.25.\n",
      "  ScaperWarning)\n"
     ]
    },
    {
     "name": "stdout",
     "output_type": "stream",
     "text": [
      "Generating soundscape: 58/66\n",
      "Generating soundscape: 59/66\n",
      "Generating soundscape: 60/66\n"
     ]
    },
    {
     "name": "stderr",
     "output_type": "stream",
     "text": [
      "/Users/anderson675/miniconda3/lib/python3.7/site-packages/scaper/core.py:1268: ScaperWarning: drilling event time (6.94) is too great given stretched event duration (3.22) and soundscape duration (10.00), changed to 6.78.\n",
      "  ScaperWarning)\n"
     ]
    },
    {
     "name": "stdout",
     "output_type": "stream",
     "text": [
      "Generating soundscape: 61/66\n"
     ]
    },
    {
     "name": "stderr",
     "output_type": "stream",
     "text": [
      "/Users/anderson675/miniconda3/lib/python3.7/site-packages/scaper/core.py:1268: ScaperWarning: siren event time (8.74) is too great given stretched event duration (4.04) and soundscape duration (10.00), changed to 5.96.\n",
      "  ScaperWarning)\n"
     ]
    },
    {
     "name": "stdout",
     "output_type": "stream",
     "text": [
      "Generating soundscape: 62/66\n"
     ]
    },
    {
     "name": "stderr",
     "output_type": "stream",
     "text": [
      "/Users/anderson675/miniconda3/lib/python3.7/site-packages/scaper/core.py:1172: ScaperWarning: gun_shot event duration (3.04) is greater that source duration (1.17), changing to 1.17\n",
      "  ScaperWarning)\n"
     ]
    },
    {
     "name": "stdout",
     "output_type": "stream",
     "text": [
      "Generating soundscape: 63/66\n"
     ]
    },
    {
     "name": "stderr",
     "output_type": "stream",
     "text": [
      "/Users/anderson675/miniconda3/lib/python3.7/site-packages/scaper/core.py:1172: ScaperWarning: car_horn event duration (3.69) is greater that source duration (1.04), changing to 1.04\n",
      "  ScaperWarning)\n",
      "/Users/anderson675/miniconda3/lib/python3.7/site-packages/scaper/core.py:1268: ScaperWarning: air_conditioner event time (8.31) is too great given stretched event duration (4.39) and soundscape duration (10.00), changed to 5.61.\n",
      "  ScaperWarning)\n"
     ]
    },
    {
     "name": "stdout",
     "output_type": "stream",
     "text": [
      "Generating soundscape: 64/66\n",
      "Generating soundscape: 65/66\n"
     ]
    },
    {
     "name": "stderr",
     "output_type": "stream",
     "text": [
      "/Users/anderson675/miniconda3/lib/python3.7/site-packages/scaper/core.py:1172: ScaperWarning: gun_shot event duration (2.08) is greater that source duration (1.40), changing to 1.40\n",
      "  ScaperWarning)\n",
      "/Users/anderson675/miniconda3/lib/python3.7/site-packages/scaper/core.py:1172: ScaperWarning: drilling event duration (2.17) is greater that source duration (1.20), changing to 1.20\n",
      "  ScaperWarning)\n"
     ]
    },
    {
     "name": "stdout",
     "output_type": "stream",
     "text": [
      "Generating soundscape: 66/66\n"
     ]
    },
    {
     "name": "stderr",
     "output_type": "stream",
     "text": [
      "/Users/anderson675/miniconda3/lib/python3.7/site-packages/scaper/core.py:1268: ScaperWarning: jackhammer event time (8.75) is too great given stretched event duration (2.44) and soundscape duration (10.00), changed to 7.56.\n",
      "  ScaperWarning)\n"
     ]
    }
   ],
   "source": [
    "# SCAPER SETTINGS\n",
    "np.random.seed(123)\n",
    "fg_folder = os.getcwd() + '/1_Dataset_Generate/audio/soundbanks/test/foreground/'\n",
    "bg_folder = os.getcwd() + '/1_Dataset_Generate/audio/soundbanks/test/background/'\n",
    "\n",
    "n_soundscapes = 66\n",
    "ref_db = -50\n",
    "duration = 10.0 \n",
    "\n",
    "min_events = 1\n",
    "max_events = 9\n",
    "\n",
    "event_time_dist = 'truncnorm'\n",
    "event_time_mean1 = 3.0\n",
    "event_time_mean2 = 7.0\n",
    "event_time_std = 2.0\n",
    "event_time_min = 0.0\n",
    "event_time_max = 10.0\n",
    "\n",
    "source_time_dist = 'const'\n",
    "source_time = 0.0\n",
    "\n",
    "event_duration_dist = 'uniform'\n",
    "event_duration_min = 0.5\n",
    "event_duration_max = 4.0\n",
    "\n",
    "snr_dist = 'uniform'\n",
    "snr_min = 6\n",
    "snr_max = 30\n",
    "\n",
    "pitch_dist = 'uniform'\n",
    "pitch_min = -3.0\n",
    "pitch_max = 3.0\n",
    "\n",
    "time_stretch_dist = 'uniform'\n",
    "time_stretch_min = 0.8\n",
    "time_stretch_max = 1.2\n",
    "\n",
    "\n",
    "# FILE SETTINGS\n",
    "outfolder = os.path.join(os.getcwd() + '/1_Dataset_Generate/audio/soundbanks/test/generated/bimodal')\n",
    "if not os.path.isdir(outfolder):\n",
    "    os.mkdir(outfolder)\n",
    "    \n",
    "\n",
    "for n in range(n_soundscapes):\n",
    "    \n",
    "    print('Generating soundscape: {:d}/{:d}'.format(n+1, n_soundscapes))\n",
    "    \n",
    "    # create a scaper\n",
    "    sc = scaper.Scaper(duration, fg_folder, bg_folder)\n",
    "    sc.protected_labels = []\n",
    "    sc.ref_db = ref_db\n",
    "    \n",
    "    # add background\n",
    "    sc.add_background(label=('const', 'noise'), \n",
    "                      source_file=('choose', []), \n",
    "                      source_time=('const', 0))\n",
    "\n",
    "    # add random foreground events\n",
    "    n_events = np.random.randint(min_events, max_events+1)\n",
    "    for _ in range(n_events):\n",
    "        \n",
    "        coin = np.random.randint(0, 2)\n",
    "        if coin==0:\n",
    "            mu = event_time_mean1\n",
    "        else:\n",
    "            mu = event_time_mean2\n",
    "            \n",
    "        sc.add_event(label=('choose', []), \n",
    "                     source_file=('choose', []), \n",
    "                     source_time=(source_time_dist, source_time), \n",
    "                     event_time=(event_time_dist, mu, event_time_std, event_time_min, event_time_max), \n",
    "                     event_duration=(event_duration_dist, event_duration_min, event_duration_max), \n",
    "                     snr=(snr_dist, snr_min, snr_max),\n",
    "                     pitch_shift=(pitch_dist, pitch_min, pitch_max),\n",
    "                     time_stretch=(time_stretch_dist, time_stretch_min, time_stretch_max))\n",
    "    \n",
    "    # generate\n",
    "    audiofile = os.path.join(outfolder, \"soundscape_test_bimodal{:d}.wav\".format(n))\n",
    "    jamsfile = os.path.join(outfolder, \"soundscape_test_bimodal{:d}.jams\".format(n))\n",
    "    txtfile = os.path.join(outfolder, \"soundscape_test_bimodal{:d}.txt\".format(n))\n",
    "    \n",
    "    sc.generate(audiofile, jamsfile,\n",
    "                allow_repeated_label=True,\n",
    "                allow_repeated_source=False,\n",
    "                reverb=0.1,\n",
    "                disable_sox_warnings=True,\n",
    "                no_audio=False,\n",
    "                txt_path=txtfile)"
   ]
  },
  {
   "cell_type": "markdown",
   "metadata": {},
   "source": [
    "# Test-Uniform"
   ]
  },
  {
   "cell_type": "code",
   "execution_count": 28,
   "metadata": {},
   "outputs": [
    {
     "name": "stdout",
     "output_type": "stream",
     "text": [
      "Generating soundscape: 1/66\n"
     ]
    },
    {
     "name": "stderr",
     "output_type": "stream",
     "text": [
      "/Users/anderson675/miniconda3/lib/python3.7/site-packages/scaper/core.py:1172: ScaperWarning: car_horn event duration (0.73) is greater that source duration (0.17), changing to 0.17\n",
      "  ScaperWarning)\n"
     ]
    },
    {
     "name": "stdout",
     "output_type": "stream",
     "text": [
      "Generating soundscape: 2/66\n"
     ]
    },
    {
     "name": "stderr",
     "output_type": "stream",
     "text": [
      "/Users/anderson675/miniconda3/lib/python3.7/site-packages/scaper/core.py:1172: ScaperWarning: dog_bark event duration (3.35) is greater that source duration (0.40), changing to 0.40\n",
      "  ScaperWarning)\n"
     ]
    },
    {
     "name": "stdout",
     "output_type": "stream",
     "text": [
      "Generating soundscape: 3/66\n"
     ]
    },
    {
     "name": "stderr",
     "output_type": "stream",
     "text": [
      "/Users/anderson675/miniconda3/lib/python3.7/site-packages/scaper/core.py:1172: ScaperWarning: gun_shot event duration (3.21) is greater that source duration (1.97), changing to 1.97\n",
      "  ScaperWarning)\n",
      "/Users/anderson675/miniconda3/lib/python3.7/site-packages/scaper/core.py:1268: ScaperWarning: engine_idling event time (8.21) is too great given stretched event duration (2.81) and soundscape duration (10.00), changed to 7.19.\n",
      "  ScaperWarning)\n"
     ]
    },
    {
     "name": "stdout",
     "output_type": "stream",
     "text": [
      "Generating soundscape: 4/66\n"
     ]
    },
    {
     "name": "stderr",
     "output_type": "stream",
     "text": [
      "/Users/anderson675/miniconda3/lib/python3.7/site-packages/scaper/core.py:1172: ScaperWarning: car_horn event duration (2.67) is greater that source duration (1.62), changing to 1.62\n",
      "  ScaperWarning)\n",
      "/Users/anderson675/miniconda3/lib/python3.7/site-packages/scaper/core.py:1268: ScaperWarning: air_conditioner event time (7.17) is too great given stretched event duration (3.34) and soundscape duration (10.00), changed to 6.66.\n",
      "  ScaperWarning)\n"
     ]
    },
    {
     "name": "stdout",
     "output_type": "stream",
     "text": [
      "Generating soundscape: 5/66\n",
      "Generating soundscape: 6/66\n"
     ]
    },
    {
     "name": "stderr",
     "output_type": "stream",
     "text": [
      "/Users/anderson675/miniconda3/lib/python3.7/site-packages/scaper/core.py:1268: ScaperWarning: drilling event time (9.77) is too great given stretched event duration (2.71) and soundscape duration (10.00), changed to 7.29.\n",
      "  ScaperWarning)\n",
      "/Users/anderson675/miniconda3/lib/python3.7/site-packages/scaper/core.py:1268: ScaperWarning: engine_idling event time (8.59) is too great given stretched event duration (1.89) and soundscape duration (10.00), changed to 8.11.\n",
      "  ScaperWarning)\n"
     ]
    },
    {
     "name": "stdout",
     "output_type": "stream",
     "text": [
      "Generating soundscape: 7/66\n",
      "Generating soundscape: 8/66\n",
      "Generating soundscape: 9/66\n",
      "Generating soundscape: 10/66\n"
     ]
    },
    {
     "name": "stderr",
     "output_type": "stream",
     "text": [
      "/Users/anderson675/miniconda3/lib/python3.7/site-packages/scaper/core.py:1268: ScaperWarning: drilling event time (8.89) is too great given stretched event duration (2.23) and soundscape duration (10.00), changed to 7.77.\n",
      "  ScaperWarning)\n"
     ]
    },
    {
     "name": "stdout",
     "output_type": "stream",
     "text": [
      "Generating soundscape: 11/66\n"
     ]
    },
    {
     "name": "stderr",
     "output_type": "stream",
     "text": [
      "/Users/anderson675/miniconda3/lib/python3.7/site-packages/scaper/core.py:1268: ScaperWarning: speech event time (9.44) is too great given stretched event duration (3.66) and soundscape duration (10.00), changed to 6.34.\n",
      "  ScaperWarning)\n"
     ]
    },
    {
     "name": "stdout",
     "output_type": "stream",
     "text": [
      "Generating soundscape: 12/66\n"
     ]
    },
    {
     "name": "stderr",
     "output_type": "stream",
     "text": [
      "/Users/anderson675/miniconda3/lib/python3.7/site-packages/scaper/core.py:1172: ScaperWarning: car_horn event duration (0.93) is greater that source duration (0.48), changing to 0.48\n",
      "  ScaperWarning)\n"
     ]
    },
    {
     "name": "stdout",
     "output_type": "stream",
     "text": [
      "Generating soundscape: 13/66\n",
      "Generating soundscape: 14/66\n",
      "Generating soundscape: 15/66\n",
      "Generating soundscape: 16/66\n"
     ]
    },
    {
     "name": "stderr",
     "output_type": "stream",
     "text": [
      "/Users/anderson675/miniconda3/lib/python3.7/site-packages/scaper/core.py:1172: ScaperWarning: siren event duration (2.61) is greater that source duration (1.64), changing to 1.64\n",
      "  ScaperWarning)\n",
      "/Users/anderson675/miniconda3/lib/python3.7/site-packages/scaper/core.py:1268: ScaperWarning: siren event time (9.69) is too great given stretched event duration (1.38) and soundscape duration (10.00), changed to 8.62.\n",
      "  ScaperWarning)\n",
      "/Users/anderson675/miniconda3/lib/python3.7/site-packages/scaper/core.py:1172: ScaperWarning: drilling event duration (1.82) is greater that source duration (0.58), changing to 0.58\n",
      "  ScaperWarning)\n"
     ]
    },
    {
     "name": "stdout",
     "output_type": "stream",
     "text": [
      "Generating soundscape: 17/66\n",
      "Generating soundscape: 18/66\n"
     ]
    },
    {
     "name": "stderr",
     "output_type": "stream",
     "text": [
      "/Users/anderson675/miniconda3/lib/python3.7/site-packages/scaper/core.py:1172: ScaperWarning: dog_bark event duration (2.45) is greater that source duration (1.35), changing to 1.35\n",
      "  ScaperWarning)\n",
      "/Users/anderson675/miniconda3/lib/python3.7/site-packages/scaper/core.py:1268: ScaperWarning: gun_shot event time (9.48) is too great given stretched event duration (0.86) and soundscape duration (10.00), changed to 9.14.\n",
      "  ScaperWarning)\n",
      "/Users/anderson675/miniconda3/lib/python3.7/site-packages/scaper/core.py:1268: ScaperWarning: air_conditioner event time (8.91) is too great given stretched event duration (4.65) and soundscape duration (10.00), changed to 5.35.\n",
      "  ScaperWarning)\n",
      "/Users/anderson675/miniconda3/lib/python3.7/site-packages/scaper/core.py:1172: ScaperWarning: drilling event duration (2.62) is greater that source duration (0.55), changing to 0.55\n",
      "  ScaperWarning)\n",
      "/Users/anderson675/miniconda3/lib/python3.7/site-packages/scaper/core.py:1268: ScaperWarning: dog_bark event time (7.24) is too great given stretched event duration (4.38) and soundscape duration (10.00), changed to 5.62.\n",
      "  ScaperWarning)\n"
     ]
    },
    {
     "name": "stdout",
     "output_type": "stream",
     "text": [
      "Generating soundscape: 19/66\n"
     ]
    },
    {
     "name": "stderr",
     "output_type": "stream",
     "text": [
      "/Users/anderson675/miniconda3/lib/python3.7/site-packages/scaper/core.py:1172: ScaperWarning: gun_shot event duration (2.80) is greater that source duration (2.13), changing to 2.13\n",
      "  ScaperWarning)\n"
     ]
    },
    {
     "name": "stdout",
     "output_type": "stream",
     "text": [
      "Generating soundscape: 20/66\n"
     ]
    },
    {
     "name": "stderr",
     "output_type": "stream",
     "text": [
      "/Users/anderson675/miniconda3/lib/python3.7/site-packages/scaper/core.py:1172: ScaperWarning: drilling event duration (3.43) is greater that source duration (0.55), changing to 0.55\n",
      "  ScaperWarning)\n",
      "/Users/anderson675/miniconda3/lib/python3.7/site-packages/scaper/core.py:1172: ScaperWarning: drilling event duration (3.87) is greater that source duration (0.92), changing to 0.92\n",
      "  ScaperWarning)\n"
     ]
    },
    {
     "name": "stdout",
     "output_type": "stream",
     "text": [
      "Generating soundscape: 21/66\n"
     ]
    },
    {
     "name": "stderr",
     "output_type": "stream",
     "text": [
      "/Users/anderson675/miniconda3/lib/python3.7/site-packages/scaper/core.py:1172: ScaperWarning: car_horn event duration (1.93) is greater that source duration (1.21), changing to 1.21\n",
      "  ScaperWarning)\n",
      "/Users/anderson675/miniconda3/lib/python3.7/site-packages/scaper/core.py:1172: ScaperWarning: gun_shot event duration (3.14) is greater that source duration (1.84), changing to 1.84\n",
      "  ScaperWarning)\n"
     ]
    },
    {
     "name": "stdout",
     "output_type": "stream",
     "text": [
      "Generating soundscape: 22/66\n"
     ]
    },
    {
     "name": "stderr",
     "output_type": "stream",
     "text": [
      "/Users/anderson675/miniconda3/lib/python3.7/site-packages/scaper/core.py:1268: ScaperWarning: engine_idling event time (8.83) is too great given stretched event duration (3.93) and soundscape duration (10.00), changed to 6.07.\n",
      "  ScaperWarning)\n",
      "/Users/anderson675/miniconda3/lib/python3.7/site-packages/scaper/core.py:1268: ScaperWarning: drilling event time (8.49) is too great given stretched event duration (2.98) and soundscape duration (10.00), changed to 7.02.\n",
      "  ScaperWarning)\n",
      "/Users/anderson675/miniconda3/lib/python3.7/site-packages/scaper/core.py:1172: ScaperWarning: dog_bark event duration (2.00) is greater that source duration (0.44), changing to 0.44\n",
      "  ScaperWarning)\n"
     ]
    },
    {
     "name": "stdout",
     "output_type": "stream",
     "text": [
      "Generating soundscape: 23/66\n"
     ]
    },
    {
     "name": "stderr",
     "output_type": "stream",
     "text": [
      "/Users/anderson675/miniconda3/lib/python3.7/site-packages/scaper/core.py:1268: ScaperWarning: drilling event time (6.27) is too great given stretched event duration (3.86) and soundscape duration (10.00), changed to 6.14.\n",
      "  ScaperWarning)\n"
     ]
    },
    {
     "name": "stdout",
     "output_type": "stream",
     "text": [
      "Generating soundscape: 24/66\n"
     ]
    },
    {
     "name": "stderr",
     "output_type": "stream",
     "text": [
      "/Users/anderson675/miniconda3/lib/python3.7/site-packages/scaper/core.py:1268: ScaperWarning: street_music event time (8.56) is too great given stretched event duration (3.10) and soundscape duration (10.00), changed to 6.90.\n",
      "  ScaperWarning)\n",
      "/Users/anderson675/miniconda3/lib/python3.7/site-packages/scaper/core.py:1268: ScaperWarning: jackhammer event time (7.98) is too great given stretched event duration (3.29) and soundscape duration (10.00), changed to 6.71.\n",
      "  ScaperWarning)\n"
     ]
    },
    {
     "name": "stdout",
     "output_type": "stream",
     "text": [
      "Generating soundscape: 25/66\n"
     ]
    },
    {
     "name": "stderr",
     "output_type": "stream",
     "text": [
      "/Users/anderson675/miniconda3/lib/python3.7/site-packages/scaper/core.py:1268: ScaperWarning: engine_idling event time (8.72) is too great given stretched event duration (3.59) and soundscape duration (10.00), changed to 6.41.\n",
      "  ScaperWarning)\n",
      "/Users/anderson675/miniconda3/lib/python3.7/site-packages/scaper/core.py:1172: ScaperWarning: gun_shot event duration (3.10) is greater that source duration (0.92), changing to 0.92\n",
      "  ScaperWarning)\n",
      "/Users/anderson675/miniconda3/lib/python3.7/site-packages/scaper/core.py:1172: ScaperWarning: gun_shot event duration (3.12) is greater that source duration (3.04), changing to 3.04\n",
      "  ScaperWarning)\n"
     ]
    },
    {
     "name": "stdout",
     "output_type": "stream",
     "text": [
      "Generating soundscape: 26/66\n",
      "Generating soundscape: 27/66\n"
     ]
    },
    {
     "name": "stderr",
     "output_type": "stream",
     "text": [
      "/Users/anderson675/miniconda3/lib/python3.7/site-packages/scaper/core.py:1268: ScaperWarning: dog_bark event time (8.28) is too great given stretched event duration (1.74) and soundscape duration (10.00), changed to 8.26.\n",
      "  ScaperWarning)\n"
     ]
    },
    {
     "name": "stdout",
     "output_type": "stream",
     "text": [
      "Generating soundscape: 28/66\n"
     ]
    },
    {
     "name": "stderr",
     "output_type": "stream",
     "text": [
      "/Users/anderson675/miniconda3/lib/python3.7/site-packages/scaper/core.py:1268: ScaperWarning: car_horn event time (9.93) is too great given stretched event duration (2.91) and soundscape duration (10.00), changed to 7.09.\n",
      "  ScaperWarning)\n"
     ]
    },
    {
     "name": "stdout",
     "output_type": "stream",
     "text": [
      "Generating soundscape: 29/66\n"
     ]
    },
    {
     "name": "stderr",
     "output_type": "stream",
     "text": [
      "/Users/anderson675/miniconda3/lib/python3.7/site-packages/scaper/core.py:1172: ScaperWarning: car_horn event duration (3.13) is greater that source duration (0.65), changing to 0.65\n",
      "  ScaperWarning)\n",
      "/Users/anderson675/miniconda3/lib/python3.7/site-packages/scaper/core.py:1172: ScaperWarning: car_horn event duration (0.81) is greater that source duration (0.22), changing to 0.22\n",
      "  ScaperWarning)\n",
      "/Users/anderson675/miniconda3/lib/python3.7/site-packages/scaper/core.py:1172: ScaperWarning: car_horn event duration (3.18) is greater that source duration (0.85), changing to 0.85\n",
      "  ScaperWarning)\n"
     ]
    },
    {
     "name": "stdout",
     "output_type": "stream",
     "text": [
      "Generating soundscape: 30/66\n"
     ]
    },
    {
     "name": "stderr",
     "output_type": "stream",
     "text": [
      "/Users/anderson675/miniconda3/lib/python3.7/site-packages/scaper/core.py:1268: ScaperWarning: speech event time (9.22) is too great given stretched event duration (2.08) and soundscape duration (10.00), changed to 7.92.\n",
      "  ScaperWarning)\n",
      "/Users/anderson675/miniconda3/lib/python3.7/site-packages/scaper/core.py:1172: ScaperWarning: car_horn event duration (1.49) is greater that source duration (0.25), changing to 0.25\n",
      "  ScaperWarning)\n"
     ]
    },
    {
     "name": "stdout",
     "output_type": "stream",
     "text": [
      "Generating soundscape: 31/66\n"
     ]
    },
    {
     "name": "stderr",
     "output_type": "stream",
     "text": [
      "/Users/anderson675/miniconda3/lib/python3.7/site-packages/scaper/core.py:1268: ScaperWarning: engine_idling event time (7.43) is too great given stretched event duration (3.73) and soundscape duration (10.00), changed to 6.27.\n",
      "  ScaperWarning)\n"
     ]
    },
    {
     "name": "stdout",
     "output_type": "stream",
     "text": [
      "Generating soundscape: 32/66\n"
     ]
    },
    {
     "name": "stderr",
     "output_type": "stream",
     "text": [
      "/Users/anderson675/miniconda3/lib/python3.7/site-packages/scaper/core.py:1268: ScaperWarning: speech event time (8.64) is too great given stretched event duration (2.02) and soundscape duration (10.00), changed to 7.98.\n",
      "  ScaperWarning)\n"
     ]
    },
    {
     "name": "stdout",
     "output_type": "stream",
     "text": [
      "Generating soundscape: 33/66\n"
     ]
    },
    {
     "name": "stderr",
     "output_type": "stream",
     "text": [
      "/Users/anderson675/miniconda3/lib/python3.7/site-packages/scaper/core.py:1268: ScaperWarning: engine_idling event time (9.80) is too great given stretched event duration (1.26) and soundscape duration (10.00), changed to 8.74.\n",
      "  ScaperWarning)\n",
      "/Users/anderson675/miniconda3/lib/python3.7/site-packages/scaper/core.py:1172: ScaperWarning: dog_bark event duration (3.93) is greater that source duration (1.86), changing to 1.86\n",
      "  ScaperWarning)\n",
      "/Users/anderson675/miniconda3/lib/python3.7/site-packages/scaper/core.py:1268: ScaperWarning: dog_bark event time (8.53) is too great given stretched event duration (1.50) and soundscape duration (10.00), changed to 8.50.\n",
      "  ScaperWarning)\n",
      "/Users/anderson675/miniconda3/lib/python3.7/site-packages/scaper/core.py:1268: ScaperWarning: engine_idling event time (9.92) is too great given stretched event duration (3.14) and soundscape duration (10.00), changed to 6.86.\n",
      "  ScaperWarning)\n"
     ]
    },
    {
     "name": "stdout",
     "output_type": "stream",
     "text": [
      "Generating soundscape: 34/66\n",
      "Generating soundscape: 35/66\n",
      "Generating soundscape: 36/66\n"
     ]
    },
    {
     "name": "stderr",
     "output_type": "stream",
     "text": [
      "/Users/anderson675/miniconda3/lib/python3.7/site-packages/scaper/core.py:1268: ScaperWarning: jackhammer event time (8.81) is too great given stretched event duration (3.15) and soundscape duration (10.00), changed to 6.85.\n",
      "  ScaperWarning)\n",
      "/Users/anderson675/miniconda3/lib/python3.7/site-packages/scaper/core.py:1172: ScaperWarning: dog_bark event duration (2.98) is greater that source duration (1.00), changing to 1.00\n",
      "  ScaperWarning)\n",
      "/Users/anderson675/miniconda3/lib/python3.7/site-packages/scaper/core.py:1172: ScaperWarning: car_horn event duration (2.83) is greater that source duration (0.33), changing to 0.33\n",
      "  ScaperWarning)\n"
     ]
    },
    {
     "name": "stdout",
     "output_type": "stream",
     "text": [
      "Generating soundscape: 37/66\n"
     ]
    },
    {
     "name": "stderr",
     "output_type": "stream",
     "text": [
      "/Users/anderson675/miniconda3/lib/python3.7/site-packages/scaper/core.py:1172: ScaperWarning: gun_shot event duration (3.29) is greater that source duration (1.37), changing to 1.37\n",
      "  ScaperWarning)\n"
     ]
    },
    {
     "name": "stdout",
     "output_type": "stream",
     "text": [
      "Generating soundscape: 38/66\n"
     ]
    },
    {
     "name": "stderr",
     "output_type": "stream",
     "text": [
      "/Users/anderson675/miniconda3/lib/python3.7/site-packages/scaper/core.py:1172: ScaperWarning: dog_bark event duration (1.15) is greater that source duration (0.76), changing to 0.76\n",
      "  ScaperWarning)\n",
      "/Users/anderson675/miniconda3/lib/python3.7/site-packages/scaper/core.py:1268: ScaperWarning: dog_bark event time (9.58) is too great given stretched event duration (0.65) and soundscape duration (10.00), changed to 9.35.\n",
      "  ScaperWarning)\n",
      "/Users/anderson675/miniconda3/lib/python3.7/site-packages/scaper/core.py:1268: ScaperWarning: jackhammer event time (7.96) is too great given stretched event duration (2.08) and soundscape duration (10.00), changed to 7.92.\n",
      "  ScaperWarning)\n",
      "/Users/anderson675/miniconda3/lib/python3.7/site-packages/scaper/core.py:1268: ScaperWarning: jackhammer event time (8.46) is too great given stretched event duration (2.33) and soundscape duration (10.00), changed to 7.67.\n",
      "  ScaperWarning)\n"
     ]
    },
    {
     "name": "stdout",
     "output_type": "stream",
     "text": [
      "Generating soundscape: 39/66\n",
      "Generating soundscape: 40/66\n"
     ]
    },
    {
     "name": "stderr",
     "output_type": "stream",
     "text": [
      "/Users/anderson675/miniconda3/lib/python3.7/site-packages/scaper/core.py:1268: ScaperWarning: air_conditioner event time (7.93) is too great given stretched event duration (3.12) and soundscape duration (10.00), changed to 6.88.\n",
      "  ScaperWarning)\n",
      "/Users/anderson675/miniconda3/lib/python3.7/site-packages/scaper/core.py:1172: ScaperWarning: gun_shot event duration (3.19) is greater that source duration (0.90), changing to 0.90\n",
      "  ScaperWarning)\n"
     ]
    },
    {
     "name": "stdout",
     "output_type": "stream",
     "text": [
      "Generating soundscape: 41/66\n"
     ]
    },
    {
     "name": "stderr",
     "output_type": "stream",
     "text": [
      "/Users/anderson675/miniconda3/lib/python3.7/site-packages/scaper/core.py:1268: ScaperWarning: jackhammer event time (7.28) is too great given stretched event duration (4.08) and soundscape duration (10.00), changed to 5.92.\n",
      "  ScaperWarning)\n"
     ]
    },
    {
     "name": "stdout",
     "output_type": "stream",
     "text": [
      "Generating soundscape: 42/66\n"
     ]
    },
    {
     "name": "stderr",
     "output_type": "stream",
     "text": [
      "/Users/anderson675/miniconda3/lib/python3.7/site-packages/scaper/core.py:1172: ScaperWarning: gun_shot event duration (3.30) is greater that source duration (0.79), changing to 0.79\n",
      "  ScaperWarning)\n"
     ]
    },
    {
     "name": "stdout",
     "output_type": "stream",
     "text": [
      "Generating soundscape: 43/66\n"
     ]
    },
    {
     "name": "stderr",
     "output_type": "stream",
     "text": [
      "/Users/anderson675/miniconda3/lib/python3.7/site-packages/scaper/core.py:1268: ScaperWarning: drilling event time (9.84) is too great given stretched event duration (2.26) and soundscape duration (10.00), changed to 7.74.\n",
      "  ScaperWarning)\n"
     ]
    },
    {
     "name": "stdout",
     "output_type": "stream",
     "text": [
      "Generating soundscape: 44/66\n"
     ]
    },
    {
     "name": "stderr",
     "output_type": "stream",
     "text": [
      "/Users/anderson675/miniconda3/lib/python3.7/site-packages/scaper/core.py:1172: ScaperWarning: jackhammer event duration (2.72) is greater that source duration (2.20), changing to 2.20\n",
      "  ScaperWarning)\n",
      "/Users/anderson675/miniconda3/lib/python3.7/site-packages/scaper/core.py:1268: ScaperWarning: jackhammer event time (8.65) is too great given stretched event duration (1.82) and soundscape duration (10.00), changed to 8.18.\n",
      "  ScaperWarning)\n",
      "/Users/anderson675/miniconda3/lib/python3.7/site-packages/scaper/core.py:1172: ScaperWarning: gun_shot event duration (2.52) is greater that source duration (2.24), changing to 2.24\n",
      "  ScaperWarning)\n"
     ]
    },
    {
     "name": "stdout",
     "output_type": "stream",
     "text": [
      "Generating soundscape: 45/66\n"
     ]
    },
    {
     "name": "stderr",
     "output_type": "stream",
     "text": [
      "/Users/anderson675/miniconda3/lib/python3.7/site-packages/scaper/core.py:1172: ScaperWarning: car_horn event duration (1.34) is greater that source duration (0.65), changing to 0.65\n",
      "  ScaperWarning)\n",
      "/Users/anderson675/miniconda3/lib/python3.7/site-packages/scaper/core.py:1268: ScaperWarning: siren event time (9.82) is too great given stretched event duration (2.82) and soundscape duration (10.00), changed to 7.18.\n",
      "  ScaperWarning)\n",
      "/Users/anderson675/miniconda3/lib/python3.7/site-packages/scaper/core.py:1268: ScaperWarning: engine_idling event time (8.49) is too great given stretched event duration (3.24) and soundscape duration (10.00), changed to 6.76.\n",
      "  ScaperWarning)\n"
     ]
    },
    {
     "name": "stdout",
     "output_type": "stream",
     "text": [
      "Generating soundscape: 46/66\n"
     ]
    },
    {
     "name": "stderr",
     "output_type": "stream",
     "text": [
      "/Users/anderson675/miniconda3/lib/python3.7/site-packages/scaper/core.py:1268: ScaperWarning: drilling event time (7.21) is too great given stretched event duration (2.90) and soundscape duration (10.00), changed to 7.10.\n",
      "  ScaperWarning)\n",
      "/Users/anderson675/miniconda3/lib/python3.7/site-packages/scaper/core.py:1268: ScaperWarning: air_conditioner event time (9.96) is too great given stretched event duration (2.24) and soundscape duration (10.00), changed to 7.76.\n",
      "  ScaperWarning)\n"
     ]
    },
    {
     "name": "stdout",
     "output_type": "stream",
     "text": [
      "Generating soundscape: 47/66\n",
      "Generating soundscape: 48/66\n"
     ]
    },
    {
     "name": "stderr",
     "output_type": "stream",
     "text": [
      "/Users/anderson675/miniconda3/lib/python3.7/site-packages/scaper/core.py:1268: ScaperWarning: speech event time (9.44) is too great given stretched event duration (0.92) and soundscape duration (10.00), changed to 9.08.\n",
      "  ScaperWarning)\n",
      "/Users/anderson675/miniconda3/lib/python3.7/site-packages/scaper/core.py:1268: ScaperWarning: engine_idling event time (7.62) is too great given stretched event duration (2.71) and soundscape duration (10.00), changed to 7.29.\n",
      "  ScaperWarning)\n",
      "/Users/anderson675/miniconda3/lib/python3.7/site-packages/scaper/core.py:1268: ScaperWarning: drilling event time (9.80) is too great given stretched event duration (2.18) and soundscape duration (10.00), changed to 7.82.\n",
      "  ScaperWarning)\n",
      "/Users/anderson675/miniconda3/lib/python3.7/site-packages/scaper/core.py:1268: ScaperWarning: drilling event time (8.11) is too great given stretched event duration (2.97) and soundscape duration (10.00), changed to 7.03.\n",
      "  ScaperWarning)\n"
     ]
    },
    {
     "name": "stdout",
     "output_type": "stream",
     "text": [
      "Generating soundscape: 49/66\n"
     ]
    },
    {
     "name": "stderr",
     "output_type": "stream",
     "text": [
      "/Users/anderson675/miniconda3/lib/python3.7/site-packages/scaper/core.py:1172: ScaperWarning: car_horn event duration (2.35) is greater that source duration (0.86), changing to 0.86\n",
      "  ScaperWarning)\n",
      "/Users/anderson675/miniconda3/lib/python3.7/site-packages/scaper/core.py:1268: ScaperWarning: drilling event time (8.41) is too great given stretched event duration (3.27) and soundscape duration (10.00), changed to 6.73.\n",
      "  ScaperWarning)\n",
      "/Users/anderson675/miniconda3/lib/python3.7/site-packages/scaper/core.py:1172: ScaperWarning: drilling event duration (2.01) is greater that source duration (0.61), changing to 0.61\n",
      "  ScaperWarning)\n",
      "/Users/anderson675/miniconda3/lib/python3.7/site-packages/scaper/core.py:1268: ScaperWarning: air_conditioner event time (9.03) is too great given stretched event duration (2.37) and soundscape duration (10.00), changed to 7.63.\n",
      "  ScaperWarning)\n"
     ]
    },
    {
     "name": "stdout",
     "output_type": "stream",
     "text": [
      "Generating soundscape: 50/66\n"
     ]
    },
    {
     "name": "stderr",
     "output_type": "stream",
     "text": [
      "/Users/anderson675/miniconda3/lib/python3.7/site-packages/scaper/core.py:1172: ScaperWarning: car_horn event duration (2.43) is greater that source duration (0.99), changing to 0.99\n",
      "  ScaperWarning)\n",
      "/Users/anderson675/miniconda3/lib/python3.7/site-packages/scaper/core.py:1172: ScaperWarning: gun_shot event duration (2.49) is greater that source duration (0.98), changing to 0.98\n",
      "  ScaperWarning)\n"
     ]
    },
    {
     "name": "stdout",
     "output_type": "stream",
     "text": [
      "Generating soundscape: 51/66\n"
     ]
    },
    {
     "name": "stderr",
     "output_type": "stream",
     "text": [
      "/Users/anderson675/miniconda3/lib/python3.7/site-packages/scaper/core.py:1268: ScaperWarning: siren event time (9.87) is too great given stretched event duration (1.45) and soundscape duration (10.00), changed to 8.55.\n",
      "  ScaperWarning)\n",
      "/Users/anderson675/miniconda3/lib/python3.7/site-packages/scaper/core.py:1268: ScaperWarning: jackhammer event time (7.21) is too great given stretched event duration (2.80) and soundscape duration (10.00), changed to 7.20.\n",
      "  ScaperWarning)\n"
     ]
    },
    {
     "name": "stdout",
     "output_type": "stream",
     "text": [
      "Generating soundscape: 52/66\n"
     ]
    },
    {
     "name": "stderr",
     "output_type": "stream",
     "text": [
      "/Users/anderson675/miniconda3/lib/python3.7/site-packages/scaper/core.py:1268: ScaperWarning: engine_idling event time (6.42) is too great given stretched event duration (3.97) and soundscape duration (10.00), changed to 6.03.\n",
      "  ScaperWarning)\n",
      "/Users/anderson675/miniconda3/lib/python3.7/site-packages/scaper/core.py:1172: ScaperWarning: dog_bark event duration (3.50) is greater that source duration (0.76), changing to 0.76\n",
      "  ScaperWarning)\n",
      "/Users/anderson675/miniconda3/lib/python3.7/site-packages/scaper/core.py:1172: ScaperWarning: car_horn event duration (1.85) is greater that source duration (1.46), changing to 1.46\n",
      "  ScaperWarning)\n"
     ]
    },
    {
     "name": "stdout",
     "output_type": "stream",
     "text": [
      "Generating soundscape: 53/66\n",
      "Generating soundscape: 54/66\n"
     ]
    },
    {
     "name": "stderr",
     "output_type": "stream",
     "text": [
      "/Users/anderson675/miniconda3/lib/python3.7/site-packages/scaper/core.py:1268: ScaperWarning: air_conditioner event time (8.88) is too great given stretched event duration (1.52) and soundscape duration (10.00), changed to 8.48.\n",
      "  ScaperWarning)\n"
     ]
    },
    {
     "name": "stdout",
     "output_type": "stream",
     "text": [
      "Generating soundscape: 55/66\n"
     ]
    },
    {
     "name": "stderr",
     "output_type": "stream",
     "text": [
      "/Users/anderson675/miniconda3/lib/python3.7/site-packages/scaper/core.py:1268: ScaperWarning: air_conditioner event time (8.64) is too great given stretched event duration (1.45) and soundscape duration (10.00), changed to 8.55.\n",
      "  ScaperWarning)\n",
      "/Users/anderson675/miniconda3/lib/python3.7/site-packages/scaper/core.py:1268: ScaperWarning: speech event time (8.82) is too great given stretched event duration (1.54) and soundscape duration (10.00), changed to 8.46.\n",
      "  ScaperWarning)\n",
      "/Users/anderson675/miniconda3/lib/python3.7/site-packages/scaper/core.py:1172: ScaperWarning: car_horn event duration (0.94) is greater that source duration (0.41), changing to 0.41\n",
      "  ScaperWarning)\n",
      "/Users/anderson675/miniconda3/lib/python3.7/site-packages/scaper/core.py:1268: ScaperWarning: speech event time (9.98) is too great given stretched event duration (1.22) and soundscape duration (10.00), changed to 8.78.\n",
      "  ScaperWarning)\n",
      "/Users/anderson675/miniconda3/lib/python3.7/site-packages/scaper/core.py:1268: ScaperWarning: siren event time (8.86) is too great given stretched event duration (1.63) and soundscape duration (10.00), changed to 8.37.\n",
      "  ScaperWarning)\n"
     ]
    },
    {
     "name": "stdout",
     "output_type": "stream",
     "text": [
      "Generating soundscape: 56/66\n"
     ]
    },
    {
     "name": "stderr",
     "output_type": "stream",
     "text": [
      "/Users/anderson675/miniconda3/lib/python3.7/site-packages/scaper/core.py:1268: ScaperWarning: air_conditioner event time (9.65) is too great given stretched event duration (1.95) and soundscape duration (10.00), changed to 8.05.\n",
      "  ScaperWarning)\n"
     ]
    },
    {
     "name": "stdout",
     "output_type": "stream",
     "text": [
      "Generating soundscape: 57/66\n"
     ]
    },
    {
     "name": "stderr",
     "output_type": "stream",
     "text": [
      "/Users/anderson675/miniconda3/lib/python3.7/site-packages/scaper/core.py:1268: ScaperWarning: speech event time (8.79) is too great given stretched event duration (2.73) and soundscape duration (10.00), changed to 7.27.\n",
      "  ScaperWarning)\n",
      "/Users/anderson675/miniconda3/lib/python3.7/site-packages/scaper/core.py:1172: ScaperWarning: dog_bark event duration (2.90) is greater that source duration (1.05), changing to 1.05\n",
      "  ScaperWarning)\n",
      "/Users/anderson675/miniconda3/lib/python3.7/site-packages/scaper/core.py:1268: ScaperWarning: dog_bark event time (8.90) is too great given stretched event duration (1.19) and soundscape duration (10.00), changed to 8.81.\n",
      "  ScaperWarning)\n"
     ]
    },
    {
     "name": "stdout",
     "output_type": "stream",
     "text": [
      "Generating soundscape: 58/66\n"
     ]
    },
    {
     "name": "stderr",
     "output_type": "stream",
     "text": [
      "/Users/anderson675/miniconda3/lib/python3.7/site-packages/scaper/core.py:1268: ScaperWarning: speech event time (8.38) is too great given stretched event duration (1.71) and soundscape duration (10.00), changed to 8.29.\n",
      "  ScaperWarning)\n",
      "/Users/anderson675/miniconda3/lib/python3.7/site-packages/scaper/core.py:1172: ScaperWarning: drilling event duration (3.15) is greater that source duration (0.97), changing to 0.97\n",
      "  ScaperWarning)\n"
     ]
    },
    {
     "name": "stdout",
     "output_type": "stream",
     "text": [
      "Generating soundscape: 59/66\n",
      "Generating soundscape: 60/66\n"
     ]
    },
    {
     "name": "stderr",
     "output_type": "stream",
     "text": [
      "/Users/anderson675/miniconda3/lib/python3.7/site-packages/scaper/core.py:1172: ScaperWarning: gun_shot event duration (3.39) is greater that source duration (0.90), changing to 0.90\n",
      "  ScaperWarning)\n",
      "/Users/anderson675/miniconda3/lib/python3.7/site-packages/scaper/core.py:1172: ScaperWarning: jackhammer event duration (2.92) is greater that source duration (1.87), changing to 1.87\n",
      "  ScaperWarning)\n",
      "/Users/anderson675/miniconda3/lib/python3.7/site-packages/scaper/core.py:1268: ScaperWarning: jackhammer event time (8.42) is too great given stretched event duration (1.74) and soundscape duration (10.00), changed to 8.26.\n",
      "  ScaperWarning)\n"
     ]
    },
    {
     "name": "stdout",
     "output_type": "stream",
     "text": [
      "Generating soundscape: 61/66\n"
     ]
    },
    {
     "name": "stderr",
     "output_type": "stream",
     "text": [
      "/Users/anderson675/miniconda3/lib/python3.7/site-packages/scaper/core.py:1172: ScaperWarning: gun_shot event duration (3.72) is greater that source duration (1.97), changing to 1.97\n",
      "  ScaperWarning)\n",
      "/Users/anderson675/miniconda3/lib/python3.7/site-packages/scaper/core.py:1268: ScaperWarning: gun_shot event time (9.09) is too great given stretched event duration (2.26) and soundscape duration (10.00), changed to 7.74.\n",
      "  ScaperWarning)\n",
      "/Users/anderson675/miniconda3/lib/python3.7/site-packages/scaper/core.py:1268: ScaperWarning: speech event time (9.47) is too great given stretched event duration (2.54) and soundscape duration (10.00), changed to 7.46.\n",
      "  ScaperWarning)\n"
     ]
    },
    {
     "name": "stdout",
     "output_type": "stream",
     "text": [
      "Generating soundscape: 62/66\n"
     ]
    },
    {
     "name": "stderr",
     "output_type": "stream",
     "text": [
      "/Users/anderson675/miniconda3/lib/python3.7/site-packages/scaper/core.py:1268: ScaperWarning: dog_bark event time (9.30) is too great given stretched event duration (1.90) and soundscape duration (10.00), changed to 8.10.\n",
      "  ScaperWarning)\n"
     ]
    },
    {
     "name": "stdout",
     "output_type": "stream",
     "text": [
      "Generating soundscape: 63/66\n"
     ]
    },
    {
     "name": "stderr",
     "output_type": "stream",
     "text": [
      "/Users/anderson675/miniconda3/lib/python3.7/site-packages/scaper/core.py:1268: ScaperWarning: siren event time (9.28) is too great given stretched event duration (2.94) and soundscape duration (10.00), changed to 7.06.\n",
      "  ScaperWarning)\n"
     ]
    },
    {
     "name": "stdout",
     "output_type": "stream",
     "text": [
      "Generating soundscape: 64/66\n"
     ]
    },
    {
     "name": "stderr",
     "output_type": "stream",
     "text": [
      "/Users/anderson675/miniconda3/lib/python3.7/site-packages/scaper/core.py:1268: ScaperWarning: air_conditioner event time (9.25) is too great given stretched event duration (4.07) and soundscape duration (10.00), changed to 5.93.\n",
      "  ScaperWarning)\n"
     ]
    },
    {
     "name": "stdout",
     "output_type": "stream",
     "text": [
      "Generating soundscape: 65/66\n",
      "Generating soundscape: 66/66\n"
     ]
    },
    {
     "name": "stderr",
     "output_type": "stream",
     "text": [
      "/Users/anderson675/miniconda3/lib/python3.7/site-packages/scaper/core.py:1268: ScaperWarning: gun_shot event time (9.80) is too great given stretched event duration (0.81) and soundscape duration (10.00), changed to 9.19.\n",
      "  ScaperWarning)\n",
      "/Users/anderson675/miniconda3/lib/python3.7/site-packages/scaper/core.py:1172: ScaperWarning: car_horn event duration (2.19) is greater that source duration (0.41), changing to 0.41\n",
      "  ScaperWarning)\n",
      "/Users/anderson675/miniconda3/lib/python3.7/site-packages/scaper/core.py:1172: ScaperWarning: jackhammer event duration (3.15) is greater that source duration (1.44), changing to 1.44\n",
      "  ScaperWarning)\n"
     ]
    }
   ],
   "source": [
    "# SCAPER SETTINGS\n",
    "np.random.seed(123)\n",
    "fg_folder = os.getcwd() + '/1_Dataset_Generate/audio/soundbanks/test/foreground/'\n",
    "bg_folder = os.getcwd() + '/1_Dataset_Generate/audio/soundbanks/test/background/'\n",
    "\n",
    "n_soundscapes = 66\n",
    "ref_db = -50\n",
    "duration = 10.0 \n",
    "\n",
    "min_events = 1\n",
    "max_events = 9\n",
    "\n",
    "event_time_dist = 'uniform'\n",
    "event_time_min = 0.0\n",
    "event_time_max = 10.0\n",
    "\n",
    "source_time_dist = 'const'\n",
    "source_time = 0.0\n",
    "\n",
    "event_duration_dist = 'uniform'\n",
    "event_duration_min = 0.5\n",
    "event_duration_max = 4.0\n",
    "\n",
    "snr_dist = 'uniform'\n",
    "snr_min = 6\n",
    "snr_max = 30\n",
    "\n",
    "pitch_dist = 'uniform'\n",
    "pitch_min = -3.0\n",
    "pitch_max = 3.0\n",
    "\n",
    "time_stretch_dist = 'uniform'\n",
    "time_stretch_min = 0.8\n",
    "time_stretch_max = 1.2\n",
    "\n",
    "\n",
    "# FILE SETTINGS\n",
    "outfolder = os.path.join(os.getcwd() + '/1_Dataset_Generate/audio/soundbanks/test/generated/uniform')\n",
    "if not os.path.isdir(outfolder):\n",
    "    os.mkdir(outfolder)\n",
    "\n",
    "for n in range(n_soundscapes):\n",
    "    \n",
    "    print('Generating soundscape: {:d}/{:d}'.format(n+1, n_soundscapes))\n",
    "    \n",
    "    # create a scaper\n",
    "    sc = scaper.Scaper(duration, fg_folder, bg_folder)\n",
    "    sc.protected_labels = []\n",
    "    sc.ref_db = ref_db\n",
    "    \n",
    "    # add background\n",
    "    sc.add_background(label=('const', 'noise'), \n",
    "                      source_file=('choose', []), \n",
    "                      source_time=('const', 0))\n",
    "\n",
    "    # add random foreground events\n",
    "    n_events = np.random.randint(min_events, max_events+1)\n",
    "    for _ in range(n_events):\n",
    "        sc.add_event(label=('choose', []), \n",
    "                     source_file=('choose', []), \n",
    "                     source_time=(source_time_dist, source_time), \n",
    "                     event_time=(event_time_dist, event_time_min, event_time_max), \n",
    "                     event_duration=(event_duration_dist, event_duration_min, event_duration_max), \n",
    "                     snr=(snr_dist, snr_min, snr_max),\n",
    "                     pitch_shift=(pitch_dist, pitch_min, pitch_max),\n",
    "                     time_stretch=(time_stretch_dist, time_stretch_min, time_stretch_max))\n",
    "    \n",
    "    # generate\n",
    "    audiofile = os.path.join(outfolder, \"soundscape_test_uniform{:d}.wav\".format(n))\n",
    "    jamsfile = os.path.join(outfolder, \"soundscape_test_uniform{:d}.jams\".format(n))\n",
    "    txtfile = os.path.join(outfolder, \"soundscape_test_uniform{:d}.txt\".format(n))\n",
    "    \n",
    "    sc.generate(audiofile, jamsfile,\n",
    "                allow_repeated_label=True,\n",
    "                allow_repeated_source=False,\n",
    "                reverb=0.1,\n",
    "                disable_sox_warnings=True,\n",
    "                no_audio=False,\n",
    "                txt_path=txtfile)"
   ]
  },
  {
   "cell_type": "markdown",
   "metadata": {},
   "source": [
    "# Test-Unimodal"
   ]
  },
  {
   "cell_type": "code",
   "execution_count": 29,
   "metadata": {},
   "outputs": [
    {
     "name": "stdout",
     "output_type": "stream",
     "text": [
      "Generating soundscape: 1/66\n"
     ]
    },
    {
     "name": "stderr",
     "output_type": "stream",
     "text": [
      "/Users/anderson675/miniconda3/lib/python3.7/site-packages/scaper/core.py:1172: ScaperWarning: car_horn event duration (2.63) is greater that source duration (0.90), changing to 0.90\n",
      "  ScaperWarning)\n"
     ]
    },
    {
     "name": "stdout",
     "output_type": "stream",
     "text": [
      "Generating soundscape: 2/66\n"
     ]
    },
    {
     "name": "stderr",
     "output_type": "stream",
     "text": [
      "/Users/anderson675/miniconda3/lib/python3.7/site-packages/scaper/core.py:1172: ScaperWarning: car_horn event duration (3.31) is greater that source duration (0.47), changing to 0.47\n",
      "  ScaperWarning)\n",
      "/Users/anderson675/miniconda3/lib/python3.7/site-packages/scaper/core.py:1172: ScaperWarning: gun_shot event duration (3.29) is greater that source duration (2.95), changing to 2.95\n",
      "  ScaperWarning)\n"
     ]
    },
    {
     "name": "stdout",
     "output_type": "stream",
     "text": [
      "Generating soundscape: 3/66\n"
     ]
    },
    {
     "name": "stderr",
     "output_type": "stream",
     "text": [
      "/Users/anderson675/miniconda3/lib/python3.7/site-packages/scaper/core.py:1268: ScaperWarning: jackhammer event time (6.26) is too great given stretched event duration (3.98) and soundscape duration (10.00), changed to 6.02.\n",
      "  ScaperWarning)\n"
     ]
    },
    {
     "name": "stdout",
     "output_type": "stream",
     "text": [
      "Generating soundscape: 4/66\n"
     ]
    },
    {
     "name": "stderr",
     "output_type": "stream",
     "text": [
      "/Users/anderson675/miniconda3/lib/python3.7/site-packages/scaper/core.py:1172: ScaperWarning: car_horn event duration (3.97) is greater that source duration (0.33), changing to 0.33\n",
      "  ScaperWarning)\n"
     ]
    },
    {
     "name": "stdout",
     "output_type": "stream",
     "text": [
      "Generating soundscape: 5/66\n"
     ]
    },
    {
     "name": "stderr",
     "output_type": "stream",
     "text": [
      "/Users/anderson675/miniconda3/lib/python3.7/site-packages/scaper/core.py:1172: ScaperWarning: engine_idling event duration (2.85) is greater that source duration (1.52), changing to 1.52\n",
      "  ScaperWarning)\n"
     ]
    },
    {
     "name": "stdout",
     "output_type": "stream",
     "text": [
      "Generating soundscape: 6/66\n",
      "Generating soundscape: 7/66\n"
     ]
    },
    {
     "name": "stderr",
     "output_type": "stream",
     "text": [
      "/Users/anderson675/miniconda3/lib/python3.7/site-packages/scaper/core.py:1172: ScaperWarning: gun_shot event duration (3.82) is greater that source duration (1.17), changing to 1.17\n",
      "  ScaperWarning)\n"
     ]
    },
    {
     "name": "stdout",
     "output_type": "stream",
     "text": [
      "Generating soundscape: 8/66\n"
     ]
    },
    {
     "name": "stderr",
     "output_type": "stream",
     "text": [
      "/Users/anderson675/miniconda3/lib/python3.7/site-packages/scaper/core.py:1268: ScaperWarning: jackhammer event time (9.09) is too great given stretched event duration (1.81) and soundscape duration (10.00), changed to 8.19.\n",
      "  ScaperWarning)\n"
     ]
    },
    {
     "name": "stdout",
     "output_type": "stream",
     "text": [
      "Generating soundscape: 9/66\n"
     ]
    },
    {
     "name": "stderr",
     "output_type": "stream",
     "text": [
      "/Users/anderson675/miniconda3/lib/python3.7/site-packages/scaper/core.py:1172: ScaperWarning: car_horn event duration (3.90) is greater that source duration (1.16), changing to 1.16\n",
      "  ScaperWarning)\n"
     ]
    },
    {
     "name": "stdout",
     "output_type": "stream",
     "text": [
      "Generating soundscape: 10/66\n",
      "Generating soundscape: 11/66\n"
     ]
    },
    {
     "name": "stderr",
     "output_type": "stream",
     "text": [
      "/Users/anderson675/miniconda3/lib/python3.7/site-packages/scaper/core.py:1268: ScaperWarning: jackhammer event time (7.20) is too great given stretched event duration (3.29) and soundscape duration (10.00), changed to 6.71.\n",
      "  ScaperWarning)\n"
     ]
    },
    {
     "name": "stdout",
     "output_type": "stream",
     "text": [
      "Generating soundscape: 12/66\n",
      "Generating soundscape: 13/66\n"
     ]
    },
    {
     "name": "stderr",
     "output_type": "stream",
     "text": [
      "/Users/anderson675/miniconda3/lib/python3.7/site-packages/scaper/core.py:1172: ScaperWarning: dog_bark event duration (3.31) is greater that source duration (0.74), changing to 0.74\n",
      "  ScaperWarning)\n"
     ]
    },
    {
     "name": "stdout",
     "output_type": "stream",
     "text": [
      "Generating soundscape: 14/66\n"
     ]
    },
    {
     "name": "stderr",
     "output_type": "stream",
     "text": [
      "/Users/anderson675/miniconda3/lib/python3.7/site-packages/scaper/core.py:1172: ScaperWarning: dog_bark event duration (2.41) is greater that source duration (1.99), changing to 1.99\n",
      "  ScaperWarning)\n"
     ]
    },
    {
     "name": "stdout",
     "output_type": "stream",
     "text": [
      "Generating soundscape: 15/66\n"
     ]
    },
    {
     "name": "stderr",
     "output_type": "stream",
     "text": [
      "/Users/anderson675/miniconda3/lib/python3.7/site-packages/scaper/core.py:1268: ScaperWarning: dog_bark event time (6.42) is too great given stretched event duration (4.59) and soundscape duration (10.00), changed to 5.41.\n",
      "  ScaperWarning)\n",
      "/Users/anderson675/miniconda3/lib/python3.7/site-packages/scaper/core.py:1268: ScaperWarning: street_music event time (7.08) is too great given stretched event duration (3.30) and soundscape duration (10.00), changed to 6.70.\n",
      "  ScaperWarning)\n"
     ]
    },
    {
     "name": "stdout",
     "output_type": "stream",
     "text": [
      "Generating soundscape: 16/66\n"
     ]
    },
    {
     "name": "stderr",
     "output_type": "stream",
     "text": [
      "/Users/anderson675/miniconda3/lib/python3.7/site-packages/scaper/core.py:1268: ScaperWarning: speech event time (9.60) is too great given stretched event duration (2.96) and soundscape duration (10.00), changed to 7.04.\n",
      "  ScaperWarning)\n"
     ]
    },
    {
     "name": "stdout",
     "output_type": "stream",
     "text": [
      "Generating soundscape: 17/66\n"
     ]
    },
    {
     "name": "stderr",
     "output_type": "stream",
     "text": [
      "/Users/anderson675/miniconda3/lib/python3.7/site-packages/scaper/core.py:1172: ScaperWarning: dog_bark event duration (3.82) is greater that source duration (2.42), changing to 2.42\n",
      "  ScaperWarning)\n",
      "/Users/anderson675/miniconda3/lib/python3.7/site-packages/scaper/core.py:1172: ScaperWarning: gun_shot event duration (3.01) is greater that source duration (0.86), changing to 0.86\n",
      "  ScaperWarning)\n"
     ]
    },
    {
     "name": "stdout",
     "output_type": "stream",
     "text": [
      "Generating soundscape: 18/66\n"
     ]
    },
    {
     "name": "stderr",
     "output_type": "stream",
     "text": [
      "/Users/anderson675/miniconda3/lib/python3.7/site-packages/scaper/core.py:1172: ScaperWarning: jackhammer event duration (3.32) is greater that source duration (3.25), changing to 3.25\n",
      "  ScaperWarning)\n",
      "/Users/anderson675/miniconda3/lib/python3.7/site-packages/scaper/core.py:1172: ScaperWarning: gun_shot event duration (1.34) is greater that source duration (0.86), changing to 0.86\n",
      "  ScaperWarning)\n",
      "/Users/anderson675/miniconda3/lib/python3.7/site-packages/scaper/core.py:1172: ScaperWarning: dog_bark event duration (2.37) is greater that source duration (0.38), changing to 0.38\n",
      "  ScaperWarning)\n"
     ]
    },
    {
     "name": "stdout",
     "output_type": "stream",
     "text": [
      "Generating soundscape: 19/66\n",
      "Generating soundscape: 20/66\n"
     ]
    },
    {
     "name": "stderr",
     "output_type": "stream",
     "text": [
      "/Users/anderson675/miniconda3/lib/python3.7/site-packages/scaper/core.py:1172: ScaperWarning: car_horn event duration (2.86) is greater that source duration (1.16), changing to 1.16\n",
      "  ScaperWarning)\n"
     ]
    },
    {
     "name": "stdout",
     "output_type": "stream",
     "text": [
      "Generating soundscape: 21/66\n"
     ]
    },
    {
     "name": "stderr",
     "output_type": "stream",
     "text": [
      "/Users/anderson675/miniconda3/lib/python3.7/site-packages/scaper/core.py:1172: ScaperWarning: gun_shot event duration (2.75) is greater that source duration (2.59), changing to 2.59\n",
      "  ScaperWarning)\n",
      "/Users/anderson675/miniconda3/lib/python3.7/site-packages/scaper/core.py:1268: ScaperWarning: speech event time (7.53) is too great given stretched event duration (4.39) and soundscape duration (10.00), changed to 5.61.\n",
      "  ScaperWarning)\n"
     ]
    },
    {
     "name": "stdout",
     "output_type": "stream",
     "text": [
      "Generating soundscape: 22/66\n"
     ]
    },
    {
     "name": "stderr",
     "output_type": "stream",
     "text": [
      "/Users/anderson675/miniconda3/lib/python3.7/site-packages/scaper/core.py:1172: ScaperWarning: dog_bark event duration (3.60) is greater that source duration (0.72), changing to 0.72\n",
      "  ScaperWarning)\n"
     ]
    },
    {
     "name": "stdout",
     "output_type": "stream",
     "text": [
      "Generating soundscape: 23/66\n"
     ]
    },
    {
     "name": "stderr",
     "output_type": "stream",
     "text": [
      "/Users/anderson675/miniconda3/lib/python3.7/site-packages/scaper/core.py:1268: ScaperWarning: drilling event time (9.17) is too great given stretched event duration (3.92) and soundscape duration (10.00), changed to 6.08.\n",
      "  ScaperWarning)\n",
      "/Users/anderson675/miniconda3/lib/python3.7/site-packages/scaper/core.py:1268: ScaperWarning: dog_bark event time (7.37) is too great given stretched event duration (3.07) and soundscape duration (10.00), changed to 6.93.\n",
      "  ScaperWarning)\n",
      "/Users/anderson675/miniconda3/lib/python3.7/site-packages/scaper/core.py:1172: ScaperWarning: gun_shot event duration (3.01) is greater that source duration (0.86), changing to 0.86\n",
      "  ScaperWarning)\n"
     ]
    },
    {
     "name": "stdout",
     "output_type": "stream",
     "text": [
      "Generating soundscape: 24/66\n"
     ]
    },
    {
     "name": "stderr",
     "output_type": "stream",
     "text": [
      "/Users/anderson675/miniconda3/lib/python3.7/site-packages/scaper/core.py:1172: ScaperWarning: dog_bark event duration (1.13) is greater that source duration (0.45), changing to 0.45\n",
      "  ScaperWarning)\n",
      "/Users/anderson675/miniconda3/lib/python3.7/site-packages/scaper/core.py:1172: ScaperWarning: car_horn event duration (0.74) is greater that source duration (0.28), changing to 0.28\n",
      "  ScaperWarning)\n"
     ]
    },
    {
     "name": "stdout",
     "output_type": "stream",
     "text": [
      "Generating soundscape: 25/66\n"
     ]
    },
    {
     "name": "stderr",
     "output_type": "stream",
     "text": [
      "/Users/anderson675/miniconda3/lib/python3.7/site-packages/scaper/core.py:1268: ScaperWarning: siren event time (6.71) is too great given stretched event duration (4.56) and soundscape duration (10.00), changed to 5.44.\n",
      "  ScaperWarning)\n"
     ]
    },
    {
     "name": "stdout",
     "output_type": "stream",
     "text": [
      "Generating soundscape: 26/66\n"
     ]
    },
    {
     "name": "stderr",
     "output_type": "stream",
     "text": [
      "/Users/anderson675/miniconda3/lib/python3.7/site-packages/scaper/core.py:1268: ScaperWarning: engine_idling event time (9.42) is too great given stretched event duration (1.69) and soundscape duration (10.00), changed to 8.31.\n",
      "  ScaperWarning)\n",
      "/Users/anderson675/miniconda3/lib/python3.7/site-packages/scaper/core.py:1172: ScaperWarning: dog_bark event duration (0.95) is greater that source duration (0.76), changing to 0.76\n",
      "  ScaperWarning)\n"
     ]
    },
    {
     "name": "stdout",
     "output_type": "stream",
     "text": [
      "Generating soundscape: 27/66\n",
      "Generating soundscape: 28/66\n"
     ]
    },
    {
     "name": "stderr",
     "output_type": "stream",
     "text": [
      "/Users/anderson675/miniconda3/lib/python3.7/site-packages/scaper/core.py:1172: ScaperWarning: dog_bark event duration (1.89) is greater that source duration (0.70), changing to 0.70\n",
      "  ScaperWarning)\n",
      "/Users/anderson675/miniconda3/lib/python3.7/site-packages/scaper/core.py:1172: ScaperWarning: gun_shot event duration (2.13) is greater that source duration (1.50), changing to 1.50\n",
      "  ScaperWarning)\n",
      "/Users/anderson675/miniconda3/lib/python3.7/site-packages/scaper/core.py:1268: ScaperWarning: jackhammer event time (7.12) is too great given stretched event duration (3.06) and soundscape duration (10.00), changed to 6.94.\n",
      "  ScaperWarning)\n"
     ]
    },
    {
     "name": "stdout",
     "output_type": "stream",
     "text": [
      "Generating soundscape: 29/66\n"
     ]
    },
    {
     "name": "stderr",
     "output_type": "stream",
     "text": [
      "/Users/anderson675/miniconda3/lib/python3.7/site-packages/scaper/core.py:1268: ScaperWarning: engine_idling event time (7.80) is too great given stretched event duration (3.06) and soundscape duration (10.00), changed to 6.94.\n",
      "  ScaperWarning)\n",
      "/Users/anderson675/miniconda3/lib/python3.7/site-packages/scaper/core.py:1172: ScaperWarning: drilling event duration (3.32) is greater that source duration (1.02), changing to 1.02\n",
      "  ScaperWarning)\n"
     ]
    },
    {
     "name": "stdout",
     "output_type": "stream",
     "text": [
      "Generating soundscape: 30/66\n"
     ]
    },
    {
     "name": "stderr",
     "output_type": "stream",
     "text": [
      "/Users/anderson675/miniconda3/lib/python3.7/site-packages/scaper/core.py:1172: ScaperWarning: car_horn event duration (3.81) is greater that source duration (0.36), changing to 0.36\n",
      "  ScaperWarning)\n",
      "/Users/anderson675/miniconda3/lib/python3.7/site-packages/scaper/core.py:1268: ScaperWarning: street_music event time (6.71) is too great given stretched event duration (3.44) and soundscape duration (10.00), changed to 6.56.\n",
      "  ScaperWarning)\n"
     ]
    },
    {
     "name": "stdout",
     "output_type": "stream",
     "text": [
      "Generating soundscape: 31/66\n"
     ]
    },
    {
     "name": "stderr",
     "output_type": "stream",
     "text": [
      "/Users/anderson675/miniconda3/lib/python3.7/site-packages/scaper/core.py:1172: ScaperWarning: gun_shot event duration (3.25) is greater that source duration (1.81), changing to 1.81\n",
      "  ScaperWarning)\n"
     ]
    },
    {
     "name": "stdout",
     "output_type": "stream",
     "text": [
      "Generating soundscape: 32/66\n"
     ]
    },
    {
     "name": "stderr",
     "output_type": "stream",
     "text": [
      "/Users/anderson675/miniconda3/lib/python3.7/site-packages/scaper/core.py:1172: ScaperWarning: car_horn event duration (2.74) is greater that source duration (2.36), changing to 2.36\n",
      "  ScaperWarning)\n"
     ]
    },
    {
     "name": "stdout",
     "output_type": "stream",
     "text": [
      "Generating soundscape: 33/66\n",
      "Generating soundscape: 34/66\n"
     ]
    },
    {
     "name": "stderr",
     "output_type": "stream",
     "text": [
      "/Users/anderson675/miniconda3/lib/python3.7/site-packages/scaper/core.py:1268: ScaperWarning: drilling event time (8.50) is too great given stretched event duration (3.81) and soundscape duration (10.00), changed to 6.19.\n",
      "  ScaperWarning)\n",
      "/Users/anderson675/miniconda3/lib/python3.7/site-packages/scaper/core.py:1172: ScaperWarning: gun_shot event duration (2.23) is greater that source duration (2.08), changing to 2.08\n",
      "  ScaperWarning)\n"
     ]
    },
    {
     "name": "stdout",
     "output_type": "stream",
     "text": [
      "Generating soundscape: 35/66\n"
     ]
    },
    {
     "name": "stderr",
     "output_type": "stream",
     "text": [
      "/Users/anderson675/miniconda3/lib/python3.7/site-packages/scaper/core.py:1268: ScaperWarning: street_music event time (6.03) is too great given stretched event duration (4.05) and soundscape duration (10.00), changed to 5.95.\n",
      "  ScaperWarning)\n",
      "/Users/anderson675/miniconda3/lib/python3.7/site-packages/scaper/core.py:1172: ScaperWarning: drilling event duration (2.65) is greater that source duration (0.46), changing to 0.46\n",
      "  ScaperWarning)\n",
      "/Users/anderson675/miniconda3/lib/python3.7/site-packages/scaper/core.py:1172: ScaperWarning: gun_shot event duration (3.44) is greater that source duration (2.24), changing to 2.24\n",
      "  ScaperWarning)\n"
     ]
    },
    {
     "name": "stdout",
     "output_type": "stream",
     "text": [
      "Generating soundscape: 36/66\n",
      "Generating soundscape: 37/66\n"
     ]
    },
    {
     "name": "stderr",
     "output_type": "stream",
     "text": [
      "/Users/anderson675/miniconda3/lib/python3.7/site-packages/scaper/core.py:1172: ScaperWarning: car_horn event duration (3.45) is greater that source duration (2.05), changing to 2.05\n",
      "  ScaperWarning)\n"
     ]
    },
    {
     "name": "stdout",
     "output_type": "stream",
     "text": [
      "Generating soundscape: 38/66\n"
     ]
    },
    {
     "name": "stderr",
     "output_type": "stream",
     "text": [
      "/Users/anderson675/miniconda3/lib/python3.7/site-packages/scaper/core.py:1268: ScaperWarning: dog_bark event time (9.24) is too great given stretched event duration (3.23) and soundscape duration (10.00), changed to 6.77.\n",
      "  ScaperWarning)\n",
      "/Users/anderson675/miniconda3/lib/python3.7/site-packages/scaper/core.py:1172: ScaperWarning: jackhammer event duration (3.84) is greater that source duration (3.30), changing to 3.30\n",
      "  ScaperWarning)\n",
      "/Users/anderson675/miniconda3/lib/python3.7/site-packages/scaper/core.py:1172: ScaperWarning: drilling event duration (3.79) is greater that source duration (1.08), changing to 1.08\n",
      "  ScaperWarning)\n",
      "/Users/anderson675/miniconda3/lib/python3.7/site-packages/scaper/core.py:1268: ScaperWarning: drilling event time (7.72) is too great given stretched event duration (3.26) and soundscape duration (10.00), changed to 6.74.\n",
      "  ScaperWarning)\n"
     ]
    },
    {
     "name": "stdout",
     "output_type": "stream",
     "text": [
      "Generating soundscape: 39/66\n",
      "Generating soundscape: 40/66\n"
     ]
    },
    {
     "name": "stderr",
     "output_type": "stream",
     "text": [
      "/Users/anderson675/miniconda3/lib/python3.7/site-packages/scaper/core.py:1172: ScaperWarning: gun_shot event duration (2.22) is greater that source duration (1.97), changing to 1.97\n",
      "  ScaperWarning)\n",
      "/Users/anderson675/miniconda3/lib/python3.7/site-packages/scaper/core.py:1172: ScaperWarning: jackhammer event duration (2.00) is greater that source duration (1.87), changing to 1.87\n",
      "  ScaperWarning)\n"
     ]
    },
    {
     "name": "stdout",
     "output_type": "stream",
     "text": [
      "Generating soundscape: 41/66\n",
      "Generating soundscape: 42/66\n"
     ]
    },
    {
     "name": "stderr",
     "output_type": "stream",
     "text": [
      "/Users/anderson675/miniconda3/lib/python3.7/site-packages/scaper/core.py:1172: ScaperWarning: drilling event duration (3.13) is greater that source duration (1.02), changing to 1.02\n",
      "  ScaperWarning)\n",
      "/Users/anderson675/miniconda3/lib/python3.7/site-packages/scaper/core.py:1172: ScaperWarning: car_horn event duration (2.83) is greater that source duration (1.62), changing to 1.62\n",
      "  ScaperWarning)\n"
     ]
    },
    {
     "name": "stdout",
     "output_type": "stream",
     "text": [
      "Generating soundscape: 43/66\n"
     ]
    },
    {
     "name": "stderr",
     "output_type": "stream",
     "text": [
      "/Users/anderson675/miniconda3/lib/python3.7/site-packages/scaper/core.py:1172: ScaperWarning: car_horn event duration (3.81) is greater that source duration (1.16), changing to 1.16\n",
      "  ScaperWarning)\n"
     ]
    },
    {
     "name": "stdout",
     "output_type": "stream",
     "text": [
      "Generating soundscape: 44/66\n",
      "Generating soundscape: 45/66\n"
     ]
    },
    {
     "name": "stderr",
     "output_type": "stream",
     "text": [
      "/Users/anderson675/miniconda3/lib/python3.7/site-packages/scaper/core.py:1172: ScaperWarning: car_horn event duration (2.82) is greater that source duration (0.90), changing to 0.90\n",
      "  ScaperWarning)\n",
      "/Users/anderson675/miniconda3/lib/python3.7/site-packages/scaper/core.py:1268: ScaperWarning: air_conditioner event time (7.66) is too great given stretched event duration (2.50) and soundscape duration (10.00), changed to 7.50.\n",
      "  ScaperWarning)\n"
     ]
    },
    {
     "name": "stdout",
     "output_type": "stream",
     "text": [
      "Generating soundscape: 46/66\n"
     ]
    },
    {
     "name": "stderr",
     "output_type": "stream",
     "text": [
      "/Users/anderson675/miniconda3/lib/python3.7/site-packages/scaper/core.py:1172: ScaperWarning: dog_bark event duration (1.46) is greater that source duration (0.53), changing to 0.53\n",
      "  ScaperWarning)\n",
      "/Users/anderson675/miniconda3/lib/python3.7/site-packages/scaper/core.py:1172: ScaperWarning: car_horn event duration (2.42) is greater that source duration (1.05), changing to 1.05\n",
      "  ScaperWarning)\n"
     ]
    },
    {
     "name": "stdout",
     "output_type": "stream",
     "text": [
      "Generating soundscape: 47/66\n"
     ]
    },
    {
     "name": "stderr",
     "output_type": "stream",
     "text": [
      "/Users/anderson675/miniconda3/lib/python3.7/site-packages/scaper/core.py:1172: ScaperWarning: gun_shot event duration (1.78) is greater that source duration (0.90), changing to 0.90\n",
      "  ScaperWarning)\n"
     ]
    },
    {
     "name": "stdout",
     "output_type": "stream",
     "text": [
      "Generating soundscape: 48/66\n",
      "Generating soundscape: 49/66\n"
     ]
    },
    {
     "name": "stderr",
     "output_type": "stream",
     "text": [
      "/Users/anderson675/miniconda3/lib/python3.7/site-packages/scaper/core.py:1268: ScaperWarning: air_conditioner event time (6.60) is too great given stretched event duration (3.47) and soundscape duration (10.00), changed to 6.53.\n",
      "  ScaperWarning)\n",
      "/Users/anderson675/miniconda3/lib/python3.7/site-packages/scaper/core.py:1268: ScaperWarning: street_music event time (6.82) is too great given stretched event duration (4.07) and soundscape duration (10.00), changed to 5.93.\n",
      "  ScaperWarning)\n"
     ]
    },
    {
     "name": "stdout",
     "output_type": "stream",
     "text": [
      "Generating soundscape: 50/66\n"
     ]
    },
    {
     "name": "stderr",
     "output_type": "stream",
     "text": [
      "/Users/anderson675/miniconda3/lib/python3.7/site-packages/scaper/core.py:1172: ScaperWarning: drilling event duration (3.80) is greater that source duration (2.50), changing to 2.50\n",
      "  ScaperWarning)\n",
      "/Users/anderson675/miniconda3/lib/python3.7/site-packages/scaper/core.py:1268: ScaperWarning: drilling event time (7.87) is too great given stretched event duration (2.74) and soundscape duration (10.00), changed to 7.26.\n",
      "  ScaperWarning)\n"
     ]
    },
    {
     "name": "stdout",
     "output_type": "stream",
     "text": [
      "Generating soundscape: 51/66\n"
     ]
    },
    {
     "name": "stderr",
     "output_type": "stream",
     "text": [
      "/Users/anderson675/miniconda3/lib/python3.7/site-packages/scaper/core.py:1172: ScaperWarning: siren event duration (1.70) is greater that source duration (1.64), changing to 1.64\n",
      "  ScaperWarning)\n"
     ]
    },
    {
     "name": "stdout",
     "output_type": "stream",
     "text": [
      "Generating soundscape: 52/66\n",
      "Generating soundscape: 53/66\n"
     ]
    },
    {
     "name": "stderr",
     "output_type": "stream",
     "text": [
      "/Users/anderson675/miniconda3/lib/python3.7/site-packages/scaper/core.py:1172: ScaperWarning: car_horn event duration (3.58) is greater that source duration (2.15), changing to 2.15\n",
      "  ScaperWarning)\n"
     ]
    },
    {
     "name": "stdout",
     "output_type": "stream",
     "text": [
      "Generating soundscape: 54/66\n",
      "Generating soundscape: 55/66\n"
     ]
    },
    {
     "name": "stderr",
     "output_type": "stream",
     "text": [
      "/Users/anderson675/miniconda3/lib/python3.7/site-packages/scaper/core.py:1172: ScaperWarning: gun_shot event duration (3.32) is greater that source duration (1.77), changing to 1.77\n",
      "  ScaperWarning)\n",
      "/Users/anderson675/miniconda3/lib/python3.7/site-packages/scaper/core.py:1268: ScaperWarning: dog_bark event time (7.84) is too great given stretched event duration (4.00) and soundscape duration (10.00), changed to 6.00.\n",
      "  ScaperWarning)\n"
     ]
    },
    {
     "name": "stdout",
     "output_type": "stream",
     "text": [
      "Generating soundscape: 56/66\n"
     ]
    },
    {
     "name": "stderr",
     "output_type": "stream",
     "text": [
      "/Users/anderson675/miniconda3/lib/python3.7/site-packages/scaper/core.py:1172: ScaperWarning: gun_shot event duration (3.38) is greater that source duration (1.97), changing to 1.97\n",
      "  ScaperWarning)\n",
      "/Users/anderson675/miniconda3/lib/python3.7/site-packages/scaper/core.py:1268: ScaperWarning: dog_bark event time (7.55) is too great given stretched event duration (3.21) and soundscape duration (10.00), changed to 6.79.\n",
      "  ScaperWarning)\n",
      "/Users/anderson675/miniconda3/lib/python3.7/site-packages/scaper/core.py:1172: ScaperWarning: drilling event duration (3.70) is greater that source duration (1.57), changing to 1.57\n",
      "  ScaperWarning)\n"
     ]
    },
    {
     "name": "stdout",
     "output_type": "stream",
     "text": [
      "Generating soundscape: 57/66\n",
      "Generating soundscape: 58/66\n"
     ]
    },
    {
     "name": "stderr",
     "output_type": "stream",
     "text": [
      "/Users/anderson675/miniconda3/lib/python3.7/site-packages/scaper/core.py:1268: ScaperWarning: street_music event time (6.09) is too great given stretched event duration (4.43) and soundscape duration (10.00), changed to 5.57.\n",
      "  ScaperWarning)\n",
      "/Users/anderson675/miniconda3/lib/python3.7/site-packages/scaper/core.py:1268: ScaperWarning: speech event time (8.36) is too great given stretched event duration (2.29) and soundscape duration (10.00), changed to 7.71.\n",
      "  ScaperWarning)\n"
     ]
    },
    {
     "name": "stdout",
     "output_type": "stream",
     "text": [
      "Generating soundscape: 59/66\n"
     ]
    },
    {
     "name": "stderr",
     "output_type": "stream",
     "text": [
      "/Users/anderson675/miniconda3/lib/python3.7/site-packages/scaper/core.py:1172: ScaperWarning: gun_shot event duration (1.00) is greater that source duration (0.90), changing to 0.90\n",
      "  ScaperWarning)\n"
     ]
    },
    {
     "name": "stdout",
     "output_type": "stream",
     "text": [
      "Generating soundscape: 60/66\n"
     ]
    },
    {
     "name": "stderr",
     "output_type": "stream",
     "text": [
      "/Users/anderson675/miniconda3/lib/python3.7/site-packages/scaper/core.py:1172: ScaperWarning: dog_bark event duration (2.65) is greater that source duration (1.99), changing to 1.99\n",
      "  ScaperWarning)\n",
      "/Users/anderson675/miniconda3/lib/python3.7/site-packages/scaper/core.py:1172: ScaperWarning: dog_bark event duration (1.52) is greater that source duration (0.94), changing to 0.94\n",
      "  ScaperWarning)\n"
     ]
    },
    {
     "name": "stdout",
     "output_type": "stream",
     "text": [
      "Generating soundscape: 61/66\n"
     ]
    },
    {
     "name": "stderr",
     "output_type": "stream",
     "text": [
      "/Users/anderson675/miniconda3/lib/python3.7/site-packages/scaper/core.py:1172: ScaperWarning: gun_shot event duration (2.83) is greater that source duration (1.96), changing to 1.96\n",
      "  ScaperWarning)\n",
      "/Users/anderson675/miniconda3/lib/python3.7/site-packages/scaper/core.py:1268: ScaperWarning: gun_shot event time (8.91) is too great given stretched event duration (2.27) and soundscape duration (10.00), changed to 7.73.\n",
      "  ScaperWarning)\n"
     ]
    },
    {
     "name": "stdout",
     "output_type": "stream",
     "text": [
      "Generating soundscape: 62/66\n",
      "Generating soundscape: 63/66\n"
     ]
    },
    {
     "name": "stderr",
     "output_type": "stream",
     "text": [
      "/Users/anderson675/miniconda3/lib/python3.7/site-packages/scaper/core.py:1172: ScaperWarning: gun_shot event duration (2.71) is greater that source duration (0.90), changing to 0.90\n",
      "  ScaperWarning)\n",
      "/Users/anderson675/miniconda3/lib/python3.7/site-packages/scaper/core.py:1172: ScaperWarning: car_horn event duration (3.85) is greater that source duration (1.74), changing to 1.74\n",
      "  ScaperWarning)\n"
     ]
    },
    {
     "name": "stdout",
     "output_type": "stream",
     "text": [
      "Generating soundscape: 64/66\n"
     ]
    },
    {
     "name": "stderr",
     "output_type": "stream",
     "text": [
      "/Users/anderson675/miniconda3/lib/python3.7/site-packages/scaper/core.py:1172: ScaperWarning: dog_bark event duration (2.64) is greater that source duration (0.94), changing to 0.94\n",
      "  ScaperWarning)\n",
      "/Users/anderson675/miniconda3/lib/python3.7/site-packages/scaper/core.py:1172: ScaperWarning: gun_shot event duration (2.86) is greater that source duration (1.04), changing to 1.04\n",
      "  ScaperWarning)\n",
      "/Users/anderson675/miniconda3/lib/python3.7/site-packages/scaper/core.py:1172: ScaperWarning: car_horn event duration (2.39) is greater that source duration (0.48), changing to 0.48\n",
      "  ScaperWarning)\n"
     ]
    },
    {
     "name": "stdout",
     "output_type": "stream",
     "text": [
      "Generating soundscape: 65/66\n",
      "Generating soundscape: 66/66\n"
     ]
    },
    {
     "name": "stderr",
     "output_type": "stream",
     "text": [
      "/Users/anderson675/miniconda3/lib/python3.7/site-packages/scaper/core.py:1172: ScaperWarning: car_horn event duration (2.69) is greater that source duration (0.68), changing to 0.68\n",
      "  ScaperWarning)\n",
      "/Users/anderson675/miniconda3/lib/python3.7/site-packages/scaper/core.py:1268: ScaperWarning: dog_bark event time (6.48) is too great given stretched event duration (3.76) and soundscape duration (10.00), changed to 6.24.\n",
      "  ScaperWarning)\n"
     ]
    }
   ],
   "source": [
    "# SCAPER SETTINGS\n",
    "np.random.seed(123)\n",
    "fg_folder = os.getcwd() + '/1_Dataset_Generate/audio/soundbanks/test/foreground/'\n",
    "bg_folder = os.getcwd() + '/1_Dataset_Generate/audio/soundbanks/test/background/'\n",
    "\n",
    "n_soundscapes = 66\n",
    "ref_db = -50\n",
    "duration = 10.0 \n",
    "\n",
    "min_events = 1\n",
    "max_events = 9\n",
    "\n",
    "event_time_dist = 'truncnorm'\n",
    "event_time_mean = 5.0\n",
    "event_time_std = 2.0\n",
    "event_time_min = 0.0\n",
    "event_time_max = 10.0\n",
    "\n",
    "source_time_dist = 'const'\n",
    "source_time = 0.0\n",
    "\n",
    "event_duration_dist = 'uniform'\n",
    "event_duration_min = 0.5\n",
    "event_duration_max = 4.0\n",
    "\n",
    "snr_dist = 'uniform'\n",
    "snr_min = 6\n",
    "snr_max = 30\n",
    "\n",
    "pitch_dist = 'uniform'\n",
    "pitch_min = -3.0\n",
    "pitch_max = 3.0\n",
    "\n",
    "time_stretch_dist = 'uniform'\n",
    "time_stretch_min = 0.8\n",
    "time_stretch_max = 1.2\n",
    "\n",
    "\n",
    "# FILE SETTINGS\n",
    "outfolder = os.path.join(os.getcwd() + '/1_Dataset_Generate/audio/soundbanks/test/generated/unimodal')\n",
    "if not os.path.isdir(outfolder):\n",
    "    os.mkdir(outfolder)\n",
    "\n",
    "for n in range(n_soundscapes):\n",
    "    \n",
    "    print('Generating soundscape: {:d}/{:d}'.format(n+1, n_soundscapes))\n",
    "    \n",
    "    # create a scaper\n",
    "    sc = scaper.Scaper(duration, fg_folder, bg_folder)\n",
    "    sc.protected_labels = []\n",
    "    sc.ref_db = ref_db\n",
    "    \n",
    "    # add background\n",
    "    sc.add_background(label=('const', 'noise'), \n",
    "                      source_file=('choose', []), \n",
    "                      source_time=('const', 0))\n",
    "\n",
    "    # add random foreground events\n",
    "    n_events = np.random.randint(min_events, max_events+1)\n",
    "    for _ in range(n_events):\n",
    "        sc.add_event(label=('choose', []), \n",
    "                     source_file=('choose', []), \n",
    "                     source_time=(source_time_dist, source_time), \n",
    "                     event_time=(event_time_dist, event_time_mean, event_time_std, event_time_min, event_time_max), \n",
    "                     event_duration=(event_duration_dist, event_duration_min, event_duration_max), \n",
    "                     snr=(snr_dist, snr_min, snr_max),\n",
    "                     pitch_shift=(pitch_dist, pitch_min, pitch_max),\n",
    "                     time_stretch=(time_stretch_dist, time_stretch_min, time_stretch_max))\n",
    "    \n",
    "    # generate\n",
    "    audiofile = os.path.join(outfolder, \"soundscape_test_unimodal{:d}.wav\".format(n))\n",
    "    jamsfile = os.path.join(outfolder, \"soundscape_test_unimodal{:d}.jams\".format(n))\n",
    "    txtfile = os.path.join(outfolder, \"soundscape_test_unimodal{:d}.txt\".format(n))\n",
    "    \n",
    "    sc.generate(audiofile, jamsfile,\n",
    "                allow_repeated_label=True,\n",
    "                allow_repeated_source=False,\n",
    "                reverb=0.1,\n",
    "                disable_sox_warnings=True,\n",
    "                no_audio=False,\n",
    "                txt_path=txtfile)"
   ]
  },
  {
   "cell_type": "code",
   "execution_count": null,
   "metadata": {},
   "outputs": [],
   "source": []
  },
  {
   "cell_type": "code",
   "execution_count": null,
   "metadata": {},
   "outputs": [],
   "source": []
  },
  {
   "cell_type": "code",
   "execution_count": null,
   "metadata": {},
   "outputs": [],
   "source": []
  }
 ],
 "metadata": {
  "kernelspec": {
   "display_name": "Python 3",
   "language": "python",
   "name": "python3"
  },
  "language_info": {
   "codemirror_mode": {
    "name": "ipython",
    "version": 3
   },
   "file_extension": ".py",
   "mimetype": "text/x-python",
   "name": "python",
   "nbconvert_exporter": "python",
   "pygments_lexer": "ipython3",
   "version": "3.7.3"
  }
 },
 "nbformat": 4,
 "nbformat_minor": 2
}
